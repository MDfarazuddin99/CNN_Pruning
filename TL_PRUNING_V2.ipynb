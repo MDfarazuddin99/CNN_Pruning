{
  "nbformat": 4,
  "nbformat_minor": 0,
  "metadata": {
    "colab": {
      "name": "TL_PRUNING_V2.ipynb",
      "provenance": [],
      "mount_file_id": "1GY9iwDqyrqEkoRCsfjdcohSW-rNAB9Tb",
      "authorship_tag": "ABX9TyMF+NwPqICLWCTDTLvCAyLY",
      "include_colab_link": true
    },
    "kernelspec": {
      "name": "python3",
      "display_name": "Python 3"
    }
  },
  "cells": [
    {
      "cell_type": "markdown",
      "metadata": {
        "id": "view-in-github",
        "colab_type": "text"
      },
      "source": [
        "<a href=\"https://colab.research.google.com/github/MDfarazuddin99/CNN_Pruning/blob/master/TL_PRUNING_V2.ipynb\" target=\"_parent\"><img src=\"https://colab.research.google.com/assets/colab-badge.svg\" alt=\"Open In Colab\"/></a>"
      ]
    },
    {
      "cell_type": "code",
      "metadata": {
        "id": "RH3f-u9RjRtQ",
        "colab_type": "code",
        "colab": {
          "base_uri": "https://localhost:8080/",
          "height": 223
        },
        "outputId": "21a5daec-1d95-4be6-b73c-e9a7a0b9f1bf"
      },
      "source": [
        "%tensorflow_version 1.x\n",
        "import time\n",
        "import os\n",
        "import math\n",
        "import numpy as np\n",
        "import pandas as pd\n",
        "# import GPyOpt\n",
        "import keras\n",
        "import random\n",
        "from itertools import product, combinations\n",
        "from collections import OrderedDict\n",
        "from keras.preprocessing import image\n",
        "from keras import layers, models, optimizers, callbacks, initializers\n",
        "from keras.applications import DenseNet121, VGG16, ResNet50\n",
        "from keras.callbacks import ReduceLROnPlateau\n",
        "from keras.models import load_model\n",
        "import keras\n",
        "from keras.datasets import cifar10\n",
        "from keras.preprocessing.image import ImageDataGenerator\n",
        "from keras.models import Sequential\n",
        "from keras.layers import Dense, Dropout, Activation, Flatten\n",
        "from keras.layers import Conv2D, MaxPooling2D, BatchNormalization\n",
        "from keras import optimizers\n",
        "import numpy as np\n",
        "from keras.layers.core import Lambda\n",
        "from keras import backend as K\n",
        "from keras import regularizers\n",
        "from keras.callbacks import ModelCheckpoint\n",
        "import matplotlib.pyplot as plt\n",
        "!pip install kerassurgeon\n",
        "from kerassurgeon import identify\n",
        "from kerassurgeon.operations import delete_channels,delete_layer\n",
        "from kerassurgeon import Surgeon\n"
      ],
      "execution_count": 1,
      "outputs": [
        {
          "output_type": "stream",
          "text": [
            "TensorFlow 1.x selected.\n"
          ],
          "name": "stdout"
        },
        {
          "output_type": "stream",
          "text": [
            "Using TensorFlow backend.\n"
          ],
          "name": "stderr"
        },
        {
          "output_type": "stream",
          "text": [
            "Requirement already satisfied: kerassurgeon in /usr/local/lib/python3.6/dist-packages (0.1.3)\n",
            "Requirement already satisfied: keras>=2.0.7 in /usr/local/lib/python3.6/dist-packages (from kerassurgeon) (2.2.5)\n",
            "Requirement already satisfied: scipy>=0.14 in /usr/local/lib/python3.6/dist-packages (from keras>=2.0.7->kerassurgeon) (1.4.1)\n",
            "Requirement already satisfied: pyyaml in /usr/local/lib/python3.6/dist-packages (from keras>=2.0.7->kerassurgeon) (3.13)\n",
            "Requirement already satisfied: six>=1.9.0 in /usr/local/lib/python3.6/dist-packages (from keras>=2.0.7->kerassurgeon) (1.12.0)\n",
            "Requirement already satisfied: keras-applications>=1.0.8 in /usr/local/lib/python3.6/dist-packages (from keras>=2.0.7->kerassurgeon) (1.0.8)\n",
            "Requirement already satisfied: keras-preprocessing>=1.1.0 in /usr/local/lib/python3.6/dist-packages (from keras>=2.0.7->kerassurgeon) (1.1.0)\n",
            "Requirement already satisfied: numpy>=1.9.1 in /usr/local/lib/python3.6/dist-packages (from keras>=2.0.7->kerassurgeon) (1.18.2)\n",
            "Requirement already satisfied: h5py in /usr/local/lib/python3.6/dist-packages (from keras>=2.0.7->kerassurgeon) (2.10.0)\n"
          ],
          "name": "stdout"
        }
      ]
    },
    {
      "cell_type": "code",
      "metadata": {
        "id": "ENeJ28ZmjWm4",
        "colab_type": "code",
        "colab": {}
      },
      "source": [
        "def train(model, status):\n",
        "\n",
        "    # uncomment the below code\n",
        "\n",
        "    #training parameters\n",
        "    DATA_FOLDER = \"/content/drive/My Drive/dog\"\n",
        "    # DATA_FOLDER = \"CalTech101\"\n",
        "    TRAIN_PATH = os.path.join(DATA_FOLDER, \"train\") # Path for training data\n",
        "    VALID_PATH = os.path.join(DATA_FOLDER, \"val\") # Path for validation data\n",
        "    NUMBER_OF_CLASSES = len(os.listdir(TRAIN_PATH)) # Number of classes of the dataset\n",
        "    EPOCHS = 10\n",
        "    learning_rate_reduction = ReduceLROnPlateau(monitor='val_acc',\n",
        "                                                patience=5,\n",
        "                                                verbose=1,\n",
        "                                                factor=np.sqrt(0.1),\n",
        "                                                min_lr=0.0001)\n",
        "    batch_size=8 # the mini-batch size to use for the dataset\n",
        "    learning_rate = 0.1\n",
        "    lr_decay = 1e-6\n",
        "    lr_drop = 20\n",
        "    datagen = image.ImageDataGenerator(preprocessing_function=keras.applications.vgg16.preprocess_input) # creating an instance of the data generator\n",
        "    train_generator = datagen.flow_from_directory(TRAIN_PATH, target_size=(224, 224), batch_size=batch_size) # creating the generator for training data\n",
        "    valid_generator = datagen.flow_from_directory(VALID_PATH, target_size=(224, 224), batch_size=batch_size) # creating the generator for validation data\n",
        "    #Adagrad = optimizers.Adagrad(lr=0.1)\n",
        "    def lr_scheduler(epoch):\n",
        "        return learning_rate * (0.5 ** (epoch // lr_drop))\n",
        "    reduce_lr = keras.callbacks.LearningRateScheduler(lr_scheduler)\n",
        "    ADAM = optimizers.Adam(lr=0.1, beta_1=0.9, beta_2=0.999, amsgrad=False)\n",
        "    model.compile(optimizer='adagrad', loss='categorical_crossentropy', metrics=['accuracy'])\n",
        "\n",
        "    # model.summary()\n",
        "    print(status)\n",
        "    if status==True:  \n",
        "        history = model.fit_generator(\n",
        "        train_generator,\n",
        "        validation_data=valid_generator, epochs=EPOCHS,\n",
        "        steps_per_epoch=len(train_generator) / batch_size,\n",
        "        validation_steps=len(valid_generator), callbacks=[learning_rate_reduction])\n",
        "    else:\n",
        "        model = load_model('VGG16_CalTech101_best_model.h5')\n",
        "        history = model.evaluate_generator(valid_generator)\n",
        "        print(history)\n",
        "    #print(model.metrics_names)\n",
        "    model.save('VGG16_CalTech101_best_model.h5')\n",
        "    save_model = ModelCheckpoint('VGG16_CalTech101_best_model_after_pruning.h5', monitor='val_acc', verbose=0, save_best_only=True, save_weights_only=False, mode='auto', period=1)\n",
        "    return model, history\n"
      ],
      "execution_count": 0,
      "outputs": []
    },
    {
      "cell_type": "code",
      "metadata": {
        "id": "2hEBe_ARjftK",
        "colab_type": "code",
        "colab": {}
      },
      "source": [
        "def my_get_all_dense_layers(model):\n",
        "    all_dense_layers = list()\n",
        "    for i,each_layer in enumerate(model.layers):\n",
        "        if (each_layer.name[0:5] == 'dense'):\n",
        "            all_dense_layers.append(i)\n",
        "    return all_dense_layers[0:len(all_dense_layers)-1]\n",
        "\n",
        "def my_get_all_conv_layers(model,first_time):\n",
        "    all_conv_layers = list()\n",
        "    for i,each_layer in enumerate(model.layers):\n",
        "        # if (each_layer.name[0:6] == 'conv2d'):\n",
        "        #     all_conv_layers.append(i)\n",
        "        if 'conv' in each_layer.name:\n",
        "            all_conv_layers.append(i)\n",
        "    return all_conv_layers if (first_time==True) else all_conv_layers[1:]\n",
        "\n",
        "def my_in_dense_layers_get_L1_norms_sorted_indices_and_values(model,graph):\n",
        "    weights = list()\n",
        "    all_dense_layers = my_get_all_dense_layers(model)\n",
        "    for i in all_dense_layers:\n",
        "        weights.append(model.layers[i].get_weights()[0])\n",
        "    layer_wise_filter_sorted_indices_dense = list()\n",
        "    layer_wise_filter_sorted_values_dense = list()\n",
        "    for i in range(len(weights)):\n",
        "        weight = weights[i]\n",
        "        num_filters = len(weight[0,:])\n",
        "        weights_dict = dict()\n",
        "        for j in range(num_filters):\n",
        "            weights_sum = np.sum(abs(weight[:,j]))\n",
        "            neuron = 'neuron {}'.format(j)\n",
        "            weights_dict[neuron] = weights_sum\n",
        "            # print(weights_dict[neuron])\n",
        "       \n",
        "        weights_dict_sorted = sorted(weights_dict.items(),key = lambda kv:kv[1])\n",
        "        weight_values = list()\n",
        "        neuron_indices = list()\n",
        "        for element in weights_dict_sorted:\n",
        "            neuron_indices.append(int(element[0][6:]))\n",
        "            weight_values.append(element[1])\n",
        "        layer_wise_filter_sorted_indices_dense.append(neuron_indices)\n",
        "        layer_wise_filter_sorted_values_dense.append(weight_values)\n",
        "\n",
        "        if graph == True:\n",
        "                    x = np.arange(num_filters)\n",
        "                    plt.figure(i+1,figsize=(7,5))\n",
        "                    plt.plot(x,np.array(weight_values))\n",
        "                    plt.axhline(y=np.mean(np.array(weight_values)),c='r')\n",
        "                    for j in range(len(layer_wise_filter_sorted_values_dense[i])):\n",
        "                        if(np.mean(np.array(weight_values)) < weight_values[j]):\n",
        "                            plt.axvline(x=j,c='r')\n",
        "                            break\n",
        "\n",
        "                    plt.xlabel('filter number')\n",
        "                    plt.ylabel('L1 norm')\n",
        "                    plt.title('Conv2d_{}'.format(i+1))\n",
        "                    plt.grid(True)\n",
        "                    plt.style.use(['classic'])        \n",
        "\n",
        "    return layer_wise_filter_sorted_indices_dense,layer_wise_filter_sorted_values_dense\n",
        "\n",
        "def plot_histogram_l1_norms_dense(model):\n",
        "    _,a = my_in_dense_layers_get_L1_norms_sorted_indices_and_values(my_model_vgg,False)\n",
        "    all_dense_layers = my_get_all_dense_layers(model)\n",
        "    for i in range(len(all_dense_layers)):    \n",
        "        plt.figure(i,figsize=(7,7))\n",
        "        plt.hist(a[i-1],density=1, bins=150)\n",
        "        plt.xlabel('L1 Norms of dense_{}'.format(i+1))\n",
        "        plt.ylabel('Probability')\n",
        "        plt.style.use(['classic'])\n",
        "\n",
        "def my_in_conv_layers_get_L1_norms_sorted_indices_and_values(model,graph,first_time):\n",
        "    weights = list()\n",
        "    all_conv_layers = my_get_all_conv_layers(model,first_time)\n",
        "    for i in all_conv_layers:\n",
        "        # print('{}th layer'.format(i),all_conv_layers)\n",
        "        weights.append(model.layers[i].get_weights()[0])\n",
        "    layer_wise_filter_sorted_indices = list()\n",
        "    layer_wise_filter_sorted_values = list()\n",
        "    for i in range(len(weights)):\n",
        "        weight = weights[i]\n",
        "        num_filters = len(weight[0,0,0,:])\n",
        "        # print(num_filters)\n",
        "        weights_dict = dict()\n",
        "        for j in range(num_filters):\n",
        "            weights_sum = np.sum(abs(weight[:,:,:,j]))\n",
        "            filtr = 'filter {}'.format(j)\n",
        "            weights_dict[filtr] = weights_sum\n",
        "       \n",
        "        weights_dict_sorted = sorted(weights_dict.items(),key = lambda kv:kv[1])\n",
        "        # print('L1 norm of conv2D_{} layer'.format(i+1),weights_dict_sorted)\n",
        "\n",
        "        weight_values = list()\n",
        "        filter_indices = list()\n",
        "\n",
        "        for element in weights_dict_sorted:\n",
        "            filter_indices.append(int(element[0][6:]))  # extracting the index of filter from string (tentative try to come up with better code)\n",
        "            weight_values.append(element[1])\n",
        "   \n",
        "        layer_wise_filter_sorted_indices.append(filter_indices)\n",
        "        layer_wise_filter_sorted_values.append(weight_values)\n",
        "\n",
        "        if graph == True:\n",
        "                x = np.arange(num_filters)\n",
        "                plt.figure(i+1,figsize=(7,7))\n",
        "                plt.plot(x,np.array(weight_values))\n",
        "                plt.axhline(y=np.mean(np.array(weight_values)),c='r')\n",
        "                for j in range(len(layer_wise_filter_sorted_values[i-1])):\n",
        "                    if(np.mean(np.array(weight_values)) < weight_values[j]):\n",
        "                        plt.axvline(x=j,c='r')\n",
        "                        break\n",
        "                plt.style.use(['classic'])  \n",
        "\n",
        "\n",
        "                plt.xlabel('filter number')\n",
        "                plt.ylabel('L1 norm')\n",
        "                plt.title('Conv2d_{}'.format(i+1))\n",
        "                plt.grid(True)\n",
        "                plt.style.use(['classic'])\n",
        "\n",
        "\n",
        "    return layer_wise_filter_sorted_indices,layer_wise_filter_sorted_values\n",
        "\n",
        "def plot_histogram_l1_norms_conv(model,first_time):\n",
        "    _,a = my_in_conv_layers_get_L1_norms_sorted_indices_and_values(my_model_vgg,False,False)\n",
        "    all_conv_layers = my_get_all_conv_layers(model,first_time)\n",
        "    for i in range(len(all_conv_layers)):    \n",
        "        plt.figure(i,figsize=(7,7))\n",
        "        plt.hist(a[i-1],density=1, bins=150)\n",
        "        plt.xlabel('L1 Norms of conv_2d_{}'.format(i+1))\n",
        "        plt.ylabel('Probability')\n",
        "        plt.style.use(['classic'])\n",
        "\n",
        "def my_get_percent_prune_neuron_indices(model,percentage):\n",
        "    layer_wise_neuron_sorted_indices,layer_wise_neuron_sorted_values = my_in_dense_layers_get_L1_norms_sorted_indices_and_values(model,False)\n",
        "    all_dense_layers = my_get_all_dense_layers(model)\n",
        "    prune_neuron_indices = list()\n",
        "    for i in range(len(all_dense_layers)):\n",
        "        prune_neuron_indices.append(  int(len(layer_wise_neuron_sorted_indices[i]) * (percentage/100))   )\n",
        "    return prune_neuron_indices\n",
        "\n",
        "\n",
        "def my_get_percent_prune_filter_indices(model,first_time,percentage):\n",
        "    layer_wise_filter_sorted_indices,layer_wise_filter_sorted_values = my_in_conv_layers_get_L1_norms_sorted_indices_and_values(model,False,first_time)\n",
        "    all_conv_layers = my_get_all_conv_layers(model,first_time)\n",
        "    prune_filter_indices = list()\n",
        "    for i in range(len(all_conv_layers)):\n",
        "        prune_filter_indices.append(  int(len(layer_wise_filter_sorted_indices[i]) * (percentage/100))   )\n",
        "    return prune_filter_indices\n",
        "\n",
        "def my_delete_filters(model,first_time,percentage):\n",
        "    layer_wise_filter_sorted_indices,layer_wise_filter_sorted_values = my_in_conv_layers_get_L1_norms_sorted_indices_and_values(model,False,first_time)\n",
        "   \n",
        "    layer_wise_neuron_sorted_indices,layer_wise_neuron_sorted_values_ = my_in_dense_layers_get_L1_norms_sorted_indices_and_values(model,False)\n",
        "\n",
        "    prune_filter_indices = my_get_percent_prune_filter_indices(model,first_time,percentage)\n",
        "   \n",
        "    prune_neuron_indices = my_get_percent_prune_neuron_indices(model,percentage)\n",
        "\n",
        "    all_conv_layers = my_get_all_conv_layers(model,first_time)\n",
        "\n",
        "    all_dense_layers = my_get_all_dense_layers(model)\n",
        "    # print(all_conv_layers)\n",
        "    surgeon = Surgeon(model)\n",
        "    for index,value in enumerate(all_conv_layers):\n",
        "        # print(value,index,prune_filter_indices[index])\n",
        "        surgeon.add_job('delete_channels',model.layers[value],channels = layer_wise_filter_sorted_indices[index][0:prune_filter_indices[index]])\n",
        "   \n",
        "    for index,value in enumerate(all_dense_layers):\n",
        "        # print(value,index,prune_filter_indices[index])\n",
        "        surgeon.add_job('delete_channels',model.layers[value],channels = layer_wise_neuron_sorted_indices[index][0:prune_neuron_indices[index]])\n",
        "\n",
        "\n",
        "    model_new = surgeon.operate()\n",
        "    return model_new\n"
      ],
      "execution_count": 0,
      "outputs": []
    },
    {
      "cell_type": "code",
      "metadata": {
        "id": "Vr8mQyhIjloS",
        "colab_type": "code",
        "colab": {
          "base_uri": "https://localhost:8080/",
          "height": 1000
        },
        "outputId": "2068cd05-042a-4d3d-cee8-06339d1c91d0"
      },
      "source": [
        "\n",
        "\n",
        "\n",
        "\n",
        "\n",
        "model = VGG16(input_shape=(224, 224, 3), weights='imagenet', include_top=True)\n",
        "\n",
        "X = model.layers[-4].output\n",
        "        # X = layers.MaxPooling2D(pool_size=(2, 2), strides=(1,1))(X)\n",
        "        # X = layers.Flatten()(X)\n",
        "        # # X = layers.Conv2D(512, kernel_size=(2, 2), strides=(1, 1))(X)\n",
        "        # # X = layers.BatchNormalization()(X)\n",
        "        # # X = layers.Activation('relu')(X)\n",
        "        # # X = layers.Conv2D(256, kernel_size=(2, 2), strides=(1, 1))(X)\n",
        "        # # X = layers.BatchNormalization()(X)\n",
        "        # # X = layers.Activation('relu')(X)\n",
        "        # # X = layers.GlobalMaxPooling2D()(X)\n",
        "X = layers.Dense(512, activation='elu', kernel_initializer = 'he_normal')(X)\n",
        "X = layers.BatchNormalization()(X)\n",
        "X = layers.Dropout(0.4)(X)\n",
        "X = layers.Dense(256, activation='selu', kernel_initializer = 'he_normal')(X)\n",
        "X = layers.BatchNormalization()(X)\n",
        "X = layers.Dropout(0.3)(X)\n",
        "\n",
        "# uncomment the below line\n",
        "# X = layers.Dense(101, activation='softmax', kernel_initializer='he_normal')(X)\n",
        "\n",
        "# Delete the line below\n",
        "X = layers.Dense(2, activation='softmax', kernel_initializer='he_normal')(X)\n",
        "\n",
        "\n",
        "\n",
        "model = models.Model(inputs=model.inputs, outputs=X)\n",
        "#base_model.summary()\n",
        "for i in range(len(model.layers)-7):\n",
        "    model.layers[i].trainable = False\n",
        "model.summary()\n"
      ],
      "execution_count": 4,
      "outputs": [
        {
          "output_type": "stream",
          "text": [
            "WARNING:tensorflow:From /usr/local/lib/python3.6/dist-packages/keras/backend/tensorflow_backend.py:66: The name tf.get_default_graph is deprecated. Please use tf.compat.v1.get_default_graph instead.\n",
            "\n"
          ],
          "name": "stdout"
        },
        {
          "output_type": "stream",
          "text": [
            "WARNING:tensorflow:From /usr/local/lib/python3.6/dist-packages/keras/backend/tensorflow_backend.py:66: The name tf.get_default_graph is deprecated. Please use tf.compat.v1.get_default_graph instead.\n",
            "\n"
          ],
          "name": "stderr"
        },
        {
          "output_type": "stream",
          "text": [
            "WARNING:tensorflow:From /usr/local/lib/python3.6/dist-packages/keras/backend/tensorflow_backend.py:541: The name tf.placeholder is deprecated. Please use tf.compat.v1.placeholder instead.\n",
            "\n"
          ],
          "name": "stdout"
        },
        {
          "output_type": "stream",
          "text": [
            "WARNING:tensorflow:From /usr/local/lib/python3.6/dist-packages/keras/backend/tensorflow_backend.py:541: The name tf.placeholder is deprecated. Please use tf.compat.v1.placeholder instead.\n",
            "\n"
          ],
          "name": "stderr"
        },
        {
          "output_type": "stream",
          "text": [
            "WARNING:tensorflow:From /usr/local/lib/python3.6/dist-packages/keras/backend/tensorflow_backend.py:4432: The name tf.random_uniform is deprecated. Please use tf.random.uniform instead.\n",
            "\n"
          ],
          "name": "stdout"
        },
        {
          "output_type": "stream",
          "text": [
            "WARNING:tensorflow:From /usr/local/lib/python3.6/dist-packages/keras/backend/tensorflow_backend.py:4432: The name tf.random_uniform is deprecated. Please use tf.random.uniform instead.\n",
            "\n"
          ],
          "name": "stderr"
        },
        {
          "output_type": "stream",
          "text": [
            "WARNING:tensorflow:From /usr/local/lib/python3.6/dist-packages/keras/backend/tensorflow_backend.py:4267: The name tf.nn.max_pool is deprecated. Please use tf.nn.max_pool2d instead.\n",
            "\n"
          ],
          "name": "stdout"
        },
        {
          "output_type": "stream",
          "text": [
            "WARNING:tensorflow:From /usr/local/lib/python3.6/dist-packages/keras/backend/tensorflow_backend.py:4267: The name tf.nn.max_pool is deprecated. Please use tf.nn.max_pool2d instead.\n",
            "\n"
          ],
          "name": "stderr"
        },
        {
          "output_type": "stream",
          "text": [
            "WARNING:tensorflow:From /usr/local/lib/python3.6/dist-packages/keras/backend/tensorflow_backend.py:190: The name tf.get_default_session is deprecated. Please use tf.compat.v1.get_default_session instead.\n",
            "\n"
          ],
          "name": "stdout"
        },
        {
          "output_type": "stream",
          "text": [
            "WARNING:tensorflow:From /usr/local/lib/python3.6/dist-packages/keras/backend/tensorflow_backend.py:190: The name tf.get_default_session is deprecated. Please use tf.compat.v1.get_default_session instead.\n",
            "\n"
          ],
          "name": "stderr"
        },
        {
          "output_type": "stream",
          "text": [
            "WARNING:tensorflow:From /usr/local/lib/python3.6/dist-packages/keras/backend/tensorflow_backend.py:197: The name tf.ConfigProto is deprecated. Please use tf.compat.v1.ConfigProto instead.\n",
            "\n"
          ],
          "name": "stdout"
        },
        {
          "output_type": "stream",
          "text": [
            "WARNING:tensorflow:From /usr/local/lib/python3.6/dist-packages/keras/backend/tensorflow_backend.py:197: The name tf.ConfigProto is deprecated. Please use tf.compat.v1.ConfigProto instead.\n",
            "\n"
          ],
          "name": "stderr"
        },
        {
          "output_type": "stream",
          "text": [
            "WARNING:tensorflow:From /usr/local/lib/python3.6/dist-packages/keras/backend/tensorflow_backend.py:203: The name tf.Session is deprecated. Please use tf.compat.v1.Session instead.\n",
            "\n"
          ],
          "name": "stdout"
        },
        {
          "output_type": "stream",
          "text": [
            "WARNING:tensorflow:From /usr/local/lib/python3.6/dist-packages/keras/backend/tensorflow_backend.py:203: The name tf.Session is deprecated. Please use tf.compat.v1.Session instead.\n",
            "\n"
          ],
          "name": "stderr"
        },
        {
          "output_type": "stream",
          "text": [
            "WARNING:tensorflow:From /usr/local/lib/python3.6/dist-packages/keras/backend/tensorflow_backend.py:207: The name tf.global_variables is deprecated. Please use tf.compat.v1.global_variables instead.\n",
            "\n"
          ],
          "name": "stdout"
        },
        {
          "output_type": "stream",
          "text": [
            "WARNING:tensorflow:From /usr/local/lib/python3.6/dist-packages/keras/backend/tensorflow_backend.py:207: The name tf.global_variables is deprecated. Please use tf.compat.v1.global_variables instead.\n",
            "\n"
          ],
          "name": "stderr"
        },
        {
          "output_type": "stream",
          "text": [
            "WARNING:tensorflow:From /usr/local/lib/python3.6/dist-packages/keras/backend/tensorflow_backend.py:216: The name tf.is_variable_initialized is deprecated. Please use tf.compat.v1.is_variable_initialized instead.\n",
            "\n"
          ],
          "name": "stdout"
        },
        {
          "output_type": "stream",
          "text": [
            "WARNING:tensorflow:From /usr/local/lib/python3.6/dist-packages/keras/backend/tensorflow_backend.py:216: The name tf.is_variable_initialized is deprecated. Please use tf.compat.v1.is_variable_initialized instead.\n",
            "\n"
          ],
          "name": "stderr"
        },
        {
          "output_type": "stream",
          "text": [
            "WARNING:tensorflow:From /usr/local/lib/python3.6/dist-packages/keras/backend/tensorflow_backend.py:223: The name tf.variables_initializer is deprecated. Please use tf.compat.v1.variables_initializer instead.\n",
            "\n"
          ],
          "name": "stdout"
        },
        {
          "output_type": "stream",
          "text": [
            "WARNING:tensorflow:From /usr/local/lib/python3.6/dist-packages/keras/backend/tensorflow_backend.py:223: The name tf.variables_initializer is deprecated. Please use tf.compat.v1.variables_initializer instead.\n",
            "\n"
          ],
          "name": "stderr"
        },
        {
          "output_type": "stream",
          "text": [
            "WARNING:tensorflow:From /usr/local/lib/python3.6/dist-packages/keras/backend/tensorflow_backend.py:4479: The name tf.truncated_normal is deprecated. Please use tf.random.truncated_normal instead.\n",
            "\n"
          ],
          "name": "stdout"
        },
        {
          "output_type": "stream",
          "text": [
            "WARNING:tensorflow:From /usr/local/lib/python3.6/dist-packages/keras/backend/tensorflow_backend.py:4479: The name tf.truncated_normal is deprecated. Please use tf.random.truncated_normal instead.\n",
            "\n"
          ],
          "name": "stderr"
        },
        {
          "output_type": "stream",
          "text": [
            "WARNING:tensorflow:From /usr/local/lib/python3.6/dist-packages/keras/backend/tensorflow_backend.py:148: The name tf.placeholder_with_default is deprecated. Please use tf.compat.v1.placeholder_with_default instead.\n",
            "\n"
          ],
          "name": "stdout"
        },
        {
          "output_type": "stream",
          "text": [
            "WARNING:tensorflow:From /usr/local/lib/python3.6/dist-packages/keras/backend/tensorflow_backend.py:148: The name tf.placeholder_with_default is deprecated. Please use tf.compat.v1.placeholder_with_default instead.\n",
            "\n"
          ],
          "name": "stderr"
        },
        {
          "output_type": "stream",
          "text": [
            "WARNING:tensorflow:From /usr/local/lib/python3.6/dist-packages/keras/backend/tensorflow_backend.py:3733: calling dropout (from tensorflow.python.ops.nn_ops) with keep_prob is deprecated and will be removed in a future version.\n",
            "Instructions for updating:\n",
            "Please use `rate` instead of `keep_prob`. Rate should be set to `rate = 1 - keep_prob`.\n"
          ],
          "name": "stdout"
        },
        {
          "output_type": "stream",
          "text": [
            "WARNING:tensorflow:From /usr/local/lib/python3.6/dist-packages/keras/backend/tensorflow_backend.py:3733: calling dropout (from tensorflow.python.ops.nn_ops) with keep_prob is deprecated and will be removed in a future version.\n",
            "Instructions for updating:\n",
            "Please use `rate` instead of `keep_prob`. Rate should be set to `rate = 1 - keep_prob`.\n"
          ],
          "name": "stderr"
        },
        {
          "output_type": "stream",
          "text": [
            "WARNING:tensorflow:From /usr/local/lib/python3.6/dist-packages/keras/backend/tensorflow_backend.py:3492: where (from tensorflow.python.ops.array_ops) is deprecated and will be removed in a future version.\n",
            "Instructions for updating:\n",
            "Use tf.where in 2.0, which has the same broadcast rule as np.where\n"
          ],
          "name": "stdout"
        },
        {
          "output_type": "stream",
          "text": [
            "WARNING:tensorflow:From /usr/local/lib/python3.6/dist-packages/keras/backend/tensorflow_backend.py:3492: where (from tensorflow.python.ops.array_ops) is deprecated and will be removed in a future version.\n",
            "Instructions for updating:\n",
            "Use tf.where in 2.0, which has the same broadcast rule as np.where\n"
          ],
          "name": "stderr"
        },
        {
          "output_type": "stream",
          "text": [
            "Model: \"model_1\"\n",
            "_________________________________________________________________\n",
            "Layer (type)                 Output Shape              Param #   \n",
            "=================================================================\n",
            "input_1 (InputLayer)         (None, 224, 224, 3)       0         \n",
            "_________________________________________________________________\n",
            "block1_conv1 (Conv2D)        (None, 224, 224, 64)      1792      \n",
            "_________________________________________________________________\n",
            "block1_conv2 (Conv2D)        (None, 224, 224, 64)      36928     \n",
            "_________________________________________________________________\n",
            "block1_pool (MaxPooling2D)   (None, 112, 112, 64)      0         \n",
            "_________________________________________________________________\n",
            "block2_conv1 (Conv2D)        (None, 112, 112, 128)     73856     \n",
            "_________________________________________________________________\n",
            "block2_conv2 (Conv2D)        (None, 112, 112, 128)     147584    \n",
            "_________________________________________________________________\n",
            "block2_pool (MaxPooling2D)   (None, 56, 56, 128)       0         \n",
            "_________________________________________________________________\n",
            "block3_conv1 (Conv2D)        (None, 56, 56, 256)       295168    \n",
            "_________________________________________________________________\n",
            "block3_conv2 (Conv2D)        (None, 56, 56, 256)       590080    \n",
            "_________________________________________________________________\n",
            "block3_conv3 (Conv2D)        (None, 56, 56, 256)       590080    \n",
            "_________________________________________________________________\n",
            "block3_pool (MaxPooling2D)   (None, 28, 28, 256)       0         \n",
            "_________________________________________________________________\n",
            "block4_conv1 (Conv2D)        (None, 28, 28, 512)       1180160   \n",
            "_________________________________________________________________\n",
            "block4_conv2 (Conv2D)        (None, 28, 28, 512)       2359808   \n",
            "_________________________________________________________________\n",
            "block4_conv3 (Conv2D)        (None, 28, 28, 512)       2359808   \n",
            "_________________________________________________________________\n",
            "block4_pool (MaxPooling2D)   (None, 14, 14, 512)       0         \n",
            "_________________________________________________________________\n",
            "block5_conv1 (Conv2D)        (None, 14, 14, 512)       2359808   \n",
            "_________________________________________________________________\n",
            "block5_conv2 (Conv2D)        (None, 14, 14, 512)       2359808   \n",
            "_________________________________________________________________\n",
            "block5_conv3 (Conv2D)        (None, 14, 14, 512)       2359808   \n",
            "_________________________________________________________________\n",
            "block5_pool (MaxPooling2D)   (None, 7, 7, 512)         0         \n",
            "_________________________________________________________________\n",
            "flatten (Flatten)            (None, 25088)             0         \n",
            "_________________________________________________________________\n",
            "dense_1 (Dense)              (None, 512)               12845568  \n",
            "_________________________________________________________________\n",
            "batch_normalization_1 (Batch (None, 512)               2048      \n",
            "_________________________________________________________________\n",
            "dropout_1 (Dropout)          (None, 512)               0         \n",
            "_________________________________________________________________\n",
            "dense_2 (Dense)              (None, 256)               131328    \n",
            "_________________________________________________________________\n",
            "batch_normalization_2 (Batch (None, 256)               1024      \n",
            "_________________________________________________________________\n",
            "dropout_2 (Dropout)          (None, 256)               0         \n",
            "_________________________________________________________________\n",
            "dense_3 (Dense)              (None, 2)                 514       \n",
            "=================================================================\n",
            "Total params: 27,695,170\n",
            "Trainable params: 12,978,946\n",
            "Non-trainable params: 14,716,224\n",
            "_________________________________________________________________\n"
          ],
          "name": "stdout"
        }
      ]
    },
    {
      "cell_type": "code",
      "metadata": {
        "id": "8YDZb7mtjp-S",
        "colab_type": "code",
        "colab": {}
      },
      "source": [
        "def count_conv_params_flops(conv_layer):\n",
        "    # out shape is  n_cells_dim1 * (n_cells_dim2 * n_cells_dim3)\n",
        "    out_shape = conv_layer.output.shape.as_list()\n",
        "    n_cells_total = np.prod(out_shape[1:-1])\n",
        "\n",
        "    n_conv_params_total = conv_layer.count_params()\n",
        "\n",
        "    conv_flops = 2 * n_conv_params_total * n_cells_total\n",
        "\n",
        " \n",
        "\n",
        "    return n_conv_params_total, conv_flops\n",
        "\n",
        "\n",
        "def count_dense_params_flops(dense_layer):\n",
        "    # out shape is  n_cells_dim1 * (n_cells_dim2 * n_cells_dim3)\n",
        "    out_shape = dense_layer.output.shape.as_list()\n",
        "    n_cells_total = np.prod(out_shape[1:-1])\n",
        "\n",
        "    n_dense_params_total = dense_layer.count_params()\n",
        "\n",
        "    dense_flops = 2 * n_dense_params_total\n",
        "\n",
        "\n",
        "    return n_dense_params_total, dense_flops\n",
        "\n",
        "\n",
        "def count_model_params_flops(model):\n",
        "    total_params = 0\n",
        "    total_flops = 0\n",
        "\n",
        "    model_layers = model.layers\n",
        "\n",
        "    for layer in model_layers:\n",
        "\n",
        "        if any(conv_type in str(type(layer)) for conv_type in ['Conv1D', 'Conv2D', 'Conv3D']):\n",
        "            params, flops = count_conv_params_flops(layer)\n",
        "            total_params += params\n",
        "            total_flops += flops\n",
        "        elif 'Dense' in str(type(layer)):\n",
        "            params, flops = count_dense_params_flops(layer)\n",
        "            total_params += params\n",
        "            total_flops += flops\n",
        "\n",
        "    return total_params, total_flops\n"
      ],
      "execution_count": 0,
      "outputs": []
    },
    {
      "cell_type": "code",
      "metadata": {
        "id": "IyloGQTujLJo",
        "colab_type": "code",
        "colab": {
          "base_uri": "https://localhost:8080/",
          "height": 1000
        },
        "outputId": "f5ba4477-2946-4e47-e97a-c8305e4b3226"
      },
      "source": [
        "FirstTime = True\n",
        "model, history = train(model, FirstTime)\n",
        "validation_accuracy = max(history.history['val_acc'])\n",
        "print('validation accuracy',validation_accuracy)\n",
        "max_val_acc = validation_accuracy\n",
        "count = 0\n",
        "all_models = list()\n",
        "while max_val_acc <= validation_accuracy   :\n",
        "    a,b = count_model_params_flops(model)[0],count_model_params_flops(model)[1]\n",
        "    print('Total number of trainable parmas = {}\\nTotal number of Flops={}'.format(a,b))\n",
        "\n",
        "    print(\"ITERATION {} \".format(count+1))\n",
        "    all_models.append(model)\n",
        "    if max_val_acc < validation_accuracy:\n",
        "        max_val_acc = validation_accuracy\n",
        "\n",
        "    if count < 1:\n",
        "        model = my_delete_filters(model,True,5)\n",
        "       \n",
        "    else:\n",
        "        model = my_delete_filters(model,False,5)\n",
        "       \n",
        "    model,history = train(model, True)\n",
        "    validation_accuracy = max(history.history['val_acc'])\n",
        "    model.summary()\n",
        "    print(\"VALIDATION ACCURACY AFTER {} ITERATIONS = {}\".format(count+1,validation_accuracy))\n",
        "    count+=1\n",
        "\n",
        "#model.summary()\n"
      ],
      "execution_count": 6,
      "outputs": [
        {
          "output_type": "stream",
          "text": [
            "Found 220 images belonging to 2 classes.\n",
            "Found 217 images belonging to 2 classes.\n",
            "WARNING:tensorflow:From /usr/local/lib/python3.6/dist-packages/keras/optimizers.py:793: The name tf.train.Optimizer is deprecated. Please use tf.compat.v1.train.Optimizer instead.\n",
            "\n"
          ],
          "name": "stdout"
        },
        {
          "output_type": "stream",
          "text": [
            "WARNING:tensorflow:From /usr/local/lib/python3.6/dist-packages/keras/optimizers.py:793: The name tf.train.Optimizer is deprecated. Please use tf.compat.v1.train.Optimizer instead.\n",
            "\n"
          ],
          "name": "stderr"
        },
        {
          "output_type": "stream",
          "text": [
            "WARNING:tensorflow:From /usr/local/lib/python3.6/dist-packages/keras/backend/tensorflow_backend.py:3576: The name tf.log is deprecated. Please use tf.math.log instead.\n",
            "\n"
          ],
          "name": "stdout"
        },
        {
          "output_type": "stream",
          "text": [
            "WARNING:tensorflow:From /usr/local/lib/python3.6/dist-packages/keras/backend/tensorflow_backend.py:3576: The name tf.log is deprecated. Please use tf.math.log instead.\n",
            "\n"
          ],
          "name": "stderr"
        },
        {
          "output_type": "stream",
          "text": [
            "True\n",
            "WARNING:tensorflow:From /usr/local/lib/python3.6/dist-packages/keras/backend/tensorflow_backend.py:1033: The name tf.assign_add is deprecated. Please use tf.compat.v1.assign_add instead.\n",
            "\n"
          ],
          "name": "stdout"
        },
        {
          "output_type": "stream",
          "text": [
            "WARNING:tensorflow:From /usr/local/lib/python3.6/dist-packages/keras/backend/tensorflow_backend.py:1033: The name tf.assign_add is deprecated. Please use tf.compat.v1.assign_add instead.\n",
            "\n"
          ],
          "name": "stderr"
        },
        {
          "output_type": "stream",
          "text": [
            "WARNING:tensorflow:From /usr/local/lib/python3.6/dist-packages/keras/backend/tensorflow_backend.py:1020: The name tf.assign is deprecated. Please use tf.compat.v1.assign instead.\n",
            "\n"
          ],
          "name": "stdout"
        },
        {
          "output_type": "stream",
          "text": [
            "WARNING:tensorflow:From /usr/local/lib/python3.6/dist-packages/keras/backend/tensorflow_backend.py:1020: The name tf.assign is deprecated. Please use tf.compat.v1.assign instead.\n",
            "\n"
          ],
          "name": "stderr"
        },
        {
          "output_type": "stream",
          "text": [
            "Epoch 1/10\n",
            "4/3 [==================================] - 126s 32s/step - loss: 0.4341 - acc: 0.8438 - val_loss: 1.3945 - val_acc: 0.7788\n",
            "Epoch 2/10\n",
            "4/3 [==================================] - 127s 32s/step - loss: 1.7637 - acc: 0.7812 - val_loss: 1.2225 - val_acc: 0.7926\n",
            "Epoch 3/10\n",
            "4/3 [==================================] - 125s 31s/step - loss: 0.5874 - acc: 0.8750 - val_loss: 0.4535 - val_acc: 0.9078\n",
            "Epoch 4/10\n",
            "4/3 [==================================] - 125s 31s/step - loss: 0.5852 - acc: 0.9062 - val_loss: 0.2610 - val_acc: 0.9355\n",
            "Epoch 5/10\n",
            "4/3 [==================================] - 125s 31s/step - loss: 0.4028 - acc: 0.9375 - val_loss: 0.2548 - val_acc: 0.9493\n",
            "Epoch 6/10\n",
            "4/3 [==================================] - 123s 31s/step - loss: 1.3278 - acc: 0.8143 - val_loss: 0.2343 - val_acc: 0.9263\n",
            "Epoch 7/10\n",
            "4/3 [==================================] - 125s 31s/step - loss: 0.0468 - acc: 0.9688 - val_loss: 0.1664 - val_acc: 0.9539\n",
            "Epoch 8/10\n",
            "4/3 [==================================] - 125s 31s/step - loss: 0.1529 - acc: 0.9062 - val_loss: 0.1770 - val_acc: 0.9631\n",
            "Epoch 9/10\n",
            "4/3 [==================================] - 125s 31s/step - loss: 0.3465 - acc: 0.8438 - val_loss: 0.1682 - val_acc: 0.9677\n",
            "Epoch 10/10\n",
            "4/3 [==================================] - 125s 31s/step - loss: 0.0299 - acc: 0.9688 - val_loss: 0.1536 - val_acc: 0.9631\n",
            "validation accuracy 0.967741935483871\n",
            "Total number of trainable parmas = 27692098\n",
            "Total number of Flops=30746311172\n",
            "ITERATION 1 \n",
            "Deleting 3/64 channels from layer: block1_conv1\n",
            "Deleting 3/64 channels from layer: block1_conv2\n",
            "Deleting 6/128 channels from layer: block2_conv1\n",
            "Deleting 6/128 channels from layer: block2_conv2\n",
            "Deleting 12/256 channels from layer: block3_conv1\n",
            "Deleting 12/256 channels from layer: block3_conv2\n",
            "Deleting 12/256 channels from layer: block3_conv3\n",
            "Deleting 25/512 channels from layer: block4_conv1\n",
            "Deleting 25/512 channels from layer: block4_conv2\n",
            "Deleting 25/512 channels from layer: block4_conv3\n",
            "Deleting 25/512 channels from layer: block5_conv1\n",
            "Deleting 25/512 channels from layer: block5_conv2\n",
            "Deleting 25/512 channels from layer: block5_conv3\n",
            "Deleting 25/512 channels from layer: dense_1\n",
            "Deleting 12/256 channels from layer: dense_2\n",
            "Found 220 images belonging to 2 classes.\n",
            "Found 217 images belonging to 2 classes.\n",
            "True\n",
            "Epoch 1/10\n",
            "4/3 [==================================] - 127s 32s/step - loss: 0.3369 - acc: 0.9375 - val_loss: 4.2403 - val_acc: 0.7097\n",
            "Epoch 2/10\n",
            "4/3 [==================================] - 126s 31s/step - loss: 0.2918 - acc: 0.9062 - val_loss: 0.6620 - val_acc: 0.8802\n",
            "Epoch 3/10\n",
            "4/3 [==================================] - 127s 32s/step - loss: 0.1141 - acc: 0.9688 - val_loss: 0.9010 - val_acc: 0.8848\n",
            "Epoch 4/10\n",
            "4/3 [==================================] - 126s 32s/step - loss: 0.1112 - acc: 0.9688 - val_loss: 0.5916 - val_acc: 0.9263\n",
            "Epoch 5/10\n",
            "4/3 [==================================] - 125s 31s/step - loss: 0.3616 - acc: 0.9107 - val_loss: 0.1650 - val_acc: 0.9631\n",
            "Epoch 6/10\n",
            "4/3 [==================================] - 126s 31s/step - loss: 0.0065 - acc: 1.0000 - val_loss: 0.2318 - val_acc: 0.9631\n",
            "Epoch 7/10\n",
            "4/3 [==================================] - 127s 32s/step - loss: 0.0012 - acc: 1.0000 - val_loss: 0.1500 - val_acc: 0.9677\n",
            "Epoch 8/10\n",
            "4/3 [==================================] - 127s 32s/step - loss: 0.0110 - acc: 1.0000 - val_loss: 0.1620 - val_acc: 0.9585\n",
            "Epoch 9/10\n",
            "4/3 [==================================] - 127s 32s/step - loss: 0.2192 - acc: 0.9375 - val_loss: 0.1994 - val_acc: 0.9539\n",
            "Epoch 10/10\n",
            "4/3 [==================================] - 126s 32s/step - loss: 0.6095 - acc: 0.8750 - val_loss: 0.1763 - val_acc: 0.9447\n",
            "VALIDATION ACCURACY AFTER 1 ITERATIONS = 0.967741935483871\n",
            "Total number of trainable parmas = 25063037\n",
            "Total number of Flops=27898977412\n",
            "ITERATION 2 \n",
            "Deleting 3/61 channels from layer: block1_conv2\n",
            "Deleting 6/122 channels from layer: block2_conv1\n",
            "Deleting 6/122 channels from layer: block2_conv2\n",
            "Deleting 12/244 channels from layer: block3_conv1\n",
            "Deleting 12/244 channels from layer: block3_conv2\n",
            "Deleting 12/244 channels from layer: block3_conv3\n",
            "Deleting 24/487 channels from layer: block4_conv1\n",
            "Deleting 24/487 channels from layer: block4_conv2\n",
            "Deleting 24/487 channels from layer: block4_conv3\n",
            "Deleting 24/487 channels from layer: block5_conv1\n",
            "Deleting 24/487 channels from layer: block5_conv2\n",
            "Deleting 24/487 channels from layer: block5_conv3\n",
            "Deleting 24/487 channels from layer: dense_1\n",
            "Deleting 12/244 channels from layer: dense_2\n",
            "Found 220 images belonging to 2 classes.\n",
            "Found 217 images belonging to 2 classes.\n",
            "True\n",
            "Epoch 1/10\n",
            "4/3 [==================================] - 118s 29s/step - loss: 0.4653 - acc: 0.8750 - val_loss: 0.9503 - val_acc: 0.8664\n",
            "Epoch 2/10\n",
            "4/3 [==================================] - 117s 29s/step - loss: 0.8427 - acc: 0.8750 - val_loss: 0.6714 - val_acc: 0.8295\n",
            "Epoch 3/10\n",
            "4/3 [==================================] - 117s 29s/step - loss: 0.3190 - acc: 0.9375 - val_loss: 0.5209 - val_acc: 0.8802\n",
            "Epoch 4/10\n",
            "4/3 [==================================] - 117s 29s/step - loss: 0.0099 - acc: 1.0000 - val_loss: 0.7091 - val_acc: 0.8802\n",
            "Epoch 5/10\n",
            "4/3 [==================================] - 116s 29s/step - loss: 0.8900 - acc: 0.7812 - val_loss: 0.5723 - val_acc: 0.9124\n",
            "Epoch 6/10\n",
            "4/3 [==================================] - 114s 29s/step - loss: 0.8271 - acc: 0.7964 - val_loss: 0.2108 - val_acc: 0.9309\n",
            "Epoch 7/10\n",
            "4/3 [==================================] - 116s 29s/step - loss: 0.1992 - acc: 0.9062 - val_loss: 0.2045 - val_acc: 0.9355\n",
            "Epoch 8/10\n",
            "4/3 [==================================] - 116s 29s/step - loss: 0.2333 - acc: 0.9375 - val_loss: 0.1957 - val_acc: 0.9447\n",
            "Epoch 9/10\n",
            "4/3 [==================================] - 116s 29s/step - loss: 0.0578 - acc: 0.9688 - val_loss: 0.1972 - val_acc: 0.9401\n",
            "Epoch 10/10\n",
            "4/3 [==================================] - 116s 29s/step - loss: 0.1165 - acc: 0.9375 - val_loss: 0.1828 - val_acc: 0.9447\n",
            "VALIDATION ACCURACY AFTER 2 ITERATIONS = 0.9447004608294931\n"
          ],
          "name": "stdout"
        }
      ]
    },
    {
      "cell_type": "code",
      "metadata": {
        "id": "l32zigdf6X-n",
        "colab_type": "code",
        "colab": {
          "base_uri": "https://localhost:8080/",
          "height": 1000
        },
        "outputId": "96b6bcda-f825-41aa-cdbb-d438e9c1d12e"
      },
      "source": [
        "model.summary()"
      ],
      "execution_count": 8,
      "outputs": [
        {
          "output_type": "stream",
          "text": [
            "Model: \"model_3\"\n",
            "_________________________________________________________________\n",
            "Layer (type)                 Output Shape              Param #   \n",
            "=================================================================\n",
            "input_1 (InputLayer)         (None, 224, 224, 3)       0         \n",
            "_________________________________________________________________\n",
            "block1_conv1 (Conv2D)        (None, 224, 224, 61)      1708      \n",
            "_________________________________________________________________\n",
            "block1_conv2 (Conv2D)        (None, 224, 224, 58)      31900     \n",
            "_________________________________________________________________\n",
            "block1_pool (MaxPooling2D)   multiple                  0         \n",
            "_________________________________________________________________\n",
            "block2_conv1 (Conv2D)        (None, 112, 112, 116)     60668     \n",
            "_________________________________________________________________\n",
            "block2_conv2 (Conv2D)        (None, 112, 112, 116)     121220    \n",
            "_________________________________________________________________\n",
            "block2_pool (MaxPooling2D)   multiple                  0         \n",
            "_________________________________________________________________\n",
            "block3_conv1 (Conv2D)        (None, 56, 56, 232)       242440    \n",
            "_________________________________________________________________\n",
            "block3_conv2 (Conv2D)        (None, 56, 56, 232)       484648    \n",
            "_________________________________________________________________\n",
            "block3_conv3 (Conv2D)        (None, 56, 56, 232)       484648    \n",
            "_________________________________________________________________\n",
            "block3_pool (MaxPooling2D)   multiple                  0         \n",
            "_________________________________________________________________\n",
            "block4_conv1 (Conv2D)        (None, 28, 28, 463)       967207    \n",
            "_________________________________________________________________\n",
            "block4_conv2 (Conv2D)        (None, 28, 28, 463)       1929784   \n",
            "_________________________________________________________________\n",
            "block4_conv3 (Conv2D)        (None, 28, 28, 463)       1929784   \n",
            "_________________________________________________________________\n",
            "block4_pool (MaxPooling2D)   multiple                  0         \n",
            "_________________________________________________________________\n",
            "block5_conv1 (Conv2D)        (None, 14, 14, 463)       1929784   \n",
            "_________________________________________________________________\n",
            "block5_conv2 (Conv2D)        (None, 14, 14, 463)       1929784   \n",
            "_________________________________________________________________\n",
            "block5_conv3 (Conv2D)        (None, 14, 14, 463)       1929784   \n",
            "_________________________________________________________________\n",
            "block5_pool (MaxPooling2D)   multiple                  0         \n",
            "_________________________________________________________________\n",
            "flatten (Flatten)            multiple                  0         \n",
            "_________________________________________________________________\n",
            "dense_1 (Dense)              (None, 463)               10504544  \n",
            "_________________________________________________________________\n",
            "batch_normalization_1 (Batch (None, 463)               1852      \n",
            "_________________________________________________________________\n",
            "dropout_1 (Dropout)          multiple                  0         \n",
            "_________________________________________________________________\n",
            "dense_2 (Dense)              (None, 232)               107648    \n",
            "_________________________________________________________________\n",
            "batch_normalization_2 (Batch (None, 232)               928       \n",
            "_________________________________________________________________\n",
            "dropout_2 (Dropout)          multiple                  0         \n",
            "_________________________________________________________________\n",
            "dense_3 (Dense)              (None, 2)                 466       \n",
            "=================================================================\n",
            "Total params: 22,658,797\n",
            "Trainable params: 10,614,048\n",
            "Non-trainable params: 12,044,749\n",
            "_________________________________________________________________\n"
          ],
          "name": "stdout"
        }
      ]
    },
    {
      "cell_type": "code",
      "metadata": {
        "id": "GnQSmB11jr8P",
        "colab_type": "code",
        "colab": {
          "base_uri": "https://localhost:8080/",
          "height": 368
        },
        "outputId": "17dbbafc-34c5-4d62-9089-992c49794360"
      },
      "source": [
        "a,b = count_model_params_flops(model)[0],count_model_params_flops(model)[1]\n",
        "print('Total number of trainable parmas = {}\\nTotal number of Flops={}'.format(a,b))\n"
      ],
      "execution_count": 7,
      "outputs": [
        {
          "output_type": "stream",
          "text": [
            "INFO:numexpr.utils:NumExpr defaulting to 2 threads.\n"
          ],
          "name": "stderr"
        },
        {
          "output_type": "error",
          "ename": "AttributeError",
          "evalue": "ignored",
          "traceback": [
            "\u001b[0;31m---------------------------------------------------------------------------\u001b[0m",
            "\u001b[0;31mAttributeError\u001b[0m                            Traceback (most recent call last)",
            "\u001b[0;32m<ipython-input-7-bd2afd652ece>\u001b[0m in \u001b[0;36m<module>\u001b[0;34m()\u001b[0m\n\u001b[0;32m----> 1\u001b[0;31m \u001b[0ma\u001b[0m\u001b[0;34m,\u001b[0m\u001b[0mb\u001b[0m \u001b[0;34m=\u001b[0m \u001b[0mcount_model_params_flops\u001b[0m\u001b[0;34m(\u001b[0m\u001b[0mmodel\u001b[0m\u001b[0;34m)\u001b[0m\u001b[0;34m[\u001b[0m\u001b[0;36m0\u001b[0m\u001b[0;34m]\u001b[0m\u001b[0;34m,\u001b[0m\u001b[0mcount_model_params_flops\u001b[0m\u001b[0;34m(\u001b[0m\u001b[0mmodel\u001b[0m\u001b[0;34m)\u001b[0m\u001b[0;34m[\u001b[0m\u001b[0;36m1\u001b[0m\u001b[0;34m]\u001b[0m\u001b[0;34m\u001b[0m\u001b[0;34m\u001b[0m\u001b[0m\n\u001b[0m\u001b[1;32m      2\u001b[0m \u001b[0mprint\u001b[0m\u001b[0;34m(\u001b[0m\u001b[0;34m'Total number of trainable parmas = {}\\nTotal number of Flops={}'\u001b[0m\u001b[0;34m.\u001b[0m\u001b[0mformat\u001b[0m\u001b[0;34m(\u001b[0m\u001b[0ma\u001b[0m\u001b[0;34m,\u001b[0m\u001b[0mb\u001b[0m\u001b[0;34m)\u001b[0m\u001b[0;34m)\u001b[0m\u001b[0;34m\u001b[0m\u001b[0;34m\u001b[0m\u001b[0m\n",
            "\u001b[0;32m<ipython-input-5-f5037c9a0bf9>\u001b[0m in \u001b[0;36mcount_model_params_flops\u001b[0;34m(model)\u001b[0m\n\u001b[1;32m     35\u001b[0m \u001b[0;34m\u001b[0m\u001b[0m\n\u001b[1;32m     36\u001b[0m         \u001b[0;32mif\u001b[0m \u001b[0many\u001b[0m\u001b[0;34m(\u001b[0m\u001b[0mconv_type\u001b[0m \u001b[0;32min\u001b[0m \u001b[0mstr\u001b[0m\u001b[0;34m(\u001b[0m\u001b[0mtype\u001b[0m\u001b[0;34m(\u001b[0m\u001b[0mlayer\u001b[0m\u001b[0;34m)\u001b[0m\u001b[0;34m)\u001b[0m \u001b[0;32mfor\u001b[0m \u001b[0mconv_type\u001b[0m \u001b[0;32min\u001b[0m \u001b[0;34m[\u001b[0m\u001b[0;34m'Conv1D'\u001b[0m\u001b[0;34m,\u001b[0m \u001b[0;34m'Conv2D'\u001b[0m\u001b[0;34m,\u001b[0m \u001b[0;34m'Conv3D'\u001b[0m\u001b[0;34m]\u001b[0m\u001b[0;34m)\u001b[0m\u001b[0;34m:\u001b[0m\u001b[0;34m\u001b[0m\u001b[0;34m\u001b[0m\u001b[0m\n\u001b[0;32m---> 37\u001b[0;31m             \u001b[0mparams\u001b[0m\u001b[0;34m,\u001b[0m \u001b[0mflops\u001b[0m \u001b[0;34m=\u001b[0m \u001b[0mcount_conv_params_flops\u001b[0m\u001b[0;34m(\u001b[0m\u001b[0mlayer\u001b[0m\u001b[0;34m)\u001b[0m\u001b[0;34m\u001b[0m\u001b[0;34m\u001b[0m\u001b[0m\n\u001b[0m\u001b[1;32m     38\u001b[0m             \u001b[0mtotal_params\u001b[0m \u001b[0;34m+=\u001b[0m \u001b[0mparams\u001b[0m\u001b[0;34m\u001b[0m\u001b[0;34m\u001b[0m\u001b[0m\n\u001b[1;32m     39\u001b[0m             \u001b[0mtotal_flops\u001b[0m \u001b[0;34m+=\u001b[0m \u001b[0mflops\u001b[0m\u001b[0;34m\u001b[0m\u001b[0;34m\u001b[0m\u001b[0m\n",
            "\u001b[0;32m<ipython-input-5-f5037c9a0bf9>\u001b[0m in \u001b[0;36mcount_conv_params_flops\u001b[0;34m(conv_layer)\u001b[0m\n\u001b[1;32m      1\u001b[0m \u001b[0;32mdef\u001b[0m \u001b[0mcount_conv_params_flops\u001b[0m\u001b[0;34m(\u001b[0m\u001b[0mconv_layer\u001b[0m\u001b[0;34m)\u001b[0m\u001b[0;34m:\u001b[0m\u001b[0;34m\u001b[0m\u001b[0;34m\u001b[0m\u001b[0m\n\u001b[1;32m      2\u001b[0m     \u001b[0;31m# out shape is  n_cells_dim1 * (n_cells_dim2 * n_cells_dim3)\u001b[0m\u001b[0;34m\u001b[0m\u001b[0;34m\u001b[0m\u001b[0;34m\u001b[0m\u001b[0m\n\u001b[0;32m----> 3\u001b[0;31m     \u001b[0mout_shape\u001b[0m \u001b[0;34m=\u001b[0m \u001b[0mconv_layer\u001b[0m\u001b[0;34m.\u001b[0m\u001b[0moutput\u001b[0m\u001b[0;34m.\u001b[0m\u001b[0mshape\u001b[0m\u001b[0;34m.\u001b[0m\u001b[0mas_list\u001b[0m\u001b[0;34m(\u001b[0m\u001b[0;34m)\u001b[0m\u001b[0;34m\u001b[0m\u001b[0;34m\u001b[0m\u001b[0m\n\u001b[0m\u001b[1;32m      4\u001b[0m     \u001b[0mn_cells_total\u001b[0m \u001b[0;34m=\u001b[0m \u001b[0mnp\u001b[0m\u001b[0;34m.\u001b[0m\u001b[0mprod\u001b[0m\u001b[0;34m(\u001b[0m\u001b[0mout_shape\u001b[0m\u001b[0;34m[\u001b[0m\u001b[0;36m1\u001b[0m\u001b[0;34m:\u001b[0m\u001b[0;34m-\u001b[0m\u001b[0;36m1\u001b[0m\u001b[0;34m]\u001b[0m\u001b[0;34m)\u001b[0m\u001b[0;34m\u001b[0m\u001b[0;34m\u001b[0m\u001b[0m\n\u001b[1;32m      5\u001b[0m \u001b[0;34m\u001b[0m\u001b[0m\n",
            "\u001b[0;32m/usr/local/lib/python3.6/dist-packages/keras/engine/base_layer.py\u001b[0m in \u001b[0;36moutput\u001b[0;34m(self)\u001b[0m\n\u001b[1;32m    805\u001b[0m         \u001b[0;32mif\u001b[0m \u001b[0mlen\u001b[0m\u001b[0;34m(\u001b[0m\u001b[0mself\u001b[0m\u001b[0;34m.\u001b[0m\u001b[0m_inbound_nodes\u001b[0m\u001b[0;34m)\u001b[0m \u001b[0;34m>\u001b[0m \u001b[0;36m1\u001b[0m\u001b[0;34m:\u001b[0m\u001b[0;34m\u001b[0m\u001b[0;34m\u001b[0m\u001b[0m\n\u001b[1;32m    806\u001b[0m             raise AttributeError('Layer ' + self.name +\n\u001b[0;32m--> 807\u001b[0;31m                                  \u001b[0;34m' has multiple inbound nodes, '\u001b[0m\u001b[0;34m\u001b[0m\u001b[0;34m\u001b[0m\u001b[0m\n\u001b[0m\u001b[1;32m    808\u001b[0m                                  \u001b[0;34m'hence the notion of \"layer output\" '\u001b[0m\u001b[0;34m\u001b[0m\u001b[0;34m\u001b[0m\u001b[0m\n\u001b[1;32m    809\u001b[0m                                  \u001b[0;34m'is ill-defined. '\u001b[0m\u001b[0;34m\u001b[0m\u001b[0;34m\u001b[0m\u001b[0m\n",
            "\u001b[0;31mAttributeError\u001b[0m: Layer block1_conv1 has multiple inbound nodes, hence the notion of \"layer output\" is ill-defined. Use `get_output_at(node_index)` instead."
          ]
        }
      ]
    }
  ]
}