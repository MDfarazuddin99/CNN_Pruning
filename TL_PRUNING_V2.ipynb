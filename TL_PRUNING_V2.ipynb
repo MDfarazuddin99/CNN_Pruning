{
  "nbformat": 4,
  "nbformat_minor": 0,
  "metadata": {
    "colab": {
      "name": "TL_PRUNING_V2.ipynb",
      "provenance": [],
      "collapsed_sections": [],
      "mount_file_id": "1GY9iwDqyrqEkoRCsfjdcohSW-rNAB9Tb",
      "authorship_tag": "ABX9TyNRTznQsrZ45vZTFApIUvxd",
      "include_colab_link": true
    },
    "kernelspec": {
      "name": "python3",
      "display_name": "Python 3"
    }
  },
  "cells": [
    {
      "cell_type": "markdown",
      "metadata": {
        "id": "view-in-github",
        "colab_type": "text"
      },
      "source": [
        "<a href=\"https://colab.research.google.com/github/MDfarazuddin99/CNN_Pruning/blob/master/TL_PRUNING_V2.ipynb\" target=\"_parent\"><img src=\"https://colab.research.google.com/assets/colab-badge.svg\" alt=\"Open In Colab\"/></a>"
      ]
    },
    {
      "cell_type": "code",
      "metadata": {
        "id": "RH3f-u9RjRtQ",
        "colab_type": "code",
        "outputId": "e35f2589-c864-4bfa-c830-12b042b55488",
        "colab": {
          "base_uri": "https://localhost:8080/",
          "height": 220
        }
      },
      "source": [
        "%tensorflow_version 1.x\n",
        "import time\n",
        "import os\n",
        "import math\n",
        "import numpy as np\n",
        "import pandas as pd\n",
        "# import GPyOpt\n",
        "import keras\n",
        "import random\n",
        "from itertools import product, combinations\n",
        "from collections import OrderedDict\n",
        "from keras.preprocessing import image\n",
        "from keras import layers, models, optimizers, callbacks, initializers\n",
        "from keras.applications import DenseNet121, VGG16, ResNet50\n",
        "from keras.callbacks import ReduceLROnPlateau\n",
        "from keras.models import load_model\n",
        "import keras\n",
        "from keras.datasets import cifar10\n",
        "from keras.preprocessing.image import ImageDataGenerator\n",
        "from keras.models import Sequential\n",
        "from keras.layers import Dense, Dropout, Activation, Flatten\n",
        "from keras.layers import Conv2D, MaxPooling2D, BatchNormalization\n",
        "from keras import optimizers\n",
        "import numpy as np\n",
        "from keras.layers.core import Lambda\n",
        "from keras import backend as K\n",
        "from keras import regularizers\n",
        "from keras.callbacks import ModelCheckpoint\n",
        "import matplotlib.pyplot as plt\n",
        "!pip install kerassurgeon\n",
        "from kerassurgeon import identify\n",
        "from kerassurgeon.operations import delete_channels,delete_layer\n",
        "from kerassurgeon import Surgeon\n"
      ],
      "execution_count": 1,
      "outputs": [
        {
          "output_type": "stream",
          "text": [
            "TensorFlow 1.x selected.\n"
          ],
          "name": "stdout"
        },
        {
          "output_type": "stream",
          "text": [
            "Using TensorFlow backend.\n"
          ],
          "name": "stderr"
        },
        {
          "output_type": "stream",
          "text": [
            "Requirement already satisfied: kerassurgeon in /usr/local/lib/python3.6/dist-packages (0.1.3)\n",
            "Requirement already satisfied: keras>=2.0.7 in /usr/local/lib/python3.6/dist-packages (from kerassurgeon) (2.2.5)\n",
            "Requirement already satisfied: six>=1.9.0 in /usr/local/lib/python3.6/dist-packages (from keras>=2.0.7->kerassurgeon) (1.12.0)\n",
            "Requirement already satisfied: scipy>=0.14 in /usr/local/lib/python3.6/dist-packages (from keras>=2.0.7->kerassurgeon) (1.4.1)\n",
            "Requirement already satisfied: keras-applications>=1.0.8 in /usr/local/lib/python3.6/dist-packages (from keras>=2.0.7->kerassurgeon) (1.0.8)\n",
            "Requirement already satisfied: numpy>=1.9.1 in /usr/local/lib/python3.6/dist-packages (from keras>=2.0.7->kerassurgeon) (1.18.2)\n",
            "Requirement already satisfied: h5py in /usr/local/lib/python3.6/dist-packages (from keras>=2.0.7->kerassurgeon) (2.10.0)\n",
            "Requirement already satisfied: keras-preprocessing>=1.1.0 in /usr/local/lib/python3.6/dist-packages (from keras>=2.0.7->kerassurgeon) (1.1.0)\n",
            "Requirement already satisfied: pyyaml in /usr/local/lib/python3.6/dist-packages (from keras>=2.0.7->kerassurgeon) (3.13)\n"
          ],
          "name": "stdout"
        }
      ]
    },
    {
      "cell_type": "code",
      "metadata": {
        "id": "ENeJ28ZmjWm4",
        "colab_type": "code",
        "colab": {}
      },
      "source": [
        "def train(model, status):\n",
        "\n",
        "\n",
        "    #training parameters\n",
        "    DATA_FOLDER = \"/content/drive/My Drive/dog\"\n",
        "    # DATA_FOLDER = \"CalTech101\"\n",
        "    TRAIN_PATH = os.path.join(DATA_FOLDER, \"train\") # Path for training data\n",
        "    VALID_PATH = os.path.join(DATA_FOLDER, \"val\") # Path for validation data\n",
        "    NUMBER_OF_CLASSES = len(os.listdir(TRAIN_PATH)) # Number of classes of the dataset\n",
        "\n",
        "    EPOCHS = 2\n",
        "    learning_rate_reduction = ReduceLROnPlateau(monitor='val_acc',\n",
        "                                                patience=5,\n",
        "                                                verbose=1,\n",
        "                                                factor=np.sqrt(0.1),\n",
        "                                                min_lr=0.0001)\n",
        "    batch_size=8 # the mini-batch size to use for the dataset\n",
        "    learning_rate = 0.1\n",
        "    lr_decay = 1e-6\n",
        "    lr_drop = 20\n",
        "    datagen = image.ImageDataGenerator(preprocessing_function=keras.applications.vgg16.preprocess_input) # creating an instance of the data generator\n",
        "    train_generator = datagen.flow_from_directory(TRAIN_PATH, target_size=(224, 224), batch_size=batch_size) # creating the generator for training data\n",
        "    valid_generator = datagen.flow_from_directory(VALID_PATH, target_size=(224, 224), batch_size=batch_size) # creating the generator for validation data\n",
        "    #Adagrad = optimizers.Adagrad(lr=0.1)\n",
        "    def lr_scheduler(epoch):\n",
        "        return learning_rate * (0.5 ** (epoch // lr_drop))\n",
        "    reduce_lr = keras.callbacks.LearningRateScheduler(lr_scheduler)\n",
        "    ADAM = optimizers.Adam(lr=0.1, beta_1=0.9, beta_2=0.999, amsgrad=False)\n",
        "    model.compile(optimizer='adagrad', loss='categorical_crossentropy', metrics=['accuracy'])\n",
        "\n",
        "    # model.summary()\n",
        "    print(status)\n",
        "    if status==True:  \n",
        "        history = model.fit_generator(\n",
        "        train_generator,\n",
        "        validation_data=valid_generator, epochs=EPOCHS,\n",
        "        steps_per_epoch=len(train_generator) / batch_size,\n",
        "        validation_steps=len(valid_generator), callbacks=[learning_rate_reduction])\n",
        "    else:\n",
        "        model = load_model('VGG16_CalTech101_best_model.h5')\n",
        "        history = model.evaluate_generator(valid_generator)\n",
        "        print(history)\n",
        "    #print(model.metrics_names)\n",
        "    model.save('VGG16_CalTech101_best_model.h5')\n",
        "    save_model = ModelCheckpoint('VGG16_CalTech101_best_model_after_pruning.h5', monitor='val_acc', verbose=0, save_best_only=True, save_weights_only=False, mode='auto', period=1)\n",
        "    return model, history\n"
      ],
      "execution_count": 0,
      "outputs": []
    },
    {
      "cell_type": "code",
      "metadata": {
        "id": "2hEBe_ARjftK",
        "colab_type": "code",
        "colab": {}
      },
      "source": [
        "def my_get_all_dense_layers(model):\n",
        "    all_dense_layers = list()\n",
        "    for i,each_layer in enumerate(model.layers):\n",
        "        if (each_layer.name[0:5] == 'dense'):\n",
        "            all_dense_layers.append(i)\n",
        "    return all_dense_layers[0:len(all_dense_layers)-1]\n",
        "\n",
        "def my_get_all_conv_layers(model,first_time):\n",
        "    all_conv_layers = list()\n",
        "    for i,each_layer in enumerate(model.layers):\n",
        "        # if (each_layer.name[0:6] == 'conv2d'):\n",
        "        #     all_conv_layers.append(i)\n",
        "        if 'conv' in each_layer.name:\n",
        "            all_conv_layers.append(i)\n",
        "    return all_conv_layers if (first_time==True) else all_conv_layers[1:]\n",
        "\n",
        "def my_in_dense_layers_get_L1_norms_sorted_indices_and_values(model,graph):\n",
        "    weights = list()\n",
        "    all_dense_layers = my_get_all_dense_layers(model)\n",
        "    for i in all_dense_layers:\n",
        "        weights.append(model.layers[i].get_weights()[0])\n",
        "    layer_wise_filter_sorted_indices_dense = list()\n",
        "    layer_wise_filter_sorted_values_dense = list()\n",
        "    for i in range(len(weights)):\n",
        "        weight = weights[i]\n",
        "        num_filters = len(weight[0,:])\n",
        "        weights_dict = dict()\n",
        "        for j in range(num_filters):\n",
        "            weights_sum = np.sum(abs(weight[:,j]))\n",
        "            neuron = 'neuron {}'.format(j)\n",
        "            weights_dict[neuron] = weights_sum\n",
        "            # print(weights_dict[neuron])\n",
        "       \n",
        "        weights_dict_sorted = sorted(weights_dict.items(),key = lambda kv:kv[1])\n",
        "        weight_values = list()\n",
        "        neuron_indices = list()\n",
        "        for element in weights_dict_sorted:\n",
        "            neuron_indices.append(int(element[0][6:]))\n",
        "            weight_values.append(element[1])\n",
        "        layer_wise_filter_sorted_indices_dense.append(neuron_indices)\n",
        "        layer_wise_filter_sorted_values_dense.append(weight_values)\n",
        "\n",
        "        if graph == True:\n",
        "                    x = np.arange(num_filters)\n",
        "                    plt.figure(i+1,figsize=(7,5))\n",
        "                    plt.plot(x,np.array(weight_values))\n",
        "                    plt.axhline(y=np.mean(np.array(weight_values)),c='r')\n",
        "                    for j in range(len(layer_wise_filter_sorted_values_dense[i])):\n",
        "                        if(np.mean(np.array(weight_values)) < weight_values[j]):\n",
        "                            plt.axvline(x=j,c='r')\n",
        "                            break\n",
        "\n",
        "                    plt.xlabel('filter number')\n",
        "                    plt.ylabel('L1 norm')\n",
        "                    plt.title('Conv2d_{}'.format(i+1))\n",
        "                    plt.grid(True)\n",
        "                    plt.style.use(['classic'])        \n",
        "\n",
        "    return layer_wise_filter_sorted_indices_dense,layer_wise_filter_sorted_values_dense\n",
        "\n",
        "def plot_histogram_l1_norms_dense(model):\n",
        "    _,a = my_in_dense_layers_get_L1_norms_sorted_indices_and_values(my_model_vgg,False)\n",
        "    all_dense_layers = my_get_all_dense_layers(model)\n",
        "    for i in range(len(all_dense_layers)):    \n",
        "        plt.figure(i,figsize=(7,7))\n",
        "        plt.hist(a[i-1],density=1, bins=150)\n",
        "        plt.xlabel('L1 Norms of dense_{}'.format(i+1))\n",
        "        plt.ylabel('Probability')\n",
        "        plt.style.use(['classic'])\n",
        "\n",
        "def my_in_conv_layers_get_L1_norms_sorted_indices_and_values(model,graph,first_time):\n",
        "    weights = list()\n",
        "    all_conv_layers = my_get_all_conv_layers(model,first_time)\n",
        "    for i in all_conv_layers:\n",
        "        # print('{}th layer'.format(i),all_conv_layers)\n",
        "        weights.append(model.layers[i].get_weights()[0])\n",
        "    layer_wise_filter_sorted_indices = list()\n",
        "    layer_wise_filter_sorted_values = list()\n",
        "    for i in range(len(weights)):\n",
        "        weight = weights[i]\n",
        "        num_filters = len(weight[0,0,0,:])\n",
        "        # print(num_filters)\n",
        "        weights_dict = dict()\n",
        "        for j in range(num_filters):\n",
        "            weights_sum = np.sum(abs(weight[:,:,:,j]))\n",
        "            filtr = 'filter {}'.format(j)\n",
        "            weights_dict[filtr] = weights_sum\n",
        "       \n",
        "        weights_dict_sorted = sorted(weights_dict.items(),key = lambda kv:kv[1])\n",
        "        # print('L1 norm of conv2D_{} layer'.format(i+1),weights_dict_sorted)\n",
        "\n",
        "        weight_values = list()\n",
        "        filter_indices = list()\n",
        "\n",
        "        for element in weights_dict_sorted:\n",
        "            filter_indices.append(int(element[0][6:]))  # extracting the index of filter from string (tentative try to come up with better code)\n",
        "            weight_values.append(element[1])\n",
        "   \n",
        "        layer_wise_filter_sorted_indices.append(filter_indices)\n",
        "        layer_wise_filter_sorted_values.append(weight_values)\n",
        "\n",
        "        if graph == True:\n",
        "                x = np.arange(num_filters)\n",
        "                plt.figure(i+1,figsize=(7,7))\n",
        "                plt.plot(x,np.array(weight_values))\n",
        "                plt.axhline(y=np.mean(np.array(weight_values)),c='r')\n",
        "                for j in range(len(layer_wise_filter_sorted_values[i-1])):\n",
        "                    if(np.mean(np.array(weight_values)) < weight_values[j]):\n",
        "                        plt.axvline(x=j,c='r')\n",
        "                        break\n",
        "                plt.style.use(['classic'])  \n",
        "\n",
        "\n",
        "                plt.xlabel('filter number')\n",
        "                plt.ylabel('L1 norm')\n",
        "                plt.title('Conv2d_{}'.format(i+1))\n",
        "                plt.grid(True)\n",
        "                plt.style.use(['classic'])\n",
        "\n",
        "\n",
        "    return layer_wise_filter_sorted_indices,layer_wise_filter_sorted_values\n",
        "\n",
        "def plot_histogram_l1_norms_conv(model,first_time):\n",
        "    _,a = my_in_conv_layers_get_L1_norms_sorted_indices_and_values(my_model_vgg,False,False)\n",
        "    all_conv_layers = my_get_all_conv_layers(model,first_time)\n",
        "    for i in range(len(all_conv_layers)):    \n",
        "        plt.figure(i,figsize=(7,7))\n",
        "        plt.hist(a[i-1],density=1, bins=150)\n",
        "        plt.xlabel('L1 Norms of conv_2d_{}'.format(i+1))\n",
        "        plt.ylabel('Probability')\n",
        "        plt.style.use(['classic'])\n",
        "\n",
        "def my_get_percent_prune_neuron_indices(model,percentage):\n",
        "    layer_wise_neuron_sorted_indices,layer_wise_neuron_sorted_values = my_in_dense_layers_get_L1_norms_sorted_indices_and_values(model,False)\n",
        "    all_dense_layers = my_get_all_dense_layers(model)\n",
        "    prune_neuron_indices = list()\n",
        "    for i in range(len(all_dense_layers)):\n",
        "        prune_neuron_indices.append(  int(len(layer_wise_neuron_sorted_indices[i]) * (percentage/100))   )\n",
        "    return prune_neuron_indices\n",
        "\n",
        "\n",
        "def my_get_percent_prune_filter_indices(model,first_time,percentage):\n",
        "    layer_wise_filter_sorted_indices,layer_wise_filter_sorted_values = my_in_conv_layers_get_L1_norms_sorted_indices_and_values(model,False,first_time)\n",
        "    all_conv_layers = my_get_all_conv_layers(model,first_time)\n",
        "    prune_filter_indices = list()\n",
        "    for i in range(len(all_conv_layers)):\n",
        "        prune_filter_indices.append(  int(len(layer_wise_filter_sorted_indices[i]) * (percentage/100))   )\n",
        "    return prune_filter_indices\n",
        "\n",
        "def my_delete_filters(model,first_time,percentage):\n",
        "    layer_wise_filter_sorted_indices,layer_wise_filter_sorted_values = my_in_conv_layers_get_L1_norms_sorted_indices_and_values(model,False,first_time)\n",
        "   \n",
        "    layer_wise_neuron_sorted_indices,layer_wise_neuron_sorted_values_ = my_in_dense_layers_get_L1_norms_sorted_indices_and_values(model,False)\n",
        "\n",
        "    prune_filter_indices = my_get_percent_prune_filter_indices(model,first_time,percentage)\n",
        "   \n",
        "    prune_neuron_indices = my_get_percent_prune_neuron_indices(model,percentage)\n",
        "\n",
        "    all_conv_layers = my_get_all_conv_layers(model,first_time)\n",
        "\n",
        "    all_dense_layers = my_get_all_dense_layers(model)\n",
        "    # print(all_conv_layers)\n",
        "    surgeon = Surgeon(model)\n",
        "    for index,value in enumerate(all_conv_layers):\n",
        "        # print(value,index,prune_filter_indices[index])\n",
        "        surgeon.add_job('delete_channels',model.layers[value],channels = layer_wise_filter_sorted_indices[index][0:prune_filter_indices[index]])\n",
        "   \n",
        "    for index,value in enumerate(all_dense_layers):\n",
        "        # print(value,index,prune_filter_indices[index])\n",
        "        surgeon.add_job('delete_channels',model.layers[value],channels = layer_wise_neuron_sorted_indices[index][0:prune_neuron_indices[index]])\n",
        "\n",
        "\n",
        "    model_new = surgeon.operate()\n",
        "    return model_new\n"
      ],
      "execution_count": 0,
      "outputs": []
    },
    {
      "cell_type": "code",
      "metadata": {
        "id": "Vr8mQyhIjloS",
        "colab_type": "code",
        "outputId": "ef159beb-7300-406c-cc9d-e0e6d0874135",
        "colab": {
          "base_uri": "https://localhost:8080/",
          "height": 1000
        }
      },
      "source": [
        "\n",
        "\n",
        "\n",
        "\n",
        "\n",
        "model = VGG16(input_shape=(224, 224, 3), weights='imagenet', include_top=True)\n",
        "\n",
        "X = model.layers[-4].output\n",
        "        # X = layers.MaxPooling2D(pool_size=(2, 2), strides=(1,1))(X)\n",
        "        # X = layers.Flatten()(X)\n",
        "        # # X = layers.Conv2D(512, kernel_size=(2, 2), strides=(1, 1))(X)\n",
        "        # # X = layers.BatchNormalization()(X)\n",
        "        # # X = layers.Activation('relu')(X)\n",
        "        # # X = layers.Conv2D(256, kernel_size=(2, 2), strides=(1, 1))(X)\n",
        "        # # X = layers.BatchNormalization()(X)\n",
        "        # # X = layers.Activation('relu')(X)\n",
        "        # # X = layers.GlobalMaxPooling2D()(X)\n",
        "X = layers.Dense(512, activation='elu', kernel_initializer = 'he_normal')(X)\n",
        "X = layers.BatchNormalization()(X)\n",
        "X = layers.Dropout(0.4)(X)\n",
        "X = layers.Dense(256, activation='selu', kernel_initializer = 'he_normal')(X)\n",
        "X = layers.BatchNormalization()(X)\n",
        "X = layers.Dropout(0.3)(X)\n",
        "\n",
        "# uncomment the below line\n",
        "# X = layers.Dense(101, activation='softmax', kernel_initializer='he_normal')(X)\n",
        "\n",
        "# Delete the line below\n",
        "X = layers.Dense(2, activation='softmax', kernel_initializer='he_normal')(X)\n",
        "\n",
        "\n",
        "\n",
        "model = models.Model(inputs=model.inputs, outputs=X)\n",
        "#base_model.summary()\n",
        "for i in range(len(model.layers)-7):\n",
        "    model.layers[i].trainable = False\n",
        "model.summary()\n"
      ],
      "execution_count": 4,
      "outputs": [
        {
          "output_type": "stream",
          "text": [
            "WARNING:tensorflow:From /usr/local/lib/python3.6/dist-packages/keras/backend/tensorflow_backend.py:66: The name tf.get_default_graph is deprecated. Please use tf.compat.v1.get_default_graph instead.\n",
            "\n"
          ],
          "name": "stdout"
        },
        {
          "output_type": "stream",
          "text": [
            "WARNING:tensorflow:From /usr/local/lib/python3.6/dist-packages/keras/backend/tensorflow_backend.py:66: The name tf.get_default_graph is deprecated. Please use tf.compat.v1.get_default_graph instead.\n",
            "\n"
          ],
          "name": "stderr"
        },
        {
          "output_type": "stream",
          "text": [
            "WARNING:tensorflow:From /usr/local/lib/python3.6/dist-packages/keras/backend/tensorflow_backend.py:541: The name tf.placeholder is deprecated. Please use tf.compat.v1.placeholder instead.\n",
            "\n"
          ],
          "name": "stdout"
        },
        {
          "output_type": "stream",
          "text": [
            "WARNING:tensorflow:From /usr/local/lib/python3.6/dist-packages/keras/backend/tensorflow_backend.py:541: The name tf.placeholder is deprecated. Please use tf.compat.v1.placeholder instead.\n",
            "\n"
          ],
          "name": "stderr"
        },
        {
          "output_type": "stream",
          "text": [
            "WARNING:tensorflow:From /usr/local/lib/python3.6/dist-packages/keras/backend/tensorflow_backend.py:4432: The name tf.random_uniform is deprecated. Please use tf.random.uniform instead.\n",
            "\n"
          ],
          "name": "stdout"
        },
        {
          "output_type": "stream",
          "text": [
            "WARNING:tensorflow:From /usr/local/lib/python3.6/dist-packages/keras/backend/tensorflow_backend.py:4432: The name tf.random_uniform is deprecated. Please use tf.random.uniform instead.\n",
            "\n"
          ],
          "name": "stderr"
        },
        {
          "output_type": "stream",
          "text": [
            "WARNING:tensorflow:From /usr/local/lib/python3.6/dist-packages/keras/backend/tensorflow_backend.py:4267: The name tf.nn.max_pool is deprecated. Please use tf.nn.max_pool2d instead.\n",
            "\n"
          ],
          "name": "stdout"
        },
        {
          "output_type": "stream",
          "text": [
            "WARNING:tensorflow:From /usr/local/lib/python3.6/dist-packages/keras/backend/tensorflow_backend.py:4267: The name tf.nn.max_pool is deprecated. Please use tf.nn.max_pool2d instead.\n",
            "\n"
          ],
          "name": "stderr"
        },
        {
          "output_type": "stream",
          "text": [
            "WARNING:tensorflow:From /usr/local/lib/python3.6/dist-packages/keras/backend/tensorflow_backend.py:190: The name tf.get_default_session is deprecated. Please use tf.compat.v1.get_default_session instead.\n",
            "\n"
          ],
          "name": "stdout"
        },
        {
          "output_type": "stream",
          "text": [
            "WARNING:tensorflow:From /usr/local/lib/python3.6/dist-packages/keras/backend/tensorflow_backend.py:190: The name tf.get_default_session is deprecated. Please use tf.compat.v1.get_default_session instead.\n",
            "\n"
          ],
          "name": "stderr"
        },
        {
          "output_type": "stream",
          "text": [
            "WARNING:tensorflow:From /usr/local/lib/python3.6/dist-packages/keras/backend/tensorflow_backend.py:197: The name tf.ConfigProto is deprecated. Please use tf.compat.v1.ConfigProto instead.\n",
            "\n"
          ],
          "name": "stdout"
        },
        {
          "output_type": "stream",
          "text": [
            "WARNING:tensorflow:From /usr/local/lib/python3.6/dist-packages/keras/backend/tensorflow_backend.py:197: The name tf.ConfigProto is deprecated. Please use tf.compat.v1.ConfigProto instead.\n",
            "\n"
          ],
          "name": "stderr"
        },
        {
          "output_type": "stream",
          "text": [
            "WARNING:tensorflow:From /usr/local/lib/python3.6/dist-packages/keras/backend/tensorflow_backend.py:203: The name tf.Session is deprecated. Please use tf.compat.v1.Session instead.\n",
            "\n"
          ],
          "name": "stdout"
        },
        {
          "output_type": "stream",
          "text": [
            "WARNING:tensorflow:From /usr/local/lib/python3.6/dist-packages/keras/backend/tensorflow_backend.py:203: The name tf.Session is deprecated. Please use tf.compat.v1.Session instead.\n",
            "\n"
          ],
          "name": "stderr"
        },
        {
          "output_type": "stream",
          "text": [
            "WARNING:tensorflow:From /usr/local/lib/python3.6/dist-packages/keras/backend/tensorflow_backend.py:207: The name tf.global_variables is deprecated. Please use tf.compat.v1.global_variables instead.\n",
            "\n"
          ],
          "name": "stdout"
        },
        {
          "output_type": "stream",
          "text": [
            "WARNING:tensorflow:From /usr/local/lib/python3.6/dist-packages/keras/backend/tensorflow_backend.py:207: The name tf.global_variables is deprecated. Please use tf.compat.v1.global_variables instead.\n",
            "\n"
          ],
          "name": "stderr"
        },
        {
          "output_type": "stream",
          "text": [
            "WARNING:tensorflow:From /usr/local/lib/python3.6/dist-packages/keras/backend/tensorflow_backend.py:216: The name tf.is_variable_initialized is deprecated. Please use tf.compat.v1.is_variable_initialized instead.\n",
            "\n"
          ],
          "name": "stdout"
        },
        {
          "output_type": "stream",
          "text": [
            "WARNING:tensorflow:From /usr/local/lib/python3.6/dist-packages/keras/backend/tensorflow_backend.py:216: The name tf.is_variable_initialized is deprecated. Please use tf.compat.v1.is_variable_initialized instead.\n",
            "\n"
          ],
          "name": "stderr"
        },
        {
          "output_type": "stream",
          "text": [
            "WARNING:tensorflow:From /usr/local/lib/python3.6/dist-packages/keras/backend/tensorflow_backend.py:223: The name tf.variables_initializer is deprecated. Please use tf.compat.v1.variables_initializer instead.\n",
            "\n"
          ],
          "name": "stdout"
        },
        {
          "output_type": "stream",
          "text": [
            "WARNING:tensorflow:From /usr/local/lib/python3.6/dist-packages/keras/backend/tensorflow_backend.py:223: The name tf.variables_initializer is deprecated. Please use tf.compat.v1.variables_initializer instead.\n",
            "\n"
          ],
          "name": "stderr"
        },
        {
          "output_type": "stream",
          "text": [
            "WARNING:tensorflow:From /usr/local/lib/python3.6/dist-packages/keras/backend/tensorflow_backend.py:4479: The name tf.truncated_normal is deprecated. Please use tf.random.truncated_normal instead.\n",
            "\n"
          ],
          "name": "stdout"
        },
        {
          "output_type": "stream",
          "text": [
            "WARNING:tensorflow:From /usr/local/lib/python3.6/dist-packages/keras/backend/tensorflow_backend.py:4479: The name tf.truncated_normal is deprecated. Please use tf.random.truncated_normal instead.\n",
            "\n"
          ],
          "name": "stderr"
        },
        {
          "output_type": "stream",
          "text": [
            "WARNING:tensorflow:From /usr/local/lib/python3.6/dist-packages/keras/backend/tensorflow_backend.py:148: The name tf.placeholder_with_default is deprecated. Please use tf.compat.v1.placeholder_with_default instead.\n",
            "\n"
          ],
          "name": "stdout"
        },
        {
          "output_type": "stream",
          "text": [
            "WARNING:tensorflow:From /usr/local/lib/python3.6/dist-packages/keras/backend/tensorflow_backend.py:148: The name tf.placeholder_with_default is deprecated. Please use tf.compat.v1.placeholder_with_default instead.\n",
            "\n"
          ],
          "name": "stderr"
        },
        {
          "output_type": "stream",
          "text": [
            "WARNING:tensorflow:From /usr/local/lib/python3.6/dist-packages/keras/backend/tensorflow_backend.py:3733: calling dropout (from tensorflow.python.ops.nn_ops) with keep_prob is deprecated and will be removed in a future version.\n",
            "Instructions for updating:\n",
            "Please use `rate` instead of `keep_prob`. Rate should be set to `rate = 1 - keep_prob`.\n"
          ],
          "name": "stdout"
        },
        {
          "output_type": "stream",
          "text": [
            "WARNING:tensorflow:From /usr/local/lib/python3.6/dist-packages/keras/backend/tensorflow_backend.py:3733: calling dropout (from tensorflow.python.ops.nn_ops) with keep_prob is deprecated and will be removed in a future version.\n",
            "Instructions for updating:\n",
            "Please use `rate` instead of `keep_prob`. Rate should be set to `rate = 1 - keep_prob`.\n"
          ],
          "name": "stderr"
        },
        {
          "output_type": "stream",
          "text": [
            "WARNING:tensorflow:From /usr/local/lib/python3.6/dist-packages/keras/backend/tensorflow_backend.py:3492: where (from tensorflow.python.ops.array_ops) is deprecated and will be removed in a future version.\n",
            "Instructions for updating:\n",
            "Use tf.where in 2.0, which has the same broadcast rule as np.where\n"
          ],
          "name": "stdout"
        },
        {
          "output_type": "stream",
          "text": [
            "WARNING:tensorflow:From /usr/local/lib/python3.6/dist-packages/keras/backend/tensorflow_backend.py:3492: where (from tensorflow.python.ops.array_ops) is deprecated and will be removed in a future version.\n",
            "Instructions for updating:\n",
            "Use tf.where in 2.0, which has the same broadcast rule as np.where\n"
          ],
          "name": "stderr"
        },
        {
          "output_type": "stream",
          "text": [
            "Model: \"model_1\"\n",
            "_________________________________________________________________\n",
            "Layer (type)                 Output Shape              Param #   \n",
            "=================================================================\n",
            "input_1 (InputLayer)         (None, 224, 224, 3)       0         \n",
            "_________________________________________________________________\n",
            "block1_conv1 (Conv2D)        (None, 224, 224, 64)      1792      \n",
            "_________________________________________________________________\n",
            "block1_conv2 (Conv2D)        (None, 224, 224, 64)      36928     \n",
            "_________________________________________________________________\n",
            "block1_pool (MaxPooling2D)   (None, 112, 112, 64)      0         \n",
            "_________________________________________________________________\n",
            "block2_conv1 (Conv2D)        (None, 112, 112, 128)     73856     \n",
            "_________________________________________________________________\n",
            "block2_conv2 (Conv2D)        (None, 112, 112, 128)     147584    \n",
            "_________________________________________________________________\n",
            "block2_pool (MaxPooling2D)   (None, 56, 56, 128)       0         \n",
            "_________________________________________________________________\n",
            "block3_conv1 (Conv2D)        (None, 56, 56, 256)       295168    \n",
            "_________________________________________________________________\n",
            "block3_conv2 (Conv2D)        (None, 56, 56, 256)       590080    \n",
            "_________________________________________________________________\n",
            "block3_conv3 (Conv2D)        (None, 56, 56, 256)       590080    \n",
            "_________________________________________________________________\n",
            "block3_pool (MaxPooling2D)   (None, 28, 28, 256)       0         \n",
            "_________________________________________________________________\n",
            "block4_conv1 (Conv2D)        (None, 28, 28, 512)       1180160   \n",
            "_________________________________________________________________\n",
            "block4_conv2 (Conv2D)        (None, 28, 28, 512)       2359808   \n",
            "_________________________________________________________________\n",
            "block4_conv3 (Conv2D)        (None, 28, 28, 512)       2359808   \n",
            "_________________________________________________________________\n",
            "block4_pool (MaxPooling2D)   (None, 14, 14, 512)       0         \n",
            "_________________________________________________________________\n",
            "block5_conv1 (Conv2D)        (None, 14, 14, 512)       2359808   \n",
            "_________________________________________________________________\n",
            "block5_conv2 (Conv2D)        (None, 14, 14, 512)       2359808   \n",
            "_________________________________________________________________\n",
            "block5_conv3 (Conv2D)        (None, 14, 14, 512)       2359808   \n",
            "_________________________________________________________________\n",
            "block5_pool (MaxPooling2D)   (None, 7, 7, 512)         0         \n",
            "_________________________________________________________________\n",
            "flatten (Flatten)            (None, 25088)             0         \n",
            "_________________________________________________________________\n",
            "dense_1 (Dense)              (None, 512)               12845568  \n",
            "_________________________________________________________________\n",
            "batch_normalization_1 (Batch (None, 512)               2048      \n",
            "_________________________________________________________________\n",
            "dropout_1 (Dropout)          (None, 512)               0         \n",
            "_________________________________________________________________\n",
            "dense_2 (Dense)              (None, 256)               131328    \n",
            "_________________________________________________________________\n",
            "batch_normalization_2 (Batch (None, 256)               1024      \n",
            "_________________________________________________________________\n",
            "dropout_2 (Dropout)          (None, 256)               0         \n",
            "_________________________________________________________________\n",
            "dense_3 (Dense)              (None, 2)                 514       \n",
            "=================================================================\n",
            "Total params: 27,695,170\n",
            "Trainable params: 12,978,946\n",
            "Non-trainable params: 14,716,224\n",
            "_________________________________________________________________\n"
          ],
          "name": "stdout"
        }
      ]
    },
    {
      "cell_type": "code",
      "metadata": {
        "id": "8YDZb7mtjp-S",
        "colab_type": "code",
        "colab": {}
      },
      "source": [
        "def count_conv_params_flops(conv_layer):\n",
        "    # out shape is  n_cells_dim1 * (n_cells_dim2 * n_cells_dim3)\n",
        "    out_shape = conv_layer.output.shape.as_list()\n",
        "    n_cells_total = np.prod(out_shape[1:-1])\n",
        "\n",
        "    n_conv_params_total = conv_layer.count_params()\n",
        "\n",
        "    conv_flops = n_conv_params_total * n_cells_total\n",
        "\n",
        " \n",
        "\n",
        "    return n_conv_params_total, conv_flops\n",
        "\n",
        "\n",
        "def count_dense_params_flops(dense_layer):\n",
        "    # out shape is  n_cells_dim1 * (n_cells_dim2 * n_cells_dim3)\n",
        "    out_shape = dense_layer.output.shape.as_list()\n",
        "    n_cells_total = np.prod(out_shape[1:-1])\n",
        "\n",
        "    n_dense_params_total = dense_layer.count_params()\n",
        "\n",
        "    dense_flops = n_dense_params_total\n",
        "\n",
        "\n",
        "    return n_dense_params_total, dense_flops\n",
        "\n",
        "\n",
        "def count_model_params_flops(model,first_time):\n",
        "    total_params = 0\n",
        "    total_flops = 0\n",
        "    conv_layers = my_get_all_conv_layers(model,first_time)\n",
        "    dense_layers = my_get_all_dense_layers(model)\n",
        "    model_layers = []\n",
        "\n",
        "    for i in conv_layers:\n",
        "        model_layers.append(model.layers[i])\n",
        "    for i in dense_layers:\n",
        "        model_layers.append(model.layers[i])\n",
        "    for index,layer in enumerate(model_layers):\n",
        "        \n",
        "        if any(conv_type in str(type(layer)) for conv_type in ['Conv1D', 'Conv2D', 'Conv3D']):\n",
        "            # print(index,layer.name)\n",
        "            params, flops = count_conv_params_flops(layer)\n",
        "            total_params += params\n",
        "            total_flops += flops\n",
        "        elif 'Dense' in str(type(layer)):\n",
        "            # print(index,layer.name) \n",
        "            params, flops = count_dense_params_flops(layer)\n",
        "            total_params += params\n",
        "            total_flops += flops\n",
        "\n",
        "    return total_params, total_flops\n"
      ],
      "execution_count": 0,
      "outputs": []
    },
    {
      "cell_type": "code",
      "metadata": {
        "id": "IyloGQTujLJo",
        "colab_type": "code",
        "outputId": "c734ddd4-66d9-4ebe-b195-ecafee8e0b30",
        "colab": {
          "base_uri": "https://localhost:8080/",
          "height": 961
        }
      },
      "source": [
        "FirstTime = True\n",
        "model, history = train(model, FirstTime)\n",
        "validation_accuracy = max(history.history['val_acc'])\n",
        "print('validation accuracy',validation_accuracy)\n",
        "max_val_acc = validation_accuracy\n",
        "count = 0\n",
        "all_models = list()\n",
        "while validation_accuracy - max_val_acc >= -0.05    :\n",
        "\n",
        "    print(\"ITERATION {} \".format(count+1))\n",
        "    all_models.append(model)\n",
        "    if max_val_acc < validation_accuracy:\n",
        "        max_val_acc = validation_accuracy\n",
        "        \n",
        "\n",
        "    if count < 1:\n",
        "        model = my_delete_filters(model,True,5)\n",
        "        a,b = count_model_params_flops(model,True)\n",
        "   \n",
        "    else:\n",
        "        model = my_delete_filters(model,False,5)\n",
        "        a,b = count_model_params_flops(model,False)\n",
        "\n",
        "    print('Total number of trainable parmas = {}\\nTotal number of Flops={}'.format(a,b))\n",
        "       \n",
        "    model,history = train(model, True)\n",
        "    validation_accuracy = max(history.history['val_acc'])\n",
        "    # model.summary()\n",
        "    print(\"VALIDATION ACCURACY AFTER {} ITERATIONS = {}\".format(count+1,validation_accuracy))\n",
        "    count+=1\n",
        "\n",
        "#model.summary()\n"
      ],
      "execution_count": 6,
      "outputs": [
        {
          "output_type": "stream",
          "text": [
            "Found 220 images belonging to 2 classes.\n",
            "Found 217 images belonging to 2 classes.\n",
            "WARNING:tensorflow:From /usr/local/lib/python3.6/dist-packages/keras/optimizers.py:793: The name tf.train.Optimizer is deprecated. Please use tf.compat.v1.train.Optimizer instead.\n",
            "\n"
          ],
          "name": "stdout"
        },
        {
          "output_type": "stream",
          "text": [
            "WARNING:tensorflow:From /usr/local/lib/python3.6/dist-packages/keras/optimizers.py:793: The name tf.train.Optimizer is deprecated. Please use tf.compat.v1.train.Optimizer instead.\n",
            "\n"
          ],
          "name": "stderr"
        },
        {
          "output_type": "stream",
          "text": [
            "WARNING:tensorflow:From /usr/local/lib/python3.6/dist-packages/keras/backend/tensorflow_backend.py:3576: The name tf.log is deprecated. Please use tf.math.log instead.\n",
            "\n"
          ],
          "name": "stdout"
        },
        {
          "output_type": "stream",
          "text": [
            "WARNING:tensorflow:From /usr/local/lib/python3.6/dist-packages/keras/backend/tensorflow_backend.py:3576: The name tf.log is deprecated. Please use tf.math.log instead.\n",
            "\n"
          ],
          "name": "stderr"
        },
        {
          "output_type": "stream",
          "text": [
            "True\n",
            "WARNING:tensorflow:From /usr/local/lib/python3.6/dist-packages/keras/backend/tensorflow_backend.py:1033: The name tf.assign_add is deprecated. Please use tf.compat.v1.assign_add instead.\n",
            "\n"
          ],
          "name": "stdout"
        },
        {
          "output_type": "stream",
          "text": [
            "WARNING:tensorflow:From /usr/local/lib/python3.6/dist-packages/keras/backend/tensorflow_backend.py:1033: The name tf.assign_add is deprecated. Please use tf.compat.v1.assign_add instead.\n",
            "\n"
          ],
          "name": "stderr"
        },
        {
          "output_type": "stream",
          "text": [
            "WARNING:tensorflow:From /usr/local/lib/python3.6/dist-packages/keras/backend/tensorflow_backend.py:1020: The name tf.assign is deprecated. Please use tf.compat.v1.assign instead.\n",
            "\n"
          ],
          "name": "stdout"
        },
        {
          "output_type": "stream",
          "text": [
            "WARNING:tensorflow:From /usr/local/lib/python3.6/dist-packages/keras/backend/tensorflow_backend.py:1020: The name tf.assign is deprecated. Please use tf.compat.v1.assign instead.\n",
            "\n"
          ],
          "name": "stderr"
        },
        {
          "output_type": "stream",
          "text": [
            "Epoch 1/2\n",
            "4/3 [==================================] - 126s 31s/step - loss: 0.7870 - acc: 0.8125 - val_loss: 2.9134 - val_acc: 0.7235\n",
            "Epoch 2/2\n",
            "4/3 [==================================] - 125s 31s/step - loss: 0.9606 - acc: 0.8750 - val_loss: 0.1949 - val_acc: 0.9447\n",
            "validation accuracy 0.9447004608294931\n",
            "ITERATION 1 \n",
            "Deleting 3/64 channels from layer: block1_conv1\n",
            "Deleting 3/64 channels from layer: block1_conv2\n",
            "Deleting 6/128 channels from layer: block2_conv1\n",
            "Deleting 6/128 channels from layer: block2_conv2\n",
            "Deleting 12/256 channels from layer: block3_conv1\n",
            "Deleting 12/256 channels from layer: block3_conv2\n",
            "Deleting 12/256 channels from layer: block3_conv3\n",
            "Deleting 25/512 channels from layer: block4_conv1\n",
            "Deleting 25/512 channels from layer: block4_conv2\n",
            "Deleting 25/512 channels from layer: block4_conv3\n",
            "Deleting 25/512 channels from layer: block5_conv1\n",
            "Deleting 25/512 channels from layer: block5_conv2\n",
            "Deleting 25/512 channels from layer: block5_conv3\n",
            "Deleting 25/512 channels from layer: dense_1\n",
            "Deleting 12/256 channels from layer: dense_2\n",
            "Total number of trainable parmas = 25062547\n",
            "Total number of Flops=13949488216\n",
            "Found 220 images belonging to 2 classes.\n",
            "Found 217 images belonging to 2 classes.\n",
            "True\n",
            "Epoch 1/2\n",
            "4/3 [==================================] - 125s 31s/step - loss: 0.8383 - acc: 0.8125 - val_loss: 7.3764 - val_acc: 0.5346\n",
            "Epoch 2/2\n",
            "4/3 [==================================] - 125s 31s/step - loss: 1.0358 - acc: 0.8750 - val_loss: 5.1134 - val_acc: 0.6313\n",
            "VALIDATION ACCURACY AFTER 1 ITERATIONS = 0.631336405529954\n"
          ],
          "name": "stdout"
        }
      ]
    },
    {
      "cell_type": "code",
      "metadata": {
        "id": "AYPdQDuHB1OI",
        "colab_type": "code",
        "colab": {
          "base_uri": "https://localhost:8080/",
          "height": 1000
        },
        "outputId": "0b2acfa4-2b2a-470b-b701-a39f5821f90d"
      },
      "source": [
        "model.summary()"
      ],
      "execution_count": 7,
      "outputs": [
        {
          "output_type": "stream",
          "text": [
            "Model: \"model_2\"\n",
            "_________________________________________________________________\n",
            "Layer (type)                 Output Shape              Param #   \n",
            "=================================================================\n",
            "input_1 (InputLayer)         (None, 224, 224, 3)       0         \n",
            "_________________________________________________________________\n",
            "block1_conv1 (Conv2D)        (None, 224, 224, 61)      1708      \n",
            "_________________________________________________________________\n",
            "block1_conv2 (Conv2D)        (None, 224, 224, 61)      33550     \n",
            "_________________________________________________________________\n",
            "block1_pool (MaxPooling2D)   multiple                  0         \n",
            "_________________________________________________________________\n",
            "block2_conv1 (Conv2D)        (None, 112, 112, 122)     67100     \n",
            "_________________________________________________________________\n",
            "block2_conv2 (Conv2D)        (None, 112, 112, 122)     134078    \n",
            "_________________________________________________________________\n",
            "block2_pool (MaxPooling2D)   multiple                  0         \n",
            "_________________________________________________________________\n",
            "block3_conv1 (Conv2D)        (None, 56, 56, 244)       268156    \n",
            "_________________________________________________________________\n",
            "block3_conv2 (Conv2D)        (None, 56, 56, 244)       536068    \n",
            "_________________________________________________________________\n",
            "block3_conv3 (Conv2D)        (None, 56, 56, 244)       536068    \n",
            "_________________________________________________________________\n",
            "block3_pool (MaxPooling2D)   multiple                  0         \n",
            "_________________________________________________________________\n",
            "block4_conv1 (Conv2D)        (None, 28, 28, 487)       1069939   \n",
            "_________________________________________________________________\n",
            "block4_conv2 (Conv2D)        (None, 28, 28, 487)       2135008   \n",
            "_________________________________________________________________\n",
            "block4_conv3 (Conv2D)        (None, 28, 28, 487)       2135008   \n",
            "_________________________________________________________________\n",
            "block4_pool (MaxPooling2D)   multiple                  0         \n",
            "_________________________________________________________________\n",
            "block5_conv1 (Conv2D)        (None, 14, 14, 487)       2135008   \n",
            "_________________________________________________________________\n",
            "block5_conv2 (Conv2D)        (None, 14, 14, 487)       2135008   \n",
            "_________________________________________________________________\n",
            "block5_conv3 (Conv2D)        (None, 14, 14, 487)       2135008   \n",
            "_________________________________________________________________\n",
            "block5_pool (MaxPooling2D)   multiple                  0         \n",
            "_________________________________________________________________\n",
            "flatten (Flatten)            multiple                  0         \n",
            "_________________________________________________________________\n",
            "dense_1 (Dense)              (None, 487)               11621768  \n",
            "_________________________________________________________________\n",
            "batch_normalization_1 (Batch (None, 487)               1948      \n",
            "_________________________________________________________________\n",
            "dropout_1 (Dropout)          multiple                  0         \n",
            "_________________________________________________________________\n",
            "dense_2 (Dense)              (None, 244)               119072    \n",
            "_________________________________________________________________\n",
            "batch_normalization_2 (Batch (None, 244)               976       \n",
            "_________________________________________________________________\n",
            "dropout_2 (Dropout)          multiple                  0         \n",
            "_________________________________________________________________\n",
            "dense_3 (Dense)              (None, 2)                 490       \n",
            "=================================================================\n",
            "Total params: 25,065,961\n",
            "Trainable params: 11,742,792\n",
            "Non-trainable params: 13,323,169\n",
            "_________________________________________________________________\n"
          ],
          "name": "stdout"
        }
      ]
    },
    {
      "cell_type": "code",
      "metadata": {
        "id": "GnQSmB11jr8P",
        "colab_type": "code",
        "outputId": "4fbdad92-7c29-4240-a480-224154d9aac8",
        "colab": {
          "base_uri": "https://localhost:8080/",
          "height": 54
        }
      },
      "source": [
        "a,b = count_model_params_flops(model,False)\n",
        "print('Total number of trainable parmas = {}\\nTotal number of Flops={}'.format(a,b))\n"
      ],
      "execution_count": 8,
      "outputs": [
        {
          "output_type": "stream",
          "text": [
            "Total number of trainable parmas = 25060839\n",
            "Total number of Flops=13863787608\n"
          ],
          "name": "stdout"
        }
      ]
    }
  ]
}