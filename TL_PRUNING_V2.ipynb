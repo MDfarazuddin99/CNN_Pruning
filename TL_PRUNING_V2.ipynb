{
  "nbformat": 4,
  "nbformat_minor": 0,
  "metadata": {
    "colab": {
      "name": "TL_PRUNING_V2.ipynb",
      "provenance": [],
      "collapsed_sections": [],
      "mount_file_id": "1GY9iwDqyrqEkoRCsfjdcohSW-rNAB9Tb",
      "authorship_tag": "ABX9TyNBdAmAhXXlyKE/K2mgHYbe",
      "include_colab_link": true
    },
    "kernelspec": {
      "name": "python3",
      "display_name": "Python 3"
    },
    "accelerator": "GPU"
  },
  "cells": [
    {
      "cell_type": "markdown",
      "metadata": {
        "id": "view-in-github",
        "colab_type": "text"
      },
      "source": [
        "<a href=\"https://colab.research.google.com/github/MDfarazuddin99/CNN_Pruning/blob/master/TL_PRUNING_V2.ipynb\" target=\"_parent\"><img src=\"https://colab.research.google.com/assets/colab-badge.svg\" alt=\"Open In Colab\"/></a>"
      ]
    },
    {
      "cell_type": "code",
      "metadata": {
        "id": "RH3f-u9RjRtQ",
        "colab_type": "code",
        "outputId": "4f02d5b7-0836-416a-a667-c3dfbbc9420b",
        "colab": {
          "base_uri": "https://localhost:8080/",
          "height": 54
        }
      },
      "source": [
        "%tensorflow_version 1.x\n",
        "import time\n",
        "import os\n",
        "import math\n",
        "import numpy as np\n",
        "import pandas as pd\n",
        "# import GPyOpt\n",
        "import keras\n",
        "import random\n",
        "from itertools import product, combinations\n",
        "from collections import OrderedDict\n",
        "from keras.preprocessing import image\n",
        "from keras import layers, models, optimizers, callbacks, initializers\n",
        "from keras.applications import DenseNet121, VGG16, ResNet50\n",
        "from keras.callbacks import ReduceLROnPlateau\n",
        "from keras.models import load_model\n",
        "import keras\n",
        "from keras.datasets import cifar10\n",
        "from keras.preprocessing.image import ImageDataGenerator\n",
        "from keras.models import Sequential\n",
        "from keras.layers import Dense, Dropout, Activation, Flatten\n",
        "from keras.layers import Conv2D, MaxPooling2D, BatchNormalization\n",
        "from keras import optimizers\n",
        "import numpy as np\n",
        "from keras.layers.core import Lambda\n",
        "from keras import backend as K\n",
        "from keras import regularizers\n",
        "from keras.callbacks import ModelCheckpoint\n",
        "import matplotlib.pyplot as plt\n",
        "# !pip install kerassurgeon\n",
        "from kerassurgeon import identify\n",
        "from kerassurgeon.operations import delete_channels,delete_layer\n",
        "from kerassurgeon import Surgeon\n"
      ],
      "execution_count": 1,
      "outputs": [
        {
          "output_type": "stream",
          "text": [
            "TensorFlow 1.x selected.\n"
          ],
          "name": "stdout"
        },
        {
          "output_type": "stream",
          "text": [
            "Using TensorFlow backend.\n"
          ],
          "name": "stderr"
        }
      ]
    },
    {
      "cell_type": "code",
      "metadata": {
        "id": "ENeJ28ZmjWm4",
        "colab_type": "code",
        "colab": {}
      },
      "source": [
        "def train(model, status):\n",
        "\n",
        "\n",
        "    #training parameters\n",
        "    DATA_FOLDER = \"/content/drive/My Drive/dog\"\n",
        "    # DATA_FOLDER = \"CalTech101\"\n",
        "    TRAIN_PATH = os.path.join(DATA_FOLDER, \"train\") # Path for training data\n",
        "    VALID_PATH = os.path.join(DATA_FOLDER, \"val\") # Path for validation data\n",
        "    NUMBER_OF_CLASSES = len(os.listdir(TRAIN_PATH)) # Number of classes of the dataset\n",
        "\n",
        "    EPOCHS = 20\n",
        "    learning_rate_reduction = ReduceLROnPlateau(monitor='val_acc',\n",
        "                                                patience=5,\n",
        "                                                verbose=2,\n",
        "                                                factor=np.sqrt(0.1),\n",
        "                                                min_lr=0.0001)\n",
        "    batch_size=8 # the mini-batch size to use for the dataset\n",
        "    learning_rate = 0.1\n",
        "    lr_decay = 1e-6\n",
        "    lr_drop = 20\n",
        "    datagen = image.ImageDataGenerator(preprocessing_function=keras.applications.vgg16.preprocess_input) # creating an instance of the data generator\n",
        "    train_generator = datagen.flow_from_directory(TRAIN_PATH, target_size=(224, 224), batch_size=batch_size) # creating the generator for training data\n",
        "    valid_generator = datagen.flow_from_directory(VALID_PATH, target_size=(224, 224), batch_size=batch_size) # creating the generator for validation data\n",
        "    #Adagrad = optimizers.Adagrad(lr=0.1)\n",
        "    def lr_scheduler(epoch):\n",
        "        return learning_rate * (0.5 ** (epoch // lr_drop))\n",
        "    reduce_lr = keras.callbacks.LearningRateScheduler(lr_scheduler)\n",
        "    ADAM = optimizers.Adam(lr=0.1, beta_1=0.9, beta_2=0.999, amsgrad=False)\n",
        "    model.compile(optimizer='adagrad', loss='categorical_crossentropy', metrics=['accuracy'])\n",
        "\n",
        "\n",
        "    if status==True:  \n",
        "        history = model.fit_generator(\n",
        "        train_generator,\n",
        "        validation_data=valid_generator, epochs=EPOCHS,\n",
        "        steps_per_epoch=len(train_generator) / batch_size,\n",
        "        validation_steps=len(valid_generator), callbacks=[learning_rate_reduction])\n",
        "    else:\n",
        "        model = load_model('VGG16_CalTech101_best_model.h5')\n",
        "        history = model.evaluate_generator(valid_generator)\n",
        "        print(history)\n",
        "\n",
        "\n",
        "\n",
        "    model.save('VGG16_CalTech101_best_model.h5')\n",
        "    save_model = ModelCheckpoint('VGG16_CalTech101_best_model_after_pruning.h5', monitor='val_acc', verbose=0, save_best_only=True, save_weights_only=False, mode='auto', period=1)\n",
        "    return model, history\n"
      ],
      "execution_count": 0,
      "outputs": []
    },
    {
      "cell_type": "code",
      "metadata": {
        "id": "2hEBe_ARjftK",
        "colab_type": "code",
        "colab": {}
      },
      "source": [
        "def my_get_all_dense_layers(model):\n",
        "    all_dense_layers = list()\n",
        "    for i,each_layer in enumerate(model.layers):\n",
        "        if (each_layer.name[0:5] == 'dense'):\n",
        "            all_dense_layers.append(i)\n",
        "    return all_dense_layers[0:len(all_dense_layers)-1]\n",
        "\n",
        "def my_get_all_conv_layers(model,first_time):\n",
        "    all_conv_layers = list()\n",
        "    for i,each_layer in enumerate(model.layers):\n",
        "        # if (each_layer.name[0:6] == 'conv2d'):\n",
        "        #     all_conv_layers.append(i)\n",
        "        if 'conv' in each_layer.name:\n",
        "            all_conv_layers.append(i)\n",
        "    return all_conv_layers if (first_time==True) else all_conv_layers[1:]\n",
        "\n",
        "def my_in_dense_layers_get_L1_norms_sorted_indices_and_values(model,graph):\n",
        "    weights = list()\n",
        "    all_dense_layers = my_get_all_dense_layers(model)\n",
        "    for i in all_dense_layers:\n",
        "        weights.append(model.layers[i].get_weights()[0])\n",
        "    layer_wise_filter_sorted_indices_dense = list()\n",
        "    layer_wise_filter_sorted_values_dense = list()\n",
        "    for i in range(len(weights)):\n",
        "        weight = weights[i]\n",
        "        num_filters = len(weight[0,:])\n",
        "        weights_dict = dict()\n",
        "        for j in range(num_filters):\n",
        "            weights_sum = np.sum(abs(weight[:,j]))\n",
        "            neuron = 'neuron {}'.format(j)\n",
        "            weights_dict[neuron] = weights_sum\n",
        "            # print(weights_dict[neuron])\n",
        "       \n",
        "        weights_dict_sorted = sorted(weights_dict.items(),key = lambda kv:kv[1])\n",
        "        weight_values = list()\n",
        "        neuron_indices = list()\n",
        "        for element in weights_dict_sorted:\n",
        "            neuron_indices.append(int(element[0][6:]))\n",
        "            weight_values.append(element[1])\n",
        "        layer_wise_filter_sorted_indices_dense.append(neuron_indices)\n",
        "        layer_wise_filter_sorted_values_dense.append(weight_values)\n",
        "\n",
        "        if graph == True:\n",
        "                    x = np.arange(num_filters)\n",
        "                    plt.figure(i+1,figsize=(7,5))\n",
        "                    plt.plot(x,np.array(weight_values))\n",
        "                    plt.axhline(y=np.mean(np.array(weight_values)),c='r')\n",
        "                    for j in range(len(layer_wise_filter_sorted_values_dense[i])):\n",
        "                        if(np.mean(np.array(weight_values)) < weight_values[j]):\n",
        "                            plt.axvline(x=j,c='r')\n",
        "                            break\n",
        "\n",
        "                    plt.xlabel('filter number')\n",
        "                    plt.ylabel('L1 norm')\n",
        "                    plt.title('Conv2d_{}'.format(i+1))\n",
        "                    plt.grid(True)\n",
        "                    plt.style.use(['classic'])        \n",
        "\n",
        "    return layer_wise_filter_sorted_indices_dense,layer_wise_filter_sorted_values_dense\n",
        "\n",
        "def plot_histogram_l1_norms_dense(model):\n",
        "    _,a = my_in_dense_layers_get_L1_norms_sorted_indices_and_values(my_model_vgg,False)\n",
        "    all_dense_layers = my_get_all_dense_layers(model)\n",
        "    for i in range(len(all_dense_layers)):    \n",
        "        plt.figure(i,figsize=(7,7))\n",
        "        plt.hist(a[i-1],density=1, bins=150)\n",
        "        plt.xlabel('L1 Norms of dense_{}'.format(i+1))\n",
        "        plt.ylabel('Probability')\n",
        "        plt.style.use(['classic'])\n",
        "\n",
        "def my_in_conv_layers_get_L1_norms_sorted_indices_and_values(model,graph,first_time):\n",
        "    weights = list()\n",
        "    all_conv_layers = my_get_all_conv_layers(model,first_time)\n",
        "    for i in all_conv_layers:\n",
        "        # print('{}th layer'.format(i),all_conv_layers)\n",
        "        weights.append(model.layers[i].get_weights()[0])\n",
        "    layer_wise_filter_sorted_indices = list()\n",
        "    layer_wise_filter_sorted_values = list()\n",
        "    for i in range(len(weights)):\n",
        "        weight = weights[i]\n",
        "        num_filters = len(weight[0,0,0,:])\n",
        "        # print(num_filters)\n",
        "        weights_dict = dict()\n",
        "        for j in range(num_filters):\n",
        "            weights_sum = np.sum(abs(weight[:,:,:,j]))\n",
        "            filtr = 'filter {}'.format(j)\n",
        "            weights_dict[filtr] = weights_sum\n",
        "       \n",
        "        weights_dict_sorted = sorted(weights_dict.items(),key = lambda kv:kv[1])\n",
        "        # print('L1 norm of conv2D_{} layer'.format(i+1),weights_dict_sorted)\n",
        "\n",
        "        weight_values = list()\n",
        "        filter_indices = list()\n",
        "\n",
        "        for element in weights_dict_sorted:\n",
        "            filter_indices.append(int(element[0][6:]))  # extracting the index of filter from string (tentative try to come up with better code)\n",
        "            weight_values.append(element[1])\n",
        "   \n",
        "        layer_wise_filter_sorted_indices.append(filter_indices)\n",
        "        layer_wise_filter_sorted_values.append(weight_values)\n",
        "\n",
        "        if graph == True:\n",
        "                x = np.arange(num_filters)\n",
        "                plt.figure(i+1,figsize=(7,7))\n",
        "                plt.plot(x,np.array(weight_values))\n",
        "                plt.axhline(y=np.mean(np.array(weight_values)),c='r')\n",
        "                for j in range(len(layer_wise_filter_sorted_values[i-1])):\n",
        "                    if(np.mean(np.array(weight_values)) < weight_values[j]):\n",
        "                        plt.axvline(x=j,c='r')\n",
        "                        break\n",
        "                plt.style.use(['classic'])  \n",
        "\n",
        "\n",
        "                plt.xlabel('filter number')\n",
        "                plt.ylabel('L1 norm')\n",
        "                plt.title('Conv2d_{}'.format(i+1))\n",
        "                plt.grid(True)\n",
        "                plt.style.use(['classic'])\n",
        "\n",
        "\n",
        "    return layer_wise_filter_sorted_indices,layer_wise_filter_sorted_values\n",
        "\n",
        "def plot_histogram_l1_norms_conv(model,first_time):\n",
        "    _,a = my_in_conv_layers_get_L1_norms_sorted_indices_and_values(my_model_vgg,False,False)\n",
        "    all_conv_layers = my_get_all_conv_layers(model,first_time)\n",
        "    for i in range(len(all_conv_layers)):    \n",
        "        plt.figure(i,figsize=(7,7))\n",
        "        plt.hist(a[i-1],density=1, bins=150)\n",
        "        plt.xlabel('L1 Norms of conv_2d_{}'.format(i+1))\n",
        "        plt.ylabel('Probability')\n",
        "        plt.style.use(['classic'])\n",
        "\n",
        "def my_get_percent_prune_neuron_indices(model,percentage):\n",
        "    layer_wise_neuron_sorted_indices,layer_wise_neuron_sorted_values = my_in_dense_layers_get_L1_norms_sorted_indices_and_values(model,False)\n",
        "    all_dense_layers = my_get_all_dense_layers(model)\n",
        "    prune_neuron_indices = list()\n",
        "    for i in range(len(all_dense_layers)):\n",
        "        prune_neuron_indices.append(  int(len(layer_wise_neuron_sorted_indices[i]) * (percentage/100))   )\n",
        "    return prune_neuron_indices\n",
        "\n",
        "\n",
        "def my_get_percent_prune_filter_indices(model,first_time,percentage):\n",
        "\n",
        "    '''\n",
        "    Arguments:\n",
        "        model -> your model\n",
        "        first_time -> type boolean \n",
        "            first_time = True => model is not pruned \n",
        "            first_time = False => model is pruned\n",
        "        percentage - type int ,represents percentage of filters to be pruned from each layer\n",
        "        \n",
        "    Return:\n",
        "        List of indices of filter to be pruned in each layer\n",
        "    '''\n",
        "\n",
        "    layer_wise_filter_sorted_indices,layer_wise_filter_sorted_values = my_in_conv_layers_get_L1_norms_sorted_indices_and_values(model,False,first_time)\n",
        "    all_conv_layers = my_get_all_conv_layers(model,first_time)\n",
        "    prune_filter_indices = list()\n",
        "    for i in range(len(all_conv_layers)):\n",
        "        prune_filter_indices.append(  int(len(layer_wise_filter_sorted_indices[i]) * (percentage/100))   )\n",
        "    return prune_filter_indices\n",
        "\n",
        "def my_delete_filters(model,first_time,percentage):\n",
        "\n",
        "    '''\n",
        "    Arguments:\n",
        "        model -> your model\n",
        "        first_time -> type boolean \n",
        "            first_time = True => model is not pruned \n",
        "            first_time = False => model is pruned\n",
        "        percentage - type int ,represents percentage of filters to be pruned from each layer\n",
        "\n",
        "    Return:\n",
        "        pruned model\n",
        "    '''\n",
        "\n",
        "    layer_wise_filter_sorted_indices,layer_wise_filter_sorted_values = my_in_conv_layers_get_L1_norms_sorted_indices_and_values(model,False,first_time)\n",
        "   \n",
        "    layer_wise_neuron_sorted_indices,layer_wise_neuron_sorted_values_ = my_in_dense_layers_get_L1_norms_sorted_indices_and_values(model,False)\n",
        "\n",
        "    prune_filter_indices = my_get_percent_prune_filter_indices(model,first_time,percentage)\n",
        "   \n",
        "    prune_neuron_indices = my_get_percent_prune_neuron_indices(model,percentage)\n",
        "\n",
        "    all_conv_layers = my_get_all_conv_layers(model,first_time)\n",
        "\n",
        "    all_dense_layers = my_get_all_dense_layers(model)\n",
        "    # print(all_conv_layers)\n",
        "    surgeon = Surgeon(model)\n",
        "    for index,value in enumerate(all_conv_layers):\n",
        "        # print(value,index,prune_filter_indices[index])\n",
        "        surgeon.add_job('delete_channels',model.layers[value],channels = layer_wise_filter_sorted_indices[index][0:prune_filter_indices[index]])\n",
        "   \n",
        "    for index,value in enumerate(all_dense_layers):\n",
        "        # print(value,index,prune_filter_indices[index])\n",
        "        surgeon.add_job('delete_channels',model.layers[value],channels = layer_wise_neuron_sorted_indices[index][0:prune_neuron_indices[index]])\n",
        "\n",
        "\n",
        "    model_new = surgeon.operate()\n",
        "    return model_new\n"
      ],
      "execution_count": 0,
      "outputs": []
    },
    {
      "cell_type": "code",
      "metadata": {
        "id": "Vr8mQyhIjloS",
        "colab_type": "code",
        "outputId": "a812e839-e69c-4506-a0d2-318f324db0ae",
        "colab": {
          "base_uri": "https://localhost:8080/",
          "height": 1000
        }
      },
      "source": [
        "\n",
        "\n",
        "\n",
        "\n",
        "\n",
        "model = VGG16(input_shape=(224, 224, 3), weights='imagenet', include_top=True)\n",
        "\n",
        "X = model.layers[-4].output\n",
        "        # X = layers.MaxPooling2D(pool_size=(2, 2), strides=(1,1))(X)\n",
        "        # X = layers.Flatten()(X)\n",
        "        # # X = layers.Conv2D(512, kernel_size=(2, 2), strides=(1, 1))(X)\n",
        "        # # X = layers.BatchNormalization()(X)\n",
        "        # # X = layers.Activation('relu')(X)\n",
        "        # # X = layers.Conv2D(256, kernel_size=(2, 2), strides=(1, 1))(X)\n",
        "        # # X = layers.BatchNormalization()(X)\n",
        "        # # X = layers.Activation('relu')(X)\n",
        "        # # X = layers.GlobalMaxPooling2D()(X)\n",
        "X = layers.Dense(512, activation='elu', kernel_initializer = 'he_normal')(X)\n",
        "X = layers.BatchNormalization()(X)\n",
        "X = layers.Dropout(0.4)(X)\n",
        "X = layers.Dense(256, activation='selu', kernel_initializer = 'he_normal')(X)\n",
        "X = layers.BatchNormalization()(X)\n",
        "X = layers.Dropout(0.3)(X)\n",
        "\n",
        "# uncomment the below line\n",
        "# X = layers.Dense(101, activation='softmax', kernel_initializer='he_normal')(X)\n",
        "\n",
        "# Delete the line below\n",
        "X = layers.Dense(2, activation='softmax', kernel_initializer='he_normal')(X)\n",
        "\n",
        "\n",
        "\n",
        "model = models.Model(inputs=model.inputs, outputs=X)\n",
        "\n",
        "for i in range(len(model.layers)-7):\n",
        "    model.layers[i].trainable = False\n"
      ],
      "execution_count": 4,
      "outputs": [
        {
          "output_type": "stream",
          "text": [
            "WARNING:tensorflow:From /usr/local/lib/python3.6/dist-packages/keras/backend/tensorflow_backend.py:66: The name tf.get_default_graph is deprecated. Please use tf.compat.v1.get_default_graph instead.\n",
            "\n"
          ],
          "name": "stdout"
        },
        {
          "output_type": "stream",
          "text": [
            "WARNING:tensorflow:From /usr/local/lib/python3.6/dist-packages/keras/backend/tensorflow_backend.py:66: The name tf.get_default_graph is deprecated. Please use tf.compat.v1.get_default_graph instead.\n",
            "\n"
          ],
          "name": "stderr"
        },
        {
          "output_type": "stream",
          "text": [
            "WARNING:tensorflow:From /usr/local/lib/python3.6/dist-packages/keras/backend/tensorflow_backend.py:541: The name tf.placeholder is deprecated. Please use tf.compat.v1.placeholder instead.\n",
            "\n"
          ],
          "name": "stdout"
        },
        {
          "output_type": "stream",
          "text": [
            "WARNING:tensorflow:From /usr/local/lib/python3.6/dist-packages/keras/backend/tensorflow_backend.py:541: The name tf.placeholder is deprecated. Please use tf.compat.v1.placeholder instead.\n",
            "\n"
          ],
          "name": "stderr"
        },
        {
          "output_type": "stream",
          "text": [
            "WARNING:tensorflow:From /usr/local/lib/python3.6/dist-packages/keras/backend/tensorflow_backend.py:4432: The name tf.random_uniform is deprecated. Please use tf.random.uniform instead.\n",
            "\n"
          ],
          "name": "stdout"
        },
        {
          "output_type": "stream",
          "text": [
            "WARNING:tensorflow:From /usr/local/lib/python3.6/dist-packages/keras/backend/tensorflow_backend.py:4432: The name tf.random_uniform is deprecated. Please use tf.random.uniform instead.\n",
            "\n"
          ],
          "name": "stderr"
        },
        {
          "output_type": "stream",
          "text": [
            "WARNING:tensorflow:From /usr/local/lib/python3.6/dist-packages/keras/backend/tensorflow_backend.py:4267: The name tf.nn.max_pool is deprecated. Please use tf.nn.max_pool2d instead.\n",
            "\n"
          ],
          "name": "stdout"
        },
        {
          "output_type": "stream",
          "text": [
            "WARNING:tensorflow:From /usr/local/lib/python3.6/dist-packages/keras/backend/tensorflow_backend.py:4267: The name tf.nn.max_pool is deprecated. Please use tf.nn.max_pool2d instead.\n",
            "\n"
          ],
          "name": "stderr"
        },
        {
          "output_type": "stream",
          "text": [
            "WARNING:tensorflow:From /usr/local/lib/python3.6/dist-packages/keras/backend/tensorflow_backend.py:190: The name tf.get_default_session is deprecated. Please use tf.compat.v1.get_default_session instead.\n",
            "\n"
          ],
          "name": "stdout"
        },
        {
          "output_type": "stream",
          "text": [
            "WARNING:tensorflow:From /usr/local/lib/python3.6/dist-packages/keras/backend/tensorflow_backend.py:190: The name tf.get_default_session is deprecated. Please use tf.compat.v1.get_default_session instead.\n",
            "\n"
          ],
          "name": "stderr"
        },
        {
          "output_type": "stream",
          "text": [
            "WARNING:tensorflow:From /usr/local/lib/python3.6/dist-packages/keras/backend/tensorflow_backend.py:197: The name tf.ConfigProto is deprecated. Please use tf.compat.v1.ConfigProto instead.\n",
            "\n"
          ],
          "name": "stdout"
        },
        {
          "output_type": "stream",
          "text": [
            "WARNING:tensorflow:From /usr/local/lib/python3.6/dist-packages/keras/backend/tensorflow_backend.py:197: The name tf.ConfigProto is deprecated. Please use tf.compat.v1.ConfigProto instead.\n",
            "\n"
          ],
          "name": "stderr"
        },
        {
          "output_type": "stream",
          "text": [
            "WARNING:tensorflow:From /usr/local/lib/python3.6/dist-packages/keras/backend/tensorflow_backend.py:203: The name tf.Session is deprecated. Please use tf.compat.v1.Session instead.\n",
            "\n"
          ],
          "name": "stdout"
        },
        {
          "output_type": "stream",
          "text": [
            "WARNING:tensorflow:From /usr/local/lib/python3.6/dist-packages/keras/backend/tensorflow_backend.py:203: The name tf.Session is deprecated. Please use tf.compat.v1.Session instead.\n",
            "\n"
          ],
          "name": "stderr"
        },
        {
          "output_type": "stream",
          "text": [
            "WARNING:tensorflow:From /usr/local/lib/python3.6/dist-packages/keras/backend/tensorflow_backend.py:207: The name tf.global_variables is deprecated. Please use tf.compat.v1.global_variables instead.\n",
            "\n"
          ],
          "name": "stdout"
        },
        {
          "output_type": "stream",
          "text": [
            "WARNING:tensorflow:From /usr/local/lib/python3.6/dist-packages/keras/backend/tensorflow_backend.py:207: The name tf.global_variables is deprecated. Please use tf.compat.v1.global_variables instead.\n",
            "\n"
          ],
          "name": "stderr"
        },
        {
          "output_type": "stream",
          "text": [
            "WARNING:tensorflow:From /usr/local/lib/python3.6/dist-packages/keras/backend/tensorflow_backend.py:216: The name tf.is_variable_initialized is deprecated. Please use tf.compat.v1.is_variable_initialized instead.\n",
            "\n"
          ],
          "name": "stdout"
        },
        {
          "output_type": "stream",
          "text": [
            "WARNING:tensorflow:From /usr/local/lib/python3.6/dist-packages/keras/backend/tensorflow_backend.py:216: The name tf.is_variable_initialized is deprecated. Please use tf.compat.v1.is_variable_initialized instead.\n",
            "\n"
          ],
          "name": "stderr"
        },
        {
          "output_type": "stream",
          "text": [
            "WARNING:tensorflow:From /usr/local/lib/python3.6/dist-packages/keras/backend/tensorflow_backend.py:223: The name tf.variables_initializer is deprecated. Please use tf.compat.v1.variables_initializer instead.\n",
            "\n"
          ],
          "name": "stdout"
        },
        {
          "output_type": "stream",
          "text": [
            "WARNING:tensorflow:From /usr/local/lib/python3.6/dist-packages/keras/backend/tensorflow_backend.py:223: The name tf.variables_initializer is deprecated. Please use tf.compat.v1.variables_initializer instead.\n",
            "\n"
          ],
          "name": "stderr"
        },
        {
          "output_type": "stream",
          "text": [
            "WARNING:tensorflow:From /usr/local/lib/python3.6/dist-packages/keras/backend/tensorflow_backend.py:4479: The name tf.truncated_normal is deprecated. Please use tf.random.truncated_normal instead.\n",
            "\n"
          ],
          "name": "stdout"
        },
        {
          "output_type": "stream",
          "text": [
            "WARNING:tensorflow:From /usr/local/lib/python3.6/dist-packages/keras/backend/tensorflow_backend.py:4479: The name tf.truncated_normal is deprecated. Please use tf.random.truncated_normal instead.\n",
            "\n"
          ],
          "name": "stderr"
        },
        {
          "output_type": "stream",
          "text": [
            "WARNING:tensorflow:From /usr/local/lib/python3.6/dist-packages/keras/backend/tensorflow_backend.py:148: The name tf.placeholder_with_default is deprecated. Please use tf.compat.v1.placeholder_with_default instead.\n",
            "\n"
          ],
          "name": "stdout"
        },
        {
          "output_type": "stream",
          "text": [
            "WARNING:tensorflow:From /usr/local/lib/python3.6/dist-packages/keras/backend/tensorflow_backend.py:148: The name tf.placeholder_with_default is deprecated. Please use tf.compat.v1.placeholder_with_default instead.\n",
            "\n"
          ],
          "name": "stderr"
        },
        {
          "output_type": "stream",
          "text": [
            "WARNING:tensorflow:From /usr/local/lib/python3.6/dist-packages/keras/backend/tensorflow_backend.py:3733: calling dropout (from tensorflow.python.ops.nn_ops) with keep_prob is deprecated and will be removed in a future version.\n",
            "Instructions for updating:\n",
            "Please use `rate` instead of `keep_prob`. Rate should be set to `rate = 1 - keep_prob`.\n"
          ],
          "name": "stdout"
        },
        {
          "output_type": "stream",
          "text": [
            "WARNING:tensorflow:From /usr/local/lib/python3.6/dist-packages/keras/backend/tensorflow_backend.py:3733: calling dropout (from tensorflow.python.ops.nn_ops) with keep_prob is deprecated and will be removed in a future version.\n",
            "Instructions for updating:\n",
            "Please use `rate` instead of `keep_prob`. Rate should be set to `rate = 1 - keep_prob`.\n"
          ],
          "name": "stderr"
        },
        {
          "output_type": "stream",
          "text": [
            "WARNING:tensorflow:From /usr/local/lib/python3.6/dist-packages/keras/backend/tensorflow_backend.py:3492: where (from tensorflow.python.ops.array_ops) is deprecated and will be removed in a future version.\n",
            "Instructions for updating:\n",
            "Use tf.where in 2.0, which has the same broadcast rule as np.where\n"
          ],
          "name": "stdout"
        },
        {
          "output_type": "stream",
          "text": [
            "WARNING:tensorflow:From /usr/local/lib/python3.6/dist-packages/keras/backend/tensorflow_backend.py:3492: where (from tensorflow.python.ops.array_ops) is deprecated and will be removed in a future version.\n",
            "Instructions for updating:\n",
            "Use tf.where in 2.0, which has the same broadcast rule as np.where\n"
          ],
          "name": "stderr"
        }
      ]
    },
    {
      "cell_type": "markdown",
      "metadata": {
        "id": "Kj9DEapdftgC",
        "colab_type": "text"
      },
      "source": [
        "## Count params and Flops"
      ]
    },
    {
      "cell_type": "code",
      "metadata": {
        "id": "8YDZb7mtjp-S",
        "colab_type": "code",
        "colab": {}
      },
      "source": [
        "\n",
        "\n",
        "def count_conv_params_flops(conv_layer):\n",
        "    # out shape is  n_cells_dim1 * (n_cells_dim2 * n_cells_dim3)\n",
        "    out_shape = conv_layer.output.shape.as_list()\n",
        "    n_cells_total = np.prod(out_shape[1:-1])\n",
        "\n",
        "    n_conv_params_total = conv_layer.count_params()\n",
        "\n",
        "    conv_flops = n_conv_params_total * n_cells_total\n",
        "\n",
        " \n",
        "\n",
        "    return n_conv_params_total, conv_flops\n",
        "\n",
        "\n",
        "def count_dense_params_flops(dense_layer):\n",
        "    # out shape is  n_cells_dim1 * (n_cells_dim2 * n_cells_dim3)\n",
        "    out_shape = dense_layer.output.shape.as_list()\n",
        "    n_cells_total = np.prod(out_shape[1:-1])\n",
        "\n",
        "    n_dense_params_total = dense_layer.count_params()\n",
        "\n",
        "    dense_flops = n_dense_params_total\n",
        "\n",
        "\n",
        "    return n_dense_params_total, dense_flops\n",
        "\n",
        "\n",
        "\n",
        "\n",
        "def count_model_params_flops(model,first_time):\n",
        "\n",
        "    '''\n",
        "    Arguments:\n",
        "        model -> your model\n",
        "        first_time -> boolean variable\n",
        "        first_time = True => model is not pruned \n",
        "        first_time = False => model is pruned\n",
        "    Return:\n",
        "        Number of parmaters, Number of Flops\n",
        "    '''\n",
        "\n",
        "\n",
        "\n",
        "    total_params = 0\n",
        "    total_flops = 0\n",
        "    conv_layers = my_get_all_conv_layers(model,first_time)\n",
        "    dense_layers = my_get_all_dense_layers(model)\n",
        "    model_layers = []\n",
        "\n",
        "    for i in conv_layers:\n",
        "        model_layers.append(model.layers[i])\n",
        "    for i in dense_layers:\n",
        "        model_layers.append(model.layers[i])\n",
        "    for index,layer in enumerate(model_layers):\n",
        "        \n",
        "        if any(conv_type in str(type(layer)) for conv_type in ['Conv1D', 'Conv2D', 'Conv3D']):\n",
        "            # print(index,layer.name)\n",
        "            params, flops = count_conv_params_flops(layer)\n",
        "            total_params += params\n",
        "            total_flops += flops\n",
        "        elif 'Dense' in str(type(layer)):\n",
        "            # print(index,layer.name) \n",
        "            params, flops = count_dense_params_flops(layer)\n",
        "            total_params += params\n",
        "            total_flops += flops\n",
        "\n",
        "    return total_params, total_flops\n"
      ],
      "execution_count": 0,
      "outputs": []
    },
    {
      "cell_type": "code",
      "metadata": {
        "id": "IyloGQTujLJo",
        "colab_type": "code",
        "outputId": "5eb01321-bf21-4ca2-f711-9d2c4033cf47",
        "colab": {
          "base_uri": "https://localhost:8080/",
          "height": 1000
        }
      },
      "source": [
        "\n",
        "\n",
        "model, history= train(model, True)\n",
        "validation_accuracy = max(history.history['val_acc'])\n",
        "print('validation accuracy',validation_accuracy)\n",
        "max_val_acc = validation_accuracy\n",
        "count = 0\n",
        "all_models = list()\n",
        "\n",
        "#this dictionary is to log the parameters and is later converted into a dataframe.\n",
        "log_dict = dict()\n",
        "log_dict['train_loss'] = []\n",
        "log_dict['train_acc'] = []\n",
        "log_dict['val_loss'] = []\n",
        "log_dict['val_acc'] = []\n",
        "log_dict['total_params'] = []\n",
        "log_dict['total_flops'] = []\n",
        "\n",
        "#stop pruning if the accuracy drops by 5% from maximum accuracy ever obtained. \n",
        "\n",
        "while validation_accuracy - max_val_acc >= -0.05 :\n",
        "\n",
        "# while max_val_acc <= validation_accuracy  :\n",
        "\n",
        "    print(\"ITERATION {} \".format(count+1))\n",
        "    all_models.append(model)\n",
        "    if max_val_acc < validation_accuracy:\n",
        "        max_val_acc = validation_accuracy\n",
        "        \n",
        "\n",
        "    if count < 1:\n",
        "        model = my_delete_filters(model,True,5)\n",
        "        a,b = count_model_params_flops(model,True)\n",
        "   \n",
        "    else:\n",
        "        model = my_delete_filters(model,False,5)\n",
        "        a,b = count_model_params_flops(model,False)\n",
        "\n",
        "    # print('Total number of parmas = {}\\nTotal number of Flops={}'.format(a,b))\n",
        "       \n",
        "    model,history = train(model, True)\n",
        "    validation_accuracy = max(history.history['val_acc'])\n",
        "    best_acc_index = history.history['val_acc'].index(max(history.history['val_acc']))\n",
        "\n",
        "    log_dict['train_loss'].append(history.history['loss'][best_acc_index])\n",
        "    log_dict['train_acc'].append(history.history['acc'][best_acc_index])\n",
        "    log_dict['val_loss'].append(history.history['val_loss'][best_acc_index])\n",
        "    log_dict['val_acc'].append(history.history['val_acc'][best_acc_index])\n",
        "    log_dict['total_params'].append(a)\n",
        "    log_dict['total_flops'].append(b)\n",
        "\n",
        "    print(\"VALIDATION ACCURACY AFTER {} ITERATIONS = {}\".format(count+1,validation_accuracy))\n",
        "    count+=1\n"
      ],
      "execution_count": 6,
      "outputs": [
        {
          "output_type": "stream",
          "text": [
            "Found 220 images belonging to 2 classes.\n",
            "Found 217 images belonging to 2 classes.\n",
            "WARNING:tensorflow:From /usr/local/lib/python3.6/dist-packages/keras/optimizers.py:793: The name tf.train.Optimizer is deprecated. Please use tf.compat.v1.train.Optimizer instead.\n",
            "\n"
          ],
          "name": "stdout"
        },
        {
          "output_type": "stream",
          "text": [
            "WARNING:tensorflow:From /usr/local/lib/python3.6/dist-packages/keras/optimizers.py:793: The name tf.train.Optimizer is deprecated. Please use tf.compat.v1.train.Optimizer instead.\n",
            "\n"
          ],
          "name": "stderr"
        },
        {
          "output_type": "stream",
          "text": [
            "WARNING:tensorflow:From /usr/local/lib/python3.6/dist-packages/keras/backend/tensorflow_backend.py:3576: The name tf.log is deprecated. Please use tf.math.log instead.\n",
            "\n"
          ],
          "name": "stdout"
        },
        {
          "output_type": "stream",
          "text": [
            "WARNING:tensorflow:From /usr/local/lib/python3.6/dist-packages/keras/backend/tensorflow_backend.py:3576: The name tf.log is deprecated. Please use tf.math.log instead.\n",
            "\n"
          ],
          "name": "stderr"
        },
        {
          "output_type": "stream",
          "text": [
            "WARNING:tensorflow:From /usr/local/lib/python3.6/dist-packages/keras/backend/tensorflow_backend.py:1033: The name tf.assign_add is deprecated. Please use tf.compat.v1.assign_add instead.\n",
            "\n"
          ],
          "name": "stdout"
        },
        {
          "output_type": "stream",
          "text": [
            "WARNING:tensorflow:From /usr/local/lib/python3.6/dist-packages/keras/backend/tensorflow_backend.py:1033: The name tf.assign_add is deprecated. Please use tf.compat.v1.assign_add instead.\n",
            "\n"
          ],
          "name": "stderr"
        },
        {
          "output_type": "stream",
          "text": [
            "WARNING:tensorflow:From /usr/local/lib/python3.6/dist-packages/keras/backend/tensorflow_backend.py:1020: The name tf.assign is deprecated. Please use tf.compat.v1.assign instead.\n",
            "\n"
          ],
          "name": "stdout"
        },
        {
          "output_type": "stream",
          "text": [
            "WARNING:tensorflow:From /usr/local/lib/python3.6/dist-packages/keras/backend/tensorflow_backend.py:1020: The name tf.assign is deprecated. Please use tf.compat.v1.assign instead.\n",
            "\n"
          ],
          "name": "stderr"
        },
        {
          "output_type": "stream",
          "text": [
            "Epoch 1/20\n",
            "4/3 [==================================] - 4s 925ms/step - loss: 0.6827 - acc: 0.7812 - val_loss: 0.6708 - val_acc: 0.8986\n",
            "Epoch 2/20\n",
            "4/3 [==================================] - 1s 265ms/step - loss: 0.6362 - acc: 0.8750 - val_loss: 1.2424 - val_acc: 0.7926\n",
            "Epoch 3/20\n",
            "4/3 [==================================] - 1s 306ms/step - loss: 0.4333 - acc: 0.9357 - val_loss: 0.2529 - val_acc: 0.9401\n",
            "Epoch 4/20\n",
            "4/3 [==================================] - 1s 304ms/step - loss: 0.4446 - acc: 0.9062 - val_loss: 0.3989 - val_acc: 0.9124\n",
            "Epoch 5/20\n",
            "4/3 [==================================] - 1s 295ms/step - loss: 0.1361 - acc: 0.9375 - val_loss: 0.6049 - val_acc: 0.8756\n",
            "Epoch 6/20\n",
            "4/3 [==================================] - 1s 286ms/step - loss: 0.5316 - acc: 0.9375 - val_loss: 0.3177 - val_acc: 0.9355\n",
            "Epoch 7/20\n",
            "4/3 [==================================] - 1s 325ms/step - loss: 0.2532 - acc: 0.9375 - val_loss: 0.3045 - val_acc: 0.9401\n",
            "Epoch 8/20\n",
            "4/3 [==================================] - 1s 311ms/step - loss: 0.5025 - acc: 0.7812 - val_loss: 0.2261 - val_acc: 0.9401\n",
            "\n",
            "Epoch 00008: ReduceLROnPlateau reducing learning rate to 0.0031622775894859655.\n",
            "Epoch 9/20\n",
            "4/3 [==================================] - 1s 286ms/step - loss: 0.7374 - acc: 0.8438 - val_loss: 0.1855 - val_acc: 0.9493\n",
            "Epoch 10/20\n",
            "4/3 [==================================] - 1s 302ms/step - loss: 0.1932 - acc: 0.9688 - val_loss: 0.1773 - val_acc: 0.9493\n",
            "Epoch 11/20\n",
            "4/3 [==================================] - 1s 299ms/step - loss: 0.0076 - acc: 1.0000 - val_loss: 0.1734 - val_acc: 0.9585\n",
            "Epoch 12/20\n",
            "4/3 [==================================] - 1s 288ms/step - loss: 0.1068 - acc: 0.9107 - val_loss: 0.1880 - val_acc: 0.9539\n",
            "Epoch 13/20\n",
            "4/3 [==================================] - 1s 298ms/step - loss: 0.4461 - acc: 0.8125 - val_loss: 0.1731 - val_acc: 0.9585\n",
            "Epoch 14/20\n",
            "4/3 [==================================] - 1s 339ms/step - loss: 0.0771 - acc: 0.9688 - val_loss: 0.1615 - val_acc: 0.9585\n",
            "Epoch 15/20\n",
            "4/3 [==================================] - 1s 302ms/step - loss: 0.4793 - acc: 0.8438 - val_loss: 0.1625 - val_acc: 0.9493\n",
            "Epoch 16/20\n",
            "4/3 [==================================] - 1s 298ms/step - loss: 0.2467 - acc: 0.9375 - val_loss: 0.1676 - val_acc: 0.9493\n",
            "\n",
            "Epoch 00016: ReduceLROnPlateau reducing learning rate to 0.0009999999903331056.\n",
            "Epoch 17/20\n",
            "4/3 [==================================] - 1s 321ms/step - loss: 0.2874 - acc: 0.9375 - val_loss: 0.1635 - val_acc: 0.9493\n",
            "Epoch 18/20\n",
            "4/3 [==================================] - 1s 313ms/step - loss: 0.8926 - acc: 0.8857 - val_loss: 0.1631 - val_acc: 0.9493\n",
            "Epoch 19/20\n",
            "4/3 [==================================] - 1s 278ms/step - loss: 0.0753 - acc: 0.9688 - val_loss: 0.1602 - val_acc: 0.9539\n",
            "Epoch 20/20\n",
            "4/3 [==================================] - 1s 284ms/step - loss: 0.0811 - acc: 0.9375 - val_loss: 0.1576 - val_acc: 0.9585\n",
            "validation accuracy 0.9585253456221198\n",
            "ITERATION 1 \n",
            "Deleting 3/64 channels from layer: block1_conv1\n",
            "Deleting 3/64 channels from layer: block1_conv2\n",
            "Deleting 6/128 channels from layer: block2_conv1\n",
            "Deleting 6/128 channels from layer: block2_conv2\n",
            "Deleting 12/256 channels from layer: block3_conv1\n",
            "Deleting 12/256 channels from layer: block3_conv2\n",
            "Deleting 12/256 channels from layer: block3_conv3\n",
            "Deleting 25/512 channels from layer: block4_conv1\n",
            "Deleting 25/512 channels from layer: block4_conv2\n",
            "Deleting 25/512 channels from layer: block4_conv3\n",
            "Deleting 25/512 channels from layer: block5_conv1\n",
            "Deleting 25/512 channels from layer: block5_conv2\n",
            "Deleting 25/512 channels from layer: block5_conv3\n",
            "Deleting 25/512 channels from layer: dense_1\n",
            "Deleting 12/256 channels from layer: dense_2\n",
            "Found 220 images belonging to 2 classes.\n",
            "Found 217 images belonging to 2 classes.\n",
            "Epoch 1/20\n",
            "4/3 [==================================] - 3s 669ms/step - loss: 0.0793 - acc: 0.9375 - val_loss: 1.7583 - val_acc: 0.8065\n",
            "Epoch 2/20\n",
            "4/3 [==================================] - 1s 252ms/step - loss: 0.3596 - acc: 0.9688 - val_loss: 1.8352 - val_acc: 0.8065\n",
            "Epoch 3/20\n",
            "4/3 [==================================] - 1s 306ms/step - loss: 0.2440 - acc: 0.9375 - val_loss: 0.6789 - val_acc: 0.8479\n",
            "Epoch 4/20\n",
            "4/3 [==================================] - 1s 331ms/step - loss: 0.2107 - acc: 0.9679 - val_loss: 1.0346 - val_acc: 0.8203\n",
            "Epoch 5/20\n",
            "4/3 [==================================] - 1s 300ms/step - loss: 0.3990 - acc: 0.9375 - val_loss: 0.3331 - val_acc: 0.9355\n",
            "Epoch 6/20\n",
            "4/3 [==================================] - 1s 279ms/step - loss: 0.0732 - acc: 0.9688 - val_loss: 0.5097 - val_acc: 0.9032\n",
            "Epoch 7/20\n",
            "4/3 [==================================] - 1s 332ms/step - loss: 1.4927 - acc: 0.8125 - val_loss: 0.5121 - val_acc: 0.8894\n",
            "Epoch 8/20\n",
            "4/3 [==================================] - 1s 302ms/step - loss: 0.0704 - acc: 0.9375 - val_loss: 0.3802 - val_acc: 0.9309\n",
            "Epoch 9/20\n",
            "4/3 [==================================] - 1s 304ms/step - loss: 0.0823 - acc: 0.9688 - val_loss: 0.3560 - val_acc: 0.9401\n",
            "Epoch 10/20\n",
            "4/3 [==================================] - 1s 288ms/step - loss: 0.0511 - acc: 0.9688 - val_loss: 0.3177 - val_acc: 0.9401\n",
            "Epoch 11/20\n",
            "4/3 [==================================] - 1s 294ms/step - loss: 1.6241 - acc: 0.7321 - val_loss: 0.2894 - val_acc: 0.9355\n",
            "Epoch 12/20\n",
            "4/3 [==================================] - 1s 296ms/step - loss: 0.5017 - acc: 0.8438 - val_loss: 0.2455 - val_acc: 0.9447\n",
            "Epoch 13/20\n",
            "4/3 [==================================] - 1s 288ms/step - loss: 0.3347 - acc: 0.9062 - val_loss: 0.2101 - val_acc: 0.9447\n",
            "Epoch 14/20\n",
            "4/3 [==================================] - 1s 342ms/step - loss: 0.7184 - acc: 0.8750 - val_loss: 0.1646 - val_acc: 0.9631\n",
            "Epoch 15/20\n",
            "4/3 [==================================] - 1s 312ms/step - loss: 0.0933 - acc: 0.9375 - val_loss: 0.1702 - val_acc: 0.9539\n",
            "Epoch 16/20\n",
            "4/3 [==================================] - 1s 307ms/step - loss: 0.1379 - acc: 0.9357 - val_loss: 0.1412 - val_acc: 0.9677\n",
            "Epoch 17/20\n",
            "4/3 [==================================] - 1s 289ms/step - loss: 0.0487 - acc: 0.9688 - val_loss: 0.1478 - val_acc: 0.9677\n",
            "Epoch 18/20\n",
            "4/3 [==================================] - 1s 302ms/step - loss: 0.0123 - acc: 1.0000 - val_loss: 0.1477 - val_acc: 0.9677\n",
            "Epoch 19/20\n",
            "4/3 [==================================] - 1s 279ms/step - loss: 0.0401 - acc: 0.9688 - val_loss: 0.1380 - val_acc: 0.9724\n",
            "Epoch 20/20\n",
            "4/3 [==================================] - 1s 270ms/step - loss: 0.0229 - acc: 1.0000 - val_loss: 0.1389 - val_acc: 0.9724\n",
            "VALIDATION ACCURACY AFTER 1 ITERATIONS = 0.9723502304147466\n",
            "ITERATION 2 \n",
            "Deleting 3/61 channels from layer: block1_conv2\n",
            "Deleting 6/122 channels from layer: block2_conv1\n",
            "Deleting 6/122 channels from layer: block2_conv2\n",
            "Deleting 12/244 channels from layer: block3_conv1\n",
            "Deleting 12/244 channels from layer: block3_conv2\n",
            "Deleting 12/244 channels from layer: block3_conv3\n",
            "Deleting 24/487 channels from layer: block4_conv1\n",
            "Deleting 24/487 channels from layer: block4_conv2\n",
            "Deleting 24/487 channels from layer: block4_conv3\n",
            "Deleting 24/487 channels from layer: block5_conv1\n",
            "Deleting 24/487 channels from layer: block5_conv2\n",
            "Deleting 24/487 channels from layer: block5_conv3\n",
            "Deleting 24/487 channels from layer: dense_1\n",
            "Deleting 12/244 channels from layer: dense_2\n",
            "Found 220 images belonging to 2 classes.\n",
            "Found 217 images belonging to 2 classes.\n",
            "Epoch 1/20\n",
            "4/3 [==================================] - 3s 700ms/step - loss: 0.3583 - acc: 0.9688 - val_loss: 0.7415 - val_acc: 0.9171\n",
            "Epoch 2/20\n",
            "4/3 [==================================] - 1s 252ms/step - loss: 0.1103 - acc: 0.9375 - val_loss: 7.3896 - val_acc: 0.5161\n",
            "Epoch 3/20\n",
            "4/3 [==================================] - 1s 302ms/step - loss: 0.5102 - acc: 0.9062 - val_loss: 0.7255 - val_acc: 0.8479\n",
            "Epoch 4/20\n",
            "4/3 [==================================] - 1s 280ms/step - loss: 0.1527 - acc: 0.9375 - val_loss: 0.3423 - val_acc: 0.9078\n",
            "Epoch 5/20\n",
            "4/3 [==================================] - 1s 277ms/step - loss: 0.1322 - acc: 0.9688 - val_loss: 0.2599 - val_acc: 0.9401\n",
            "Epoch 6/20\n",
            "4/3 [==================================] - 1s 308ms/step - loss: 0.8134 - acc: 0.7643 - val_loss: 0.2783 - val_acc: 0.9263\n",
            "Epoch 7/20\n",
            "4/3 [==================================] - 1s 316ms/step - loss: 0.3517 - acc: 0.9062 - val_loss: 0.2480 - val_acc: 0.9401\n",
            "Epoch 8/20\n",
            "4/3 [==================================] - 1s 300ms/step - loss: 0.0762 - acc: 0.9688 - val_loss: 0.2099 - val_acc: 0.9401\n",
            "Epoch 9/20\n",
            "4/3 [==================================] - 1s 313ms/step - loss: 0.1910 - acc: 0.9688 - val_loss: 0.1909 - val_acc: 0.9447\n",
            "Epoch 10/20\n",
            "4/3 [==================================] - 1s 283ms/step - loss: 0.8579 - acc: 0.8393 - val_loss: 0.1792 - val_acc: 0.9447\n",
            "Epoch 11/20\n",
            "4/3 [==================================] - 1s 307ms/step - loss: 0.0782 - acc: 0.9375 - val_loss: 0.1972 - val_acc: 0.9355\n",
            "Epoch 12/20\n",
            "4/3 [==================================] - 1s 297ms/step - loss: 0.0620 - acc: 0.9688 - val_loss: 0.2175 - val_acc: 0.9309\n",
            "Epoch 13/20\n",
            "4/3 [==================================] - 1s 273ms/step - loss: 0.0171 - acc: 1.0000 - val_loss: 0.2309 - val_acc: 0.9309\n",
            "Epoch 14/20\n",
            "4/3 [==================================] - 1s 347ms/step - loss: 0.0277 - acc: 1.0000 - val_loss: 0.1866 - val_acc: 0.9401\n",
            "\n",
            "Epoch 00014: ReduceLROnPlateau reducing learning rate to 0.0031622775894859655.\n",
            "Epoch 15/20\n",
            "4/3 [==================================] - 1s 271ms/step - loss: 0.0043 - acc: 1.0000 - val_loss: 0.1757 - val_acc: 0.9493\n",
            "Epoch 16/20\n",
            "4/3 [==================================] - 1s 298ms/step - loss: 0.0644 - acc: 1.0000 - val_loss: 0.1656 - val_acc: 0.9493\n",
            "Epoch 17/20\n",
            "4/3 [==================================] - 1s 291ms/step - loss: 0.0814 - acc: 0.9688 - val_loss: 0.1536 - val_acc: 0.9493\n",
            "Epoch 18/20\n",
            "4/3 [==================================] - 1s 299ms/step - loss: 0.1166 - acc: 0.9375 - val_loss: 0.1541 - val_acc: 0.9539\n",
            "Epoch 19/20\n",
            "4/3 [==================================] - 1s 282ms/step - loss: 0.0937 - acc: 0.9688 - val_loss: 0.1496 - val_acc: 0.9493\n",
            "Epoch 20/20\n",
            "4/3 [==================================] - 1s 292ms/step - loss: 0.0426 - acc: 0.9688 - val_loss: 0.1494 - val_acc: 0.9539\n",
            "VALIDATION ACCURACY AFTER 2 ITERATIONS = 0.9539170506912442\n",
            "ITERATION 3 \n",
            "Deleting 2/58 channels from layer: block1_conv2\n",
            "Deleting 5/116 channels from layer: block2_conv1\n",
            "Deleting 5/116 channels from layer: block2_conv2\n",
            "Deleting 11/232 channels from layer: block3_conv1\n",
            "Deleting 11/232 channels from layer: block3_conv2\n",
            "Deleting 11/232 channels from layer: block3_conv3\n",
            "Deleting 23/463 channels from layer: block4_conv1\n",
            "Deleting 23/463 channels from layer: block4_conv2\n",
            "Deleting 23/463 channels from layer: block4_conv3\n",
            "Deleting 23/463 channels from layer: block5_conv1\n",
            "Deleting 23/463 channels from layer: block5_conv2\n",
            "Deleting 23/463 channels from layer: block5_conv3\n",
            "Deleting 23/463 channels from layer: dense_1\n",
            "Deleting 11/232 channels from layer: dense_2\n",
            "Found 220 images belonging to 2 classes.\n",
            "Found 217 images belonging to 2 classes.\n",
            "Epoch 1/20\n",
            "4/3 [==================================] - 3s 738ms/step - loss: 2.0953e-04 - acc: 1.0000 - val_loss: 0.5896 - val_acc: 0.9217\n",
            "Epoch 2/20\n",
            "4/3 [==================================] - 1s 242ms/step - loss: 0.0092 - acc: 1.0000 - val_loss: 0.9607 - val_acc: 0.8710\n",
            "Epoch 3/20\n",
            "4/3 [==================================] - 1s 289ms/step - loss: 0.6483 - acc: 0.8750 - val_loss: 0.7357 - val_acc: 0.9171\n",
            "Epoch 4/20\n",
            "4/3 [==================================] - 1s 297ms/step - loss: 0.5029 - acc: 0.8750 - val_loss: 0.3700 - val_acc: 0.9263\n",
            "Epoch 5/20\n",
            "4/3 [==================================] - 1s 270ms/step - loss: 0.1912 - acc: 0.9062 - val_loss: 1.4241 - val_acc: 0.7097\n",
            "Epoch 6/20\n",
            "4/3 [==================================] - 1s 289ms/step - loss: 0.0498 - acc: 0.9688 - val_loss: 0.7008 - val_acc: 0.8387\n",
            "Epoch 7/20\n",
            "4/3 [==================================] - 1s 351ms/step - loss: 0.9279 - acc: 0.7893 - val_loss: 0.5379 - val_acc: 0.8479\n",
            "Epoch 8/20\n",
            "4/3 [==================================] - 1s 310ms/step - loss: 0.0735 - acc: 0.9357 - val_loss: 0.3759 - val_acc: 0.8756\n",
            "Epoch 9/20\n",
            "4/3 [==================================] - 1s 297ms/step - loss: 0.7558 - acc: 0.8438 - val_loss: 0.3033 - val_acc: 0.9124\n",
            "\n",
            "Epoch 00009: ReduceLROnPlateau reducing learning rate to 0.0031622775894859655.\n",
            "Epoch 10/20\n",
            "4/3 [==================================] - 1s 219ms/step - loss: 0.0328 - acc: 0.9688 - val_loss: 0.2769 - val_acc: 0.9171\n",
            "Epoch 11/20\n",
            "4/3 [==================================] - 1s 292ms/step - loss: 0.4793 - acc: 0.9062 - val_loss: 0.2831 - val_acc: 0.9124\n",
            "Epoch 12/20\n",
            "4/3 [==================================] - 1s 282ms/step - loss: 0.1979 - acc: 0.9375 - val_loss: 0.2849 - val_acc: 0.9124\n",
            "Epoch 13/20\n",
            "4/3 [==================================] - 1s 285ms/step - loss: 0.0288 - acc: 0.9688 - val_loss: 0.2619 - val_acc: 0.9171\n",
            "Epoch 14/20\n",
            "4/3 [==================================] - 1s 347ms/step - loss: 0.2373 - acc: 0.9688 - val_loss: 0.2417 - val_acc: 0.9217\n",
            "\n",
            "Epoch 00014: ReduceLROnPlateau reducing learning rate to 0.0009999999903331056.\n",
            "Epoch 15/20\n",
            "4/3 [==================================] - 1s 298ms/step - loss: 0.0564 - acc: 0.9688 - val_loss: 0.2237 - val_acc: 0.9263\n",
            "Epoch 16/20\n",
            "4/3 [==================================] - 1s 326ms/step - loss: 0.0118 - acc: 1.0000 - val_loss: 0.2217 - val_acc: 0.9263\n",
            "Epoch 17/20\n",
            "4/3 [==================================] - 1s 310ms/step - loss: 0.2496 - acc: 0.8786 - val_loss: 0.2265 - val_acc: 0.9263\n",
            "Epoch 18/20\n",
            "4/3 [==================================] - 1s 313ms/step - loss: 0.1796 - acc: 0.9375 - val_loss: 0.2320 - val_acc: 0.9309\n",
            "Epoch 19/20\n",
            "4/3 [==================================] - 1s 284ms/step - loss: 0.1129 - acc: 0.9375 - val_loss: 0.2311 - val_acc: 0.9309\n",
            "Epoch 20/20\n",
            "4/3 [==================================] - 1s 289ms/step - loss: 0.5061 - acc: 0.8750 - val_loss: 0.2275 - val_acc: 0.9309\n",
            "VALIDATION ACCURACY AFTER 3 ITERATIONS = 0.9308755760368663\n",
            "ITERATION 4 \n",
            "Deleting 2/56 channels from layer: block1_conv2\n",
            "Deleting 5/111 channels from layer: block2_conv1\n",
            "Deleting 5/111 channels from layer: block2_conv2\n",
            "Deleting 11/221 channels from layer: block3_conv1\n",
            "Deleting 11/221 channels from layer: block3_conv2\n",
            "Deleting 11/221 channels from layer: block3_conv3\n",
            "Deleting 22/440 channels from layer: block4_conv1\n",
            "Deleting 22/440 channels from layer: block4_conv2\n",
            "Deleting 22/440 channels from layer: block4_conv3\n",
            "Deleting 22/440 channels from layer: block5_conv1\n",
            "Deleting 22/440 channels from layer: block5_conv2\n",
            "Deleting 22/440 channels from layer: block5_conv3\n",
            "Deleting 22/440 channels from layer: dense_1\n",
            "Deleting 11/221 channels from layer: dense_2\n",
            "Found 220 images belonging to 2 classes.\n",
            "Found 217 images belonging to 2 classes.\n",
            "Epoch 1/20\n",
            "4/3 [==================================] - 3s 787ms/step - loss: 0.0586 - acc: 0.9688 - val_loss: 0.6802 - val_acc: 0.8986\n",
            "Epoch 2/20\n",
            "4/3 [==================================] - 1s 264ms/step - loss: 0.1098 - acc: 0.9679 - val_loss: 0.8504 - val_acc: 0.8295\n",
            "Epoch 3/20\n",
            "4/3 [==================================] - 1s 304ms/step - loss: 0.2603 - acc: 0.9375 - val_loss: 0.4381 - val_acc: 0.8940\n",
            "Epoch 4/20\n",
            "4/3 [==================================] - 1s 286ms/step - loss: 0.4030 - acc: 0.9062 - val_loss: 0.6339 - val_acc: 0.7972\n",
            "Epoch 5/20\n",
            "4/3 [==================================] - 1s 263ms/step - loss: 0.0626 - acc: 0.9375 - val_loss: 0.4842 - val_acc: 0.8341\n",
            "Epoch 6/20\n",
            "4/3 [==================================] - 1s 285ms/step - loss: 0.1537 - acc: 0.9375 - val_loss: 0.4883 - val_acc: 0.8756\n",
            "\n",
            "Epoch 00006: ReduceLROnPlateau reducing learning rate to 0.0031622775894859655.\n",
            "Epoch 7/20\n",
            "4/3 [==================================] - 1s 253ms/step - loss: 0.0288 - acc: 1.0000 - val_loss: 0.4259 - val_acc: 0.8894\n",
            "Epoch 8/20\n",
            "4/3 [==================================] - 1s 293ms/step - loss: 0.0979 - acc: 0.9375 - val_loss: 0.3267 - val_acc: 0.8940\n",
            "Epoch 9/20\n",
            "4/3 [==================================] - 1s 287ms/step - loss: 0.1227 - acc: 0.9062 - val_loss: 0.3303 - val_acc: 0.8986\n",
            "Epoch 10/20\n",
            "4/3 [==================================] - 1s 306ms/step - loss: 0.2539 - acc: 0.9375 - val_loss: 0.3312 - val_acc: 0.9078\n",
            "Epoch 11/20\n",
            "4/3 [==================================] - 1s 284ms/step - loss: 0.0841 - acc: 0.9688 - val_loss: 0.3205 - val_acc: 0.9171\n",
            "Epoch 12/20\n",
            "4/3 [==================================] - 1s 289ms/step - loss: 0.2912 - acc: 0.9107 - val_loss: 0.2991 - val_acc: 0.9217\n",
            "Epoch 13/20\n",
            "4/3 [==================================] - 1s 273ms/step - loss: 0.0052 - acc: 1.0000 - val_loss: 0.2899 - val_acc: 0.9217\n",
            "Epoch 14/20\n",
            "4/3 [==================================] - 1s 318ms/step - loss: 1.1338 - acc: 0.7812 - val_loss: 0.2880 - val_acc: 0.9124\n",
            "Epoch 15/20\n",
            "4/3 [==================================] - 1s 298ms/step - loss: 0.0280 - acc: 0.9688 - val_loss: 0.2903 - val_acc: 0.9124\n",
            "Epoch 16/20\n",
            "4/3 [==================================] - 1s 290ms/step - loss: 0.3490 - acc: 0.9036 - val_loss: 0.2812 - val_acc: 0.9217\n",
            "Epoch 17/20\n",
            "4/3 [==================================] - 1s 297ms/step - loss: 0.0180 - acc: 1.0000 - val_loss: 0.2836 - val_acc: 0.9171\n",
            "\n",
            "Epoch 00017: ReduceLROnPlateau reducing learning rate to 0.0009999999903331056.\n",
            "Epoch 18/20\n",
            "4/3 [==================================] - 1s 284ms/step - loss: 0.2029 - acc: 0.9375 - val_loss: 0.2805 - val_acc: 0.9171\n",
            "Epoch 19/20\n",
            "4/3 [==================================] - 1s 291ms/step - loss: 0.0883 - acc: 0.9375 - val_loss: 0.2785 - val_acc: 0.9171\n",
            "Epoch 20/20\n",
            "4/3 [==================================] - 1s 260ms/step - loss: 0.1855 - acc: 0.9375 - val_loss: 0.2768 - val_acc: 0.9217\n",
            "VALIDATION ACCURACY AFTER 4 ITERATIONS = 0.9216589861751152\n"
          ],
          "name": "stdout"
        }
      ]
    },
    {
      "cell_type": "code",
      "metadata": {
        "id": "7nUOIHYBpU1R",
        "colab_type": "code",
        "colab": {}
      },
      "source": [
        ""
      ],
      "execution_count": 0,
      "outputs": []
    },
    {
      "cell_type": "code",
      "metadata": {
        "id": "AYPdQDuHB1OI",
        "colab_type": "code",
        "colab": {
          "base_uri": "https://localhost:8080/",
          "height": 175
        },
        "outputId": "73b508bf-2c78-4532-dbea-3684af809012"
      },
      "source": [
        "log_df = pd.DataFrame(log_dict)\n",
        "log_df"
      ],
      "execution_count": 10,
      "outputs": [
        {
          "output_type": "execute_result",
          "data": {
            "text/html": [
              "<div>\n",
              "<style scoped>\n",
              "    .dataframe tbody tr th:only-of-type {\n",
              "        vertical-align: middle;\n",
              "    }\n",
              "\n",
              "    .dataframe tbody tr th {\n",
              "        vertical-align: top;\n",
              "    }\n",
              "\n",
              "    .dataframe thead th {\n",
              "        text-align: right;\n",
              "    }\n",
              "</style>\n",
              "<table border=\"1\" class=\"dataframe\">\n",
              "  <thead>\n",
              "    <tr style=\"text-align: right;\">\n",
              "      <th></th>\n",
              "      <th>train_loss</th>\n",
              "      <th>train_acc</th>\n",
              "      <th>val_loss</th>\n",
              "      <th>val_acc</th>\n",
              "      <th>total_params</th>\n",
              "      <th>total_flops</th>\n",
              "    </tr>\n",
              "  </thead>\n",
              "  <tbody>\n",
              "    <tr>\n",
              "      <th>0</th>\n",
              "      <td>0.040083</td>\n",
              "      <td>0.968750</td>\n",
              "      <td>0.138019</td>\n",
              "      <td>0.972350</td>\n",
              "      <td>25062547</td>\n",
              "      <td>13949488216</td>\n",
              "    </tr>\n",
              "    <tr>\n",
              "      <th>1</th>\n",
              "      <td>0.116622</td>\n",
              "      <td>0.937500</td>\n",
              "      <td>0.154052</td>\n",
              "      <td>0.953917</td>\n",
              "      <td>22653843</td>\n",
              "      <td>12611738352</td>\n",
              "    </tr>\n",
              "    <tr>\n",
              "      <th>2</th>\n",
              "      <td>0.179636</td>\n",
              "      <td>0.937500</td>\n",
              "      <td>0.231983</td>\n",
              "      <td>0.930876</td>\n",
              "      <td>20472536</td>\n",
              "      <td>11545995341</td>\n",
              "    </tr>\n",
              "    <tr>\n",
              "      <th>3</th>\n",
              "      <td>0.267302</td>\n",
              "      <td>0.928571</td>\n",
              "      <td>0.299105</td>\n",
              "      <td>0.921659</td>\n",
              "      <td>18482314</td>\n",
              "      <td>10546800388</td>\n",
              "    </tr>\n",
              "  </tbody>\n",
              "</table>\n",
              "</div>"
            ],
            "text/plain": [
              "   train_loss  train_acc  val_loss   val_acc  total_params  total_flops\n",
              "0    0.040083   0.968750  0.138019  0.972350      25062547  13949488216\n",
              "1    0.116622   0.937500  0.154052  0.953917      22653843  12611738352\n",
              "2    0.179636   0.937500  0.231983  0.930876      20472536  11545995341\n",
              "3    0.267302   0.928571  0.299105  0.921659      18482314  10546800388"
            ]
          },
          "metadata": {
            "tags": []
          },
          "execution_count": 10
        }
      ]
    },
    {
      "cell_type": "code",
      "metadata": {
        "id": "JfnH2HUJIBGx",
        "colab_type": "code",
        "colab": {}
      },
      "source": [
        "RESULT_PATH = '/content/drive/My Drive/RESULT.csv'\n",
        "\n",
        "log_df.to_csv(RESULT_PATH)"
      ],
      "execution_count": 0,
      "outputs": []
    },
    {
      "cell_type": "code",
      "metadata": {
        "id": "Cjz453V4WNek",
        "colab_type": "code",
        "colab": {
          "base_uri": "https://localhost:8080/",
          "height": 1000
        },
        "outputId": "831ced71-3fe8-4bcf-e2b8-c426bc12a3b9"
      },
      "source": [
        "model.summary()"
      ],
      "execution_count": 12,
      "outputs": [
        {
          "output_type": "stream",
          "text": [
            "Model: \"model_5\"\n",
            "_________________________________________________________________\n",
            "Layer (type)                 Output Shape              Param #   \n",
            "=================================================================\n",
            "input_1 (InputLayer)         (None, 224, 224, 3)       0         \n",
            "_________________________________________________________________\n",
            "block1_conv1 (Conv2D)        (None, 224, 224, 61)      1708      \n",
            "_________________________________________________________________\n",
            "block1_conv2 (Conv2D)        (None, 224, 224, 54)      29700     \n",
            "_________________________________________________________________\n",
            "block1_pool (MaxPooling2D)   multiple                  0         \n",
            "_________________________________________________________________\n",
            "block2_conv1 (Conv2D)        (None, 112, 112, 106)     51622     \n",
            "_________________________________________________________________\n",
            "block2_conv2 (Conv2D)        (None, 112, 112, 106)     101230    \n",
            "_________________________________________________________________\n",
            "block2_pool (MaxPooling2D)   multiple                  0         \n",
            "_________________________________________________________________\n",
            "block3_conv1 (Conv2D)        (None, 56, 56, 210)       200550    \n",
            "_________________________________________________________________\n",
            "block3_conv2 (Conv2D)        (None, 56, 56, 210)       397110    \n",
            "_________________________________________________________________\n",
            "block3_conv3 (Conv2D)        (None, 56, 56, 210)       397110    \n",
            "_________________________________________________________________\n",
            "block3_pool (MaxPooling2D)   multiple                  0         \n",
            "_________________________________________________________________\n",
            "block4_conv1 (Conv2D)        (None, 28, 28, 418)       790438    \n",
            "_________________________________________________________________\n",
            "block4_conv2 (Conv2D)        (None, 28, 28, 418)       1572934   \n",
            "_________________________________________________________________\n",
            "block4_conv3 (Conv2D)        (None, 28, 28, 418)       1572934   \n",
            "_________________________________________________________________\n",
            "block4_pool (MaxPooling2D)   multiple                  0         \n",
            "_________________________________________________________________\n",
            "block5_conv1 (Conv2D)        (None, 14, 14, 418)       1572934   \n",
            "_________________________________________________________________\n",
            "block5_conv2 (Conv2D)        (None, 14, 14, 418)       1572934   \n",
            "_________________________________________________________________\n",
            "block5_conv3 (Conv2D)        (None, 14, 14, 418)       1572934   \n",
            "_________________________________________________________________\n",
            "block5_pool (MaxPooling2D)   multiple                  0         \n",
            "_________________________________________________________________\n",
            "flatten (Flatten)            multiple                  0         \n",
            "_________________________________________________________________\n",
            "dense_1 (Dense)              (None, 418)               8561894   \n",
            "_________________________________________________________________\n",
            "batch_normalization_1 (Batch (None, 418)               1672      \n",
            "_________________________________________________________________\n",
            "dropout_1 (Dropout)          multiple                  0         \n",
            "_________________________________________________________________\n",
            "dense_2 (Dense)              (None, 210)               87990     \n",
            "_________________________________________________________________\n",
            "batch_normalization_2 (Batch (None, 210)               840       \n",
            "_________________________________________________________________\n",
            "dropout_2 (Dropout)          multiple                  0         \n",
            "_________________________________________________________________\n",
            "dense_3 (Dense)              (None, 2)                 422       \n",
            "=================================================================\n",
            "Total params: 18,486,956\n",
            "Trainable params: 8,651,562\n",
            "Non-trainable params: 9,835,394\n",
            "_________________________________________________________________\n"
          ],
          "name": "stdout"
        }
      ]
    },
    {
      "cell_type": "code",
      "metadata": {
        "id": "Eyj6_iBGXL2O",
        "colab_type": "code",
        "colab": {}
      },
      "source": [
        ""
      ],
      "execution_count": 0,
      "outputs": []
    }
  ]
}