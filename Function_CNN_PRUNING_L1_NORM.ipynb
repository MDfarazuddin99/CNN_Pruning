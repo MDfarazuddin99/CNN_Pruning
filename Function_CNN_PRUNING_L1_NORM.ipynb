{
  "nbformat": 4,
  "nbformat_minor": 0,
  "metadata": {
    "colab": {
      "name": "Function_CNN_PRUNING_L1_NORM.ipynb",
      "provenance": [],
      "collapsed_sections": [],
      "toc_visible": true
    },
    "kernelspec": {
      "name": "python3",
      "display_name": "Python 3"
    }
  },
  "cells": [
    {
      "cell_type": "code",
      "metadata": {
        "id": "KixoT63DBbym",
        "colab_type": "code",
        "colab": {
          "base_uri": "https://localhost:8080/",
          "height": 173
        },
        "outputId": "d5f6f510-40dd-4872-b997-b0d16f1483d2"
      },
      "source": [
        "!pip install kerassurgeon\n",
        "import numpy as np\n",
        "import tensorflow as tf\n",
        "from keras.datasets import cifar10\n",
        "from keras.utils import np_utils\n",
        "import matplotlib.pyplot as plt\n",
        "from keras.models import Sequential\n",
        "from keras.layers import Dense, Conv2D, MaxPooling2D, Dropout, Flatten, GlobalAveragePooling2D\n",
        "from keras.models import load_model\n",
        "from kerassurgeon import identify \n",
        "from kerassurgeon.operations import delete_channels,delete_layer\n",
        "from kerassurgeon import Surgeon"
      ],
      "execution_count": 16,
      "outputs": [
        {
          "output_type": "stream",
          "text": [
            "Requirement already satisfied: kerassurgeon in /usr/local/lib/python3.6/dist-packages (0.1.3)\n",
            "Requirement already satisfied: keras>=2.0.7 in /usr/local/lib/python3.6/dist-packages (from kerassurgeon) (2.2.5)\n",
            "Requirement already satisfied: scipy>=0.14 in /usr/local/lib/python3.6/dist-packages (from keras>=2.0.7->kerassurgeon) (1.4.1)\n",
            "Requirement already satisfied: six>=1.9.0 in /usr/local/lib/python3.6/dist-packages (from keras>=2.0.7->kerassurgeon) (1.12.0)\n",
            "Requirement already satisfied: keras-applications>=1.0.8 in /usr/local/lib/python3.6/dist-packages (from keras>=2.0.7->kerassurgeon) (1.0.8)\n",
            "Requirement already satisfied: numpy>=1.9.1 in /usr/local/lib/python3.6/dist-packages (from keras>=2.0.7->kerassurgeon) (1.17.5)\n",
            "Requirement already satisfied: pyyaml in /usr/local/lib/python3.6/dist-packages (from keras>=2.0.7->kerassurgeon) (3.13)\n",
            "Requirement already satisfied: h5py in /usr/local/lib/python3.6/dist-packages (from keras>=2.0.7->kerassurgeon) (2.8.0)\n",
            "Requirement already satisfied: keras-preprocessing>=1.1.0 in /usr/local/lib/python3.6/dist-packages (from keras>=2.0.7->kerassurgeon) (1.1.0)\n"
          ],
          "name": "stdout"
        }
      ]
    },
    {
      "cell_type": "code",
      "metadata": {
        "id": "Z6m0-GgoBphR",
        "colab_type": "code",
        "colab": {}
      },
      "source": [
        "(x_train,y_train),(x_test,y_test) = cifar10.load_data()\n",
        "\n",
        "def normalize(x_train,x_test):\n",
        "    mean = np.mean(x_train,axis=(0,1,2,3))\n",
        "    std = np.std(x_train, axis=(0, 1, 2, 3))\n",
        "    x_train = (x_train-mean)/(std+1e-7)\n",
        "    x_test = (x_test-mean)/(std+1e-7)\n",
        "    return x_train, x_test\n",
        "\n",
        "x_train , x_test = normalize(x_train,x_test)\n",
        "\n",
        "y_train = np_utils.to_categorical(y_train,10)\n",
        "y_test = np_utils.to_categorical(y_test,10)\n"
      ],
      "execution_count": 0,
      "outputs": []
    },
    {
      "cell_type": "code",
      "metadata": {
        "id": "AJbL7C5fCCMW",
        "colab_type": "code",
        "colab": {}
      },
      "source": [
        "import tensorflow.compat.v1 as tf\n",
        "tf.disable_v2_behavior()\n",
        "\n",
        "\n",
        "\n",
        "model_1 = Sequential()\n",
        "\n",
        "model_1.add(Conv2D(32,(3,3),activation='relu',input_shape=x_train.shape[1:]))\n",
        "\n",
        "model_1.add(MaxPooling2D(pool_size=(2,2)))\n",
        "\n",
        "model_1.add(Conv2D(32,(3,3),activation='relu'))\n",
        "\n",
        "model_1.add(MaxPooling2D(pool_size=(2,2)))\n",
        "\n",
        "model_1.add(Conv2D(64,(3,3),activation='relu'))\n",
        "\n",
        "model_1.add(MaxPooling2D(pool_size=(2,2)))\n",
        "\n",
        "model_1.add(GlobalAveragePooling2D())\n",
        "model_1.add(Dense(10,activation='softmax'))\n",
        "\n",
        "model_2 = Sequential()\n",
        "model_2.add(Conv2D(32, (3, 3), padding='same',activation='relu',\n",
        "                 input_shape=x_train.shape[1:]))\n",
        "\n",
        "model_2.add(Conv2D(32, (3, 3),activation='relu'))\n",
        "\n",
        "model_2.add(MaxPooling2D(pool_size=(2, 2)))\n",
        "model_2.add(Dropout(0.25))\n",
        "\n",
        "model_2.add(Conv2D(64, (3, 3), padding='same',activation='relu'))\n",
        "\n",
        "model_2.add(Conv2D(64, (3, 3),activation='relu',))\n",
        "\n",
        "model_2.add(MaxPooling2D(pool_size=(2, 2)))\n",
        "model_2.add(Dropout(0.25))\n",
        "\n",
        "model_2.add(Flatten())\n",
        "model_2.add(Dense(512,activation='relu',))\n",
        "\n",
        "model_2.add(Dropout(0.5))\n",
        "model_2.add(Dense(10,activation='softmax',))\n"
      ],
      "execution_count": 0,
      "outputs": []
    },
    {
      "cell_type": "code",
      "metadata": {
        "id": "L51D7iHtCUZ1",
        "colab_type": "code",
        "colab": {
          "base_uri": "https://localhost:8080/",
          "height": 433
        },
        "outputId": "23c38a52-18c9-45ec-e933-3e4cdfcabc09"
      },
      "source": [
        "\n",
        "my_model = model_1\n",
        "my_model.summary()"
      ],
      "execution_count": 19,
      "outputs": [
        {
          "output_type": "stream",
          "text": [
            "Model: \"sequential_3\"\n",
            "_________________________________________________________________\n",
            "Layer (type)                 Output Shape              Param #   \n",
            "=================================================================\n",
            "conv2d_8 (Conv2D)            (None, 30, 30, 32)        896       \n",
            "_________________________________________________________________\n",
            "max_pooling2d_6 (MaxPooling2 (None, 15, 15, 32)        0         \n",
            "_________________________________________________________________\n",
            "conv2d_9 (Conv2D)            (None, 13, 13, 32)        9248      \n",
            "_________________________________________________________________\n",
            "max_pooling2d_7 (MaxPooling2 (None, 6, 6, 32)          0         \n",
            "_________________________________________________________________\n",
            "conv2d_10 (Conv2D)           (None, 4, 4, 64)          18496     \n",
            "_________________________________________________________________\n",
            "max_pooling2d_8 (MaxPooling2 (None, 2, 2, 64)          0         \n",
            "_________________________________________________________________\n",
            "global_average_pooling2d_2 ( (None, 64)                0         \n",
            "_________________________________________________________________\n",
            "dense_4 (Dense)              (None, 10)                650       \n",
            "=================================================================\n",
            "Total params: 29,290\n",
            "Trainable params: 29,290\n",
            "Non-trainable params: 0\n",
            "_________________________________________________________________\n"
          ],
          "name": "stdout"
        }
      ]
    },
    {
      "cell_type": "code",
      "metadata": {
        "id": "SCYjlN9NCHPO",
        "colab_type": "code",
        "colab": {
          "base_uri": "https://localhost:8080/",
          "height": 381
        },
        "outputId": "be3210d5-e905-4f63-f1d5-3c1a276170f4"
      },
      "source": [
        "\n",
        "# Run this cell if you don't have the weights saved\n",
        "import tensorflow.compat.v1 as tf\n",
        "tf.disable_v2_behavior()\n",
        "\n",
        "my_model.compile(loss='categorical_crossentropy',optimizer='adam',metrics=['accuracy'])\n",
        "my_model.fit(x_train, y_train, batch_size=32, epochs=10, verbose=1, validation_split=0.2, shuffle=True)\n",
        "my_model.save('drive/My Drive/Colab Notebooks/before_pruning.h5')"
      ],
      "execution_count": 20,
      "outputs": [
        {
          "output_type": "stream",
          "text": [
            "Train on 40000 samples, validate on 10000 samples\n",
            "Epoch 1/10\n",
            "40000/40000 [==============================] - 50s 1ms/step - loss: 1.5844 - acc: 0.4223 - val_loss: 1.3364 - val_acc: 0.5231\n",
            "Epoch 2/10\n",
            "40000/40000 [==============================] - 49s 1ms/step - loss: 1.2328 - acc: 0.5652 - val_loss: 1.1718 - val_acc: 0.5955\n",
            "Epoch 3/10\n",
            "40000/40000 [==============================] - 48s 1ms/step - loss: 1.1024 - acc: 0.6125 - val_loss: 1.0480 - val_acc: 0.6411\n",
            "Epoch 4/10\n",
            "40000/40000 [==============================] - 49s 1ms/step - loss: 1.0117 - acc: 0.6463 - val_loss: 1.0172 - val_acc: 0.6489\n",
            "Epoch 5/10\n",
            "40000/40000 [==============================] - 48s 1ms/step - loss: 0.9403 - acc: 0.6721 - val_loss: 0.9866 - val_acc: 0.6600\n",
            "Epoch 6/10\n",
            "40000/40000 [==============================] - 49s 1ms/step - loss: 0.8883 - acc: 0.6921 - val_loss: 0.9551 - val_acc: 0.6731\n",
            "Epoch 7/10\n",
            "40000/40000 [==============================] - 49s 1ms/step - loss: 0.8425 - acc: 0.7072 - val_loss: 0.9283 - val_acc: 0.6778\n",
            "Epoch 8/10\n",
            "40000/40000 [==============================] - 49s 1ms/step - loss: 0.8049 - acc: 0.7209 - val_loss: 0.9121 - val_acc: 0.6850\n",
            "Epoch 9/10\n",
            "40000/40000 [==============================] - 48s 1ms/step - loss: 0.7670 - acc: 0.7333 - val_loss: 0.8689 - val_acc: 0.7023\n",
            "Epoch 10/10\n",
            "40000/40000 [==============================] - 48s 1ms/step - loss: 0.7408 - acc: 0.7436 - val_loss: 0.8619 - val_acc: 0.7027\n"
          ],
          "name": "stdout"
        }
      ]
    },
    {
      "cell_type": "code",
      "metadata": {
        "id": "hK6HXipnCQ-5",
        "colab_type": "code",
        "colab": {
          "base_uri": "https://localhost:8080/",
          "height": 86
        },
        "outputId": "fd9df541-882a-4ab1-c41c-0e92eb2988c0"
      },
      "source": [
        "my_model = load_model('drive/My Drive/Colab Notebooks/before_pruning.h5')\n",
        "score_train = my_model.evaluate(x_train,y_train) \n",
        "\n",
        "print('Accuracy on the Train Images: ', score_train[1])\n",
        "\n",
        "score_test = my_model.evaluate(x_test, y_test)\n",
        "\n",
        "print('Accuracy on the Test Images: ', score_test[1])"
      ],
      "execution_count": 21,
      "outputs": [
        {
          "output_type": "stream",
          "text": [
            "50000/50000 [==============================] - 19s 377us/step\n",
            "Accuracy on the Train Images:  0.75752\n",
            "10000/10000 [==============================] - 4s 382us/step\n",
            "Accuracy on the Test Images:  0.7024\n"
          ],
          "name": "stdout"
        }
      ]
    },
    {
      "cell_type": "code",
      "metadata": {
        "id": "QF8RQI6bCgYy",
        "colab_type": "code",
        "colab": {
          "base_uri": "https://localhost:8080/",
          "height": 52
        },
        "outputId": "c472d490-15d6-4afe-b51f-0da4e618a8a2"
      },
      "source": [
        "def my_get_all_conv_layers(model):\n",
        "    all_conv_layers = list()\n",
        "    for i,each_layer in enumerate(model.layers):\n",
        "        if (each_layer.name[0:6] == 'conv2d'):\n",
        "            all_conv_layers.append(i)\n",
        "    return all_conv_layers\n",
        "\n",
        "def my_get_all_dense_layers(model):\n",
        "    all_dense_layers = list()\n",
        "    for i,each_layer in enumerate(model.layers):\n",
        "        if (each_layer.name[0:5] == 'dense'):\n",
        "            all_dense_layers.append(i)\n",
        "    return all_dense_layers\n",
        "\n",
        "\n",
        "all_dense_layers = my_get_all_dense_layers(my_model)\n",
        "\n",
        "all_conv_layers = my_get_all_conv_layers(my_model)\n",
        "\n",
        "print('All convolution layers = ',all_conv_layers,'\\nAll dense layers = ',all_dense_layers)\n"
      ],
      "execution_count": 22,
      "outputs": [
        {
          "output_type": "stream",
          "text": [
            "All convolution layers =  [0, 2, 4] \n",
            "All dense layers =  [7]\n"
          ],
          "name": "stdout"
        }
      ]
    },
    {
      "cell_type": "code",
      "metadata": {
        "id": "y-SjswHRCsZO",
        "colab_type": "code",
        "colab": {}
      },
      "source": [
        "def my_in_conv_layers_get_L1_norms_sorted_indices_and_values(model,graph):\n",
        "    weights = list()\n",
        "    all_conv_layers = my_get_all_conv_layers(model)\n",
        "    for i in all_conv_layers:\n",
        "        weights.append(model.layers[i].get_weights()[0])\n",
        "    layer_wise_filter_sorted_indices = list()\n",
        "    layer_wise_filter_sorted_values = list()\n",
        "    for i in range(len(weights)):\n",
        "        weight = weights[i]\n",
        "        num_filters = len(weight[0,0,0,:])\n",
        "        # print(num_filters)\n",
        "        weights_dict = dict() \n",
        "        for j in range(num_filters):\n",
        "            weights_sum = np.sum(abs(weight[:,:,:,j]))\n",
        "            filtr = 'filter {}'.format(j)\n",
        "            weights_dict[filtr] = weights_sum\n",
        "        \n",
        "        weights_dict_sorted = sorted(weights_dict.items(),key = lambda kv:kv[1]) \n",
        "        # print('L1 norm of conv2D_{} layer'.format(i+1),weights_dict_sorted)\n",
        "\n",
        "        weight_values = list()\n",
        "        filter_indices = list()\n",
        "\n",
        "        for element in weights_dict_sorted:\n",
        "            filter_indices.append(int(element[0][6:]))  # extracting the index of filter from string (tentative try to come up with better code)\n",
        "            weight_values.append(element[1]) \n",
        "    \n",
        "        layer_wise_filter_sorted_indices.append(filter_indices)\n",
        "        layer_wise_filter_sorted_values.append(weight_values)\n",
        "\n",
        "        if graph == True:\n",
        "                x = np.arange(num_filters)\n",
        "                plt.figure(i+1,figsize=(7,5))\n",
        "                plt.plot(x,np.array(weight_values))\n",
        "                plt.axhline(y=np.mean(np.array(weight_values)),c='r')\n",
        "                for j in range(len(layer_wise_filter_sorted_values[i])):\n",
        "                    if(np.mean(np.array(weight_values)) < weight_values[j]):\n",
        "                        plt.axvline(x=j,c='r')\n",
        "                        break\n",
        "\n",
        "                plt.xlabel('filter number')\n",
        "                plt.ylabel('L1 norm')\n",
        "                plt.title('Conv2d_{}'.format(i+1))\n",
        "                plt.grid(True)\n",
        "                plt.style.use(['classic'])\n",
        "    return layer_wise_filter_sorted_indices,layer_wise_filter_sorted_values"
      ],
      "execution_count": 0,
      "outputs": []
    },
    {
      "cell_type": "code",
      "metadata": {
        "id": "jyEmr29ECv2x",
        "colab_type": "code",
        "colab": {
          "base_uri": "https://localhost:8080/",
          "height": 1000
        },
        "outputId": "55c5850f-be2f-4336-86c6-e88c44a7d5d0"
      },
      "source": [
        " my_in_conv_layers_get_L1_norms_sorted_indices_and_values(my_model,True)"
      ],
      "execution_count": 24,
      "outputs": [
        {
          "output_type": "execute_result",
          "data": {
            "text/plain": [
              "([[22,\n",
              "   17,\n",
              "   9,\n",
              "   14,\n",
              "   7,\n",
              "   27,\n",
              "   15,\n",
              "   25,\n",
              "   1,\n",
              "   18,\n",
              "   26,\n",
              "   10,\n",
              "   2,\n",
              "   0,\n",
              "   23,\n",
              "   16,\n",
              "   13,\n",
              "   21,\n",
              "   4,\n",
              "   12,\n",
              "   5,\n",
              "   20,\n",
              "   24,\n",
              "   11,\n",
              "   3,\n",
              "   6,\n",
              "   28,\n",
              "   30,\n",
              "   19,\n",
              "   29,\n",
              "   31,\n",
              "   8],\n",
              "  [21,\n",
              "   0,\n",
              "   1,\n",
              "   26,\n",
              "   20,\n",
              "   6,\n",
              "   8,\n",
              "   11,\n",
              "   28,\n",
              "   2,\n",
              "   9,\n",
              "   18,\n",
              "   19,\n",
              "   5,\n",
              "   16,\n",
              "   7,\n",
              "   12,\n",
              "   27,\n",
              "   25,\n",
              "   24,\n",
              "   29,\n",
              "   22,\n",
              "   17,\n",
              "   4,\n",
              "   30,\n",
              "   10,\n",
              "   13,\n",
              "   15,\n",
              "   31,\n",
              "   14,\n",
              "   23,\n",
              "   3],\n",
              "  [28,\n",
              "   31,\n",
              "   45,\n",
              "   50,\n",
              "   1,\n",
              "   8,\n",
              "   27,\n",
              "   15,\n",
              "   11,\n",
              "   9,\n",
              "   25,\n",
              "   61,\n",
              "   52,\n",
              "   20,\n",
              "   4,\n",
              "   42,\n",
              "   56,\n",
              "   29,\n",
              "   40,\n",
              "   38,\n",
              "   33,\n",
              "   14,\n",
              "   24,\n",
              "   13,\n",
              "   43,\n",
              "   26,\n",
              "   39,\n",
              "   2,\n",
              "   58,\n",
              "   51,\n",
              "   59,\n",
              "   46,\n",
              "   12,\n",
              "   57,\n",
              "   17,\n",
              "   21,\n",
              "   19,\n",
              "   55,\n",
              "   63,\n",
              "   37,\n",
              "   32,\n",
              "   0,\n",
              "   30,\n",
              "   10,\n",
              "   6,\n",
              "   35,\n",
              "   53,\n",
              "   47,\n",
              "   5,\n",
              "   3,\n",
              "   60,\n",
              "   41,\n",
              "   22,\n",
              "   49,\n",
              "   54,\n",
              "   44,\n",
              "   7,\n",
              "   18,\n",
              "   23,\n",
              "   36,\n",
              "   62,\n",
              "   34,\n",
              "   48,\n",
              "   16]],\n",
              " [[1.9571048,\n",
              "   2.20369,\n",
              "   2.7272203,\n",
              "   2.7713094,\n",
              "   2.7966354,\n",
              "   2.906621,\n",
              "   2.9221056,\n",
              "   2.9281409,\n",
              "   3.0141594,\n",
              "   3.1440961,\n",
              "   3.3200185,\n",
              "   3.354201,\n",
              "   3.4549525,\n",
              "   3.5118954,\n",
              "   3.5219517,\n",
              "   3.5686238,\n",
              "   3.5846846,\n",
              "   3.5952556,\n",
              "   3.763514,\n",
              "   3.7974238,\n",
              "   3.8478615,\n",
              "   3.892536,\n",
              "   4.0003643,\n",
              "   4.0008683,\n",
              "   4.017642,\n",
              "   4.0189466,\n",
              "   4.1005464,\n",
              "   4.1250114,\n",
              "   4.149751,\n",
              "   4.245366,\n",
              "   4.570594,\n",
              "   5.073792],\n",
              "  [17.24994,\n",
              "   27.931093,\n",
              "   28.072224,\n",
              "   28.108267,\n",
              "   28.180323,\n",
              "   30.213993,\n",
              "   30.453918,\n",
              "   30.813751,\n",
              "   31.346653,\n",
              "   31.427017,\n",
              "   31.54804,\n",
              "   31.95531,\n",
              "   32.68097,\n",
              "   33.211105,\n",
              "   33.29258,\n",
              "   33.322784,\n",
              "   33.74458,\n",
              "   33.750187,\n",
              "   34.00469,\n",
              "   34.11337,\n",
              "   34.303032,\n",
              "   34.798786,\n",
              "   35.063347,\n",
              "   35.468956,\n",
              "   35.66324,\n",
              "   36.0023,\n",
              "   36.42784,\n",
              "   37.53643,\n",
              "   38.944035,\n",
              "   41.067757,\n",
              "   42.80287,\n",
              "   50.67998],\n",
              "  [13.328228,\n",
              "   13.453909,\n",
              "   13.492601,\n",
              "   13.751442,\n",
              "   13.831404,\n",
              "   15.261734,\n",
              "   15.3438,\n",
              "   24.104416,\n",
              "   26.417938,\n",
              "   27.448391,\n",
              "   27.522058,\n",
              "   27.932026,\n",
              "   28.154774,\n",
              "   28.562548,\n",
              "   28.824718,\n",
              "   29.194313,\n",
              "   29.315096,\n",
              "   29.545048,\n",
              "   29.633574,\n",
              "   29.734264,\n",
              "   29.964027,\n",
              "   29.964634,\n",
              "   30.044327,\n",
              "   30.229046,\n",
              "   30.333874,\n",
              "   30.351261,\n",
              "   30.407661,\n",
              "   30.57346,\n",
              "   30.757723,\n",
              "   30.842808,\n",
              "   30.926435,\n",
              "   31.082859,\n",
              "   31.090607,\n",
              "   31.110737,\n",
              "   31.198952,\n",
              "   31.281742,\n",
              "   31.344038,\n",
              "   31.69217,\n",
              "   31.80271,\n",
              "   31.961391,\n",
              "   32.09352,\n",
              "   32.123016,\n",
              "   32.209984,\n",
              "   32.27568,\n",
              "   32.33102,\n",
              "   32.380814,\n",
              "   32.54408,\n",
              "   32.764572,\n",
              "   32.940903,\n",
              "   33.088867,\n",
              "   33.180283,\n",
              "   33.248093,\n",
              "   33.86506,\n",
              "   33.948265,\n",
              "   34.412758,\n",
              "   35.23693,\n",
              "   35.50235,\n",
              "   35.567772,\n",
              "   36.37589,\n",
              "   36.38911,\n",
              "   36.474106,\n",
              "   36.52136,\n",
              "   36.572742,\n",
              "   37.950066]])"
            ]
          },
          "metadata": {
            "tags": []
          },
          "execution_count": 24
        },
        {
          "output_type": "display_data",
          "data": {
            "image/png": "[encoded data removed]",
            "text/plain": [
              "<Figure size 560x400 with 1 Axes>"
            ]
          },
          "metadata": {
            "tags": []
          }
        },
        {
          "output_type": "display_data",
          "data": {
            "image/png": "[encoded data removed]",
            "text/plain": [
              "<Figure size 560x400 with 1 Axes>"
            ]
          },
          "metadata": {
            "tags": []
          }
        },
        {
          "output_type": "display_data",
          "data": {
            "image/png": "[encoded data removed]",
            "text/plain": [
              "<Figure size 560x400 with 1 Axes>"
            ]
          },
          "metadata": {
            "tags": []
          }
        }
      ]
    },
    {
      "cell_type": "code",
      "metadata": {
        "id": "v8XjAN1kC033",
        "colab_type": "code",
        "colab": {
          "base_uri": "https://localhost:8080/",
          "height": 34
        },
        "outputId": "481de7e6-2fc4-47fb-ad24-56a69859b722"
      },
      "source": [
        "def my_get_prune_filter_indices(model):\n",
        "    layer_wise_filter_sorted_indices,layer_wise_filter_sorted_values = my_in_conv_layers_get_L1_norms_sorted_indices_and_values(model,False)\n",
        "    all_conv_layers = my_get_all_conv_layers(model)\n",
        "    thresh_hold_means = list()\n",
        "    for i in range(len(all_conv_layers)):\n",
        "        thresh_hold_means.append(np.mean(np.array(layer_wise_filter_sorted_values[i])))\n",
        "    prune_filter_indices = list()\n",
        "    for i in range(len(all_conv_layers)):\n",
        "        for j in range(len(layer_wise_filter_sorted_values[i])):\n",
        "            if(thresh_hold_means[i] < layer_wise_filter_sorted_values[i][j]):\n",
        "                prune_filter_indices.append(j)\n",
        "                break\n",
        "    return prune_filter_indices\n",
        "prune_filter_indices = my_get_prune_filter_indices(my_model)\n",
        "prune_filter_indices"
      ],
      "execution_count": 25,
      "outputs": [
        {
          "output_type": "execute_result",
          "data": {
            "text/plain": [
              "[15, 16, 19]"
            ]
          },
          "metadata": {
            "tags": []
          },
          "execution_count": 25
        }
      ]
    },
    {
      "cell_type": "code",
      "metadata": {
        "id": "lOAkcpHPC-33",
        "colab_type": "code",
        "colab": {}
      },
      "source": [
        "def my_delete_filters(model):\n",
        "    layer_wise_filter_sorted_indices,layer_wise_filter_sorted_values = my_in_conv_layers_get_L1_norms_sorted_indices_and_values(model,False)\n",
        "    prune_filter_indices = my_get_prune_filter_indices(model)\n",
        "    surgeon = Surgeon(my_model)\n",
        "    for index,value in enumerate(all_conv_layers):\n",
        "        surgeon.add_job('delete_channels',model.layers[value],channels = layer_wise_filter_sorted_indices[index][0:prune_filter_indices[index]])\n",
        "    model_new = surgeon.operate()\n",
        "    return model_new\n"
      ],
      "execution_count": 0,
      "outputs": []
    },
    {
      "cell_type": "code",
      "metadata": {
        "id": "qaDUeme5DOAi",
        "colab_type": "code",
        "colab": {
          "base_uri": "https://localhost:8080/",
          "height": 69
        },
        "outputId": "7ba4633f-e1ca-48d3-8e9a-fe99264d88aa"
      },
      "source": [
        "# Run this cell if you don't have the weights saved\n",
        "model_new = my_delete_filters(my_model)\n",
        "model_new.compile(loss='categorical_crossentropy',optimizer='adam',metrics=['accuracy'])\n",
        "model_new.save('drive/My Drive/ColabNotebooks/just_after_pruning.h5')"
      ],
      "execution_count": 27,
      "outputs": [
        {
          "output_type": "stream",
          "text": [
            "Deleting 15/32 channels from layer: conv2d_8\n",
            "Deleting 16/32 channels from layer: conv2d_9\n",
            "Deleting 19/64 channels from layer: conv2d_10\n"
          ],
          "name": "stdout"
        }
      ]
    },
    {
      "cell_type": "code",
      "metadata": {
        "id": "fBkAm2oWDB7X",
        "colab_type": "code",
        "colab": {
          "base_uri": "https://localhost:8080/",
          "height": 468
        },
        "outputId": "80bb42a4-3b75-453c-901a-fa4293051e5e"
      },
      "source": [
        "model_new = load_model('drive/My Drive/ColabNotebooks/just_after_pruning.h5')\n",
        "model_new.summary()"
      ],
      "execution_count": 28,
      "outputs": [
        {
          "output_type": "stream",
          "text": [
            "Model: \"model_1\"\n",
            "_________________________________________________________________\n",
            "Layer (type)                 Output Shape              Param #   \n",
            "=================================================================\n",
            "conv2d_8_input (InputLayer)  (None, 32, 32, 3)         0         \n",
            "_________________________________________________________________\n",
            "conv2d_8 (Conv2D)            (None, 30, 30, 17)        476       \n",
            "_________________________________________________________________\n",
            "max_pooling2d_6 (MaxPooling2 (None, 15, 15, 17)        0         \n",
            "_________________________________________________________________\n",
            "conv2d_9 (Conv2D)            (None, 13, 13, 16)        2464      \n",
            "_________________________________________________________________\n",
            "max_pooling2d_7 (MaxPooling2 (None, 6, 6, 16)          0         \n",
            "_________________________________________________________________\n",
            "conv2d_10 (Conv2D)           (None, 4, 4, 45)          6525      \n",
            "_________________________________________________________________\n",
            "max_pooling2d_8 (MaxPooling2 (None, 2, 2, 45)          0         \n",
            "_________________________________________________________________\n",
            "global_average_pooling2d_2 ( (None, 45)                0         \n",
            "_________________________________________________________________\n",
            "dense_4 (Dense)              (None, 10)                460       \n",
            "=================================================================\n",
            "Total params: 9,925\n",
            "Trainable params: 9,925\n",
            "Non-trainable params: 0\n",
            "_________________________________________________________________\n"
          ],
          "name": "stdout"
        }
      ]
    },
    {
      "cell_type": "code",
      "metadata": {
        "id": "hA_0CbdsDP47",
        "colab_type": "code",
        "colab": {
          "base_uri": "https://localhost:8080/",
          "height": 86
        },
        "outputId": "0cb4d1f7-e1e1-40bf-fbcb-7d6fde113698"
      },
      "source": [
        "\n",
        "\n",
        "\n",
        "score_train = model_new.evaluate(x_train,y_train) \n",
        "\n",
        "print('Accuracy on the Train Images: ', score_train[1])\n",
        "\n",
        "score_test = model_new.evaluate(x_test, y_test)\n",
        "\n",
        "print('Accuracy on the Test Images: ', score_test[1])\n"
      ],
      "execution_count": 29,
      "outputs": [
        {
          "output_type": "stream",
          "text": [
            "50000/50000 [==============================] - 17s 331us/step\n",
            "Accuracy on the Train Images:  0.25366\n",
            "10000/10000 [==============================] - 3s 315us/step\n",
            "Accuracy on the Test Images:  0.2478\n"
          ],
          "name": "stdout"
        }
      ]
    },
    {
      "cell_type": "code",
      "metadata": {
        "id": "0RDnEM3TDTt2",
        "colab_type": "code",
        "colab": {
          "base_uri": "https://localhost:8080/",
          "height": 381
        },
        "outputId": "0b64d88e-d1fb-440b-b1cc-0837060d5ebc"
      },
      "source": [
        "# Run this cell if you don't have the weights saved\n",
        "model_new.fit(x_train, y_train, batch_size=32, epochs=10, verbose=1, validation_split=0.2, shuffle=True)\n",
        "model_new.save('drive/My Drive/Colab Notebooks/after_training_pruned_model.h5')"
      ],
      "execution_count": 30,
      "outputs": [
        {
          "output_type": "stream",
          "text": [
            "Train on 40000 samples, validate on 10000 samples\n",
            "Epoch 1/10\n",
            "40000/40000 [==============================] - 38s 944us/step - loss: 1.0916 - acc: 0.6148 - val_loss: 1.0713 - val_acc: 0.6251\n",
            "Epoch 2/10\n",
            "40000/40000 [==============================] - 38s 959us/step - loss: 0.9574 - acc: 0.6642 - val_loss: 1.0170 - val_acc: 0.6441\n",
            "Epoch 3/10\n",
            "40000/40000 [==============================] - 39s 965us/step - loss: 0.9136 - acc: 0.6803 - val_loss: 0.9626 - val_acc: 0.6658\n",
            "Epoch 4/10\n",
            "40000/40000 [==============================] - 40s 990us/step - loss: 0.8796 - acc: 0.6914 - val_loss: 0.9731 - val_acc: 0.6663\n",
            "Epoch 5/10\n",
            "40000/40000 [==============================] - 39s 968us/step - loss: 0.8549 - acc: 0.6996 - val_loss: 0.9537 - val_acc: 0.6701\n",
            "Epoch 6/10\n",
            "40000/40000 [==============================] - 39s 973us/step - loss: 0.8387 - acc: 0.7062 - val_loss: 0.9624 - val_acc: 0.6643\n",
            "Epoch 7/10\n",
            "40000/40000 [==============================] - 38s 961us/step - loss: 0.8260 - acc: 0.7097 - val_loss: 0.9325 - val_acc: 0.6827\n",
            "Epoch 8/10\n",
            "40000/40000 [==============================] - 39s 966us/step - loss: 0.8076 - acc: 0.7175 - val_loss: 0.9312 - val_acc: 0.6815\n",
            "Epoch 9/10\n",
            "40000/40000 [==============================] - 38s 961us/step - loss: 0.7969 - acc: 0.7210 - val_loss: 0.9513 - val_acc: 0.6754\n",
            "Epoch 10/10\n",
            "40000/40000 [==============================] - 39s 975us/step - loss: 0.7812 - acc: 0.7274 - val_loss: 0.9359 - val_acc: 0.6867\n"
          ],
          "name": "stdout"
        }
      ]
    },
    {
      "cell_type": "code",
      "metadata": {
        "id": "U7I8WwKqDcn8",
        "colab_type": "code",
        "colab": {
          "base_uri": "https://localhost:8080/",
          "height": 86
        },
        "outputId": "a91d70ba-1418-4b78-ead6-3c87843e5830"
      },
      "source": [
        "model_new = load_model('drive/My Drive/Colab Notebooks/after_training_pruned_model.h5')\n",
        "\n",
        "score_train = model_new.evaluate(x_train,y_train) \n",
        "\n",
        "print('Accuracy on the Train Images: ', score_train[1])\n",
        "\n",
        "score_test = model_new.evaluate(x_test, y_test)\n",
        "\n",
        "print('Accuracy on the Test Images: ', score_test[1])\n",
        "\n"
      ],
      "execution_count": 34,
      "outputs": [
        {
          "output_type": "stream",
          "text": [
            "50000/50000 [==============================] - 18s 354us/step\n",
            "Accuracy on the Train Images:  0.72552\n",
            "10000/10000 [==============================] - 4s 358us/step\n",
            "Accuracy on the Test Images:  0.6757\n"
          ],
          "name": "stdout"
        }
      ]
    },
    {
      "cell_type": "code",
      "metadata": {
        "id": "VpN8DRweDg92",
        "colab_type": "code",
        "colab": {}
      },
      "source": [
        ""
      ],
      "execution_count": 0,
      "outputs": []
    }
  ]
}