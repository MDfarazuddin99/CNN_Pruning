{
  "nbformat": 4,
  "nbformat_minor": 0,
  "metadata": {
    "colab": {
      "name": "Untitled1.ipynb",
      "provenance": [],
      "collapsed_sections": [],
      "mount_file_id": "1pKdwAzgfwhYc4JGW7E1yLhgB6TRLgTsD",
      "authorship_tag": "ABX9TyMn9gImxvyYYazPQ69/Eh+6",
      "include_colab_link": true
    },
    "kernelspec": {
      "name": "python3",
      "display_name": "Python 3"
    },
    "accelerator": "GPU"
  },
  "cells": [
    {
      "cell_type": "markdown",
      "metadata": {
        "id": "view-in-github",
        "colab_type": "text"
      },
      "source": [
        "<a href=\"https://colab.research.google.com/github/MDfarazuddin99/CNN_Pruning/blob/master/Transfer_learning_pruning.ipynb\" target=\"_parent\"><img src=\"https://colab.research.google.com/assets/colab-badge.svg\" alt=\"Open In Colab\"/></a>"
      ]
    },
    {
      "cell_type": "code",
      "metadata": {
        "id": "YE0Zsw1xe_hV",
        "colab_type": "code",
        "colab": {
          "base_uri": "https://localhost:8080/",
          "height": 84
        },
        "outputId": "956dbadd-6640-4274-892c-644f04a8a024"
      },
      "source": [
        "import time\n",
        "import os\n",
        "import math\n",
        "import numpy as np\n",
        "import pandas as pd\n",
        "# import GPyOpt\n",
        "import keras\n",
        "import random\n",
        "from itertools import product, combinations\n",
        "from collections import OrderedDict\n",
        "from keras.preprocessing import image\n",
        "from keras import layers, models, optimizers, callbacks, initializers\n",
        "from keras.applications import DenseNet121, VGG16, ResNet50\n",
        "from keras.callbacks import ReduceLROnPlateau\n",
        "from keras.models import load_model\n",
        "import keras\n",
        "from keras.datasets import cifar10\n",
        "from keras.preprocessing.image import ImageDataGenerator\n",
        "from keras.models import Sequential\n",
        "from keras.layers import Dense, Dropout, Activation, Flatten\n",
        "from keras.layers import Conv2D, MaxPooling2D, BatchNormalization\n",
        "from keras import optimizers\n",
        "import numpy as np\n",
        "from keras.layers.core import Lambda\n",
        "from keras import backend as K\n",
        "from keras import regularizers\n",
        "from keras.callbacks import ModelCheckpoint\n",
        "import matplotlib.pyplot as plt\n",
        "# !pip install kerassurgeon\n",
        "from kerassurgeon import identify \n",
        "from kerassurgeon.operations import delete_channels,delete_layer\n",
        "from kerassurgeon import Surgeon\n"
      ],
      "execution_count": 1,
      "outputs": [
        {
          "output_type": "stream",
          "text": [
            "Using TensorFlow backend.\n"
          ],
          "name": "stderr"
        },
        {
          "output_type": "display_data",
          "data": {
            "text/html": [
              "<p style=\"color: red;\">\n",
              "The default version of TensorFlow in Colab will soon switch to TensorFlow 2.x.<br>\n",
              "We recommend you <a href=\"https://www.tensorflow.org/guide/migrate\" target=\"_blank\">upgrade</a> now \n",
              "or ensure your notebook will continue to use TensorFlow 1.x via the <code>%tensorflow_version 1.x</code> magic:\n",
              "<a href=\"https://colab.research.google.com/notebooks/tensorflow_version.ipynb\" target=\"_blank\">more info</a>.</p>\n"
            ],
            "text/plain": [
              "<IPython.core.display.HTML object>"
            ]
          },
          "metadata": {
            "tags": []
          }
        }
      ]
    },
    {
      "cell_type": "code",
      "metadata": {
        "id": "u2ZPmTbWfDWk",
        "colab_type": "code",
        "colab": {}
      },
      "source": [
        "\n",
        "def normalize(X_train,X_test):\n",
        "    #this function normalize inputs for zero mean and unit variance\n",
        "    # it is used when training a model.\n",
        "    # Input: training set and test set\n",
        "    # Output: normalized training set and test set according to the trianing set statistics.\n",
        "    mean = np.mean(X_train,axis=(0,1,2,3))\n",
        "    std = np.std(X_train, axis=(0, 1, 2, 3))\n",
        "    X_train = (X_train-mean)/(std+1e-7)\n",
        "    X_test = (X_test-mean)/(std+1e-7)\n",
        "    return X_train, X_test\n",
        "\n",
        "\n",
        "def train(model, status):\n",
        "\n",
        "    # uncomment the below code \n",
        "\n",
        "    #training parameters\n",
        "    # DATA_FOLDER = \"/home/shabbeer/Research/CalTech101\"\n",
        "    # # DATA_FOLDER = \"CalTech101\"\n",
        "    # TRAIN_PATH = os.path.join(DATA_FOLDER, \"training\") # Path for training data\n",
        "    # VALID_PATH = os.path.join(DATA_FOLDER, \"validation\") # Path for validation data\n",
        "\n",
        "# delete the below code\n",
        "# __________________________\n",
        "    DATA_FOLDER = \"/content/drive/My Drive/dog\"\n",
        "    # DATA_FOLDER = \"CalTech101\"\n",
        "    TRAIN_PATH = os.path.join(DATA_FOLDER, \"train\") # Path for training data\n",
        "    VALID_PATH = os.path.join(DATA_FOLDER, \"val\") # Path for validation data\n",
        "# __________________________\n",
        "\n",
        "\n",
        "    NUMBER_OF_CLASSES = len(os.listdir(TRAIN_PATH)) # Number of classes of the dataset\n",
        "    EPOCHS = 20\n",
        "    learning_rate_reduction = ReduceLROnPlateau(monitor='val_acc', \n",
        "                                                patience=5, \n",
        "                                                verbose=1, \n",
        "                                                factor=np.sqrt(0.1), \n",
        "                                                min_lr=0.0001)\n",
        "    batch_size=8 # the mini-batch size to use for the dataset\n",
        "    learning_rate = 0.1\n",
        "    lr_decay = 1e-6\n",
        "    lr_drop = 20\n",
        "    datagen = image.ImageDataGenerator(preprocessing_function=keras.applications.vgg16.preprocess_input) # creating an instance of the data generator\n",
        "    train_generator = datagen.flow_from_directory(TRAIN_PATH, target_size=(224, 224), batch_size=batch_size) # creating the generator for training data\n",
        "    valid_generator = datagen.flow_from_directory(VALID_PATH, target_size=(224, 224), batch_size=batch_size) # creating the generator for validation data\n",
        "    #Adagrad = optimizers.Adagrad(lr=0.1)\n",
        "    def lr_scheduler(epoch):\n",
        "        return learning_rate * (0.5 ** (epoch // lr_drop))\n",
        "    reduce_lr = keras.callbacks.LearningRateScheduler(lr_scheduler)\n",
        "    ADAM = optimizers.Adam(lr=0.1, beta_1=0.9, beta_2=0.999, amsgrad=False)\n",
        "    model.compile(optimizer='ADAM', loss='categorical_crossentropy', metrics=['accuracy'])\n",
        "    # model.summary()\n",
        "    print(status)\n",
        "    if status==True:  \n",
        "        history = model.fit_generator(\n",
        "        train_generator,\n",
        "        validation_data=valid_generator, epochs=EPOCHS,\n",
        "        steps_per_epoch=len(train_generator) / batch_size,\n",
        "        validation_steps=len(valid_generator), callbacks=[reduce_lr])\n",
        "    else:\n",
        "        model = load_model('VGG16_CalTech101_best_model.h5')\n",
        "        history = model.evaluate_generator(valid_generator)\n",
        "        print(history)\n",
        "    #print(model.metrics_names)\n",
        "    model.save('VGG16_CalTech101_best_model.h5')\n",
        "    save_model = ModelCheckpoint('VGG16_CalTech101_best_model_after_pruning.h5', monitor='val_acc', verbose=0, save_best_only=True, save_weights_only=False, mode='auto', period=1)\n",
        "    return model, history\n"
      ],
      "execution_count": 0,
      "outputs": []
    },
    {
      "cell_type": "code",
      "metadata": {
        "id": "HeNYnNtpfG7p",
        "colab_type": "code",
        "colab": {}
      },
      "source": [
        "\n",
        "\n",
        "def my_get_all_dense_layers(model):\n",
        "    all_dense_layers = list()\n",
        "    for i,each_layer in enumerate(model.layers):\n",
        "        if (each_layer.name[0:5] == 'dense'):\n",
        "            all_dense_layers.append(i)\n",
        "    return all_dense_layers[0:len(all_dense_layers)-1]\n",
        "\n",
        "def my_get_all_conv_layers(model,first_time):\n",
        "    all_conv_layers = list()\n",
        "    for i,each_layer in enumerate(model.layers):\n",
        "        # if (each_layer.name[0:6] == 'conv2d'):\n",
        "        #     all_conv_layers.append(i)\n",
        "        if 'conv' in each_layer.name:\n",
        "            all_conv_layers.append(i)\n",
        "    return all_conv_layers if (first_time==True) else all_conv_layers[1:]\n",
        "\n",
        "def my_in_dense_layers_get_L1_norms_sorted_indices_and_values(model,graph):\n",
        "    weights = list()\n",
        "    all_dense_layers = my_get_all_dense_layers(model)\n",
        "    for i in all_dense_layers:\n",
        "        weights.append(model.layers[i].get_weights()[0])\n",
        "    layer_wise_filter_sorted_indices_dense = list()\n",
        "    layer_wise_filter_sorted_values_dense = list()\n",
        "    for i in range(len(weights)):\n",
        "        weight = weights[i]\n",
        "        num_filters = len(weight[0,:])\n",
        "        weights_dict = dict() \n",
        "        for j in range(num_filters):\n",
        "            weights_sum = np.sum(abs(weight[:,j]))\n",
        "            neuron = 'neuron {}'.format(j)\n",
        "            weights_dict[neuron] = weights_sum\n",
        "            # print(weights_dict[neuron])\n",
        "        \n",
        "        weights_dict_sorted = sorted(weights_dict.items(),key = lambda kv:kv[1]) \n",
        "        weight_values = list()\n",
        "        neuron_indices = list()\n",
        "        for element in weights_dict_sorted:\n",
        "            neuron_indices.append(int(element[0][6:]))\n",
        "            weight_values.append(element[1])\n",
        "        layer_wise_filter_sorted_indices_dense.append(neuron_indices)\n",
        "        layer_wise_filter_sorted_values_dense.append(weight_values)\n",
        "\n",
        "        if graph == True:\n",
        "                    x = np.arange(num_filters)\n",
        "                    plt.figure(i+1,figsize=(7,5))\n",
        "                    plt.plot(x,np.array(weight_values))\n",
        "                    plt.axhline(y=np.mean(np.array(weight_values)),c='r')\n",
        "                    for j in range(len(layer_wise_filter_sorted_values_dense[i])):\n",
        "                        if(np.mean(np.array(weight_values)) < weight_values[j]):\n",
        "                            plt.axvline(x=j,c='r')\n",
        "                            break\n",
        "\n",
        "                    plt.xlabel('filter number')\n",
        "                    plt.ylabel('L1 norm')\n",
        "                    plt.title('Conv2d_{}'.format(i+1))\n",
        "                    plt.grid(True)\n",
        "                    plt.style.use(['classic'])        \n",
        "\n",
        "    return layer_wise_filter_sorted_indices_dense,layer_wise_filter_sorted_values_dense\n",
        "\n",
        "def plot_histogram_l1_norms_dense(model):\n",
        "    _,a = my_in_dense_layers_get_L1_norms_sorted_indices_and_values(my_model_vgg,False)\n",
        "    all_dense_layers = my_get_all_dense_layers(model)\n",
        "    for i in range(len(all_dense_layers)):     \n",
        "        plt.figure(i,figsize=(7,7))\n",
        "        plt.hist(a[i-1],density=1, bins=150) \n",
        "        plt.xlabel('L1 Norms of dense_{}'.format(i+1))\n",
        "        plt.ylabel('Probability')\n",
        "        plt.style.use(['classic'])\n",
        "\n",
        "def my_in_conv_layers_get_L1_norms_sorted_indices_and_values(model,graph,first_time):\n",
        "    weights = list()\n",
        "    all_conv_layers = my_get_all_conv_layers(model,first_time)\n",
        "    for i in all_conv_layers:\n",
        "        # print('{}th layer'.format(i),all_conv_layers)\n",
        "        weights.append(model.layers[i].get_weights()[0])\n",
        "    layer_wise_filter_sorted_indices = list()\n",
        "    layer_wise_filter_sorted_values = list()\n",
        "    for i in range(len(weights)):\n",
        "        weight = weights[i]\n",
        "        num_filters = len(weight[0,0,0,:])\n",
        "        # print(num_filters)\n",
        "        weights_dict = dict() \n",
        "        for j in range(num_filters):\n",
        "            weights_sum = np.sum(abs(weight[:,:,:,j]))\n",
        "            filtr = 'filter {}'.format(j)\n",
        "            weights_dict[filtr] = weights_sum\n",
        "        \n",
        "        weights_dict_sorted = sorted(weights_dict.items(),key = lambda kv:kv[1]) \n",
        "        # print('L1 norm of conv2D_{} layer'.format(i+1),weights_dict_sorted)\n",
        "\n",
        "        weight_values = list()\n",
        "        filter_indices = list()\n",
        "\n",
        "        for element in weights_dict_sorted:\n",
        "            filter_indices.append(int(element[0][6:]))  # extracting the index of filter from string (tentative try to come up with better code)\n",
        "            weight_values.append(element[1]) \n",
        "    \n",
        "        layer_wise_filter_sorted_indices.append(filter_indices)\n",
        "        layer_wise_filter_sorted_values.append(weight_values)\n",
        "\n",
        "        if graph == True:\n",
        "                x = np.arange(num_filters)\n",
        "                plt.figure(i+1,figsize=(7,7))\n",
        "                plt.plot(x,np.array(weight_values))\n",
        "                plt.axhline(y=np.mean(np.array(weight_values)),c='r')\n",
        "                for j in range(len(layer_wise_filter_sorted_values[i-1])):\n",
        "                    if(np.mean(np.array(weight_values)) < weight_values[j]):\n",
        "                        plt.axvline(x=j,c='r')\n",
        "                        break\n",
        "                plt.style.use(['classic'])  \n",
        "\n",
        "\n",
        "                plt.xlabel('filter number')\n",
        "                plt.ylabel('L1 norm')\n",
        "                plt.title('Conv2d_{}'.format(i+1))\n",
        "                plt.grid(True)\n",
        "                plt.style.use(['classic'])\n",
        "\n",
        "\n",
        "    return layer_wise_filter_sorted_indices,layer_wise_filter_sorted_values\n",
        "\n",
        "def plot_histogram_l1_norms_conv(model,first_time):\n",
        "    _,a = my_in_conv_layers_get_L1_norms_sorted_indices_and_values(my_model_vgg,False,False)\n",
        "    all_conv_layers = my_get_all_conv_layers(model,first_time)\n",
        "    for i in range(len(all_conv_layers)):     \n",
        "        plt.figure(i,figsize=(7,7))\n",
        "        plt.hist(a[i-1],density=1, bins=150) \n",
        "        plt.xlabel('L1 Norms of conv_2d_{}'.format(i+1))\n",
        "        plt.ylabel('Probability')\n",
        "        plt.style.use(['classic'])\n",
        "\n",
        "def my_get_prune_neuron_indices(model):\n",
        "    layer_wise_neuron_sorted_indices,layer_wise_neuron_sorted_values = my_in_dense_layers_get_L1_norms_sorted_indices_and_values(model,False)\n",
        "    all_dense_layers = my_get_all_dense_layers(model)\n",
        "    thresh_hold_means = list()\n",
        "    for i in range(len(all_dense_layers)):\n",
        "        thresh_hold_means.append(np.mean(np.array(layer_wise_neuron_sorted_values[i])))\n",
        "    prune_neuron_indices = list()\n",
        "    for i in range(len(all_dense_layers)):\n",
        "        #-----bsearch\n",
        "        for j in range(len(layer_wise_neuron_sorted_values[i])):\n",
        "            if(thresh_hold_means[i] < layer_wise_neuron_sorted_values[i][j]):\n",
        "                prune_neuron_indices.append(j)\n",
        "                break\n",
        "    return prune_neuron_indices\n",
        "\n",
        "def my_get_prune_filter_indices(model,first_time ):\n",
        "    layer_wise_filter_sorted_indices,layer_wise_filter_sorted_values = my_in_conv_layers_get_L1_norms_sorted_indices_and_values(model, False,first_time)\n",
        "    all_conv_layers = my_get_all_conv_layers(model,first_time)\n",
        "    thresh_hold_means = list()\n",
        "    for i in range(len(all_conv_layers)):\n",
        "        # print(i,'/',len(all_conv_layers))\n",
        "        thresh_hold_means.append(np.mean(np.array(layer_wise_filter_sorted_values[i])))\n",
        "    prune_filter_indices = list()\n",
        "    for i in range(len(all_conv_layers)):\n",
        "        for j in range(len(layer_wise_filter_sorted_values[i])):\n",
        "            if(thresh_hold_means[i] < layer_wise_filter_sorted_values[i][j]):\n",
        "                prune_filter_indices.append(j)\n",
        "                break\n",
        "    return prune_filter_indices\n",
        "\n",
        "def my_delete_filters(model,first_time):\n",
        "    layer_wise_filter_sorted_indices,layer_wise_filter_sorted_values = my_in_conv_layers_get_L1_norms_sorted_indices_and_values(model,False,first_time)\n",
        "    \n",
        "    layer_wise_neuron_sorted_indices,layer_wise_neuron_sorted_values_ = my_in_dense_layers_get_L1_norms_sorted_indices_and_values(model,False)\n",
        "\n",
        "    prune_filter_indices = my_get_prune_filter_indices(model,first_time)\n",
        "    \n",
        "    prune_neuron_indices = my_get_prune_neuron_indices(model)\n",
        "\n",
        "    all_conv_layers = my_get_all_conv_layers(model,first_time)\n",
        "\n",
        "    all_dense_layers = my_get_all_dense_layers(model)\n",
        "    # print(all_conv_layers)\n",
        "    surgeon = Surgeon(model)\n",
        "    for index,value in enumerate(all_conv_layers):\n",
        "        # print(value,index,prune_filter_indices[index])\n",
        "        surgeon.add_job('delete_channels',model.layers[value],channels = layer_wise_filter_sorted_indices[index][0:prune_filter_indices[index]])\n",
        "    \n",
        "    for index,value in enumerate(all_dense_layers):\n",
        "        # print(value,index,prune_filter_indices[index])\n",
        "        surgeon.add_job('delete_channels',model.layers[value],channels = layer_wise_neuron_sorted_indices[index][0:prune_neuron_indices[index]])\n",
        "\n",
        "\n",
        "    model_new = surgeon.operate()\n",
        "    return model_new\n",
        "\n",
        "\n",
        "# # This is temporary code cell you may delete it \n",
        "# my_new_model = my_vgg.model\n",
        "# my_new_model = my_delete_filters(my_new_model,first_time=True)\n",
        "\n",
        "\n",
        "\n"
      ],
      "execution_count": 0,
      "outputs": []
    },
    {
      "cell_type": "code",
      "metadata": {
        "id": "JDMNZ2khfJg5",
        "colab_type": "code",
        "colab": {
          "base_uri": "https://localhost:8080/",
          "height": 1000
        },
        "outputId": "aa083ddb-2402-4bcf-9e1b-a448c61fd0e2"
      },
      "source": [
        "model = VGG16(input_shape=(224, 224, 3), weights='imagenet', include_top=True)\n",
        "#base_model.summary()\n",
        "X = model.layers[-4].output\n",
        "        # X = layers.MaxPooling2D(pool_size=(2, 2), strides=(1,1))(X)\n",
        "        # X = layers.Flatten()(X)\n",
        "        # # X = layers.Conv2D(512, kernel_size=(2, 2), strides=(1, 1))(X)\n",
        "        # # X = layers.BatchNormalization()(X)\n",
        "        # # X = layers.Activation('relu')(X)\n",
        "        # # X = layers.Conv2D(256, kernel_size=(2, 2), strides=(1, 1))(X)\n",
        "        # # X = layers.BatchNormalization()(X)\n",
        "        # # X = layers.Activation('relu')(X)\n",
        "        # # X = layers.GlobalMaxPooling2D()(X)\n",
        "X = layers.Dense(512, activation='elu', kernel_initializer = 'he_normal')(X)\n",
        "X = layers.BatchNormalization()(X)\n",
        "X = layers.Dropout(0.4)(X)\n",
        "X = layers.Dense(256, activation='selu', kernel_initializer = 'he_normal')(X)\n",
        "X = layers.BatchNormalization()(X)\n",
        "X = layers.Dropout(0.3)(X)\n",
        "\n",
        "# uncomment the below line\n",
        "# X = layers.Dense(101, activation='softmax', kernel_initializer='he_normal')(X)\n",
        "\n",
        "# Delete the line below \n",
        "X = layers.Dense(2, activation='softmax', kernel_initializer='he_normal')(X)\n",
        "\n",
        "\n",
        "\n",
        "model = models.Model(inputs=model.inputs, outputs=X)\n",
        "#base_model.summary()\n",
        "# for i in range(len(model.layers)-7):\n",
        "#     model.layers[i].trainable = False\n",
        "#base_model.summary()\n"
      ],
      "execution_count": 4,
      "outputs": [
        {
          "output_type": "stream",
          "text": [
            "WARNING:tensorflow:From /usr/local/lib/python3.6/dist-packages/keras/backend/tensorflow_backend.py:66: The name tf.get_default_graph is deprecated. Please use tf.compat.v1.get_default_graph instead.\n",
            "\n"
          ],
          "name": "stdout"
        },
        {
          "output_type": "stream",
          "text": [
            "WARNING:tensorflow:From /usr/local/lib/python3.6/dist-packages/keras/backend/tensorflow_backend.py:66: The name tf.get_default_graph is deprecated. Please use tf.compat.v1.get_default_graph instead.\n",
            "\n"
          ],
          "name": "stderr"
        },
        {
          "output_type": "stream",
          "text": [
            "WARNING:tensorflow:From /usr/local/lib/python3.6/dist-packages/keras/backend/tensorflow_backend.py:541: The name tf.placeholder is deprecated. Please use tf.compat.v1.placeholder instead.\n",
            "\n"
          ],
          "name": "stdout"
        },
        {
          "output_type": "stream",
          "text": [
            "WARNING:tensorflow:From /usr/local/lib/python3.6/dist-packages/keras/backend/tensorflow_backend.py:541: The name tf.placeholder is deprecated. Please use tf.compat.v1.placeholder instead.\n",
            "\n"
          ],
          "name": "stderr"
        },
        {
          "output_type": "stream",
          "text": [
            "WARNING:tensorflow:From /usr/local/lib/python3.6/dist-packages/keras/backend/tensorflow_backend.py:4432: The name tf.random_uniform is deprecated. Please use tf.random.uniform instead.\n",
            "\n"
          ],
          "name": "stdout"
        },
        {
          "output_type": "stream",
          "text": [
            "WARNING:tensorflow:From /usr/local/lib/python3.6/dist-packages/keras/backend/tensorflow_backend.py:4432: The name tf.random_uniform is deprecated. Please use tf.random.uniform instead.\n",
            "\n"
          ],
          "name": "stderr"
        },
        {
          "output_type": "stream",
          "text": [
            "WARNING:tensorflow:From /usr/local/lib/python3.6/dist-packages/keras/backend/tensorflow_backend.py:4267: The name tf.nn.max_pool is deprecated. Please use tf.nn.max_pool2d instead.\n",
            "\n"
          ],
          "name": "stdout"
        },
        {
          "output_type": "stream",
          "text": [
            "WARNING:tensorflow:From /usr/local/lib/python3.6/dist-packages/keras/backend/tensorflow_backend.py:4267: The name tf.nn.max_pool is deprecated. Please use tf.nn.max_pool2d instead.\n",
            "\n"
          ],
          "name": "stderr"
        },
        {
          "output_type": "stream",
          "text": [
            "WARNING:tensorflow:From /usr/local/lib/python3.6/dist-packages/keras/backend/tensorflow_backend.py:190: The name tf.get_default_session is deprecated. Please use tf.compat.v1.get_default_session instead.\n",
            "\n"
          ],
          "name": "stdout"
        },
        {
          "output_type": "stream",
          "text": [
            "WARNING:tensorflow:From /usr/local/lib/python3.6/dist-packages/keras/backend/tensorflow_backend.py:190: The name tf.get_default_session is deprecated. Please use tf.compat.v1.get_default_session instead.\n",
            "\n"
          ],
          "name": "stderr"
        },
        {
          "output_type": "stream",
          "text": [
            "WARNING:tensorflow:From /usr/local/lib/python3.6/dist-packages/keras/backend/tensorflow_backend.py:197: The name tf.ConfigProto is deprecated. Please use tf.compat.v1.ConfigProto instead.\n",
            "\n"
          ],
          "name": "stdout"
        },
        {
          "output_type": "stream",
          "text": [
            "WARNING:tensorflow:From /usr/local/lib/python3.6/dist-packages/keras/backend/tensorflow_backend.py:197: The name tf.ConfigProto is deprecated. Please use tf.compat.v1.ConfigProto instead.\n",
            "\n"
          ],
          "name": "stderr"
        },
        {
          "output_type": "stream",
          "text": [
            "WARNING:tensorflow:From /usr/local/lib/python3.6/dist-packages/keras/backend/tensorflow_backend.py:203: The name tf.Session is deprecated. Please use tf.compat.v1.Session instead.\n",
            "\n"
          ],
          "name": "stdout"
        },
        {
          "output_type": "stream",
          "text": [
            "WARNING:tensorflow:From /usr/local/lib/python3.6/dist-packages/keras/backend/tensorflow_backend.py:203: The name tf.Session is deprecated. Please use tf.compat.v1.Session instead.\n",
            "\n"
          ],
          "name": "stderr"
        },
        {
          "output_type": "stream",
          "text": [
            "WARNING:tensorflow:From /usr/local/lib/python3.6/dist-packages/keras/backend/tensorflow_backend.py:207: The name tf.global_variables is deprecated. Please use tf.compat.v1.global_variables instead.\n",
            "\n"
          ],
          "name": "stdout"
        },
        {
          "output_type": "stream",
          "text": [
            "WARNING:tensorflow:From /usr/local/lib/python3.6/dist-packages/keras/backend/tensorflow_backend.py:207: The name tf.global_variables is deprecated. Please use tf.compat.v1.global_variables instead.\n",
            "\n"
          ],
          "name": "stderr"
        },
        {
          "output_type": "stream",
          "text": [
            "WARNING:tensorflow:From /usr/local/lib/python3.6/dist-packages/keras/backend/tensorflow_backend.py:216: The name tf.is_variable_initialized is deprecated. Please use tf.compat.v1.is_variable_initialized instead.\n",
            "\n"
          ],
          "name": "stdout"
        },
        {
          "output_type": "stream",
          "text": [
            "WARNING:tensorflow:From /usr/local/lib/python3.6/dist-packages/keras/backend/tensorflow_backend.py:216: The name tf.is_variable_initialized is deprecated. Please use tf.compat.v1.is_variable_initialized instead.\n",
            "\n"
          ],
          "name": "stderr"
        },
        {
          "output_type": "stream",
          "text": [
            "WARNING:tensorflow:From /usr/local/lib/python3.6/dist-packages/keras/backend/tensorflow_backend.py:223: The name tf.variables_initializer is deprecated. Please use tf.compat.v1.variables_initializer instead.\n",
            "\n"
          ],
          "name": "stdout"
        },
        {
          "output_type": "stream",
          "text": [
            "WARNING:tensorflow:From /usr/local/lib/python3.6/dist-packages/keras/backend/tensorflow_backend.py:223: The name tf.variables_initializer is deprecated. Please use tf.compat.v1.variables_initializer instead.\n",
            "\n"
          ],
          "name": "stderr"
        },
        {
          "output_type": "stream",
          "text": [
            "WARNING:tensorflow:From /usr/local/lib/python3.6/dist-packages/keras/backend/tensorflow_backend.py:4479: The name tf.truncated_normal is deprecated. Please use tf.random.truncated_normal instead.\n",
            "\n"
          ],
          "name": "stdout"
        },
        {
          "output_type": "stream",
          "text": [
            "WARNING:tensorflow:From /usr/local/lib/python3.6/dist-packages/keras/backend/tensorflow_backend.py:4479: The name tf.truncated_normal is deprecated. Please use tf.random.truncated_normal instead.\n",
            "\n"
          ],
          "name": "stderr"
        },
        {
          "output_type": "stream",
          "text": [
            "WARNING:tensorflow:From /usr/local/lib/python3.6/dist-packages/keras/backend/tensorflow_backend.py:148: The name tf.placeholder_with_default is deprecated. Please use tf.compat.v1.placeholder_with_default instead.\n",
            "\n"
          ],
          "name": "stdout"
        },
        {
          "output_type": "stream",
          "text": [
            "WARNING:tensorflow:From /usr/local/lib/python3.6/dist-packages/keras/backend/tensorflow_backend.py:148: The name tf.placeholder_with_default is deprecated. Please use tf.compat.v1.placeholder_with_default instead.\n",
            "\n"
          ],
          "name": "stderr"
        },
        {
          "output_type": "stream",
          "text": [
            "WARNING:tensorflow:From /usr/local/lib/python3.6/dist-packages/keras/backend/tensorflow_backend.py:3733: calling dropout (from tensorflow.python.ops.nn_ops) with keep_prob is deprecated and will be removed in a future version.\n",
            "Instructions for updating:\n",
            "Please use `rate` instead of `keep_prob`. Rate should be set to `rate = 1 - keep_prob`.\n"
          ],
          "name": "stdout"
        },
        {
          "output_type": "stream",
          "text": [
            "WARNING:tensorflow:From /usr/local/lib/python3.6/dist-packages/keras/backend/tensorflow_backend.py:3733: calling dropout (from tensorflow.python.ops.nn_ops) with keep_prob is deprecated and will be removed in a future version.\n",
            "Instructions for updating:\n",
            "Please use `rate` instead of `keep_prob`. Rate should be set to `rate = 1 - keep_prob`.\n"
          ],
          "name": "stderr"
        },
        {
          "output_type": "stream",
          "text": [
            "WARNING:tensorflow:From /usr/local/lib/python3.6/dist-packages/keras/backend/tensorflow_backend.py:3492: where (from tensorflow.python.ops.array_ops) is deprecated and will be removed in a future version.\n",
            "Instructions for updating:\n",
            "Use tf.where in 2.0, which has the same broadcast rule as np.where\n"
          ],
          "name": "stdout"
        },
        {
          "output_type": "stream",
          "text": [
            "WARNING:tensorflow:From /usr/local/lib/python3.6/dist-packages/keras/backend/tensorflow_backend.py:3492: where (from tensorflow.python.ops.array_ops) is deprecated and will be removed in a future version.\n",
            "Instructions for updating:\n",
            "Use tf.where in 2.0, which has the same broadcast rule as np.where\n"
          ],
          "name": "stderr"
        }
      ]
    },
    {
      "cell_type": "code",
      "metadata": {
        "id": "dDeKA4_Ck63g",
        "colab_type": "code",
        "colab": {
          "base_uri": "https://localhost:8080/",
          "height": 36
        },
        "outputId": "1484d166-7bae-4ccb-dac5-ad2ae6d7cb12"
      },
      "source": [
        "my_get_all_conv_layers(model,True)"
      ],
      "execution_count": 5,
      "outputs": [
        {
          "output_type": "execute_result",
          "data": {
            "text/plain": [
              "[1, 2, 4, 5, 7, 8, 9, 11, 12, 13, 15, 16, 17]"
            ]
          },
          "metadata": {
            "tags": []
          },
          "execution_count": 5
        }
      ]
    },
    {
      "cell_type": "code",
      "metadata": {
        "id": "T6_LNSvhfLzZ",
        "colab_type": "code",
        "colab": {
          "base_uri": "https://localhost:8080/",
          "height": 1000
        },
        "outputId": "2667c320-066a-4346-d77a-009e83f5e553"
      },
      "source": [
        "FirstTime = True\n",
        "model, history = train(model, FirstTime)\n",
        "# validation_accuracy = model.evaluate(x_test,y_test)[1]\n",
        "# print(validation_accuracy)\n",
        "# validation_accuracy = history.history[1]\n",
        "validation_accuracy = max(history.history['val_acc'])\n",
        "max_val_acc = validation_accuracy\n",
        "count = 0\n",
        "all_models = list()\n",
        "while max_val_acc <= validation_accuracy   :\n",
        "    FirstTime = False\n",
        "    print(\"ITERATION {} \".format(count+1))\n",
        "    all_models.append(model)\n",
        "    if max_val_acc < validation_accuracy:\n",
        "        max_val_acc = validation_accuracy\n",
        "\n",
        "    if count < 1:\n",
        "        model = my_delete_filters(model,True)\n",
        "\n",
        "    else:\n",
        "        model = my_delete_filters(model,False)\n",
        "        \n",
        "    model,history = train(model, True)\n",
        "    validation_accuracy = max(history.history['val_acc'])\n",
        "    model,history = train(model, True)\n",
        "    validation_accuracy = max(history.history['val_acc'])\n",
        "    print(\"VALIDATION ACCURACY AFTER {} ITERATIONS = {}\".format(count+1,validation_accuracy))\n",
        "    count+=1\n",
        "\n",
        "#model.summary()"
      ],
      "execution_count": 0,
      "outputs": [
        {
          "output_type": "stream",
          "text": [
            "Found 220 images belonging to 2 classes.\n",
            "Found 217 images belonging to 2 classes.\n",
            "WARNING:tensorflow:From /usr/local/lib/python3.6/dist-packages/keras/optimizers.py:793: The name tf.train.Optimizer is deprecated. Please use tf.compat.v1.train.Optimizer instead.\n",
            "\n"
          ],
          "name": "stdout"
        },
        {
          "output_type": "stream",
          "text": [
            "WARNING:tensorflow:From /usr/local/lib/python3.6/dist-packages/keras/optimizers.py:793: The name tf.train.Optimizer is deprecated. Please use tf.compat.v1.train.Optimizer instead.\n",
            "\n"
          ],
          "name": "stderr"
        },
        {
          "output_type": "stream",
          "text": [
            "WARNING:tensorflow:From /usr/local/lib/python3.6/dist-packages/keras/backend/tensorflow_backend.py:3576: The name tf.log is deprecated. Please use tf.math.log instead.\n",
            "\n"
          ],
          "name": "stdout"
        },
        {
          "output_type": "stream",
          "text": [
            "WARNING:tensorflow:From /usr/local/lib/python3.6/dist-packages/keras/backend/tensorflow_backend.py:3576: The name tf.log is deprecated. Please use tf.math.log instead.\n",
            "\n"
          ],
          "name": "stderr"
        },
        {
          "output_type": "stream",
          "text": [
            "True\n",
            "WARNING:tensorflow:From /usr/local/lib/python3.6/dist-packages/keras/backend/tensorflow_backend.py:1033: The name tf.assign_add is deprecated. Please use tf.compat.v1.assign_add instead.\n",
            "\n"
          ],
          "name": "stdout"
        },
        {
          "output_type": "stream",
          "text": [
            "WARNING:tensorflow:From /usr/local/lib/python3.6/dist-packages/keras/backend/tensorflow_backend.py:1033: The name tf.assign_add is deprecated. Please use tf.compat.v1.assign_add instead.\n",
            "\n"
          ],
          "name": "stderr"
        },
        {
          "output_type": "stream",
          "text": [
            "WARNING:tensorflow:From /usr/local/lib/python3.6/dist-packages/keras/backend/tensorflow_backend.py:1020: The name tf.assign is deprecated. Please use tf.compat.v1.assign instead.\n",
            "\n"
          ],
          "name": "stdout"
        },
        {
          "output_type": "stream",
          "text": [
            "WARNING:tensorflow:From /usr/local/lib/python3.6/dist-packages/keras/backend/tensorflow_backend.py:1020: The name tf.assign is deprecated. Please use tf.compat.v1.assign instead.\n",
            "\n"
          ],
          "name": "stderr"
        },
        {
          "output_type": "stream",
          "text": [
            "Epoch 1/20\n",
            "4/3 [==================================] - 6s 1s/step - loss: 4.1163 - acc: 0.5625 - val_loss: 1.1921e-07 - val_acc: 0.5069\n",
            "Epoch 2/20\n",
            "4/3 [==================================] - 1s 345ms/step - loss: 7.4892 - acc: 0.5312 - val_loss: 1.1921e-07 - val_acc: 0.5069\n",
            "Epoch 3/20\n",
            "4/3 [==================================] - 2s 388ms/step - loss: 10.5775 - acc: 0.3438 - val_loss: 1.1921e-07 - val_acc: 0.5069\n",
            "Epoch 4/20\n",
            "4/3 [==================================] - 1s 373ms/step - loss: 6.1847 - acc: 0.5938 - val_loss: 1.1921e-07 - val_acc: 0.5069\n",
            "Epoch 5/20\n",
            "4/3 [==================================] - 1s 357ms/step - loss: 9.7403 - acc: 0.3750 - val_loss: 1.1921e-07 - val_acc: 0.5069\n",
            "Epoch 6/20\n",
            "4/3 [==================================] - 1s 362ms/step - loss: 8.0052 - acc: 0.4688 - val_loss: 1.1921e-07 - val_acc: 0.5069\n",
            "Epoch 7/20\n",
            "4/3 [==================================] - 2s 483ms/step - loss: 8.0576 - acc: 0.4750 - val_loss: 1.1921e-07 - val_acc: 0.5069\n",
            "Epoch 8/20\n",
            "4/3 [==================================] - 1s 361ms/step - loss: 6.5480 - acc: 0.5938 - val_loss: 1.1921e-07 - val_acc: 0.5069\n",
            "Epoch 9/20\n",
            "4/3 [==================================] - 1s 372ms/step - loss: 5.0369 - acc: 0.6875 - val_loss: 1.1921e-07 - val_acc: 0.5069\n",
            "Epoch 10/20\n",
            "4/3 [==================================] - 1s 368ms/step - loss: 3.5258 - acc: 0.7812 - val_loss: 1.1921e-07 - val_acc: 0.5069\n",
            "Epoch 11/20\n",
            "4/3 [==================================] - 2s 381ms/step - loss: 8.0590 - acc: 0.5000 - val_loss: 1.1921e-07 - val_acc: 0.5069\n",
            "Epoch 12/20\n",
            "4/3 [==================================] - 1s 363ms/step - loss: 8.9969 - acc: 0.4429 - val_loss: 1.1921e-07 - val_acc: 0.5069\n",
            "Epoch 13/20\n",
            "4/3 [==================================] - 1s 373ms/step - loss: 9.0664 - acc: 0.4375 - val_loss: 1.1921e-07 - val_acc: 0.5069\n",
            "Epoch 14/20\n",
            "4/3 [==================================] - 2s 433ms/step - loss: 5.5406 - acc: 0.6562 - val_loss: 1.1921e-07 - val_acc: 0.5069\n",
            "Epoch 15/20\n",
            "4/3 [==================================] - 2s 378ms/step - loss: 7.5554 - acc: 0.5312 - val_loss: 1.1921e-07 - val_acc: 0.5069\n",
            "Epoch 16/20\n",
            "4/3 [==================================] - 1s 361ms/step - loss: 8.7083 - acc: 0.4375 - val_loss: 1.1921e-07 - val_acc: 0.5069\n",
            "Epoch 17/20\n",
            "4/3 [==================================] - 2s 384ms/step - loss: 6.7900 - acc: 0.5312 - val_loss: 1.1921e-07 - val_acc: 0.5069\n",
            "Epoch 18/20\n",
            "4/3 [==================================] - 1s 370ms/step - loss: 7.9424 - acc: 0.4750 - val_loss: 1.1921e-07 - val_acc: 0.5069\n",
            "Epoch 19/20\n",
            "4/3 [==================================] - 1s 352ms/step - loss: 6.1268 - acc: 0.5938 - val_loss: 1.1921e-07 - val_acc: 0.5069\n",
            "Epoch 20/20\n",
            "4/3 [==================================] - 1s 355ms/step - loss: 8.0744 - acc: 0.5000 - val_loss: 1.1921e-07 - val_acc: 0.5069\n",
            "ITERATION 1 \n",
            "Deleting 44/64 channels from layer: block1_conv1\n",
            "Deleting 31/64 channels from layer: block1_conv2\n",
            "Deleting 34/128 channels from layer: block2_conv1\n",
            "Deleting 64/128 channels from layer: block2_conv2\n",
            "Deleting 128/256 channels from layer: block3_conv1\n",
            "Deleting 119/256 channels from layer: block3_conv2\n",
            "Deleting 138/256 channels from layer: block3_conv3\n",
            "Deleting 248/512 channels from layer: block4_conv1\n",
            "Deleting 244/512 channels from layer: block4_conv2\n",
            "Deleting 243/512 channels from layer: block4_conv3\n",
            "Deleting 187/512 channels from layer: block5_conv1\n",
            "Deleting 139/512 channels from layer: block5_conv2\n",
            "Deleting 136/512 channels from layer: block5_conv3\n",
            "Deleting 228/512 channels from layer: dense_1\n",
            "Deleting 132/256 channels from layer: dense_2\n",
            "Found 220 images belonging to 2 classes.\n",
            "Found 217 images belonging to 2 classes.\n",
            "True\n",
            "Epoch 1/20\n",
            "4/3 [==================================] - 5s 1s/step - loss: 7.9574 - acc: 0.5000 - val_loss: 1.1921e-07 - val_acc: 0.5069\n",
            "Epoch 2/20\n",
            "4/3 [==================================] - 1s 312ms/step - loss: 7.5394 - acc: 0.5312 - val_loss: 1.1921e-07 - val_acc: 0.5069\n",
            "Epoch 3/20\n",
            "4/3 [==================================] - 1s 327ms/step - loss: 7.9278 - acc: 0.5000 - val_loss: 1.1921e-07 - val_acc: 0.5069\n",
            "Epoch 4/20\n",
            "4/3 [==================================] - 1s 326ms/step - loss: 9.5701 - acc: 0.4062 - val_loss: 1.1921e-07 - val_acc: 0.5069\n",
            "Epoch 5/20\n",
            "4/3 [==================================] - 1s 342ms/step - loss: 8.4675 - acc: 0.4500 - val_loss: 1.1921e-07 - val_acc: 0.5069\n",
            "Epoch 6/20\n",
            "4/3 [==================================] - 1s 310ms/step - loss: 7.5554 - acc: 0.5312 - val_loss: 1.1921e-07 - val_acc: 0.5069\n",
            "Epoch 7/20\n",
            "4/3 [==================================] - 1s 375ms/step - loss: 7.0328 - acc: 0.5312 - val_loss: 1.1921e-07 - val_acc: 0.5069\n",
            "Epoch 8/20\n",
            "4/3 [==================================] - 1s 339ms/step - loss: 6.6199 - acc: 0.5893 - val_loss: 1.1921e-07 - val_acc: 0.5069\n",
            "Epoch 9/20\n",
            "4/3 [==================================] - 1s 337ms/step - loss: 8.5627 - acc: 0.4688 - val_loss: 1.1921e-07 - val_acc: 0.5069\n",
            "Epoch 10/20\n",
            "4/3 [==================================] - 1s 311ms/step - loss: 8.0590 - acc: 0.5000 - val_loss: 1.1921e-07 - val_acc: 0.5069\n",
            "Epoch 11/20\n",
            "4/3 [==================================] - 1s 337ms/step - loss: 10.0738 - acc: 0.3750 - val_loss: 1.1921e-07 - val_acc: 0.5069\n",
            "Epoch 12/20\n",
            "4/3 [==================================] - 1s 306ms/step - loss: 9.0664 - acc: 0.4375 - val_loss: 1.1921e-07 - val_acc: 0.5069\n",
            "Epoch 13/20\n",
            "4/3 [==================================] - 1s 318ms/step - loss: 7.5554 - acc: 0.5312 - val_loss: 1.1921e-07 - val_acc: 0.5069\n",
            "Epoch 14/20\n",
            "4/3 [==================================] - 2s 396ms/step - loss: 5.0369 - acc: 0.6875 - val_loss: 1.1921e-07 - val_acc: 0.5069\n",
            "Epoch 15/20\n",
            "4/3 [==================================] - 1s 342ms/step - loss: 7.0517 - acc: 0.5625 - val_loss: 1.1921e-07 - val_acc: 0.5069\n",
            "Epoch 16/20\n",
            "4/3 [==================================] - 1s 334ms/step - loss: 9.0664 - acc: 0.4375 - val_loss: 1.1921e-07 - val_acc: 0.5069\n",
            "Epoch 17/20\n",
            "4/3 [==================================] - 1s 326ms/step - loss: 6.0443 - acc: 0.6250 - val_loss: 1.1921e-07 - val_acc: 0.5069\n",
            "Epoch 18/20\n",
            "4/3 [==================================] - 1s 353ms/step - loss: 8.5627 - acc: 0.4688 - val_loss: 1.1921e-07 - val_acc: 0.5069\n",
            "Epoch 19/20\n",
            "4/3 [==================================] - 1s 326ms/step - loss: 9.0664 - acc: 0.4375 - val_loss: 1.1921e-07 - val_acc: 0.5069\n",
            "Epoch 20/20\n",
            "4/3 [==================================] - 1s 309ms/step - loss: 7.5554 - acc: 0.5312 - val_loss: 1.1921e-07 - val_acc: 0.5069\n",
            "Found 220 images belonging to 2 classes.\n",
            "Found 217 images belonging to 2 classes.\n",
            "True\n",
            "Epoch 1/20\n",
            "4/3 [==================================] - 4s 1s/step - loss: 6.6199 - acc: 0.5893 - val_loss: 1.1921e-07 - val_acc: 0.5069\n",
            "Epoch 2/20\n",
            "4/3 [==================================] - 1s 321ms/step - loss: 10.0738 - acc: 0.3750 - val_loss: 1.1921e-07 - val_acc: 0.5069\n",
            "Epoch 3/20\n",
            "4/3 [==================================] - 1s 330ms/step - loss: 7.5554 - acc: 0.5312 - val_loss: 1.1921e-07 - val_acc: 0.5069\n",
            "Epoch 4/20\n",
            "4/3 [==================================] - 1s 341ms/step - loss: 6.5480 - acc: 0.5938 - val_loss: 1.1921e-07 - val_acc: 0.5069\n",
            "Epoch 5/20\n",
            "4/3 [==================================] - 1s 327ms/step - loss: 6.5480 - acc: 0.5938 - val_loss: 1.1921e-07 - val_acc: 0.5069\n",
            "Epoch 6/20\n",
            "4/3 [==================================] - 1s 313ms/step - loss: 9.0664 - acc: 0.4375 - val_loss: 1.1921e-07 - val_acc: 0.5069\n",
            "Epoch 7/20\n",
            "4/3 [==================================] - 2s 386ms/step - loss: 9.0664 - acc: 0.4375 - val_loss: 1.1921e-07 - val_acc: 0.5069\n",
            "Epoch 8/20\n",
            "4/3 [==================================] - 1s 336ms/step - loss: 9.0664 - acc: 0.4375 - val_loss: 1.1921e-07 - val_acc: 0.5069\n",
            "Epoch 9/20\n",
            "4/3 [==================================] - 1s 331ms/step - loss: 8.0590 - acc: 0.5000 - val_loss: 1.1921e-07 - val_acc: 0.5069\n",
            "Epoch 10/20\n",
            "4/3 [==================================] - 1s 330ms/step - loss: 7.0517 - acc: 0.5625 - val_loss: 1.1921e-07 - val_acc: 0.5069\n",
            "Epoch 11/20\n",
            "4/3 [==================================] - 1s 323ms/step - loss: 8.0590 - acc: 0.5000 - val_loss: 1.1921e-07 - val_acc: 0.5069\n",
            "Epoch 12/20\n",
            "4/3 [==================================] - 1s 299ms/step - loss: 10.5775 - acc: 0.3438 - val_loss: 1.1921e-07 - val_acc: 0.5069\n",
            "Epoch 13/20\n",
            "4/3 [==================================] - 1s 310ms/step - loss: 5.5406 - acc: 0.6562 - val_loss: 1.1921e-07 - val_acc: 0.5069\n",
            "Epoch 14/20\n",
            "4/3 [==================================] - 2s 390ms/step - loss: 7.5410 - acc: 0.5321 - val_loss: 1.1921e-07 - val_acc: 0.5069\n",
            "Epoch 15/20\n",
            "4/3 [==================================] - 1s 335ms/step - loss: 8.0590 - acc: 0.5000 - val_loss: 1.1921e-07 - val_acc: 0.5069\n",
            "Epoch 16/20\n",
            "4/3 [==================================] - 1s 343ms/step - loss: 6.5480 - acc: 0.5938 - val_loss: 1.1921e-07 - val_acc: 0.5069\n",
            "Epoch 17/20\n",
            "4/3 [==================================] - 1s 337ms/step - loss: 7.0517 - acc: 0.5625 - val_loss: 1.1921e-07 - val_acc: 0.5069\n",
            "Epoch 18/20\n",
            "4/3 [==================================] - 1s 335ms/step - loss: 8.0590 - acc: 0.5000 - val_loss: 1.1921e-07 - val_acc: 0.5069\n",
            "Epoch 19/20\n",
            "4/3 [==================================] - 1s 318ms/step - loss: 8.0590 - acc: 0.5000 - val_loss: 1.1921e-07 - val_acc: 0.5069\n",
            "Epoch 20/20\n",
            "4/3 [==================================] - 1s 319ms/step - loss: 10.5775 - acc: 0.3438 - val_loss: 1.1921e-07 - val_acc: 0.5069\n",
            "VALIDATION ACCURACY AFTER 1 ITERATIONS = 0.5069124423963134\n",
            "ITERATION 2 \n",
            "Deleting 18/33 channels from layer: block1_conv2\n",
            "Deleting 52/94 channels from layer: block2_conv1\n",
            "Deleting 34/64 channels from layer: block2_conv2\n",
            "Deleting 70/128 channels from layer: block3_conv1\n",
            "Deleting 64/137 channels from layer: block3_conv2\n",
            "Deleting 57/118 channels from layer: block3_conv3\n",
            "Deleting 125/264 channels from layer: block4_conv1\n",
            "Deleting 132/268 channels from layer: block4_conv2\n",
            "Deleting 140/269 channels from layer: block4_conv3\n",
            "Deleting 166/325 channels from layer: block5_conv1\n",
            "Deleting 197/373 channels from layer: block5_conv2\n",
            "Deleting 133/376 channels from layer: block5_conv3\n",
            "Deleting 145/284 channels from layer: dense_1\n",
            "Deleting 52/124 channels from layer: dense_2\n",
            "Found 220 images belonging to 2 classes.\n",
            "Found 217 images belonging to 2 classes.\n",
            "True\n",
            "Epoch 1/20\n",
            "4/3 [==================================] - 5s 1s/step - loss: 6.9084 - acc: 0.5643 - val_loss: 1.1921e-07 - val_acc: 0.5069\n",
            "Epoch 2/20\n",
            "4/3 [==================================] - 1s 305ms/step - loss: 8.0590 - acc: 0.5000 - val_loss: 1.1921e-07 - val_acc: 0.5069\n",
            "Epoch 3/20\n",
            "4/3 [==================================] - 1s 330ms/step - loss: 9.0664 - acc: 0.4375 - val_loss: 1.1921e-07 - val_acc: 0.5069\n",
            "Epoch 4/20\n",
            "4/3 [==================================] - 1s 324ms/step - loss: 8.5627 - acc: 0.4688 - val_loss: 1.1921e-07 - val_acc: 0.5069\n",
            "Epoch 5/20\n",
            "4/3 [==================================] - 1s 307ms/step - loss: 7.5554 - acc: 0.5312 - val_loss: 1.1921e-07 - val_acc: 0.5069\n",
            "Epoch 6/20\n",
            "4/3 [==================================] - 1s 301ms/step - loss: 7.0517 - acc: 0.5625 - val_loss: 1.1921e-07 - val_acc: 0.5069\n",
            "Epoch 7/20\n",
            "4/3 [==================================] - 2s 375ms/step - loss: 9.0664 - acc: 0.4375 - val_loss: 1.1921e-07 - val_acc: 0.5069\n",
            "Epoch 8/20\n",
            "4/3 [==================================] - 1s 323ms/step - loss: 8.5627 - acc: 0.4688 - val_loss: 1.1921e-07 - val_acc: 0.5069\n",
            "Epoch 9/20\n",
            "4/3 [==================================] - 1s 319ms/step - loss: 6.5480 - acc: 0.5938 - val_loss: 1.1921e-07 - val_acc: 0.5069\n",
            "Epoch 10/20\n",
            "4/3 [==================================] - 1s 334ms/step - loss: 8.0590 - acc: 0.5000 - val_loss: 1.1921e-07 - val_acc: 0.5069\n",
            "Epoch 11/20\n",
            "4/3 [==================================] - 1s 305ms/step - loss: 11.0812 - acc: 0.3125 - val_loss: 1.1921e-07 - val_acc: 0.5069\n",
            "Epoch 12/20\n",
            "4/3 [==================================] - 1s 297ms/step - loss: 9.0952 - acc: 0.4357 - val_loss: 1.1921e-07 - val_acc: 0.5069\n",
            "Epoch 13/20\n",
            "4/3 [==================================] - 1s 301ms/step - loss: 6.5480 - acc: 0.5938 - val_loss: 1.1921e-07 - val_acc: 0.5069\n",
            "Epoch 14/20\n",
            "4/3 [==================================] - 1s 363ms/step - loss: 6.0443 - acc: 0.6250 - val_loss: 1.1921e-07 - val_acc: 0.5069\n",
            "Epoch 15/20\n",
            "4/3 [==================================] - 1s 333ms/step - loss: 8.0590 - acc: 0.5000 - val_loss: 1.1921e-07 - val_acc: 0.5069\n",
            "Epoch 16/20\n",
            "4/3 [==================================] - 1s 329ms/step - loss: 9.7284 - acc: 0.3964 - val_loss: 1.1921e-07 - val_acc: 0.5069\n",
            "Epoch 17/20\n",
            "4/3 [==================================] - 1s 330ms/step - loss: 5.0369 - acc: 0.6875 - val_loss: 1.1921e-07 - val_acc: 0.5069\n",
            "Epoch 18/20\n",
            "4/3 [==================================] - 1s 333ms/step - loss: 9.0664 - acc: 0.4375 - val_loss: 1.1921e-07 - val_acc: 0.5069\n",
            "Epoch 19/20\n",
            "4/3 [==================================] - 1s 286ms/step - loss: 8.0590 - acc: 0.5000 - val_loss: 1.1921e-07 - val_acc: 0.5069\n",
            "Epoch 20/20\n",
            "4/3 [==================================] - 1s 286ms/step - loss: 9.0664 - acc: 0.4375 - val_loss: 1.1921e-07 - val_acc: 0.5069\n",
            "Found 220 images belonging to 2 classes.\n",
            "Found 217 images belonging to 2 classes.\n",
            "True\n",
            "Epoch 1/20\n",
            "4/3 [==================================] - 5s 1s/step - loss: 9.5701 - acc: 0.4062 - val_loss: 1.1921e-07 - val_acc: 0.5069\n",
            "Epoch 2/20\n",
            "4/3 [==================================] - 1s 314ms/step - loss: 7.9439 - acc: 0.5071 - val_loss: 1.1921e-07 - val_acc: 0.5069\n",
            "Epoch 3/20\n",
            "4/3 [==================================] - 1s 319ms/step - loss: 8.0590 - acc: 0.5000 - val_loss: 1.1921e-07 - val_acc: 0.5069\n",
            "Epoch 4/20\n",
            "4/3 [==================================] - 1s 322ms/step - loss: 7.5554 - acc: 0.5312 - val_loss: 1.1921e-07 - val_acc: 0.5069\n",
            "Epoch 5/20\n",
            "4/3 [==================================] - 1s 311ms/step - loss: 7.0517 - acc: 0.5625 - val_loss: 1.1921e-07 - val_acc: 0.5069\n",
            "Epoch 6/20\n",
            "4/3 [==================================] - 1s 301ms/step - loss: 8.5627 - acc: 0.4688 - val_loss: 1.1921e-07 - val_acc: 0.5069\n",
            "Epoch 7/20\n",
            "4/3 [==================================] - 1s 361ms/step - loss: 7.5554 - acc: 0.5312 - val_loss: 1.1921e-07 - val_acc: 0.5069\n",
            "Epoch 8/20\n",
            "4/3 [==================================] - 1s 305ms/step - loss: 7.0517 - acc: 0.5625 - val_loss: 1.1921e-07 - val_acc: 0.5069\n",
            "Epoch 9/20\n",
            "4/3 [==================================] - 1s 315ms/step - loss: 5.0369 - acc: 0.6875 - val_loss: 1.1921e-07 - val_acc: 0.5069\n",
            "Epoch 10/20\n",
            "4/3 [==================================] - 1s 310ms/step - loss: 8.5771 - acc: 0.4679 - val_loss: 1.1921e-07 - val_acc: 0.5069\n",
            "Epoch 11/20\n",
            "4/3 [==================================] - 1s 308ms/step - loss: 8.0590 - acc: 0.5000 - val_loss: 1.1921e-07 - val_acc: 0.5069\n",
            "Epoch 12/20\n",
            "4/3 [==================================] - 1s 296ms/step - loss: 9.0664 - acc: 0.4375 - val_loss: 1.1921e-07 - val_acc: 0.5069\n",
            "Epoch 13/20\n",
            "4/3 [==================================] - 1s 299ms/step - loss: 10.0738 - acc: 0.3750 - val_loss: 1.1921e-07 - val_acc: 0.5069\n",
            "Epoch 14/20\n",
            "4/3 [==================================] - 1s 359ms/step - loss: 8.0590 - acc: 0.5000 - val_loss: 1.1921e-07 - val_acc: 0.5069\n",
            "Epoch 15/20\n",
            "1/3 [=======>......................] - ETA: 0s - loss: 4.0295 - acc: 0.7500"
          ],
          "name": "stdout"
        },
        {
          "output_type": "stream",
          "text": [
            "ERROR:root:Internal Python error in the inspect module.\n",
            "Below is the traceback from this internal error.\n",
            "\n",
            "INFO:root:\n",
            "Unfortunately, your original traceback can not be constructed.\n",
            "\n"
          ],
          "name": "stderr"
        },
        {
          "output_type": "stream",
          "text": [
            "Traceback (most recent call last):\n",
            "  File \"/usr/local/lib/python3.6/dist-packages/IPython/core/interactiveshell.py\", line 2882, in run_code\n",
            "    exec(code_obj, self.user_global_ns, self.user_ns)\n",
            "  File \"<ipython-input-6-fdce1fc6a0de>\", line 25, in <module>\n",
            "    model,history = train(model, True)\n",
            "  File \"<ipython-input-2-467d5dc37225>\", line 60, in train\n",
            "    validation_steps=len(valid_generator), callbacks=[reduce_lr])\n",
            "  File \"/usr/local/lib/python3.6/dist-packages/keras/legacy/interfaces.py\", line 91, in wrapper\n",
            "    return func(*args, **kwargs)\n",
            "  File \"/usr/local/lib/python3.6/dist-packages/keras/engine/training.py\", line 1658, in fit_generator\n",
            "    initial_epoch=initial_epoch)\n",
            "  File \"/usr/local/lib/python3.6/dist-packages/keras/engine/training_generator.py\", line 221, in fit_generator\n",
            "    callbacks._call_batch_hook('train', 'end', batch_index, batch_logs)\n",
            "  File \"/usr/local/lib/python3.6/dist-packages/keras/callbacks.py\", line 85, in _call_batch_hook\n",
            "    batch_hook(batch, logs)\n",
            "  File \"/usr/local/lib/python3.6/dist-packages/keras/callbacks.py\", line 366, in on_train_batch_end\n",
            "    self.on_batch_end(batch, logs=logs)\n",
            "  File \"/usr/local/lib/python3.6/dist-packages/keras/callbacks.py\", line 603, in on_batch_end\n",
            "    self.progbar.update(self.seen, self.log_values)\n",
            "  File \"/usr/local/lib/python3.6/dist-packages/keras/utils/generic_utils.py\", line 453, in update\n",
            "    sys.stdout.flush()\n",
            "  File \"/usr/local/lib/python3.6/dist-packages/ipykernel/iostream.py\", line 321, in flush\n",
            "    evt.wait()\n",
            "  File \"/usr/lib/python3.6/threading.py\", line 551, in wait\n",
            "    signaled = self._cond.wait(timeout)\n",
            "  File \"/usr/lib/python3.6/threading.py\", line 295, in wait\n",
            "    waiter.acquire()\n",
            "KeyboardInterrupt\n",
            "\n",
            "During handling of the above exception, another exception occurred:\n",
            "\n",
            "Traceback (most recent call last):\n",
            "  File \"/usr/local/lib/python3.6/dist-packages/IPython/core/interactiveshell.py\", line 1823, in showtraceback\n",
            "    stb = value._render_traceback_()\n",
            "AttributeError: 'KeyboardInterrupt' object has no attribute '_render_traceback_'\n",
            "\n",
            "During handling of the above exception, another exception occurred:\n",
            "\n",
            "Traceback (most recent call last):\n",
            "  File \"/usr/local/lib/python3.6/dist-packages/IPython/core/ultratb.py\", line 1132, in get_records\n",
            "    return _fixed_getinnerframes(etb, number_of_lines_of_context, tb_offset)\n",
            "  File \"/usr/local/lib/python3.6/dist-packages/IPython/core/ultratb.py\", line 313, in wrapped\n",
            "    return f(*args, **kwargs)\n",
            "  File \"/usr/local/lib/python3.6/dist-packages/IPython/core/ultratb.py\", line 358, in _fixed_getinnerframes\n",
            "    records = fix_frame_records_filenames(inspect.getinnerframes(etb, context))\n",
            "  File \"/usr/lib/python3.6/inspect.py\", line 1490, in getinnerframes\n",
            "    frameinfo = (tb.tb_frame,) + getframeinfo(tb, context)\n",
            "  File \"/usr/lib/python3.6/inspect.py\", line 1448, in getframeinfo\n",
            "    filename = getsourcefile(frame) or getfile(frame)\n",
            "  File \"/usr/lib/python3.6/inspect.py\", line 696, in getsourcefile\n",
            "    if getattr(getmodule(object, filename), '__loader__', None) is not None:\n",
            "  File \"/usr/lib/python3.6/inspect.py\", line 733, in getmodule\n",
            "    if ismodule(module) and hasattr(module, '__file__'):\n",
            "  File \"/tensorflow-1.15.0/python3.6/tensorflow/__init__.py\", line 50, in __getattr__\n",
            "    module = self._load()\n",
            "  File \"/tensorflow-1.15.0/python3.6/tensorflow/__init__.py\", line 44, in _load\n",
            "    module = _importlib.import_module(self.__name__)\n",
            "  File \"/usr/lib/python3.6/importlib/__init__.py\", line 126, in import_module\n",
            "    return _bootstrap._gcd_import(name[level:], package, level)\n",
            "  File \"<frozen importlib._bootstrap>\", line 994, in _gcd_import\n",
            "  File \"<frozen importlib._bootstrap>\", line 971, in _find_and_load\n",
            "  File \"<frozen importlib._bootstrap>\", line 955, in _find_and_load_unlocked\n",
            "  File \"<frozen importlib._bootstrap>\", line 665, in _load_unlocked\n",
            "  File \"<frozen importlib._bootstrap_external>\", line 678, in exec_module\n",
            "  File \"<frozen importlib._bootstrap>\", line 219, in _call_with_frames_removed\n",
            "  File \"/tensorflow-1.15.0/python3.6/tensorflow_core/contrib/__init__.py\", line 47, in <module>\n",
            "    from tensorflow.contrib import distributions\n",
            "  File \"/tensorflow-1.15.0/python3.6/tensorflow_core/contrib/distributions/__init__.py\", line 29, in <module>\n",
            "    from tensorflow.contrib.distributions.python.ops import bijectors\n",
            "  File \"/tensorflow-1.15.0/python3.6/tensorflow_core/contrib/distributions/__init__.py\", line 44, in <module>\n",
            "    from tensorflow.contrib.distributions.python.ops.estimator import *\n",
            "  File \"/tensorflow-1.15.0/python3.6/tensorflow_core/contrib/distributions/python/ops/estimator.py\", line 21, in <module>\n",
            "    from tensorflow.contrib.learn.python.learn.estimators.head import _compute_weighted_loss\n",
            "  File \"/tensorflow-1.15.0/python3.6/tensorflow_core/contrib/learn/__init__.py\", line 93, in <module>\n",
            "    from tensorflow.contrib.learn.python.learn import *\n",
            "  File \"/tensorflow-1.15.0/python3.6/tensorflow_core/contrib/learn/python/__init__.py\", line 28, in <module>\n",
            "    from tensorflow.contrib.learn.python.learn import *\n",
            "  File \"/tensorflow-1.15.0/python3.6/tensorflow_core/contrib/learn/python/learn/__init__.py\", line 30, in <module>\n",
            "    from tensorflow.contrib.learn.python.learn import estimators\n",
            "  File \"/tensorflow-1.15.0/python3.6/tensorflow_core/contrib/learn/python/learn/estimators/__init__.py\", line 302, in <module>\n",
            "    from tensorflow.contrib.learn.python.learn.estimators.dnn import DNNClassifier\n",
            "  File \"/tensorflow-1.15.0/python3.6/tensorflow_core/contrib/learn/python/learn/estimators/dnn.py\", line 34, in <module>\n",
            "    from tensorflow.contrib.learn.python.learn.estimators import dnn_linear_combined\n",
            "  File \"/tensorflow-1.15.0/python3.6/tensorflow_core/contrib/learn/python/learn/estimators/dnn_linear_combined.py\", line 36, in <module>\n",
            "    from tensorflow.contrib.learn.python.learn.estimators import estimator\n",
            "  File \"/tensorflow-1.15.0/python3.6/tensorflow_core/contrib/learn/python/learn/estimators/estimator.py\", line 52, in <module>\n",
            "    from tensorflow.contrib.learn.python.learn.learn_io import data_feeder\n",
            "  File \"/tensorflow-1.15.0/python3.6/tensorflow_core/contrib/learn/python/learn/learn_io/__init__.py\", line 26, in <module>\n",
            "    from tensorflow.contrib.learn.python.learn.learn_io.dask_io import extract_dask_data\n",
            "  File \"/tensorflow-1.15.0/python3.6/tensorflow_core/contrib/learn/python/learn/learn_io/dask_io.py\", line 33, in <module>\n",
            "    import dask.dataframe as dd\n",
            "  File \"<frozen importlib._bootstrap>\", line 971, in _find_and_load\n",
            "  File \"<frozen importlib._bootstrap>\", line 951, in _find_and_load_unlocked\n",
            "  File \"<frozen importlib._bootstrap>\", line 894, in _find_spec\n",
            "  File \"<frozen importlib._bootstrap_external>\", line 1157, in find_spec\n",
            "  File \"<frozen importlib._bootstrap_external>\", line 1129, in _get_spec\n",
            "  File \"<frozen importlib._bootstrap_external>\", line 1259, in find_spec\n",
            "  File \"<frozen importlib._bootstrap_external>\", line 60, in _path_join\n",
            "  File \"<frozen importlib._bootstrap_external>\", line 60, in <listcomp>\n",
            "KeyboardInterrupt\n"
          ],
          "name": "stdout"
        },
        {
          "output_type": "error",
          "ename": "KeyboardInterrupt",
          "evalue": "ignored",
          "traceback": [
            "\u001b[0;31m---------------------------------------------------------------------------\u001b[0m"
          ]
        },
        {
          "output_type": "stream",
          "text": [
            "ERROR:tornado.general:Uncaught exception in ZMQStream callback\n",
            "Traceback (most recent call last):\n",
            "  File \"/usr/local/lib/python3.6/dist-packages/zmq/eventloop/zmqstream.py\", line 432, in _run_callback\n",
            "    callback(*args, **kwargs)\n",
            "  File \"/usr/local/lib/python3.6/dist-packages/tornado/stack_context.py\", line 277, in null_wrapper\n",
            "    return fn(*args, **kwargs)\n",
            "  File \"/usr/local/lib/python3.6/dist-packages/ipykernel/kernelbase.py\", line 283, in dispatcher\n",
            "    return self.dispatch_shell(stream, msg)\n",
            "  File \"/usr/local/lib/python3.6/dist-packages/ipykernel/kernelbase.py\", line 235, in dispatch_shell\n",
            "    handler(stream, idents, msg)\n",
            "  File \"/usr/local/lib/python3.6/dist-packages/ipykernel/kernelbase.py\", line 421, in execute_request\n",
            "    self._abort_queues()\n",
            "  File \"/usr/local/lib/python3.6/dist-packages/ipykernel/kernelbase.py\", line 637, in _abort_queues\n",
            "    self._abort_queue(stream)\n",
            "  File \"/usr/local/lib/python3.6/dist-packages/ipykernel/kernelbase.py\", line 643, in _abort_queue\n",
            "    idents,msg = self.session.recv(stream, zmq.NOBLOCK, content=True)\n",
            "  File \"/usr/local/lib/python3.6/dist-packages/jupyter_client/session.py\", line 815, in recv\n",
            "    return idents, self.deserialize(msg_list, content=content, copy=copy)\n",
            "  File \"/usr/local/lib/python3.6/dist-packages/jupyter_client/session.py\", line 926, in deserialize\n",
            "    header = self.unpack(msg_list[1])\n",
            "  File \"/usr/local/lib/python3.6/dist-packages/traitlets/traitlets.py\", line 545, in __get__\n",
            "    def __get__(self, obj, cls=None):\n",
            "KeyboardInterrupt\n"
          ],
          "name": "stderr"
        }
      ]
    },
    {
      "cell_type": "code",
      "metadata": {
        "id": "hEIh57IqfOCR",
        "colab_type": "code",
        "colab": {}
      },
      "source": [
        ""
      ],
      "execution_count": 0,
      "outputs": []
    }
  ]
}