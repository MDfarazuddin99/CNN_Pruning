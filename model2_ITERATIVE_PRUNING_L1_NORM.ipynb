{
  "nbformat": 4,
  "nbformat_minor": 0,
  "metadata": {
    "colab": {
      "name": "model2_ITERATIVE_PRUNING_L1_NORM.ipynb",
      "provenance": [],
      "collapsed_sections": []
    },
    "kernelspec": {
      "name": "python3",
      "display_name": "Python 3"
    }
  },
  "cells": [
    {
      "cell_type": "code",
      "metadata": {
        "id": "27zwbJ1Dlj7l",
        "colab_type": "code",
        "colab": {
          "base_uri": "https://localhost:8080/",
          "height": 294
        },
        "outputId": "7160b577-8464-4023-bc31-0c742af28e63"
      },
      "source": [
        "!pip install kerassurgeon\n",
        "import numpy as np\n",
        "import tensorflow as tf\n",
        "from keras.datasets import cifar10\n",
        "from keras.utils import np_utils\n",
        "import matplotlib.pyplot as plt\n",
        "from keras.models import Sequential\n",
        "from keras.layers import Dense, Conv2D, MaxPooling2D, Dropout, Flatten, GlobalAveragePooling2D\n",
        "from keras.models import load_model\n",
        "from kerassurgeon import identify \n",
        "from kerassurgeon.operations import delete_channels,delete_layer\n",
        "from kerassurgeon import Surgeon"
      ],
      "execution_count": 1,
      "outputs": [
        {
          "output_type": "stream",
          "text": [
            "Collecting kerassurgeon\n",
            "  Downloading https://files.pythonhosted.org/packages/ef/e7/8adbef95f56e2349bf9faf2aec462dee0a38cec7cd6bfb8895de83706762/kerassurgeon-0.1.3-py3-none-any.whl\n",
            "Requirement already satisfied: keras>=2.0.7 in /usr/local/lib/python3.6/dist-packages (from kerassurgeon) (2.2.5)\n",
            "Requirement already satisfied: pyyaml in /usr/local/lib/python3.6/dist-packages (from keras>=2.0.7->kerassurgeon) (3.13)\n",
            "Requirement already satisfied: keras-preprocessing>=1.1.0 in /usr/local/lib/python3.6/dist-packages (from keras>=2.0.7->kerassurgeon) (1.1.0)\n",
            "Requirement already satisfied: h5py in /usr/local/lib/python3.6/dist-packages (from keras>=2.0.7->kerassurgeon) (2.8.0)\n",
            "Requirement already satisfied: six>=1.9.0 in /usr/local/lib/python3.6/dist-packages (from keras>=2.0.7->kerassurgeon) (1.12.0)\n",
            "Requirement already satisfied: keras-applications>=1.0.8 in /usr/local/lib/python3.6/dist-packages (from keras>=2.0.7->kerassurgeon) (1.0.8)\n",
            "Requirement already satisfied: scipy>=0.14 in /usr/local/lib/python3.6/dist-packages (from keras>=2.0.7->kerassurgeon) (1.4.1)\n",
            "Requirement already satisfied: numpy>=1.9.1 in /usr/local/lib/python3.6/dist-packages (from keras>=2.0.7->kerassurgeon) (1.17.5)\n",
            "Installing collected packages: kerassurgeon\n",
            "Successfully installed kerassurgeon-0.1.3\n"
          ],
          "name": "stdout"
        },
        {
          "output_type": "display_data",
          "data": {
            "text/html": [
              "<p style=\"color: red;\">\n",
              "The default version of TensorFlow in Colab will soon switch to TensorFlow 2.x.<br>\n",
              "We recommend you <a href=\"https://www.tensorflow.org/guide/migrate\" target=\"_blank\">upgrade</a> now \n",
              "or ensure your notebook will continue to use TensorFlow 1.x via the <code>%tensorflow_version 1.x</code> magic:\n",
              "<a href=\"https://colab.research.google.com/notebooks/tensorflow_version.ipynb\" target=\"_blank\">more info</a>.</p>\n"
            ],
            "text/plain": [
              "<IPython.core.display.HTML object>"
            ]
          },
          "metadata": {
            "tags": []
          }
        },
        {
          "output_type": "stream",
          "text": [
            "Using TensorFlow backend.\n"
          ],
          "name": "stderr"
        }
      ]
    },
    {
      "cell_type": "code",
      "metadata": {
        "id": "14XOgbaCltZb",
        "colab_type": "code",
        "colab": {
          "base_uri": "https://localhost:8080/",
          "height": 52
        },
        "outputId": "7d1d63e1-912d-40c3-bb44-bf1ce86e642d"
      },
      "source": [
        "(x_train,y_train),(x_test,y_test) = cifar10.load_data()\n",
        "\n",
        "def normalize(x_train,x_test):\n",
        "    mean = np.mean(x_train,axis=(0,1,2,3))\n",
        "    std = np.std(x_train, axis=(0, 1, 2, 3))\n",
        "    x_train = (x_train-mean)/(std+1e-7)\n",
        "    x_test = (x_test-mean)/(std+1e-7)\n",
        "    return x_train, x_test\n",
        "\n",
        "\n",
        "x_train , x_test = normalize(x_train,x_test)\n",
        "\n",
        "y_train = np_utils.to_categorical(y_train,10)\n",
        "y_test = np_utils.to_categorical(y_test,10)\n"
      ],
      "execution_count": 2,
      "outputs": [
        {
          "output_type": "stream",
          "text": [
            "Downloading data from https://www.cs.toronto.edu/~kriz/cifar-10-python.tar.gz\n",
            "170500096/170498071 [==============================] - 3s 0us/step\n"
          ],
          "name": "stdout"
        }
      ]
    },
    {
      "cell_type": "code",
      "metadata": {
        "id": "YCUUM5Uqlu30",
        "colab_type": "code",
        "colab": {
          "base_uri": "https://localhost:8080/",
          "height": 605
        },
        "outputId": "c269033d-c291-47be-abae-8ffd37befa1a"
      },
      "source": [
        "import tensorflow.compat.v1 as tf\n",
        "tf.disable_v2_behavior()\n",
        "\n",
        "\n",
        "\n",
        "model_1 = Sequential()\n",
        "\n",
        "model_1.add(Conv2D(32,(3,3),activation='relu',input_shape=x_train.shape[1:]))\n",
        "\n",
        "model_1.add(MaxPooling2D(pool_size=(2,2)))\n",
        "\n",
        "model_1.add(Conv2D(32,(3,3),activation='relu'))\n",
        "\n",
        "model_1.add(MaxPooling2D(pool_size=(2,2)))\n",
        "\n",
        "model_1.add(Conv2D(64,(3,3),activation='relu'))\n",
        "\n",
        "model_1.add(MaxPooling2D(pool_size=(2,2)))\n",
        "\n",
        "model_1.add(GlobalAveragePooling2D())\n",
        "model_1.add(Dense(10,activation='softmax'))\n",
        "\n",
        "model_2 = Sequential()\n",
        "model_2.add(Conv2D(32, (3, 3), padding='same',activation='relu',\n",
        "                 input_shape=x_train.shape[1:]))\n",
        "\n",
        "model_2.add(Conv2D(32, (3, 3),activation='relu'))\n",
        "\n",
        "model_2.add(MaxPooling2D(pool_size=(2, 2)))\n",
        "model_2.add(Dropout(0.25))\n",
        "\n",
        "model_2.add(Conv2D(64, (3, 3), padding='same',activation='relu'))\n",
        "\n",
        "model_2.add(Conv2D(64, (3, 3),activation='relu',))\n",
        "\n",
        "model_2.add(MaxPooling2D(pool_size=(2, 2)))\n",
        "model_2.add(Dropout(0.25))\n",
        "\n",
        "model_2.add(Flatten())\n",
        "model_2.add(Dense(512,activation='relu',))\n",
        "\n",
        "model_2.add(Dropout(0.5))\n",
        "model_2.add(Dense(10,activation='softmax',))\n"
      ],
      "execution_count": 3,
      "outputs": [
        {
          "output_type": "stream",
          "text": [
            "WARNING:tensorflow:From /usr/local/lib/python3.6/dist-packages/tensorflow_core/python/compat/v2_compat.py:68: disable_resource_variables (from tensorflow.python.ops.variable_scope) is deprecated and will be removed in a future version.\n",
            "Instructions for updating:\n",
            "non-resource variables are not supported in the long term\n"
          ],
          "name": "stdout"
        },
        {
          "output_type": "stream",
          "text": [
            "WARNING:tensorflow:From /usr/local/lib/python3.6/dist-packages/tensorflow_core/python/compat/v2_compat.py:68: disable_resource_variables (from tensorflow.python.ops.variable_scope) is deprecated and will be removed in a future version.\n",
            "Instructions for updating:\n",
            "non-resource variables are not supported in the long term\n"
          ],
          "name": "stderr"
        },
        {
          "output_type": "stream",
          "text": [
            "WARNING:tensorflow:From /usr/local/lib/python3.6/dist-packages/keras/backend/tensorflow_backend.py:66: The name tf.get_default_graph is deprecated. Please use tf.compat.v1.get_default_graph instead.\n",
            "\n"
          ],
          "name": "stdout"
        },
        {
          "output_type": "stream",
          "text": [
            "WARNING:tensorflow:From /usr/local/lib/python3.6/dist-packages/keras/backend/tensorflow_backend.py:66: The name tf.get_default_graph is deprecated. Please use tf.compat.v1.get_default_graph instead.\n",
            "\n"
          ],
          "name": "stderr"
        },
        {
          "output_type": "stream",
          "text": [
            "WARNING:tensorflow:From /usr/local/lib/python3.6/dist-packages/keras/backend/tensorflow_backend.py:541: The name tf.placeholder is deprecated. Please use tf.compat.v1.placeholder instead.\n",
            "\n"
          ],
          "name": "stdout"
        },
        {
          "output_type": "stream",
          "text": [
            "WARNING:tensorflow:From /usr/local/lib/python3.6/dist-packages/keras/backend/tensorflow_backend.py:541: The name tf.placeholder is deprecated. Please use tf.compat.v1.placeholder instead.\n",
            "\n"
          ],
          "name": "stderr"
        },
        {
          "output_type": "stream",
          "text": [
            "WARNING:tensorflow:From /usr/local/lib/python3.6/dist-packages/keras/backend/tensorflow_backend.py:4432: The name tf.random_uniform is deprecated. Please use tf.random.uniform instead.\n",
            "\n"
          ],
          "name": "stdout"
        },
        {
          "output_type": "stream",
          "text": [
            "WARNING:tensorflow:From /usr/local/lib/python3.6/dist-packages/keras/backend/tensorflow_backend.py:4432: The name tf.random_uniform is deprecated. Please use tf.random.uniform instead.\n",
            "\n"
          ],
          "name": "stderr"
        },
        {
          "output_type": "stream",
          "text": [
            "WARNING:tensorflow:From /usr/local/lib/python3.6/dist-packages/keras/backend/tensorflow_backend.py:4267: The name tf.nn.max_pool is deprecated. Please use tf.nn.max_pool2d instead.\n",
            "\n"
          ],
          "name": "stdout"
        },
        {
          "output_type": "stream",
          "text": [
            "WARNING:tensorflow:From /usr/local/lib/python3.6/dist-packages/keras/backend/tensorflow_backend.py:4267: The name tf.nn.max_pool is deprecated. Please use tf.nn.max_pool2d instead.\n",
            "\n"
          ],
          "name": "stderr"
        },
        {
          "output_type": "stream",
          "text": [
            "WARNING:tensorflow:From /usr/local/lib/python3.6/dist-packages/keras/backend/tensorflow_backend.py:148: The name tf.placeholder_with_default is deprecated. Please use tf.compat.v1.placeholder_with_default instead.\n",
            "\n"
          ],
          "name": "stdout"
        },
        {
          "output_type": "stream",
          "text": [
            "WARNING:tensorflow:From /usr/local/lib/python3.6/dist-packages/keras/backend/tensorflow_backend.py:148: The name tf.placeholder_with_default is deprecated. Please use tf.compat.v1.placeholder_with_default instead.\n",
            "\n"
          ],
          "name": "stderr"
        },
        {
          "output_type": "stream",
          "text": [
            "WARNING:tensorflow:From /usr/local/lib/python3.6/dist-packages/keras/backend/tensorflow_backend.py:3733: calling dropout (from tensorflow.python.ops.nn_ops) with keep_prob is deprecated and will be removed in a future version.\n",
            "Instructions for updating:\n",
            "Please use `rate` instead of `keep_prob`. Rate should be set to `rate = 1 - keep_prob`.\n"
          ],
          "name": "stdout"
        },
        {
          "output_type": "stream",
          "text": [
            "WARNING:tensorflow:From /usr/local/lib/python3.6/dist-packages/keras/backend/tensorflow_backend.py:3733: calling dropout (from tensorflow.python.ops.nn_ops) with keep_prob is deprecated and will be removed in a future version.\n",
            "Instructions for updating:\n",
            "Please use `rate` instead of `keep_prob`. Rate should be set to `rate = 1 - keep_prob`.\n"
          ],
          "name": "stderr"
        }
      ]
    },
    {
      "cell_type": "code",
      "metadata": {
        "id": "Kl9kL5PplzaQ",
        "colab_type": "code",
        "colab": {
          "base_uri": "https://localhost:8080/",
          "height": 585
        },
        "outputId": "d5d0ca8d-24a7-4a80-f778-9c2dc1e2ae50"
      },
      "source": [
        "my_model = model_2\n",
        "my_model.summary()"
      ],
      "execution_count": 4,
      "outputs": [
        {
          "output_type": "stream",
          "text": [
            "Model: \"sequential_2\"\n",
            "_________________________________________________________________\n",
            "Layer (type)                 Output Shape              Param #   \n",
            "=================================================================\n",
            "conv2d_4 (Conv2D)            (None, 32, 32, 32)        896       \n",
            "_________________________________________________________________\n",
            "conv2d_5 (Conv2D)            (None, 30, 30, 32)        9248      \n",
            "_________________________________________________________________\n",
            "max_pooling2d_4 (MaxPooling2 (None, 15, 15, 32)        0         \n",
            "_________________________________________________________________\n",
            "dropout_1 (Dropout)          (None, 15, 15, 32)        0         \n",
            "_________________________________________________________________\n",
            "conv2d_6 (Conv2D)            (None, 15, 15, 64)        18496     \n",
            "_________________________________________________________________\n",
            "conv2d_7 (Conv2D)            (None, 13, 13, 64)        36928     \n",
            "_________________________________________________________________\n",
            "max_pooling2d_5 (MaxPooling2 (None, 6, 6, 64)          0         \n",
            "_________________________________________________________________\n",
            "dropout_2 (Dropout)          (None, 6, 6, 64)          0         \n",
            "_________________________________________________________________\n",
            "flatten_1 (Flatten)          (None, 2304)              0         \n",
            "_________________________________________________________________\n",
            "dense_2 (Dense)              (None, 512)               1180160   \n",
            "_________________________________________________________________\n",
            "dropout_3 (Dropout)          (None, 512)               0         \n",
            "_________________________________________________________________\n",
            "dense_3 (Dense)              (None, 10)                5130      \n",
            "=================================================================\n",
            "Total params: 1,250,858\n",
            "Trainable params: 1,250,858\n",
            "Non-trainable params: 0\n",
            "_________________________________________________________________\n"
          ],
          "name": "stdout"
        }
      ]
    },
    {
      "cell_type": "code",
      "metadata": {
        "id": "NI7ZgcaHl-Bs",
        "colab_type": "code",
        "colab": {
          "base_uri": "https://localhost:8080/",
          "height": 925
        },
        "outputId": "70d20e25-fdaf-47c1-fe68-e9767f34c9c0"
      },
      "source": [
        "my_model = load_model('drive/My Drive/Colab Notebooks/model2_before_pruning.h5')\n",
        "score_train = my_model.evaluate(x_train,y_train) \n",
        "\n",
        "print('Accuracy on the Train Images: ', score_train[1])\n",
        "\n",
        "score_test = my_model.evaluate(x_test, y_test)\n",
        "\n",
        "print('Accuracy on the Test Images: ', score_test[1])"
      ],
      "execution_count": 6,
      "outputs": [
        {
          "output_type": "stream",
          "text": [
            "WARNING:tensorflow:From /usr/local/lib/python3.6/dist-packages/keras/backend/tensorflow_backend.py:190: The name tf.get_default_session is deprecated. Please use tf.compat.v1.get_default_session instead.\n",
            "\n"
          ],
          "name": "stdout"
        },
        {
          "output_type": "stream",
          "text": [
            "WARNING:tensorflow:From /usr/local/lib/python3.6/dist-packages/keras/backend/tensorflow_backend.py:190: The name tf.get_default_session is deprecated. Please use tf.compat.v1.get_default_session instead.\n",
            "\n"
          ],
          "name": "stderr"
        },
        {
          "output_type": "stream",
          "text": [
            "WARNING:tensorflow:From /usr/local/lib/python3.6/dist-packages/keras/backend/tensorflow_backend.py:197: The name tf.ConfigProto is deprecated. Please use tf.compat.v1.ConfigProto instead.\n",
            "\n"
          ],
          "name": "stdout"
        },
        {
          "output_type": "stream",
          "text": [
            "WARNING:tensorflow:From /usr/local/lib/python3.6/dist-packages/keras/backend/tensorflow_backend.py:197: The name tf.ConfigProto is deprecated. Please use tf.compat.v1.ConfigProto instead.\n",
            "\n"
          ],
          "name": "stderr"
        },
        {
          "output_type": "stream",
          "text": [
            "WARNING:tensorflow:From /usr/local/lib/python3.6/dist-packages/keras/backend/tensorflow_backend.py:203: The name tf.Session is deprecated. Please use tf.compat.v1.Session instead.\n",
            "\n"
          ],
          "name": "stdout"
        },
        {
          "output_type": "stream",
          "text": [
            "WARNING:tensorflow:From /usr/local/lib/python3.6/dist-packages/keras/backend/tensorflow_backend.py:203: The name tf.Session is deprecated. Please use tf.compat.v1.Session instead.\n",
            "\n"
          ],
          "name": "stderr"
        },
        {
          "output_type": "stream",
          "text": [
            "WARNING:tensorflow:From /usr/local/lib/python3.6/dist-packages/keras/backend/tensorflow_backend.py:207: The name tf.global_variables is deprecated. Please use tf.compat.v1.global_variables instead.\n",
            "\n"
          ],
          "name": "stdout"
        },
        {
          "output_type": "stream",
          "text": [
            "WARNING:tensorflow:From /usr/local/lib/python3.6/dist-packages/keras/backend/tensorflow_backend.py:207: The name tf.global_variables is deprecated. Please use tf.compat.v1.global_variables instead.\n",
            "\n"
          ],
          "name": "stderr"
        },
        {
          "output_type": "stream",
          "text": [
            "WARNING:tensorflow:From /usr/local/lib/python3.6/dist-packages/keras/backend/tensorflow_backend.py:216: The name tf.is_variable_initialized is deprecated. Please use tf.compat.v1.is_variable_initialized instead.\n",
            "\n"
          ],
          "name": "stdout"
        },
        {
          "output_type": "stream",
          "text": [
            "WARNING:tensorflow:From /usr/local/lib/python3.6/dist-packages/keras/backend/tensorflow_backend.py:216: The name tf.is_variable_initialized is deprecated. Please use tf.compat.v1.is_variable_initialized instead.\n",
            "\n"
          ],
          "name": "stderr"
        },
        {
          "output_type": "stream",
          "text": [
            "WARNING:tensorflow:From /usr/local/lib/python3.6/dist-packages/keras/backend/tensorflow_backend.py:223: The name tf.variables_initializer is deprecated. Please use tf.compat.v1.variables_initializer instead.\n",
            "\n"
          ],
          "name": "stdout"
        },
        {
          "output_type": "stream",
          "text": [
            "WARNING:tensorflow:From /usr/local/lib/python3.6/dist-packages/keras/backend/tensorflow_backend.py:223: The name tf.variables_initializer is deprecated. Please use tf.compat.v1.variables_initializer instead.\n",
            "\n"
          ],
          "name": "stderr"
        },
        {
          "output_type": "stream",
          "text": [
            "WARNING:tensorflow:From /usr/local/lib/python3.6/dist-packages/keras/optimizers.py:793: The name tf.train.Optimizer is deprecated. Please use tf.compat.v1.train.Optimizer instead.\n",
            "\n"
          ],
          "name": "stdout"
        },
        {
          "output_type": "stream",
          "text": [
            "WARNING:tensorflow:From /usr/local/lib/python3.6/dist-packages/keras/optimizers.py:793: The name tf.train.Optimizer is deprecated. Please use tf.compat.v1.train.Optimizer instead.\n",
            "\n"
          ],
          "name": "stderr"
        },
        {
          "output_type": "stream",
          "text": [
            "WARNING:tensorflow:From /usr/local/lib/python3.6/dist-packages/keras/backend/tensorflow_backend.py:3576: The name tf.log is deprecated. Please use tf.math.log instead.\n",
            "\n"
          ],
          "name": "stdout"
        },
        {
          "output_type": "stream",
          "text": [
            "WARNING:tensorflow:From /usr/local/lib/python3.6/dist-packages/keras/backend/tensorflow_backend.py:3576: The name tf.log is deprecated. Please use tf.math.log instead.\n",
            "\n"
          ],
          "name": "stderr"
        },
        {
          "output_type": "stream",
          "text": [
            "WARNING:tensorflow:From /usr/local/lib/python3.6/dist-packages/tensorflow_core/python/ops/math_grad.py:1424: where (from tensorflow.python.ops.array_ops) is deprecated and will be removed in a future version.\n",
            "Instructions for updating:\n",
            "Use tf.where in 2.0, which has the same broadcast rule as np.where\n"
          ],
          "name": "stdout"
        },
        {
          "output_type": "stream",
          "text": [
            "WARNING:tensorflow:From /usr/local/lib/python3.6/dist-packages/tensorflow_core/python/ops/math_grad.py:1424: where (from tensorflow.python.ops.array_ops) is deprecated and will be removed in a future version.\n",
            "Instructions for updating:\n",
            "Use tf.where in 2.0, which has the same broadcast rule as np.where\n"
          ],
          "name": "stderr"
        },
        {
          "output_type": "stream",
          "text": [
            "WARNING:tensorflow:From /usr/local/lib/python3.6/dist-packages/keras/backend/tensorflow_backend.py:1033: The name tf.assign_add is deprecated. Please use tf.compat.v1.assign_add instead.\n",
            "\n"
          ],
          "name": "stdout"
        },
        {
          "output_type": "stream",
          "text": [
            "WARNING:tensorflow:From /usr/local/lib/python3.6/dist-packages/keras/backend/tensorflow_backend.py:1033: The name tf.assign_add is deprecated. Please use tf.compat.v1.assign_add instead.\n",
            "\n"
          ],
          "name": "stderr"
        },
        {
          "output_type": "stream",
          "text": [
            "WARNING:tensorflow:From /usr/local/lib/python3.6/dist-packages/keras/backend/tensorflow_backend.py:1020: The name tf.assign is deprecated. Please use tf.compat.v1.assign instead.\n",
            "\n"
          ],
          "name": "stdout"
        },
        {
          "output_type": "stream",
          "text": [
            "WARNING:tensorflow:From /usr/local/lib/python3.6/dist-packages/keras/backend/tensorflow_backend.py:1020: The name tf.assign is deprecated. Please use tf.compat.v1.assign instead.\n",
            "\n"
          ],
          "name": "stderr"
        },
        {
          "output_type": "stream",
          "text": [
            "50000/50000 [==============================] - 57s 1ms/step\n",
            "Accuracy on the Train Images:  0.85504\n",
            "10000/10000 [==============================] - 11s 1ms/step\n",
            "Accuracy on the Test Images:  0.7661\n"
          ],
          "name": "stdout"
        }
      ]
    },
    {
      "cell_type": "code",
      "metadata": {
        "id": "8VZOzOiBmAAr",
        "colab_type": "code",
        "colab": {
          "base_uri": "https://localhost:8080/",
          "height": 52
        },
        "outputId": "329b70ac-fbdb-45b2-fa18-798f368b2a05"
      },
      "source": [
        "def my_get_all_conv_layers(model,first_time):\n",
        "    all_conv_layers = list()\n",
        "    for i,each_layer in enumerate(model.layers):\n",
        "        if (each_layer.name[0:6] == 'conv2d'):\n",
        "            all_conv_layers.append(i)\n",
        "\n",
        "    return all_conv_layers if (first_time==True) else all_conv_layers[1:]\n",
        "\n",
        "def my_get_all_dense_layers(model):\n",
        "    all_dense_layers = list()\n",
        "    for i,each_layer in enumerate(model.layers):\n",
        "        if (each_layer.name[0:5] == 'dense'):\n",
        "            all_dense_layers.append(i)\n",
        "    return all_dense_layers\n",
        "\n",
        "\n",
        "all_dense_layers = my_get_all_dense_layers(my_model)\n",
        "\n",
        "all_conv_layers = my_get_all_conv_layers(my_model,True)\n",
        "\n",
        "print('All convolution layers = ',all_conv_layers,'\\nAll dense layers = ',all_dense_layers)\n"
      ],
      "execution_count": 13,
      "outputs": [
        {
          "output_type": "stream",
          "text": [
            "All convolution layers =  [0, 1, 4, 5] \n",
            "All dense layers =  [9, 11]\n"
          ],
          "name": "stdout"
        }
      ]
    },
    {
      "cell_type": "code",
      "metadata": {
        "id": "g0MUimBAmJm8",
        "colab_type": "code",
        "colab": {}
      },
      "source": [
        "def my_in_conv_layers_get_L1_norms_sorted_indices_and_values(model,graph,first_time):\n",
        "    weights = list()\n",
        "    all_conv_layers = my_get_all_conv_layers(model,first_time)\n",
        "    for i in all_conv_layers:\n",
        "        print('{}th layer'.format(i),all_conv_layers)\n",
        "        weights.append(model.layers[i].get_weights()[0])\n",
        "    layer_wise_filter_sorted_indices = list()\n",
        "    layer_wise_filter_sorted_values = list()\n",
        "    for i in range(len(weights)):\n",
        "        weight = weights[i]\n",
        "        num_filters = len(weight[0,0,0,:])\n",
        "        # print(num_filters)\n",
        "        weights_dict = dict() \n",
        "        for j in range(num_filters):\n",
        "            weights_sum = np.sum(abs(weight[:,:,:,j]))\n",
        "            filtr = 'filter {}'.format(j)\n",
        "            weights_dict[filtr] = weights_sum\n",
        "        \n",
        "        weights_dict_sorted = sorted(weights_dict.items(),key = lambda kv:kv[1]) \n",
        "        # print('L1 norm of conv2D_{} layer'.format(i+1),weights_dict_sorted)\n",
        "\n",
        "        weight_values = list()\n",
        "        filter_indices = list()\n",
        "\n",
        "        for element in weights_dict_sorted:\n",
        "            filter_indices.append(int(element[0][6:]))  # extracting the index of filter from string (tentative try to come up with better code)\n",
        "            weight_values.append(element[1]) \n",
        "    \n",
        "        layer_wise_filter_sorted_indices.append(filter_indices)\n",
        "        layer_wise_filter_sorted_values.append(weight_values)\n",
        "\n",
        "        if graph == True:\n",
        "                x = np.arange(num_filters)\n",
        "                plt.figure(i+1,figsize=(7,5))\n",
        "                plt.plot(x,np.array(weight_values))\n",
        "                plt.axhline(y=np.mean(np.array(weight_values)),c='r')\n",
        "                for j in range(len(layer_wise_filter_sorted_values[i])):\n",
        "                    if(np.mean(np.array(weight_values)) < weight_values[j]):\n",
        "                        plt.axvline(x=j,c='r')\n",
        "                        break\n",
        "\n",
        "                plt.xlabel('filter number')\n",
        "                plt.ylabel('L1 norm')\n",
        "                plt.title('Conv2d_{}'.format(i+1))\n",
        "                plt.grid(True)\n",
        "                plt.style.use(['classic'])\n",
        "    return layer_wise_filter_sorted_indices,layer_wise_filter_sorted_values"
      ],
      "execution_count": 0,
      "outputs": []
    },
    {
      "cell_type": "code",
      "metadata": {
        "id": "sEnSFs-cmLoc",
        "colab_type": "code",
        "colab": {
          "base_uri": "https://localhost:8080/",
          "height": 105
        },
        "outputId": "2b84e841-b696-47bf-8677-06cde738553e"
      },
      "source": [
        "def my_get_prune_filter_indices(model,first_time ):\n",
        "    layer_wise_filter_sorted_indices,layer_wise_filter_sorted_values = my_in_conv_layers_get_L1_norms_sorted_indices_and_values(model, False,first_time)\n",
        "    all_conv_layers = my_get_all_conv_layers(model,first_time)\n",
        "    thresh_hold_means = list()\n",
        "    for i in range(len(all_conv_layers)):\n",
        "        # print(i,'/',len(all_conv_layers))\n",
        "        thresh_hold_means.append(np.mean(np.array(layer_wise_filter_sorted_values[i])))\n",
        "    prune_filter_indices = list()\n",
        "    for i in range(len(all_conv_layers)):\n",
        "        for j in range(len(layer_wise_filter_sorted_values[i])):\n",
        "            if(thresh_hold_means[i] < layer_wise_filter_sorted_values[i][j]):\n",
        "                prune_filter_indices.append(j)\n",
        "                break\n",
        "    return prune_filter_indices\n",
        "prune_filter_indices = my_get_prune_filter_indices(my_model,True)\n",
        "prune_filter_indices"
      ],
      "execution_count": 15,
      "outputs": [
        {
          "output_type": "stream",
          "text": [
            "0th layer [0, 1, 4, 5]\n",
            "1th layer [0, 1, 4, 5]\n",
            "4th layer [0, 1, 4, 5]\n",
            "5th layer [0, 1, 4, 5]\n"
          ],
          "name": "stdout"
        },
        {
          "output_type": "execute_result",
          "data": {
            "text/plain": [
              "[15, 12, 27, 20]"
            ]
          },
          "metadata": {
            "tags": []
          },
          "execution_count": 15
        }
      ]
    },
    {
      "cell_type": "code",
      "metadata": {
        "id": "eKdYotR0mOS-",
        "colab_type": "code",
        "colab": {}
      },
      "source": [
        "def my_delete_filters(model,first_time):\n",
        "    layer_wise_filter_sorted_indices,layer_wise_filter_sorted_values = my_in_conv_layers_get_L1_norms_sorted_indices_and_values(model,False,first_time)\n",
        "    prune_filter_indices = my_get_prune_filter_indices(model,first_time)\n",
        "    all_conv_layers = my_get_all_conv_layers(model,first_time)\n",
        "    print(all_conv_layers)\n",
        "    surgeon = Surgeon(my_model)\n",
        "    for index,value in enumerate(all_conv_layers):\n",
        "        print(value,index,prune_filter_indices[index])\n",
        "        surgeon.add_job('delete_channels',model.layers[value],channels = layer_wise_filter_sorted_indices[index][0:prune_filter_indices[index]])\n",
        "    model_new = surgeon.operate()\n",
        "    return model_new\n"
      ],
      "execution_count": 0,
      "outputs": []
    },
    {
      "cell_type": "code",
      "metadata": {
        "id": "Ghd8TqrLmQRT",
        "colab_type": "code",
        "colab": {
          "base_uri": "https://localhost:8080/",
          "height": 34
        },
        "outputId": "120fa55e-e1c6-4d86-f803-62b3dd5076aa"
      },
      "source": [
        "model_new = load_model('drive/My Drive/Colab Notebooks/model2_just_after_pruning.h5')\n",
        "print(my_get_all_conv_layers(model_new,True))"
      ],
      "execution_count": 20,
      "outputs": [
        {
          "output_type": "stream",
          "text": [
            "[0, 1, 2, 5, 6]\n"
          ],
          "name": "stdout"
        }
      ]
    },
    {
      "cell_type": "code",
      "metadata": {
        "id": "LBbwpcyimTNB",
        "colab_type": "code",
        "colab": {
          "base_uri": "https://localhost:8080/",
          "height": 621
        },
        "outputId": "911074e2-5de9-4079-9a69-c34ef00fce50"
      },
      "source": [
        "model_new.summary()"
      ],
      "execution_count": 19,
      "outputs": [
        {
          "output_type": "stream",
          "text": [
            "Model: \"model_3\"\n",
            "_________________________________________________________________\n",
            "Layer (type)                 Output Shape              Param #   \n",
            "=================================================================\n",
            "conv2d_4_input (InputLayer)  (None, 32, 32, 3)         0         \n",
            "_________________________________________________________________\n",
            "conv2d_4 (Conv2D)            (None, 32, 32, 17)        476       \n",
            "_________________________________________________________________\n",
            "conv2d_5 (Conv2D)            (None, 30, 30, 20)        3080      \n",
            "_________________________________________________________________\n",
            "max_pooling2d_4 (MaxPooling2 (None, 15, 15, 20)        0         \n",
            "_________________________________________________________________\n",
            "dropout_1 (Dropout)          (None, 15, 15, 20)        0         \n",
            "_________________________________________________________________\n",
            "conv2d_6 (Conv2D)            (None, 15, 15, 37)        6697      \n",
            "_________________________________________________________________\n",
            "conv2d_7 (Conv2D)            (None, 13, 13, 44)        14696     \n",
            "_________________________________________________________________\n",
            "max_pooling2d_5 (MaxPooling2 (None, 6, 6, 44)          0         \n",
            "_________________________________________________________________\n",
            "dropout_2 (Dropout)          (None, 6, 6, 44)          0         \n",
            "_________________________________________________________________\n",
            "flatten_1 (Flatten)          (None, 1584)              0         \n",
            "_________________________________________________________________\n",
            "dense_2 (Dense)              (None, 512)               811520    \n",
            "_________________________________________________________________\n",
            "dropout_3 (Dropout)          (None, 512)               0         \n",
            "_________________________________________________________________\n",
            "dense_3 (Dense)              (None, 10)                5130      \n",
            "=================================================================\n",
            "Total params: 841,599\n",
            "Trainable params: 841,599\n",
            "Non-trainable params: 0\n",
            "_________________________________________________________________\n"
          ],
          "name": "stdout"
        }
      ]
    },
    {
      "cell_type": "code",
      "metadata": {
        "id": "yGTIjCZMmW8A",
        "colab_type": "code",
        "colab": {
          "base_uri": "https://localhost:8080/",
          "height": 87
        },
        "outputId": "96cf1d1f-e15c-491d-88dc-b45b0c9982be"
      },
      "source": [
        "\n",
        "\n",
        "\n",
        "score_train = model_new.evaluate(x_train,y_train) \n",
        "\n",
        "print('Accuracy on the Train Images: ', score_train[1])\n",
        "\n",
        "score_test = model_new.evaluate(x_test, y_test)\n",
        "\n",
        "print('Accuracy on the Test Images: ', score_test[1])\n"
      ],
      "execution_count": 21,
      "outputs": [
        {
          "output_type": "stream",
          "text": [
            "50000/50000 [==============================] - 43s 852us/step\n",
            "Accuracy on the Train Images:  0.28318\n",
            "10000/10000 [==============================] - 8s 838us/step\n",
            "Accuracy on the Test Images:  0.2702\n"
          ],
          "name": "stdout"
        }
      ]
    },
    {
      "cell_type": "code",
      "metadata": {
        "id": "3bBjHNZKm0g1",
        "colab_type": "code",
        "colab": {
          "base_uri": "https://localhost:8080/",
          "height": 87
        },
        "outputId": "4a7733e2-be02-4fb0-e494-829362aec107"
      },
      "source": [
        "model_new = load_model('drive/My Drive/Colab Notebooks/model2_after_training_pruned_model.h5')\n",
        "\n",
        "score_train = model_new.evaluate(x_train,y_train) \n",
        "\n",
        "print('Accuracy on the Train Images: ', score_train[1])\n",
        "\n",
        "score_test = model_new.evaluate(x_test, y_test)\n",
        "\n",
        "print('Accuracy on the Test Images: ', score_test[1])\n",
        "\n"
      ],
      "execution_count": 22,
      "outputs": [
        {
          "output_type": "stream",
          "text": [
            "50000/50000 [==============================] - 41s 818us/step\n",
            "Accuracy on the Train Images:  0.88048\n",
            "10000/10000 [==============================] - 8s 814us/step\n",
            "Accuracy on the Test Images:  0.7636\n"
          ],
          "name": "stdout"
        }
      ]
    },
    {
      "cell_type": "code",
      "metadata": {
        "id": "9u7xyZ_Mm5W1",
        "colab_type": "code",
        "colab": {
          "base_uri": "https://localhost:8080/",
          "height": 1000
        },
        "outputId": "1c16ade9-1a08-4e5e-8404-c4fad0ad4a69"
      },
      "source": [
        "my_in_conv_layers_get_L1_norms_sorted_indices_and_values(my_model,graph=True,first_time = False)"
      ],
      "execution_count": 23,
      "outputs": [
        {
          "output_type": "stream",
          "text": [
            "1th layer [1, 4, 5]\n",
            "4th layer [1, 4, 5]\n",
            "5th layer [1, 4, 5]\n"
          ],
          "name": "stdout"
        },
        {
          "output_type": "execute_result",
          "data": {
            "text/plain": [
              "([[14,\n",
              "   8,\n",
              "   3,\n",
              "   16,\n",
              "   17,\n",
              "   13,\n",
              "   1,\n",
              "   5,\n",
              "   18,\n",
              "   2,\n",
              "   9,\n",
              "   19,\n",
              "   28,\n",
              "   23,\n",
              "   15,\n",
              "   0,\n",
              "   6,\n",
              "   12,\n",
              "   30,\n",
              "   11,\n",
              "   25,\n",
              "   26,\n",
              "   20,\n",
              "   22,\n",
              "   31,\n",
              "   24,\n",
              "   10,\n",
              "   27,\n",
              "   21,\n",
              "   4,\n",
              "   29,\n",
              "   7],\n",
              "  [60,\n",
              "   40,\n",
              "   42,\n",
              "   13,\n",
              "   0,\n",
              "   16,\n",
              "   58,\n",
              "   56,\n",
              "   10,\n",
              "   35,\n",
              "   12,\n",
              "   27,\n",
              "   8,\n",
              "   19,\n",
              "   29,\n",
              "   21,\n",
              "   23,\n",
              "   62,\n",
              "   45,\n",
              "   52,\n",
              "   48,\n",
              "   63,\n",
              "   39,\n",
              "   44,\n",
              "   32,\n",
              "   11,\n",
              "   57,\n",
              "   43,\n",
              "   61,\n",
              "   5,\n",
              "   55,\n",
              "   46,\n",
              "   24,\n",
              "   50,\n",
              "   47,\n",
              "   7,\n",
              "   38,\n",
              "   17,\n",
              "   49,\n",
              "   34,\n",
              "   36,\n",
              "   18,\n",
              "   20,\n",
              "   28,\n",
              "   30,\n",
              "   51,\n",
              "   25,\n",
              "   9,\n",
              "   26,\n",
              "   2,\n",
              "   31,\n",
              "   22,\n",
              "   33,\n",
              "   59,\n",
              "   6,\n",
              "   53,\n",
              "   3,\n",
              "   15,\n",
              "   41,\n",
              "   1,\n",
              "   54,\n",
              "   37,\n",
              "   14,\n",
              "   4],\n",
              "  [49,\n",
              "   12,\n",
              "   11,\n",
              "   23,\n",
              "   20,\n",
              "   34,\n",
              "   19,\n",
              "   22,\n",
              "   52,\n",
              "   14,\n",
              "   56,\n",
              "   50,\n",
              "   1,\n",
              "   17,\n",
              "   40,\n",
              "   59,\n",
              "   47,\n",
              "   7,\n",
              "   16,\n",
              "   42,\n",
              "   58,\n",
              "   53,\n",
              "   41,\n",
              "   30,\n",
              "   37,\n",
              "   18,\n",
              "   62,\n",
              "   55,\n",
              "   4,\n",
              "   9,\n",
              "   61,\n",
              "   25,\n",
              "   28,\n",
              "   35,\n",
              "   44,\n",
              "   43,\n",
              "   54,\n",
              "   33,\n",
              "   29,\n",
              "   36,\n",
              "   0,\n",
              "   8,\n",
              "   38,\n",
              "   26,\n",
              "   24,\n",
              "   51,\n",
              "   31,\n",
              "   60,\n",
              "   6,\n",
              "   45,\n",
              "   39,\n",
              "   3,\n",
              "   2,\n",
              "   15,\n",
              "   32,\n",
              "   13,\n",
              "   48,\n",
              "   21,\n",
              "   10,\n",
              "   57,\n",
              "   46,\n",
              "   63,\n",
              "   27,\n",
              "   5]],\n",
              " [[15.990658,\n",
              "   18.364824,\n",
              "   18.970242,\n",
              "   22.601746,\n",
              "   22.988522,\n",
              "   23.275219,\n",
              "   23.302267,\n",
              "   23.629078,\n",
              "   23.696243,\n",
              "   24.729897,\n",
              "   24.94725,\n",
              "   25.162863,\n",
              "   25.455692,\n",
              "   25.743305,\n",
              "   25.789206,\n",
              "   25.932716,\n",
              "   25.961067,\n",
              "   26.228523,\n",
              "   26.322683,\n",
              "   26.352913,\n",
              "   26.611374,\n",
              "   26.613035,\n",
              "   26.656353,\n",
              "   26.720213,\n",
              "   27.034433,\n",
              "   27.200905,\n",
              "   27.406647,\n",
              "   27.902039,\n",
              "   28.325857,\n",
              "   28.840826,\n",
              "   30.095129,\n",
              "   30.16416],\n",
              "  [21.19259,\n",
              "   21.284153,\n",
              "   22.052525,\n",
              "   22.371437,\n",
              "   22.618017,\n",
              "   23.599964,\n",
              "   23.68296,\n",
              "   24.183277,\n",
              "   24.440132,\n",
              "   24.520565,\n",
              "   24.884638,\n",
              "   25.08577,\n",
              "   25.198593,\n",
              "   25.445732,\n",
              "   25.909172,\n",
              "   25.985466,\n",
              "   26.181654,\n",
              "   26.38695,\n",
              "   26.423088,\n",
              "   26.561373,\n",
              "   26.669184,\n",
              "   26.679031,\n",
              "   26.882261,\n",
              "   26.956287,\n",
              "   26.959229,\n",
              "   27.027466,\n",
              "   27.181213,\n",
              "   27.348093,\n",
              "   27.47183,\n",
              "   27.497581,\n",
              "   27.54629,\n",
              "   27.615759,\n",
              "   27.702978,\n",
              "   27.78949,\n",
              "   27.824926,\n",
              "   27.891106,\n",
              "   27.911736,\n",
              "   27.945236,\n",
              "   27.984701,\n",
              "   27.987692,\n",
              "   28.027428,\n",
              "   28.184141,\n",
              "   28.327911,\n",
              "   28.332987,\n",
              "   28.420097,\n",
              "   28.497618,\n",
              "   28.68212,\n",
              "   28.712029,\n",
              "   28.776138,\n",
              "   29.065964,\n",
              "   29.087975,\n",
              "   29.1868,\n",
              "   29.304905,\n",
              "   29.35482,\n",
              "   29.392076,\n",
              "   29.850368,\n",
              "   30.106705,\n",
              "   30.203203,\n",
              "   30.698822,\n",
              "   30.754139,\n",
              "   31.22441,\n",
              "   31.254805,\n",
              "   31.758966,\n",
              "   32.21003],\n",
              "  [24.805996,\n",
              "   25.22464,\n",
              "   26.943748,\n",
              "   27.555264,\n",
              "   29.22896,\n",
              "   30.247345,\n",
              "   34.487953,\n",
              "   40.928978,\n",
              "   46.15907,\n",
              "   46.287106,\n",
              "   48.34547,\n",
              "   49.20813,\n",
              "   49.74917,\n",
              "   50.05932,\n",
              "   50.348473,\n",
              "   50.644722,\n",
              "   51.065666,\n",
              "   51.327374,\n",
              "   51.74637,\n",
              "   51.803467,\n",
              "   52.268276,\n",
              "   52.41694,\n",
              "   52.43377,\n",
              "   52.863583,\n",
              "   53.011242,\n",
              "   53.237747,\n",
              "   53.26921,\n",
              "   53.59285,\n",
              "   54.07851,\n",
              "   54.153168,\n",
              "   54.165703,\n",
              "   54.26789,\n",
              "   54.468517,\n",
              "   54.530594,\n",
              "   54.62142,\n",
              "   54.907795,\n",
              "   54.958923,\n",
              "   55.068253,\n",
              "   55.167023,\n",
              "   55.205784,\n",
              "   55.22513,\n",
              "   55.52424,\n",
              "   55.663525,\n",
              "   56.00618,\n",
              "   56.062325,\n",
              "   56.191376,\n",
              "   56.577732,\n",
              "   56.747757,\n",
              "   57.276802,\n",
              "   57.590332,\n",
              "   57.659065,\n",
              "   57.91193,\n",
              "   57.953915,\n",
              "   58.097816,\n",
              "   58.246273,\n",
              "   58.28632,\n",
              "   58.416924,\n",
              "   59.641182,\n",
              "   59.993553,\n",
              "   60.64702,\n",
              "   61.626778,\n",
              "   61.947365,\n",
              "   64.58819,\n",
              "   67.87606]])"
            ]
          },
          "metadata": {
            "tags": []
          },
          "execution_count": 23
        },
        {
          "output_type": "display_data",
          "data": {
            "image/png": "[encoded data removed]",
            "text/plain": [
              "<Figure size 504x360 with 1 Axes>"
            ]
          },
          "metadata": {
            "tags": []
          }
        },
        {
          "output_type": "display_data",
          "data": {
            "image/png": "[encoded data removed]",
            "text/plain": [
              "<Figure size 560x400 with 1 Axes>"
            ]
          },
          "metadata": {
            "tags": []
          }
        },
        {
          "output_type": "display_data",
          "data": {
            "image/png": "[encoded data removed]",
            "text/plain": [
              "<Figure size 560x400 with 1 Axes>"
            ]
          },
          "metadata": {
            "tags": []
          }
        }
      ]
    },
    {
      "cell_type": "code",
      "metadata": {
        "id": "_c_mWr49nA7M",
        "colab_type": "code",
        "colab": {
          "base_uri": "https://localhost:8080/",
          "height": 1000
        },
        "outputId": "06bd0f91-b80f-4e1a-e2bf-3509e812faf4"
      },
      "source": [
        "\n",
        "model1= load_model('drive/My Drive/Colab Notebooks/model2_before_pruning.h5')\n",
        "\n",
        "\n",
        "validation_accuracy = model.evaluate(x_test,y_test)[1]\n",
        "print(validation_accuracy)\n",
        "max_val_acc = validation_accuracy\n",
        "count = 0\n",
        "while max_val_acc <= validation_accuracy:\n",
        "    print(count)\n",
        "    if max_val_acc < validation_accuracy:\n",
        "        max_val_acc = validation_accuracy\n",
        "\n",
        "    if count < 1:\n",
        "        conv_layers = my_get_all_conv_layers(model1,True)\n",
        "        a,b = my_in_conv_layers_get_L1_norms_sorted_indices_and_values(model1,True,True)\n",
        "        thresholds = my_get_prune_filter_indices(model1,True)\n",
        "        \n",
        "    else:\n",
        "        conv_layers = my_get_all_conv_layers(model1,False)\n",
        "        a,b = my_in_conv_layers_get_L1_norms_sorted_indices_and_values(model1,False,False)\n",
        "        thresholds = my_get_prune_filter_indices(model1,False)\n",
        "        \n",
        "    surgeon = Surgeon(model)\n",
        "    for index,value in enumerate(conv_layers):\n",
        "        # print(value,index,prune_filter_indices[index])\n",
        "        surgeon.add_job('delete_channels',model.layers[value],channels = a[index][0:thresholds[index]])\n",
        "    model = surgeon.operate()\n",
        "\n",
        "    model.compile(loss='categorical_crossentropy',optimizer='adam',metrics=['accuracy'])\n",
        "    model.fit(x_train, y_train, batch_size=32, epochs=10, verbose=1, validation_split=0.2, shuffle=True)\n",
        "    validation_accuracy = model.evaluate(x_test,y_test)[1]\n",
        "    print(\"--->\",validation_accuracy)\n",
        "    count+=1"
      ],
      "execution_count": 25,
      "outputs": [
        {
          "output_type": "stream",
          "text": [
            "10000/10000 [==============================] - 11s 1ms/step\n",
            "0.7661\n",
            "0\n",
            "0th layer [0, 1, 4, 5]\n",
            "1th layer [0, 1, 4, 5]\n",
            "4th layer [0, 1, 4, 5]\n",
            "5th layer [0, 1, 4, 5]\n",
            "0th layer [0, 1, 4, 5]\n",
            "1th layer [0, 1, 4, 5]\n",
            "4th layer [0, 1, 4, 5]\n",
            "5th layer [0, 1, 4, 5]\n",
            "Deleting 15/32 channels from layer: conv2d_4\n",
            "Deleting 12/32 channels from layer: conv2d_5\n",
            "Deleting 27/64 channels from layer: conv2d_6\n",
            "Deleting 20/64 channels from layer: conv2d_7\n",
            "Train on 40000 samples, validate on 10000 samples\n",
            "Epoch 1/10\n",
            "40000/40000 [==============================] - 139s 3ms/step - loss: 0.9270 - acc: 0.6761 - val_loss: 0.7821 - val_acc: 0.7323\n",
            "Epoch 2/10\n",
            "40000/40000 [==============================] - 139s 3ms/step - loss: 0.7835 - acc: 0.7265 - val_loss: 0.7365 - val_acc: 0.7406\n",
            "Epoch 3/10\n",
            "40000/40000 [==============================] - 138s 3ms/step - loss: 0.7339 - acc: 0.7410 - val_loss: 0.7184 - val_acc: 0.7494\n",
            "Epoch 4/10\n",
            "40000/40000 [==============================] - 139s 3ms/step - loss: 0.6945 - acc: 0.7573 - val_loss: 0.6998 - val_acc: 0.7601\n",
            "Epoch 5/10\n",
            "40000/40000 [==============================] - 138s 3ms/step - loss: 0.6679 - acc: 0.7649 - val_loss: 0.6876 - val_acc: 0.7616\n",
            "Epoch 6/10\n",
            "40000/40000 [==============================] - 139s 3ms/step - loss: 0.6492 - acc: 0.7719 - val_loss: 0.6875 - val_acc: 0.7634\n",
            "Epoch 7/10\n",
            "40000/40000 [==============================] - 139s 3ms/step - loss: 0.6280 - acc: 0.7806 - val_loss: 0.6713 - val_acc: 0.7712\n",
            "Epoch 8/10\n",
            "40000/40000 [==============================] - 139s 3ms/step - loss: 0.6110 - acc: 0.7852 - val_loss: 0.7023 - val_acc: 0.7627\n",
            "Epoch 9/10\n",
            "40000/40000 [==============================] - 139s 3ms/step - loss: 0.5965 - acc: 0.7886 - val_loss: 0.6927 - val_acc: 0.7691\n",
            "Epoch 10/10\n",
            "40000/40000 [==============================] - 139s 3ms/step - loss: 0.5885 - acc: 0.7929 - val_loss: 0.6788 - val_acc: 0.7670\n",
            "10000/10000 [==============================] - 9s 866us/step\n",
            "---> 0.7611\n"
          ],
          "name": "stdout"
        },
        {
          "output_type": "display_data",
          "data": {
            "image/png": "[encoded data removed]",
            "text/plain": [
              "<Figure size 560x400 with 1 Axes>"
            ]
          },
          "metadata": {
            "tags": []
          }
        },
        {
          "output_type": "display_data",
          "data": {
            "image/png": "[encoded data removed]",
            "text/plain": [
              "<Figure size 560x400 with 1 Axes>"
            ]
          },
          "metadata": {
            "tags": []
          }
        },
        {
          "output_type": "display_data",
          "data": {
            "image/png": "[encoded data removed]",
            "text/plain": [
              "<Figure size 560x400 with 1 Axes>"
            ]
          },
          "metadata": {
            "tags": []
          }
        },
        {
          "output_type": "display_data",
          "data": {
            "image/png": "[encoded data removed]",
            "text/plain": [
              "<Figure size 560x400 with 1 Axes>"
            ]
          },
          "metadata": {
            "tags": []
          }
        }
      ]
    },
    {
      "cell_type": "code",
      "metadata": {
        "id": "_U6UrkqwnXYs",
        "colab_type": "code",
        "colab": {}
      },
      "source": [
        ""
      ],
      "execution_count": 0,
      "outputs": []
    }
  ]
}