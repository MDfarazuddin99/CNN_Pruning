{
  "nbformat": 4,
  "nbformat_minor": 0,
  "metadata": {
    "colab": {
      "name": "VGG_PRUNING.ipynb",
      "provenance": [],
      "collapsed_sections": [],
      "mount_file_id": "1QxWah6TFU-MSytl8fVkxHYn3KMoH4aRz",
      "authorship_tag": "ABX9TyNO4QIEsx+U29B8R81G7tVi",
      "include_colab_link": true
    },
    "kernelspec": {
      "name": "python3",
      "display_name": "Python 3"
    },
    "accelerator": "GPU"
  },
  "cells": [
    {
      "cell_type": "markdown",
      "metadata": {
        "id": "view-in-github",
        "colab_type": "text"
      },
      "source": [
        "<a href=\"https://colab.research.google.com/github/MDfarazuddin99/CNN_Pruning/blob/master/VGG_PRUNING.ipynb\" target=\"_parent\"><img src=\"https://colab.research.google.com/assets/colab-badge.svg\" alt=\"Open In Colab\"/></a>"
      ]
    },
    {
      "cell_type": "code",
      "metadata": {
        "id": "K5qkXa6XQHS2",
        "colab_type": "code",
        "outputId": "297a4524-2225-40a9-91fb-a55e919d72b3",
        "colab": {
          "base_uri": "https://localhost:8080/",
          "height": 81
        }
      },
      "source": [
        "from __future__ import print_function\n",
        "import keras\n",
        "from keras.datasets import cifar10\n",
        "from keras.preprocessing.image import ImageDataGenerator\n",
        "from keras.models import Sequential\n",
        "from keras.layers import Dense, Dropout, Activation, Flatten\n",
        "from keras.layers import Conv2D, MaxPooling2D, BatchNormalization\n",
        "from keras import optimizers\n",
        "import numpy as np\n",
        "from keras.layers.core import Lambda\n",
        "from keras import backend as K\n",
        "from keras import regularizers\n",
        "from keras.callbacks import ModelCheckpoint\n",
        "import matplotlib.pyplot as plt\n"
      ],
      "execution_count": 1,
      "outputs": [
        {
          "output_type": "stream",
          "text": [
            "Using TensorFlow backend.\n"
          ],
          "name": "stderr"
        },
        {
          "output_type": "display_data",
          "data": {
            "text/html": [
              "<p style=\"color: red;\">\n",
              "The default version of TensorFlow in Colab will soon switch to TensorFlow 2.x.<br>\n",
              "We recommend you <a href=\"https://www.tensorflow.org/guide/migrate\" target=\"_blank\">upgrade</a> now \n",
              "or ensure your notebook will continue to use TensorFlow 1.x via the <code>%tensorflow_version 1.x</code> magic:\n",
              "<a href=\"https://colab.research.google.com/notebooks/tensorflow_version.ipynb\" target=\"_blank\">more info</a>.</p>\n"
            ],
            "text/plain": [
              "<IPython.core.display.HTML object>"
            ]
          },
          "metadata": {
            "tags": []
          }
        }
      ]
    },
    {
      "cell_type": "code",
      "metadata": {
        "id": "vI6IDA_uQSq8",
        "colab_type": "code",
        "colab": {}
      },
      "source": [
        "\n",
        "class cifar10vgg:\n",
        "    def __init__(self,train=True):\n",
        "        self.num_classes = 10\n",
        "        self.weight_decay = 0.0005\n",
        "        self.x_shape = [32,32,3]\n",
        "        self.history = 0\n",
        "\n",
        "        self.model = self.build_model()\n",
        "        if train:\n",
        "            self.model, self.history = self.train(self.model)\n",
        "        else:\n",
        "            self.model.load_weights('drive/My Drive/Colab Notebooks/cifar10vgg.h5')\n",
        "\n",
        "\n",
        "    def build_model(self):\n",
        "        # Build the network of vgg for 10 classes with massive dropout and weight decay as described in the paper.\n",
        "\n",
        "        model = Sequential()\n",
        "        weight_decay = self.weight_decay\n",
        "\n",
        "        model.add(Conv2D(64, (3, 3), padding='same',\n",
        "                         input_shape=self.x_shape,kernel_regularizer=regularizers.l2(weight_decay)))\n",
        "        model.add(Activation('relu'))\n",
        "        model.add(BatchNormalization())\n",
        "        model.add(Dropout(0.3))\n",
        "\n",
        "        model.add(Conv2D(64, (3, 3), padding='same',kernel_regularizer=regularizers.l2(weight_decay)))\n",
        "        model.add(Activation('relu'))\n",
        "        model.add(BatchNormalization())\n",
        "\n",
        "        model.add(MaxPooling2D(pool_size=(2, 2)))\n",
        "\n",
        "        model.add(Conv2D(128, (3, 3), padding='same',kernel_regularizer=regularizers.l2(weight_decay)))\n",
        "        model.add(Activation('relu'))\n",
        "        model.add(BatchNormalization())\n",
        "        model.add(Dropout(0.4))\n",
        "\n",
        "        model.add(Conv2D(128, (3, 3), padding='same',kernel_regularizer=regularizers.l2(weight_decay)))\n",
        "        model.add(Activation('relu'))\n",
        "        model.add(BatchNormalization())\n",
        "\n",
        "        model.add(MaxPooling2D(pool_size=(2, 2)))\n",
        "\n",
        "        model.add(Conv2D(256, (3, 3), padding='same',kernel_regularizer=regularizers.l2(weight_decay)))\n",
        "        model.add(Activation('relu'))\n",
        "        model.add(BatchNormalization())\n",
        "        model.add(Dropout(0.4))\n",
        "\n",
        "        model.add(Conv2D(256, (3, 3), padding='same',kernel_regularizer=regularizers.l2(weight_decay)))\n",
        "        model.add(Activation('relu'))\n",
        "        model.add(BatchNormalization())\n",
        "        model.add(Dropout(0.4))\n",
        "\n",
        "        model.add(Conv2D(256, (3, 3), padding='same',kernel_regularizer=regularizers.l2(weight_decay)))\n",
        "        model.add(Activation('relu'))\n",
        "        model.add(BatchNormalization())\n",
        "\n",
        "        model.add(MaxPooling2D(pool_size=(2, 2)))\n",
        "\n",
        "\n",
        "        model.add(Conv2D(512, (3, 3), padding='same',kernel_regularizer=regularizers.l2(weight_decay)))\n",
        "        model.add(Activation('relu'))\n",
        "        model.add(BatchNormalization())\n",
        "        model.add(Dropout(0.4))\n",
        "\n",
        "        model.add(Conv2D(512, (3, 3), padding='same',kernel_regularizer=regularizers.l2(weight_decay)))\n",
        "        model.add(Activation('relu'))\n",
        "        model.add(BatchNormalization())\n",
        "        model.add(Dropout(0.4))\n",
        "\n",
        "        model.add(Conv2D(512, (3, 3), padding='same',kernel_regularizer=regularizers.l2(weight_decay)))\n",
        "        model.add(Activation('relu'))\n",
        "        model.add(BatchNormalization())\n",
        "\n",
        "        model.add(MaxPooling2D(pool_size=(2, 2)))\n",
        "\n",
        "\n",
        "        model.add(Conv2D(512, (3, 3), padding='same',kernel_regularizer=regularizers.l2(weight_decay)))\n",
        "        model.add(Activation('relu'))\n",
        "        model.add(BatchNormalization())\n",
        "        model.add(Dropout(0.4))\n",
        "\n",
        "        model.add(Conv2D(512, (3, 3), padding='same',kernel_regularizer=regularizers.l2(weight_decay)))\n",
        "        model.add(Activation('relu'))\n",
        "        model.add(BatchNormalization())\n",
        "        model.add(Dropout(0.4))\n",
        "\n",
        "        model.add(Conv2D(512, (3, 3), padding='same',kernel_regularizer=regularizers.l2(weight_decay)))\n",
        "        model.add(Activation('relu'))\n",
        "        model.add(BatchNormalization())\n",
        "\n",
        "        model.add(MaxPooling2D(pool_size=(2, 2)))\n",
        "        model.add(Dropout(0.5))\n",
        "\n",
        "        model.add(Flatten())\n",
        "        model.add(Dense(512,kernel_regularizer=regularizers.l2(weight_decay)))\n",
        "        model.add(Activation('relu'))\n",
        "        model.add(BatchNormalization())\n",
        "\n",
        "        model.add(Dropout(0.5))\n",
        "        model.add(Dense(self.num_classes))\n",
        "        model.add(Activation('softmax'))\n",
        "        return model\n",
        "\n",
        "\n",
        "    def normalize(self,X_train,X_test):\n",
        "        #this function normalize inputs for zero mean and unit variance\n",
        "        # it is used when training a model.\n",
        "        # Input: training set and test set\n",
        "        # Output: normalized training set and test set according to the trianing set statistics.\n",
        "        mean = np.mean(X_train,axis=(0,1,2,3))\n",
        "        std = np.std(X_train, axis=(0, 1, 2, 3))\n",
        "        X_train = (X_train-mean)/(std+1e-7)\n",
        "        X_test = (X_test-mean)/(std+1e-7)\n",
        "        return X_train, X_test\n",
        "\n",
        "    # def normalize_production(self,x):\n",
        "    #     #this function is used to normalize instances in production according to saved training set statistics\n",
        "    #     # Input: X - a training set\n",
        "    #     # Output X - a normalized training set according to normalization constants.\n",
        "\n",
        "    #     #these values produced during first training and are general for the standard cifar10 training set normalization\n",
        "    #     mean = 120.707\n",
        "    #     std = 64.15\n",
        "    #     return (x-mean)/(std+1e-7)\n",
        "\n",
        "    # def predict(self,x,normalize=True,batch_size=50):\n",
        "    #     if normalize:\n",
        "    #         x = self.normalize_production(x)\n",
        "    #     return self.model.predict(x,batch_size)\n",
        "\n",
        "    def train(self,model):\n",
        "\n",
        "        #training parameters\n",
        "        batch_size = 128\n",
        "        maxepoches = 250\n",
        "        learning_rate = 0.1\n",
        "        lr_decay = 1e-6\n",
        "        lr_drop = 20\n",
        "        # The data, shuffled and split between train and test sets:\n",
        "        (x_train, y_train), (x_test, y_test) = cifar10.load_data()\n",
        "        x_train = x_train.astype('float32')\n",
        "        x_test = x_test.astype('float32')\n",
        "        x_train, x_test = self.normalize(x_train, x_test)\n",
        "\n",
        "        y_train = keras.utils.to_categorical(y_train, self.num_classes)\n",
        "        y_test = keras.utils.to_categorical(y_test, self.num_classes)\n",
        "\n",
        "        def lr_scheduler(epoch):\n",
        "            return learning_rate * (0.5 ** (epoch // lr_drop))\n",
        "        reduce_lr = keras.callbacks.LearningRateScheduler(lr_scheduler)\n",
        "\n",
        "        save_model = ModelCheckpoint('drive/My Drive/Colab Notebooks/pruned_cifarvgg.h5', monitor='val_acc', verbose=0, save_best_only=True, save_weights_only=False, mode='auto', period=1)\n",
        "\n",
        "        #data augmentation\n",
        "        datagen = ImageDataGenerator(\n",
        "            featurewise_center=False,  # set input mean to 0 over the dataset\n",
        "            samplewise_center=False,  # set each sample mean to 0\n",
        "            featurewise_std_normalization=False,  # divide inputs by std of the dataset\n",
        "            samplewise_std_normalization=False,  # divide each input by its std\n",
        "            zca_whitening=False,  # apply ZCA whitening\n",
        "            rotation_range=15,  # randomly rotate images in the range (degrees, 0 to 180)\n",
        "            width_shift_range=0.1,  # randomly shift images horizontally (fraction of total width)\n",
        "            height_shift_range=0.1,  # randomly shift images vertically (fraction of total height)\n",
        "            horizontal_flip=True,  # randomly flip images\n",
        "            vertical_flip=False)  # randomly flip images\n",
        "        # (std, mean, and principal components if ZCA whitening is applied).\n",
        "        # datagen.fit(x_train)\n",
        "\n",
        "\n",
        "\n",
        "        #optimization details\n",
        "        sgd = optimizers.SGD(lr=learning_rate, decay=lr_decay, momentum=0.9, nesterov=True)\n",
        "        model.compile(loss='categorical_crossentropy', optimizer=sgd,metrics=['accuracy'])\n",
        "\n",
        "\n",
        "        # training process in a for loop with learning rate drop every 25 epoches.\n",
        "\n",
        "        history = model.fit_generator(datagen.flow(x_train, y_train,\n",
        "                                         batch_size=batch_size),\n",
        "                            steps_per_epoch=x_train.shape[0] // batch_size,\n",
        "                            epochs=20,\n",
        "                            validation_data=(x_test, y_test),callbacks=[reduce_lr, save_model],verbose=1)\n",
        "        #model.save_weights('cifar10vgg.h5')\n",
        "        return model, history"
      ],
      "execution_count": 0,
      "outputs": []
    },
    {
      "cell_type": "code",
      "metadata": {
        "id": "V2nYbsLUcjYm",
        "colab_type": "code",
        "colab": {}
      },
      "source": [
        "def my_get_all_dense_layers(model):\n",
        "    all_dense_layers = list()\n",
        "    for i,each_layer in enumerate(model.layers):\n",
        "        if (each_layer.name[0:5] == 'dense'):\n",
        "            all_dense_layers.append(i)\n",
        "    return all_dense_layers[0:len(all_dense_layers)-1]"
      ],
      "execution_count": 0,
      "outputs": []
    },
    {
      "cell_type": "code",
      "metadata": {
        "id": "rYvcX70nSkxx",
        "colab_type": "code",
        "colab": {}
      },
      "source": [
        "def my_get_all_conv_layers(model,first_time):\n",
        "    all_conv_layers = list()\n",
        "    for i,each_layer in enumerate(model.layers):\n",
        "        if (each_layer.name[0:6] == 'conv2d'):\n",
        "            all_conv_layers.append(i)\n",
        "\n",
        "    return all_conv_layers if (first_time==True) else all_conv_layers[1:]"
      ],
      "execution_count": 0,
      "outputs": []
    },
    {
      "cell_type": "code",
      "metadata": {
        "id": "5nqgWm-JcgD7",
        "colab_type": "code",
        "colab": {}
      },
      "source": [
        "def my_in_dense_layers_get_L1_norms_sorted_indices_and_values(model,graph):\n",
        "    weights = list()\n",
        "    all_dense_layers = my_get_all_dense_layers(model)\n",
        "    for i in all_dense_layers:\n",
        "        weights.append(model.layers[i].get_weights()[0])\n",
        "    layer_wise_filter_sorted_indices_dense = list()\n",
        "    layer_wise_filter_sorted_values_dense = list()\n",
        "    for i in range(len(weights)):\n",
        "        weight = weights[i]\n",
        "        num_filters = len(weight[0,:])\n",
        "        weights_dict = dict() \n",
        "        for j in range(num_filters):\n",
        "            weights_sum = np.sum(abs(weight[:,j]))\n",
        "            neuron = 'neuron {}'.format(j)\n",
        "            weights_dict[neuron] = weights_sum\n",
        "            # print(weights_dict[neuron])\n",
        "        \n",
        "        weights_dict_sorted = sorted(weights_dict.items(),key = lambda kv:kv[1]) \n",
        "        weight_values = list()\n",
        "        neuron_indices = list()\n",
        "        for element in weights_dict_sorted:\n",
        "            neuron_indices.append(int(element[0][6:]))\n",
        "            weight_values.append(element[1])\n",
        "        layer_wise_filter_sorted_indices_dense.append(neuron_indices)\n",
        "        layer_wise_filter_sorted_values_dense.append(weight_values)\n",
        "\n",
        "        if graph == True:\n",
        "                    x = np.arange(num_filters)\n",
        "                    plt.figure(i+1,figsize=(7,5))\n",
        "                    plt.plot(x,np.array(weight_values))\n",
        "                    plt.axhline(y=np.mean(np.array(weight_values)),c='r')\n",
        "                    for j in range(len(layer_wise_filter_sorted_values_dense[i])):\n",
        "                        if(np.mean(np.array(weight_values)) < weight_values[j]):\n",
        "                            plt.axvline(x=j,c='r')\n",
        "                            break\n",
        "\n",
        "                    plt.xlabel('filter number')\n",
        "                    plt.ylabel('L1 norm')\n",
        "                    plt.title('Conv2d_{}'.format(i+1))\n",
        "                    plt.grid(True)\n",
        "                    plt.style.use(['classic'])        \n",
        "\n",
        "    return layer_wise_filter_sorted_indices_dense,layer_wise_filter_sorted_values_dense"
      ],
      "execution_count": 0,
      "outputs": []
    },
    {
      "cell_type": "code",
      "metadata": {
        "id": "KS8eZfcd00lF",
        "colab_type": "code",
        "colab": {}
      },
      "source": [
        "def plot_histogram_l1_norms_dense(model):\n",
        "    _,a = my_in_dense_layers_get_L1_norms_sorted_indices_and_values(my_model_vgg,False)\n",
        "    all_dense_layers = my_get_all_dense_layers(model)\n",
        "    for i in range(len(all_dense_layers)):     \n",
        "        plt.figure(i,figsize=(7,7))\n",
        "        plt.hist(a[i-1],density=1, bins=150) \n",
        "        plt.xlabel('L1 Norms of dense_{}'.format(i+1))\n",
        "        plt.ylabel('Probability')\n",
        "        plt.style.use(['classic'])        "
      ],
      "execution_count": 0,
      "outputs": []
    },
    {
      "cell_type": "code",
      "metadata": {
        "id": "4Tc3AbjbSyew",
        "colab_type": "code",
        "colab": {}
      },
      "source": [
        "def my_in_conv_layers_get_L1_norms_sorted_indices_and_values(model,graph,first_time):\n",
        "    weights = list()\n",
        "    all_conv_layers = my_get_all_conv_layers(model,first_time)\n",
        "    for i in all_conv_layers:\n",
        "        # print('{}th layer'.format(i),all_conv_layers)\n",
        "        weights.append(model.layers[i].get_weights()[0])\n",
        "    layer_wise_filter_sorted_indices = list()\n",
        "    layer_wise_filter_sorted_values = list()\n",
        "    for i in range(len(weights)):\n",
        "        weight = weights[i]\n",
        "        num_filters = len(weight[0,0,0,:])\n",
        "        # print(num_filters)\n",
        "        weights_dict = dict() \n",
        "        for j in range(num_filters):\n",
        "            weights_sum = np.sum(abs(weight[:,:,:,j]))\n",
        "            filtr = 'filter {}'.format(j)\n",
        "            weights_dict[filtr] = weights_sum\n",
        "        \n",
        "        weights_dict_sorted = sorted(weights_dict.items(),key = lambda kv:kv[1]) \n",
        "        # print('L1 norm of conv2D_{} layer'.format(i+1),weights_dict_sorted)\n",
        "\n",
        "        weight_values = list()\n",
        "        filter_indices = list()\n",
        "\n",
        "        for element in weights_dict_sorted:\n",
        "            filter_indices.append(int(element[0][6:]))  # extracting the index of filter from string (tentative try to come up with better code)\n",
        "            weight_values.append(element[1]) \n",
        "    \n",
        "        layer_wise_filter_sorted_indices.append(filter_indices)\n",
        "        layer_wise_filter_sorted_values.append(weight_values)\n",
        "\n",
        "        if graph == True:\n",
        "                x = np.arange(num_filters)\n",
        "                plt.figure(i+1,figsize=(7,7))\n",
        "                plt.plot(x,np.array(weight_values))\n",
        "                plt.axhline(y=np.mean(np.array(weight_values)),c='r')\n",
        "                for j in range(len(layer_wise_filter_sorted_values[i-1])):\n",
        "                    if(np.mean(np.array(weight_values)) < weight_values[j]):\n",
        "                        plt.axvline(x=j,c='r')\n",
        "                        break\n",
        "                plt.style.use(['classic'])  \n",
        "\n",
        "\n",
        "                plt.xlabel('filter number')\n",
        "                plt.ylabel('L1 norm')\n",
        "                plt.title('Conv2d_{}'.format(i+1))\n",
        "                plt.grid(True)\n",
        "                plt.style.use(['classic'])\n",
        "\n",
        "\n",
        "    return layer_wise_filter_sorted_indices,layer_wise_filter_sorted_values"
      ],
      "execution_count": 0,
      "outputs": []
    },
    {
      "cell_type": "code",
      "metadata": {
        "id": "h7qg8RvqxAiE",
        "colab_type": "code",
        "colab": {}
      },
      "source": [
        "def plot_histogram_l1_norms_conv(model,first_time):\n",
        "    _,a = my_in_conv_layers_get_L1_norms_sorted_indices_and_values(my_model_vgg,False,False)\n",
        "    all_conv_layers = my_get_all_conv_layers(model,first_time)\n",
        "    for i in range(len(all_conv_layers)):     \n",
        "        plt.figure(i,figsize=(7,7))\n",
        "        plt.hist(a[i-1],density=1, bins=150) \n",
        "        plt.xlabel('L1 Norms of conv_2d_{}'.format(i+1))\n",
        "        plt.ylabel('Probability')\n",
        "        plt.style.use(['classic'])        "
      ],
      "execution_count": 0,
      "outputs": []
    },
    {
      "cell_type": "code",
      "metadata": {
        "id": "xS02lGSCc0r7",
        "colab_type": "code",
        "colab": {}
      },
      "source": [
        "def my_get_prune_neuron_indices(model):\n",
        "    layer_wise_neuron_sorted_indices,layer_wise_neuron_sorted_values = my_in_dense_layers_get_L1_norms_sorted_indices_and_values(model,False)\n",
        "    all_dense_layers = my_get_all_dense_layers(model)\n",
        "    thresh_hold_means = list()\n",
        "    for i in range(len(all_dense_layers)):\n",
        "        thresh_hold_means.append(np.mean(np.array(layer_wise_neuron_sorted_values[i])))\n",
        "    prune_neuron_indices = list()\n",
        "    for i in range(len(all_dense_layers)):\n",
        "        #-----bsearch\n",
        "        for j in range(len(layer_wise_neuron_sorted_values[i])):\n",
        "            if(thresh_hold_means[i] < layer_wise_neuron_sorted_values[i][j]):\n",
        "                prune_neuron_indices.append(j)\n",
        "                break\n",
        "    return prune_neuron_indices\n"
      ],
      "execution_count": 0,
      "outputs": []
    },
    {
      "cell_type": "code",
      "metadata": {
        "id": "7T4crxyVTBh-",
        "colab_type": "code",
        "colab": {}
      },
      "source": [
        "def my_get_prune_filter_indices(model,first_time ):\n",
        "    layer_wise_filter_sorted_indices,layer_wise_filter_sorted_values = my_in_conv_layers_get_L1_norms_sorted_indices_and_values(model, False,first_time)\n",
        "    all_conv_layers = my_get_all_conv_layers(model,first_time)\n",
        "    thresh_hold_means = list()\n",
        "    for i in range(len(all_conv_layers)):\n",
        "        # print(i,'/',len(all_conv_layers))\n",
        "        thresh_hold_means.append(np.mean(np.array(layer_wise_filter_sorted_values[i])))\n",
        "    prune_filter_indices = list()\n",
        "    for i in range(len(all_conv_layers)):\n",
        "        for j in range(len(layer_wise_filter_sorted_values[i])):\n",
        "            if(thresh_hold_means[i] < layer_wise_filter_sorted_values[i][j]):\n",
        "                prune_filter_indices.append(j)\n",
        "                break\n",
        "    return prune_filter_indices\n"
      ],
      "execution_count": 0,
      "outputs": []
    },
    {
      "cell_type": "code",
      "metadata": {
        "id": "bI6iT65OV5R-",
        "colab_type": "code",
        "colab": {}
      },
      "source": [
        "def my_delete_filters(model,first_time):\n",
        "    layer_wise_filter_sorted_indices,layer_wise_filter_sorted_values = my_in_conv_layers_get_L1_norms_sorted_indices_and_values(model,False,first_time)\n",
        "    \n",
        "    layer_wise_neuron_sorted_indices,layer_wise_neuron_sorted_values_ = my_in_dense_layers_get_L1_norms_sorted_indices_and_values(model,False)\n",
        "\n",
        "    prune_filter_indices = my_get_prune_filter_indices(model,first_time)\n",
        "    \n",
        "    prune_neuron_indices = my_get_prune_neuron_indices(model)\n",
        "\n",
        "    all_conv_layers = my_get_all_conv_layers(model,first_time)\n",
        "\n",
        "    all_dense_layers = my_get_all_dense_layers(model)\n",
        "    # print(all_conv_layers)\n",
        "    surgeon = Surgeon(model)\n",
        "    for index,value in enumerate(all_conv_layers):\n",
        "        # print(value,index,prune_filter_indices[index])\n",
        "        surgeon.add_job('delete_channels',model.layers[value],channels = layer_wise_filter_sorted_indices[index][0:prune_filter_indices[index]])\n",
        "    \n",
        "    for index,value in enumerate(all_dense_layers):\n",
        "        # print(value,index,prune_filter_indices[index])\n",
        "        surgeon.add_job('delete_channels',model.layers[value],channels = layer_wise_neuron_sorted_indices[index][0:prune_neuron_indices[index]])\n",
        "\n",
        "\n",
        "    model_new = surgeon.operate()\n",
        "    return model_new\n"
      ],
      "execution_count": 0,
      "outputs": []
    },
    {
      "cell_type": "code",
      "metadata": {
        "id": "scPYegOoZXbF",
        "colab_type": "code",
        "outputId": "68704148-3606-4cf5-cf9a-47191b9c1009",
        "colab": {
          "base_uri": "https://localhost:8080/",
          "height": 230
        }
      },
      "source": [
        "\n",
        "!pip install kerassurgeon\n",
        "from kerassurgeon import identify \n",
        "from kerassurgeon.operations import delete_channels,delete_layer\n",
        "from kerassurgeon import Surgeon"
      ],
      "execution_count": 12,
      "outputs": [
        {
          "output_type": "stream",
          "text": [
            "Collecting kerassurgeon\n",
            "  Downloading https://files.pythonhosted.org/packages/ef/e7/8adbef95f56e2349bf9faf2aec462dee0a38cec7cd6bfb8895de83706762/kerassurgeon-0.1.3-py3-none-any.whl\n",
            "Requirement already satisfied: keras>=2.0.7 in /usr/local/lib/python3.6/dist-packages (from kerassurgeon) (2.2.5)\n",
            "Requirement already satisfied: six>=1.9.0 in /usr/local/lib/python3.6/dist-packages (from keras>=2.0.7->kerassurgeon) (1.12.0)\n",
            "Requirement already satisfied: keras-preprocessing>=1.1.0 in /usr/local/lib/python3.6/dist-packages (from keras>=2.0.7->kerassurgeon) (1.1.0)\n",
            "Requirement already satisfied: scipy>=0.14 in /usr/local/lib/python3.6/dist-packages (from keras>=2.0.7->kerassurgeon) (1.4.1)\n",
            "Requirement already satisfied: keras-applications>=1.0.8 in /usr/local/lib/python3.6/dist-packages (from keras>=2.0.7->kerassurgeon) (1.0.8)\n",
            "Requirement already satisfied: h5py in /usr/local/lib/python3.6/dist-packages (from keras>=2.0.7->kerassurgeon) (2.8.0)\n",
            "Requirement already satisfied: pyyaml in /usr/local/lib/python3.6/dist-packages (from keras>=2.0.7->kerassurgeon) (3.13)\n",
            "Requirement already satisfied: numpy>=1.9.1 in /usr/local/lib/python3.6/dist-packages (from keras>=2.0.7->kerassurgeon) (1.17.5)\n",
            "Installing collected packages: kerassurgeon\n",
            "Successfully installed kerassurgeon-0.1.3\n"
          ],
          "name": "stdout"
        }
      ]
    },
    {
      "cell_type": "code",
      "metadata": {
        "id": "uL6dQ4_HbZH0",
        "colab_type": "code",
        "colab": {}
      },
      "source": [
        "# # This is temporary code cell you may delete it \n",
        "# my_new_model = my_vgg.model\n",
        "# my_new_model = my_delete_filters(my_new_model,first_time=True)"
      ],
      "execution_count": 0,
      "outputs": []
    },
    {
      "cell_type": "code",
      "metadata": {
        "id": "yOlJyTtaIGjX",
        "colab_type": "code",
        "outputId": "0b3b9f34-021e-4ebd-ade8-6f7b8f3da7a1",
        "colab": {
          "base_uri": "https://localhost:8080/",
          "height": 1000
        }
      },
      "source": [
        "my_vgg = cifar10vgg()\n",
        "\n",
        "model, history = my_vgg.model, my_vgg.history\n",
        "\n",
        "\n",
        "# validation_accuracy = model.evaluate(x_test,y_test)[1]\n",
        "# print(validation_accuracy)\n",
        "validation_accuracy = max(history.history['val_acc'])\n",
        "max_val_acc = validation_accuracy\n",
        "count = 0\n",
        "all_models = list()\n",
        "while max_val_acc <= validation_accuracy   :\n",
        "    print(\"ITERATION {} \".format(count+1))\n",
        "    all_models.append(model)\n",
        "    if max_val_acc < validation_accuracy:\n",
        "        max_val_acc = validation_accuracy\n",
        "\n",
        "    if count < 1:\n",
        "        model = my_delete_filters(model,True)\n",
        "        \n",
        "    else:\n",
        "        model = my_delete_filters(model,False)  \n",
        "\n",
        "    model,history = my_vgg.train(model)\n",
        "    validation_accuracy = max(history.history['val_acc'])\n",
        "    print(\"VALIDATION ACCURACY AFTER {} ITERATIONS = {}\".format(count+1,validation_accuracy))\n",
        "    count+=1"
      ],
      "execution_count": 14,
      "outputs": [
        {
          "output_type": "stream",
          "text": [
            "WARNING:tensorflow:From /usr/local/lib/python3.6/dist-packages/keras/backend/tensorflow_backend.py:66: The name tf.get_default_graph is deprecated. Please use tf.compat.v1.get_default_graph instead.\n",
            "\n"
          ],
          "name": "stdout"
        },
        {
          "output_type": "stream",
          "text": [
            "WARNING:tensorflow:From /usr/local/lib/python3.6/dist-packages/keras/backend/tensorflow_backend.py:66: The name tf.get_default_graph is deprecated. Please use tf.compat.v1.get_default_graph instead.\n",
            "\n"
          ],
          "name": "stderr"
        },
        {
          "output_type": "stream",
          "text": [
            "WARNING:tensorflow:From /usr/local/lib/python3.6/dist-packages/keras/backend/tensorflow_backend.py:541: The name tf.placeholder is deprecated. Please use tf.compat.v1.placeholder instead.\n",
            "\n"
          ],
          "name": "stdout"
        },
        {
          "output_type": "stream",
          "text": [
            "WARNING:tensorflow:From /usr/local/lib/python3.6/dist-packages/keras/backend/tensorflow_backend.py:541: The name tf.placeholder is deprecated. Please use tf.compat.v1.placeholder instead.\n",
            "\n"
          ],
          "name": "stderr"
        },
        {
          "output_type": "stream",
          "text": [
            "WARNING:tensorflow:From /usr/local/lib/python3.6/dist-packages/keras/backend/tensorflow_backend.py:4432: The name tf.random_uniform is deprecated. Please use tf.random.uniform instead.\n",
            "\n"
          ],
          "name": "stdout"
        },
        {
          "output_type": "stream",
          "text": [
            "WARNING:tensorflow:From /usr/local/lib/python3.6/dist-packages/keras/backend/tensorflow_backend.py:4432: The name tf.random_uniform is deprecated. Please use tf.random.uniform instead.\n",
            "\n"
          ],
          "name": "stderr"
        },
        {
          "output_type": "stream",
          "text": [
            "WARNING:tensorflow:From /usr/local/lib/python3.6/dist-packages/keras/backend/tensorflow_backend.py:190: The name tf.get_default_session is deprecated. Please use tf.compat.v1.get_default_session instead.\n",
            "\n"
          ],
          "name": "stdout"
        },
        {
          "output_type": "stream",
          "text": [
            "WARNING:tensorflow:From /usr/local/lib/python3.6/dist-packages/keras/backend/tensorflow_backend.py:190: The name tf.get_default_session is deprecated. Please use tf.compat.v1.get_default_session instead.\n",
            "\n"
          ],
          "name": "stderr"
        },
        {
          "output_type": "stream",
          "text": [
            "WARNING:tensorflow:From /usr/local/lib/python3.6/dist-packages/keras/backend/tensorflow_backend.py:197: The name tf.ConfigProto is deprecated. Please use tf.compat.v1.ConfigProto instead.\n",
            "\n"
          ],
          "name": "stdout"
        },
        {
          "output_type": "stream",
          "text": [
            "WARNING:tensorflow:From /usr/local/lib/python3.6/dist-packages/keras/backend/tensorflow_backend.py:197: The name tf.ConfigProto is deprecated. Please use tf.compat.v1.ConfigProto instead.\n",
            "\n"
          ],
          "name": "stderr"
        },
        {
          "output_type": "stream",
          "text": [
            "WARNING:tensorflow:From /usr/local/lib/python3.6/dist-packages/keras/backend/tensorflow_backend.py:203: The name tf.Session is deprecated. Please use tf.compat.v1.Session instead.\n",
            "\n"
          ],
          "name": "stdout"
        },
        {
          "output_type": "stream",
          "text": [
            "WARNING:tensorflow:From /usr/local/lib/python3.6/dist-packages/keras/backend/tensorflow_backend.py:203: The name tf.Session is deprecated. Please use tf.compat.v1.Session instead.\n",
            "\n"
          ],
          "name": "stderr"
        },
        {
          "output_type": "stream",
          "text": [
            "WARNING:tensorflow:From /usr/local/lib/python3.6/dist-packages/keras/backend/tensorflow_backend.py:207: The name tf.global_variables is deprecated. Please use tf.compat.v1.global_variables instead.\n",
            "\n"
          ],
          "name": "stdout"
        },
        {
          "output_type": "stream",
          "text": [
            "WARNING:tensorflow:From /usr/local/lib/python3.6/dist-packages/keras/backend/tensorflow_backend.py:207: The name tf.global_variables is deprecated. Please use tf.compat.v1.global_variables instead.\n",
            "\n"
          ],
          "name": "stderr"
        },
        {
          "output_type": "stream",
          "text": [
            "WARNING:tensorflow:From /usr/local/lib/python3.6/dist-packages/keras/backend/tensorflow_backend.py:216: The name tf.is_variable_initialized is deprecated. Please use tf.compat.v1.is_variable_initialized instead.\n",
            "\n"
          ],
          "name": "stdout"
        },
        {
          "output_type": "stream",
          "text": [
            "WARNING:tensorflow:From /usr/local/lib/python3.6/dist-packages/keras/backend/tensorflow_backend.py:216: The name tf.is_variable_initialized is deprecated. Please use tf.compat.v1.is_variable_initialized instead.\n",
            "\n"
          ],
          "name": "stderr"
        },
        {
          "output_type": "stream",
          "text": [
            "WARNING:tensorflow:From /usr/local/lib/python3.6/dist-packages/keras/backend/tensorflow_backend.py:223: The name tf.variables_initializer is deprecated. Please use tf.compat.v1.variables_initializer instead.\n",
            "\n"
          ],
          "name": "stdout"
        },
        {
          "output_type": "stream",
          "text": [
            "WARNING:tensorflow:From /usr/local/lib/python3.6/dist-packages/keras/backend/tensorflow_backend.py:223: The name tf.variables_initializer is deprecated. Please use tf.compat.v1.variables_initializer instead.\n",
            "\n"
          ],
          "name": "stderr"
        },
        {
          "output_type": "stream",
          "text": [
            "WARNING:tensorflow:From /usr/local/lib/python3.6/dist-packages/keras/backend/tensorflow_backend.py:2041: The name tf.nn.fused_batch_norm is deprecated. Please use tf.compat.v1.nn.fused_batch_norm instead.\n",
            "\n"
          ],
          "name": "stdout"
        },
        {
          "output_type": "stream",
          "text": [
            "WARNING:tensorflow:From /usr/local/lib/python3.6/dist-packages/keras/backend/tensorflow_backend.py:2041: The name tf.nn.fused_batch_norm is deprecated. Please use tf.compat.v1.nn.fused_batch_norm instead.\n",
            "\n"
          ],
          "name": "stderr"
        },
        {
          "output_type": "stream",
          "text": [
            "WARNING:tensorflow:From /usr/local/lib/python3.6/dist-packages/keras/backend/tensorflow_backend.py:148: The name tf.placeholder_with_default is deprecated. Please use tf.compat.v1.placeholder_with_default instead.\n",
            "\n"
          ],
          "name": "stdout"
        },
        {
          "output_type": "stream",
          "text": [
            "WARNING:tensorflow:From /usr/local/lib/python3.6/dist-packages/keras/backend/tensorflow_backend.py:148: The name tf.placeholder_with_default is deprecated. Please use tf.compat.v1.placeholder_with_default instead.\n",
            "\n"
          ],
          "name": "stderr"
        },
        {
          "output_type": "stream",
          "text": [
            "WARNING:tensorflow:From /usr/local/lib/python3.6/dist-packages/keras/backend/tensorflow_backend.py:3733: calling dropout (from tensorflow.python.ops.nn_ops) with keep_prob is deprecated and will be removed in a future version.\n",
            "Instructions for updating:\n",
            "Please use `rate` instead of `keep_prob`. Rate should be set to `rate = 1 - keep_prob`.\n"
          ],
          "name": "stdout"
        },
        {
          "output_type": "stream",
          "text": [
            "WARNING:tensorflow:From /usr/local/lib/python3.6/dist-packages/keras/backend/tensorflow_backend.py:3733: calling dropout (from tensorflow.python.ops.nn_ops) with keep_prob is deprecated and will be removed in a future version.\n",
            "Instructions for updating:\n",
            "Please use `rate` instead of `keep_prob`. Rate should be set to `rate = 1 - keep_prob`.\n"
          ],
          "name": "stderr"
        },
        {
          "output_type": "stream",
          "text": [
            "WARNING:tensorflow:From /usr/local/lib/python3.6/dist-packages/keras/backend/tensorflow_backend.py:4267: The name tf.nn.max_pool is deprecated. Please use tf.nn.max_pool2d instead.\n",
            "\n"
          ],
          "name": "stdout"
        },
        {
          "output_type": "stream",
          "text": [
            "WARNING:tensorflow:From /usr/local/lib/python3.6/dist-packages/keras/backend/tensorflow_backend.py:4267: The name tf.nn.max_pool is deprecated. Please use tf.nn.max_pool2d instead.\n",
            "\n"
          ],
          "name": "stderr"
        },
        {
          "output_type": "stream",
          "text": [
            "Downloading data from https://www.cs.toronto.edu/~kriz/cifar-10-python.tar.gz\n",
            "170500096/170498071 [==============================] - 6s 0us/step\n",
            "WARNING:tensorflow:From /usr/local/lib/python3.6/dist-packages/keras/optimizers.py:793: The name tf.train.Optimizer is deprecated. Please use tf.compat.v1.train.Optimizer instead.\n",
            "\n"
          ],
          "name": "stdout"
        },
        {
          "output_type": "stream",
          "text": [
            "WARNING:tensorflow:From /usr/local/lib/python3.6/dist-packages/keras/optimizers.py:793: The name tf.train.Optimizer is deprecated. Please use tf.compat.v1.train.Optimizer instead.\n",
            "\n"
          ],
          "name": "stderr"
        },
        {
          "output_type": "stream",
          "text": [
            "WARNING:tensorflow:From /usr/local/lib/python3.6/dist-packages/keras/backend/tensorflow_backend.py:3576: The name tf.log is deprecated. Please use tf.math.log instead.\n",
            "\n"
          ],
          "name": "stdout"
        },
        {
          "output_type": "stream",
          "text": [
            "WARNING:tensorflow:From /usr/local/lib/python3.6/dist-packages/keras/backend/tensorflow_backend.py:3576: The name tf.log is deprecated. Please use tf.math.log instead.\n",
            "\n"
          ],
          "name": "stderr"
        },
        {
          "output_type": "stream",
          "text": [
            "WARNING:tensorflow:From /usr/local/lib/python3.6/dist-packages/tensorflow_core/python/ops/math_grad.py:1424: where (from tensorflow.python.ops.array_ops) is deprecated and will be removed in a future version.\n",
            "Instructions for updating:\n",
            "Use tf.where in 2.0, which has the same broadcast rule as np.where\n"
          ],
          "name": "stdout"
        },
        {
          "output_type": "stream",
          "text": [
            "WARNING:tensorflow:From /usr/local/lib/python3.6/dist-packages/tensorflow_core/python/ops/math_grad.py:1424: where (from tensorflow.python.ops.array_ops) is deprecated and will be removed in a future version.\n",
            "Instructions for updating:\n",
            "Use tf.where in 2.0, which has the same broadcast rule as np.where\n"
          ],
          "name": "stderr"
        },
        {
          "output_type": "stream",
          "text": [
            "WARNING:tensorflow:From /usr/local/lib/python3.6/dist-packages/keras/backend/tensorflow_backend.py:1033: The name tf.assign_add is deprecated. Please use tf.compat.v1.assign_add instead.\n",
            "\n"
          ],
          "name": "stdout"
        },
        {
          "output_type": "stream",
          "text": [
            "WARNING:tensorflow:From /usr/local/lib/python3.6/dist-packages/keras/backend/tensorflow_backend.py:1033: The name tf.assign_add is deprecated. Please use tf.compat.v1.assign_add instead.\n",
            "\n"
          ],
          "name": "stderr"
        },
        {
          "output_type": "stream",
          "text": [
            "WARNING:tensorflow:From /usr/local/lib/python3.6/dist-packages/keras/backend/tensorflow_backend.py:1020: The name tf.assign is deprecated. Please use tf.compat.v1.assign instead.\n",
            "\n"
          ],
          "name": "stdout"
        },
        {
          "output_type": "stream",
          "text": [
            "WARNING:tensorflow:From /usr/local/lib/python3.6/dist-packages/keras/backend/tensorflow_backend.py:1020: The name tf.assign is deprecated. Please use tf.compat.v1.assign instead.\n",
            "\n"
          ],
          "name": "stderr"
        },
        {
          "output_type": "stream",
          "text": [
            "Epoch 1/20\n",
            "390/390 [==============================] - 85s 218ms/step - loss: 22.1737 - acc: 0.2029 - val_loss: 17.3836 - val_acc: 0.1244\n",
            "Epoch 2/20\n",
            "390/390 [==============================] - 72s 184ms/step - loss: 11.7971 - acc: 0.3127 - val_loss: 9.9661 - val_acc: 0.1430\n",
            "Epoch 3/20\n",
            "390/390 [==============================] - 72s 184ms/step - loss: 6.5818 - acc: 0.3760 - val_loss: 5.7312 - val_acc: 0.1996\n",
            "Epoch 4/20\n",
            "390/390 [==============================] - 72s 183ms/step - loss: 4.8794 - acc: 0.3352 - val_loss: 5.2784 - val_acc: 0.1983\n",
            "Epoch 5/20\n",
            "390/390 [==============================] - 72s 184ms/step - loss: 4.5418 - acc: 0.2649 - val_loss: 3.9386 - val_acc: 0.2758\n",
            "Epoch 6/20\n",
            "390/390 [==============================] - 71s 183ms/step - loss: 3.1735 - acc: 0.3482 - val_loss: 3.2867 - val_acc: 0.2159\n",
            "Epoch 7/20\n",
            "390/390 [==============================] - 71s 183ms/step - loss: 2.3300 - acc: 0.4415 - val_loss: 2.2052 - val_acc: 0.4409\n",
            "Epoch 8/20\n",
            "390/390 [==============================] - 72s 184ms/step - loss: 1.9119 - acc: 0.5144 - val_loss: 1.7056 - val_acc: 0.5654\n",
            "Epoch 9/20\n",
            "390/390 [==============================] - 72s 185ms/step - loss: 1.6702 - acc: 0.5819 - val_loss: 1.5343 - val_acc: 0.6429\n",
            "Epoch 10/20\n",
            "390/390 [==============================] - 72s 185ms/step - loss: 1.5618 - acc: 0.6251 - val_loss: 1.4691 - val_acc: 0.6674\n",
            "Epoch 11/20\n",
            "390/390 [==============================] - 72s 185ms/step - loss: 1.5179 - acc: 0.6607 - val_loss: 1.4816 - val_acc: 0.6845\n",
            "Epoch 12/20\n",
            "390/390 [==============================] - 72s 185ms/step - loss: 1.4777 - acc: 0.6820 - val_loss: 1.3646 - val_acc: 0.7218\n",
            "Epoch 13/20\n",
            "390/390 [==============================] - 72s 184ms/step - loss: 1.4620 - acc: 0.6901 - val_loss: 1.5418 - val_acc: 0.6859\n",
            "Epoch 14/20\n",
            "390/390 [==============================] - 72s 184ms/step - loss: 1.4549 - acc: 0.7048 - val_loss: 1.4452 - val_acc: 0.7157\n",
            "Epoch 15/20\n",
            "390/390 [==============================] - 72s 184ms/step - loss: 1.4577 - acc: 0.7091 - val_loss: 1.4414 - val_acc: 0.7287\n",
            "Epoch 16/20\n",
            "390/390 [==============================] - 72s 185ms/step - loss: 1.4628 - acc: 0.7161 - val_loss: 1.3163 - val_acc: 0.7618\n",
            "Epoch 17/20\n",
            "390/390 [==============================] - 72s 185ms/step - loss: 1.4662 - acc: 0.7227 - val_loss: 1.4283 - val_acc: 0.7367\n",
            "Epoch 18/20\n",
            "390/390 [==============================] - 72s 186ms/step - loss: 1.4772 - acc: 0.7265 - val_loss: 1.4555 - val_acc: 0.7331\n",
            "Epoch 19/20\n",
            "390/390 [==============================] - 72s 185ms/step - loss: 1.4878 - acc: 0.7299 - val_loss: 1.4555 - val_acc: 0.7316\n",
            "Epoch 20/20\n",
            "390/390 [==============================] - 72s 184ms/step - loss: 1.4908 - acc: 0.7312 - val_loss: 1.4978 - val_acc: 0.7286\n",
            "ITERATION 1 \n",
            "Deleting 38/64 channels from layer: conv2d_1\n",
            "Deleting 33/64 channels from layer: conv2d_2\n",
            "Deleting 36/128 channels from layer: conv2d_3\n",
            "Deleting 59/128 channels from layer: conv2d_4\n",
            "Deleting 114/256 channels from layer: conv2d_5\n",
            "Deleting 127/256 channels from layer: conv2d_6\n",
            "Deleting 129/256 channels from layer: conv2d_7\n",
            "Deleting 240/512 channels from layer: conv2d_8\n",
            "Deleting 258/512 channels from layer: conv2d_9\n",
            "Deleting 265/512 channels from layer: conv2d_10\n",
            "Deleting 273/512 channels from layer: conv2d_11\n",
            "Deleting 247/512 channels from layer: conv2d_12\n",
            "Deleting 260/512 channels from layer: conv2d_13\n",
            "Deleting 198/512 channels from layer: dense_1\n",
            "Epoch 1/20\n",
            "390/390 [==============================] - 55s 141ms/step - loss: 1.5242 - acc: 0.6707 - val_loss: 1.6892 - val_acc: 0.6623\n",
            "Epoch 2/20\n",
            "390/390 [==============================] - 49s 124ms/step - loss: 1.5190 - acc: 0.7018 - val_loss: 1.5155 - val_acc: 0.7110\n",
            "Epoch 3/20\n",
            "390/390 [==============================] - 49s 125ms/step - loss: 1.5085 - acc: 0.7095 - val_loss: 1.4099 - val_acc: 0.7386\n",
            "Epoch 4/20\n",
            "390/390 [==============================] - 49s 125ms/step - loss: 1.5110 - acc: 0.7122 - val_loss: 1.3871 - val_acc: 0.7599\n",
            "Epoch 5/20\n",
            "390/390 [==============================] - 49s 125ms/step - loss: 1.5024 - acc: 0.7142 - val_loss: 1.3703 - val_acc: 0.7553\n",
            "Epoch 6/20\n",
            "390/390 [==============================] - 48s 124ms/step - loss: 1.5022 - acc: 0.7183 - val_loss: 1.4241 - val_acc: 0.7447\n",
            "Epoch 7/20\n",
            "390/390 [==============================] - 48s 123ms/step - loss: 1.5068 - acc: 0.7175 - val_loss: 1.3565 - val_acc: 0.7625\n",
            "Epoch 8/20\n",
            "390/390 [==============================] - 49s 125ms/step - loss: 1.5100 - acc: 0.7150 - val_loss: 1.5419 - val_acc: 0.7156\n",
            "Epoch 9/20\n",
            "390/390 [==============================] - 49s 125ms/step - loss: 1.5083 - acc: 0.7153 - val_loss: 1.3835 - val_acc: 0.7569\n",
            "Epoch 10/20\n",
            "390/390 [==============================] - 48s 124ms/step - loss: 1.4991 - acc: 0.7199 - val_loss: 1.4933 - val_acc: 0.7242\n",
            "Epoch 11/20\n",
            "390/390 [==============================] - 48s 124ms/step - loss: 1.5038 - acc: 0.7188 - val_loss: 1.4429 - val_acc: 0.7330\n",
            "Epoch 12/20\n",
            "390/390 [==============================] - 48s 124ms/step - loss: 1.5104 - acc: 0.7182 - val_loss: 1.3142 - val_acc: 0.7770\n",
            "Epoch 13/20\n",
            "390/390 [==============================] - 49s 124ms/step - loss: 1.4981 - acc: 0.7218 - val_loss: 1.5741 - val_acc: 0.6840\n",
            "Epoch 14/20\n",
            "390/390 [==============================] - 48s 124ms/step - loss: 1.5081 - acc: 0.7180 - val_loss: 1.3934 - val_acc: 0.7506\n",
            "Epoch 15/20\n",
            "390/390 [==============================] - 48s 124ms/step - loss: 1.4993 - acc: 0.7195 - val_loss: 1.6760 - val_acc: 0.6793\n",
            "Epoch 16/20\n",
            "390/390 [==============================] - 48s 124ms/step - loss: 1.5074 - acc: 0.7228 - val_loss: 1.3841 - val_acc: 0.7591\n",
            "Epoch 17/20\n",
            "390/390 [==============================] - 48s 124ms/step - loss: 1.5138 - acc: 0.7220 - val_loss: 1.4275 - val_acc: 0.7474\n",
            "Epoch 18/20\n",
            "390/390 [==============================] - 48s 124ms/step - loss: 1.4884 - acc: 0.7248 - val_loss: 1.3997 - val_acc: 0.7485\n",
            "Epoch 19/20\n",
            "390/390 [==============================] - 48s 123ms/step - loss: 1.5121 - acc: 0.7206 - val_loss: 1.4337 - val_acc: 0.7444\n",
            "Epoch 20/20\n",
            "390/390 [==============================] - 48s 124ms/step - loss: 1.5007 - acc: 0.7245 - val_loss: 1.4784 - val_acc: 0.7195\n",
            "VALIDATION ACCURACY AFTER 1 ITERATIONS = 0.777\n",
            "ITERATION 2 \n",
            "Deleting 16/26 channels from layer: conv2d_1\n",
            "Deleting 15/31 channels from layer: conv2d_2\n",
            "Deleting 42/92 channels from layer: conv2d_3\n",
            "Deleting 37/69 channels from layer: conv2d_4\n",
            "Deleting 70/142 channels from layer: conv2d_5\n",
            "Deleting 66/129 channels from layer: conv2d_6\n",
            "Deleting 62/127 channels from layer: conv2d_7\n",
            "Deleting 143/272 channels from layer: conv2d_8\n",
            "Deleting 122/254 channels from layer: conv2d_9\n",
            "Deleting 132/247 channels from layer: conv2d_10\n",
            "Deleting 119/239 channels from layer: conv2d_11\n",
            "Deleting 130/265 channels from layer: conv2d_12\n",
            "Deleting 130/252 channels from layer: conv2d_13\n",
            "Deleting 160/314 channels from layer: dense_1\n",
            "Epoch 1/20\n",
            "390/390 [==============================] - 49s 125ms/step - loss: 1.6589 - acc: 0.5639 - val_loss: 1.4693 - val_acc: 0.6656\n",
            "Epoch 2/20\n",
            "390/390 [==============================] - 46s 119ms/step - loss: 1.5828 - acc: 0.6293 - val_loss: 1.6529 - val_acc: 0.6436\n",
            "Epoch 3/20\n",
            "390/390 [==============================] - 46s 118ms/step - loss: 1.5817 - acc: 0.6365 - val_loss: 1.3480 - val_acc: 0.7133\n",
            "Epoch 4/20\n",
            "390/390 [==============================] - 46s 117ms/step - loss: 1.5647 - acc: 0.6482 - val_loss: 1.4198 - val_acc: 0.6900\n",
            "Epoch 5/20\n",
            "390/390 [==============================] - 45s 116ms/step - loss: 1.5552 - acc: 0.6512 - val_loss: 1.5332 - val_acc: 0.6648\n",
            "Epoch 6/20\n",
            "390/390 [==============================] - 45s 116ms/step - loss: 1.5533 - acc: 0.6513 - val_loss: 1.4549 - val_acc: 0.6892\n",
            "Epoch 7/20\n",
            "390/390 [==============================] - 45s 115ms/step - loss: 1.5457 - acc: 0.6556 - val_loss: 1.4162 - val_acc: 0.6929\n",
            "Epoch 8/20\n",
            "390/390 [==============================] - 45s 115ms/step - loss: 1.5352 - acc: 0.6629 - val_loss: 1.4516 - val_acc: 0.6868\n",
            "Epoch 9/20\n",
            "390/390 [==============================] - 45s 114ms/step - loss: 1.5343 - acc: 0.6635 - val_loss: 1.4513 - val_acc: 0.6906\n",
            "Epoch 10/20\n",
            "390/390 [==============================] - 44s 113ms/step - loss: 1.5343 - acc: 0.6605 - val_loss: 1.4534 - val_acc: 0.6763\n",
            "Epoch 11/20\n",
            "390/390 [==============================] - 43s 111ms/step - loss: 1.5359 - acc: 0.6636 - val_loss: 1.3055 - val_acc: 0.7301\n",
            "Epoch 12/20\n",
            "390/390 [==============================] - 43s 110ms/step - loss: 1.5251 - acc: 0.6603 - val_loss: 1.3975 - val_acc: 0.7003\n",
            "Epoch 13/20\n",
            "390/390 [==============================] - 42s 109ms/step - loss: 1.5182 - acc: 0.6642 - val_loss: 1.2947 - val_acc: 0.7300\n",
            "Epoch 14/20\n",
            "390/390 [==============================] - 46s 117ms/step - loss: 1.5207 - acc: 0.6630 - val_loss: 1.5095 - val_acc: 0.6516\n",
            "Epoch 15/20\n",
            "390/390 [==============================] - 45s 116ms/step - loss: 1.5242 - acc: 0.6628 - val_loss: 1.3785 - val_acc: 0.7004\n",
            "Epoch 16/20\n",
            "390/390 [==============================] - 45s 116ms/step - loss: 1.5184 - acc: 0.6638 - val_loss: 1.3979 - val_acc: 0.6973\n",
            "Epoch 17/20\n",
            "390/390 [==============================] - 44s 113ms/step - loss: 1.5095 - acc: 0.6683 - val_loss: 1.5764 - val_acc: 0.6549\n",
            "Epoch 18/20\n",
            "390/390 [==============================] - 44s 112ms/step - loss: 1.5119 - acc: 0.6677 - val_loss: 1.2839 - val_acc: 0.7411\n",
            "Epoch 19/20\n",
            "390/390 [==============================] - 44s 112ms/step - loss: 1.5078 - acc: 0.6678 - val_loss: 1.4284 - val_acc: 0.6919\n",
            "Epoch 20/20\n",
            "390/390 [==============================] - 43s 111ms/step - loss: 1.5033 - acc: 0.6667 - val_loss: 1.5179 - val_acc: 0.6722\n",
            "VALIDATION ACCURACY AFTER 2 ITERATIONS = 0.7411\n"
          ],
          "name": "stdout"
        }
      ]
    },
    {
      "cell_type": "code",
      "metadata": {
        "id": "aBYBau6qac49",
        "colab_type": "code",
        "outputId": "4b5c1cd1-6dde-4eb4-8a3e-5e9039a285b3",
        "colab": {
          "base_uri": "https://localhost:8080/",
          "height": 1000
        }
      },
      "source": [
        "model.summary()\n"
      ],
      "execution_count": 15,
      "outputs": [
        {
          "output_type": "stream",
          "text": [
            "Model: \"model_2\"\n",
            "_________________________________________________________________\n",
            "Layer (type)                 Output Shape              Param #   \n",
            "=================================================================\n",
            "conv2d_1_input (InputLayer)  (None, 32, 32, 3)         0         \n",
            "_________________________________________________________________\n",
            "conv2d_1 (Conv2D)            (None, 32, 32, 10)        280       \n",
            "_________________________________________________________________\n",
            "activation_1 (Activation)    multiple                  0         \n",
            "_________________________________________________________________\n",
            "batch_normalization_1 (Batch (None, 32, 32, 10)        40        \n",
            "_________________________________________________________________\n",
            "dropout_1 (Dropout)          multiple                  0         \n",
            "_________________________________________________________________\n",
            "conv2d_2 (Conv2D)            (None, 32, 32, 16)        1456      \n",
            "_________________________________________________________________\n",
            "activation_2 (Activation)    multiple                  0         \n",
            "_________________________________________________________________\n",
            "batch_normalization_2 (Batch (None, 32, 32, 16)        64        \n",
            "_________________________________________________________________\n",
            "max_pooling2d_1 (MaxPooling2 multiple                  0         \n",
            "_________________________________________________________________\n",
            "conv2d_3 (Conv2D)            (None, 16, 16, 50)        7250      \n",
            "_________________________________________________________________\n",
            "activation_3 (Activation)    multiple                  0         \n",
            "_________________________________________________________________\n",
            "batch_normalization_3 (Batch (None, 16, 16, 50)        200       \n",
            "_________________________________________________________________\n",
            "dropout_2 (Dropout)          multiple                  0         \n",
            "_________________________________________________________________\n",
            "conv2d_4 (Conv2D)            (None, 16, 16, 32)        14432     \n",
            "_________________________________________________________________\n",
            "activation_4 (Activation)    multiple                  0         \n",
            "_________________________________________________________________\n",
            "batch_normalization_4 (Batch (None, 16, 16, 32)        128       \n",
            "_________________________________________________________________\n",
            "max_pooling2d_2 (MaxPooling2 multiple                  0         \n",
            "_________________________________________________________________\n",
            "conv2d_5 (Conv2D)            (None, 8, 8, 72)          20808     \n",
            "_________________________________________________________________\n",
            "activation_5 (Activation)    multiple                  0         \n",
            "_________________________________________________________________\n",
            "batch_normalization_5 (Batch (None, 8, 8, 72)          288       \n",
            "_________________________________________________________________\n",
            "dropout_3 (Dropout)          multiple                  0         \n",
            "_________________________________________________________________\n",
            "conv2d_6 (Conv2D)            (None, 8, 8, 63)          40887     \n",
            "_________________________________________________________________\n",
            "activation_6 (Activation)    multiple                  0         \n",
            "_________________________________________________________________\n",
            "batch_normalization_6 (Batch (None, 8, 8, 63)          252       \n",
            "_________________________________________________________________\n",
            "dropout_4 (Dropout)          multiple                  0         \n",
            "_________________________________________________________________\n",
            "conv2d_7 (Conv2D)            (None, 8, 8, 65)          36920     \n",
            "_________________________________________________________________\n",
            "activation_7 (Activation)    multiple                  0         \n",
            "_________________________________________________________________\n",
            "batch_normalization_7 (Batch (None, 8, 8, 65)          260       \n",
            "_________________________________________________________________\n",
            "max_pooling2d_3 (MaxPooling2 multiple                  0         \n",
            "_________________________________________________________________\n",
            "conv2d_8 (Conv2D)            (None, 4, 4, 129)         75594     \n",
            "_________________________________________________________________\n",
            "activation_8 (Activation)    multiple                  0         \n",
            "_________________________________________________________________\n",
            "batch_normalization_8 (Batch (None, 4, 4, 129)         516       \n",
            "_________________________________________________________________\n",
            "dropout_5 (Dropout)          multiple                  0         \n",
            "_________________________________________________________________\n",
            "conv2d_9 (Conv2D)            (None, 4, 4, 132)         153384    \n",
            "_________________________________________________________________\n",
            "activation_9 (Activation)    multiple                  0         \n",
            "_________________________________________________________________\n",
            "batch_normalization_9 (Batch (None, 4, 4, 132)         528       \n",
            "_________________________________________________________________\n",
            "dropout_6 (Dropout)          multiple                  0         \n",
            "_________________________________________________________________\n",
            "conv2d_10 (Conv2D)           (None, 4, 4, 115)         136735    \n",
            "_________________________________________________________________\n",
            "activation_10 (Activation)   multiple                  0         \n",
            "_________________________________________________________________\n",
            "batch_normalization_10 (Batc (None, 4, 4, 115)         460       \n",
            "_________________________________________________________________\n",
            "max_pooling2d_4 (MaxPooling2 multiple                  0         \n",
            "_________________________________________________________________\n",
            "conv2d_11 (Conv2D)           (None, 2, 2, 120)         124320    \n",
            "_________________________________________________________________\n",
            "activation_11 (Activation)   multiple                  0         \n",
            "_________________________________________________________________\n",
            "batch_normalization_11 (Batc (None, 2, 2, 120)         480       \n",
            "_________________________________________________________________\n",
            "dropout_7 (Dropout)          multiple                  0         \n",
            "_________________________________________________________________\n",
            "conv2d_12 (Conv2D)           (None, 2, 2, 135)         145935    \n",
            "_________________________________________________________________\n",
            "activation_12 (Activation)   multiple                  0         \n",
            "_________________________________________________________________\n",
            "batch_normalization_12 (Batc (None, 2, 2, 135)         540       \n",
            "_________________________________________________________________\n",
            "dropout_8 (Dropout)          multiple                  0         \n",
            "_________________________________________________________________\n",
            "conv2d_13 (Conv2D)           (None, 2, 2, 122)         148352    \n",
            "_________________________________________________________________\n",
            "activation_13 (Activation)   multiple                  0         \n",
            "_________________________________________________________________\n",
            "batch_normalization_13 (Batc (None, 2, 2, 122)         488       \n",
            "_________________________________________________________________\n",
            "max_pooling2d_5 (MaxPooling2 multiple                  0         \n",
            "_________________________________________________________________\n",
            "dropout_9 (Dropout)          multiple                  0         \n",
            "_________________________________________________________________\n",
            "flatten_1 (Flatten)          multiple                  0         \n",
            "_________________________________________________________________\n",
            "dense_1 (Dense)              (None, 154)               18942     \n",
            "_________________________________________________________________\n",
            "activation_14 (Activation)   multiple                  0         \n",
            "_________________________________________________________________\n",
            "batch_normalization_14 (Batc (None, 154)               616       \n",
            "_________________________________________________________________\n",
            "dropout_10 (Dropout)         multiple                  0         \n",
            "_________________________________________________________________\n",
            "dense_2 (Dense)              (None, 10)                1550      \n",
            "_________________________________________________________________\n",
            "activation_15 (Activation)   (None, 10)                0         \n",
            "=================================================================\n",
            "Total params: 931,705\n",
            "Trainable params: 929,275\n",
            "Non-trainable params: 2,430\n",
            "_________________________________________________________________\n"
          ],
          "name": "stdout"
        }
      ]
    },
    {
      "cell_type": "code",
      "metadata": {
        "id": "3PHJQLZI-8Lf",
        "colab_type": "code",
        "colab": {}
      },
      "source": [
        ""
      ],
      "execution_count": 0,
      "outputs": []
    }
  ]
}