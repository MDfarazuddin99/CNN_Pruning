{
  "nbformat": 4,
  "nbformat_minor": 0,
  "metadata": {
    "colab": {
      "name": "model1_Function_CNN_PRUNING_L1_NORM.ipynb",
      "provenance": [],
      "collapsed_sections": [],
      "toc_visible": true
    },
    "kernelspec": {
      "name": "python3",
      "display_name": "Python 3"
    }
  },
  "cells": [
    {
      "cell_type": "code",
      "metadata": {
        "id": "KixoT63DBbym",
        "colab_type": "code",
        "colab": {
          "base_uri": "https://localhost:8080/",
          "height": 237
        },
        "outputId": "571eb406-2fa0-40e6-a033-ae647568c9de"
      },
      "source": [
        "!pip install kerassurgeon\n",
        "import numpy as np\n",
        "import tensorflow as tf\n",
        "from keras.datasets import cifar10\n",
        "from keras.utils import np_utils\n",
        "import matplotlib.pyplot as plt\n",
        "from keras.models import Sequential\n",
        "from keras.layers import Dense, Conv2D, MaxPooling2D, Dropout, Flatten, GlobalAveragePooling2D\n",
        "from keras.models import load_model\n",
        "from kerassurgeon import identify \n",
        "from kerassurgeon.operations import delete_channels,delete_layer\n",
        "from kerassurgeon import Surgeon"
      ],
      "execution_count": 1,
      "outputs": [
        {
          "output_type": "stream",
          "text": [
            "Requirement already satisfied: kerassurgeon in /usr/local/lib/python3.6/dist-packages (0.1.3)\n",
            "Requirement already satisfied: keras>=2.0.7 in /usr/local/lib/python3.6/dist-packages (from kerassurgeon) (2.2.5)\n",
            "Requirement already satisfied: numpy>=1.9.1 in /usr/local/lib/python3.6/dist-packages (from keras>=2.0.7->kerassurgeon) (1.17.5)\n",
            "Requirement already satisfied: h5py in /usr/local/lib/python3.6/dist-packages (from keras>=2.0.7->kerassurgeon) (2.8.0)\n",
            "Requirement already satisfied: scipy>=0.14 in /usr/local/lib/python3.6/dist-packages (from keras>=2.0.7->kerassurgeon) (1.4.1)\n",
            "Requirement already satisfied: pyyaml in /usr/local/lib/python3.6/dist-packages (from keras>=2.0.7->kerassurgeon) (3.13)\n",
            "Requirement already satisfied: six>=1.9.0 in /usr/local/lib/python3.6/dist-packages (from keras>=2.0.7->kerassurgeon) (1.12.0)\n",
            "Requirement already satisfied: keras-applications>=1.0.8 in /usr/local/lib/python3.6/dist-packages (from keras>=2.0.7->kerassurgeon) (1.0.8)\n",
            "Requirement already satisfied: keras-preprocessing>=1.1.0 in /usr/local/lib/python3.6/dist-packages (from keras>=2.0.7->kerassurgeon) (1.1.0)\n"
          ],
          "name": "stdout"
        },
        {
          "output_type": "display_data",
          "data": {
            "text/html": [
              "<p style=\"color: red;\">\n",
              "The default version of TensorFlow in Colab will soon switch to TensorFlow 2.x.<br>\n",
              "We recommend you <a href=\"https://www.tensorflow.org/guide/migrate\" target=\"_blank\">upgrade</a> now \n",
              "or ensure your notebook will continue to use TensorFlow 1.x via the <code>%tensorflow_version 1.x</code> magic:\n",
              "<a href=\"https://colab.research.google.com/notebooks/tensorflow_version.ipynb\" target=\"_blank\">more info</a>.</p>\n"
            ],
            "text/plain": [
              "<IPython.core.display.HTML object>"
            ]
          },
          "metadata": {
            "tags": []
          }
        },
        {
          "output_type": "stream",
          "text": [
            "Using TensorFlow backend.\n"
          ],
          "name": "stderr"
        }
      ]
    },
    {
      "cell_type": "code",
      "metadata": {
        "id": "Z6m0-GgoBphR",
        "colab_type": "code",
        "colab": {}
      },
      "source": [
        "(x_train,y_train),(x_test,y_test) = cifar10.load_data()\n",
        "\n",
        "def normalize(x_train,x_test):\n",
        "    mean = np.mean(x_train,axis=(0,1,2,3))\n",
        "    std = np.std(x_train, axis=(0, 1, 2, 3))\n",
        "    x_train = (x_train-mean)/(std+1e-7)\n",
        "    x_test = (x_test-mean)/(std+1e-7)\n",
        "    return x_train, x_test\n",
        "\n",
        "x_train , x_test = normalize(x_train,x_test)\n",
        "\n",
        "y_train = np_utils.to_categorical(y_train,10)\n",
        "y_test = np_utils.to_categorical(y_test,10)\n"
      ],
      "execution_count": 0,
      "outputs": []
    },
    {
      "cell_type": "code",
      "metadata": {
        "id": "AJbL7C5fCCMW",
        "colab_type": "code",
        "colab": {
          "base_uri": "https://localhost:8080/",
          "height": 592
        },
        "outputId": "d950c4c7-f93a-4eac-9295-09a23ee0f202"
      },
      "source": [
        "import tensorflow.compat.v1 as tf\n",
        "tf.disable_v2_behavior()\n",
        "\n",
        "\n",
        "\n",
        "model_1 = Sequential()\n",
        "\n",
        "model_1.add(Conv2D(32,(3,3),activation='relu',input_shape=x_train.shape[1:]))\n",
        "\n",
        "model_1.add(MaxPooling2D(pool_size=(2,2)))\n",
        "\n",
        "model_1.add(Conv2D(32,(3,3),activation='relu'))\n",
        "\n",
        "model_1.add(MaxPooling2D(pool_size=(2,2)))\n",
        "\n",
        "model_1.add(Conv2D(64,(3,3),activation='relu'))\n",
        "\n",
        "model_1.add(MaxPooling2D(pool_size=(2,2)))\n",
        "\n",
        "model_1.add(GlobalAveragePooling2D())\n",
        "model_1.add(Dense(10,activation='softmax'))\n",
        "\n",
        "model_2 = Sequential()\n",
        "model_2.add(Conv2D(32, (3, 3), padding='same',activation='relu',\n",
        "                 input_shape=x_train.shape[1:]))\n",
        "\n",
        "model_2.add(Conv2D(32, (3, 3),activation='relu'))\n",
        "\n",
        "model_2.add(MaxPooling2D(pool_size=(2, 2)))\n",
        "model_2.add(Dropout(0.25))\n",
        "\n",
        "model_2.add(Conv2D(64, (3, 3), padding='same',activation='relu'))\n",
        "\n",
        "model_2.add(Conv2D(64, (3, 3),activation='relu',))\n",
        "\n",
        "model_2.add(MaxPooling2D(pool_size=(2, 2)))\n",
        "model_2.add(Dropout(0.25))\n",
        "\n",
        "model_2.add(Flatten())\n",
        "model_2.add(Dense(512,activation='relu',))\n",
        "\n",
        "model_2.add(Dropout(0.5))\n",
        "model_2.add(Dense(10,activation='softmax',))\n"
      ],
      "execution_count": 3,
      "outputs": [
        {
          "output_type": "stream",
          "text": [
            "WARNING:tensorflow:From /usr/local/lib/python3.6/dist-packages/tensorflow_core/python/compat/v2_compat.py:68: disable_resource_variables (from tensorflow.python.ops.variable_scope) is deprecated and will be removed in a future version.\n",
            "Instructions for updating:\n",
            "non-resource variables are not supported in the long term\n"
          ],
          "name": "stdout"
        },
        {
          "output_type": "stream",
          "text": [
            "WARNING:tensorflow:From /usr/local/lib/python3.6/dist-packages/tensorflow_core/python/compat/v2_compat.py:68: disable_resource_variables (from tensorflow.python.ops.variable_scope) is deprecated and will be removed in a future version.\n",
            "Instructions for updating:\n",
            "non-resource variables are not supported in the long term\n"
          ],
          "name": "stderr"
        },
        {
          "output_type": "stream",
          "text": [
            "WARNING:tensorflow:From /usr/local/lib/python3.6/dist-packages/keras/backend/tensorflow_backend.py:66: The name tf.get_default_graph is deprecated. Please use tf.compat.v1.get_default_graph instead.\n",
            "\n"
          ],
          "name": "stdout"
        },
        {
          "output_type": "stream",
          "text": [
            "WARNING:tensorflow:From /usr/local/lib/python3.6/dist-packages/keras/backend/tensorflow_backend.py:66: The name tf.get_default_graph is deprecated. Please use tf.compat.v1.get_default_graph instead.\n",
            "\n"
          ],
          "name": "stderr"
        },
        {
          "output_type": "stream",
          "text": [
            "WARNING:tensorflow:From /usr/local/lib/python3.6/dist-packages/keras/backend/tensorflow_backend.py:541: The name tf.placeholder is deprecated. Please use tf.compat.v1.placeholder instead.\n",
            "\n"
          ],
          "name": "stdout"
        },
        {
          "output_type": "stream",
          "text": [
            "WARNING:tensorflow:From /usr/local/lib/python3.6/dist-packages/keras/backend/tensorflow_backend.py:541: The name tf.placeholder is deprecated. Please use tf.compat.v1.placeholder instead.\n",
            "\n"
          ],
          "name": "stderr"
        },
        {
          "output_type": "stream",
          "text": [
            "WARNING:tensorflow:From /usr/local/lib/python3.6/dist-packages/keras/backend/tensorflow_backend.py:4432: The name tf.random_uniform is deprecated. Please use tf.random.uniform instead.\n",
            "\n"
          ],
          "name": "stdout"
        },
        {
          "output_type": "stream",
          "text": [
            "WARNING:tensorflow:From /usr/local/lib/python3.6/dist-packages/keras/backend/tensorflow_backend.py:4432: The name tf.random_uniform is deprecated. Please use tf.random.uniform instead.\n",
            "\n"
          ],
          "name": "stderr"
        },
        {
          "output_type": "stream",
          "text": [
            "WARNING:tensorflow:From /usr/local/lib/python3.6/dist-packages/keras/backend/tensorflow_backend.py:4267: The name tf.nn.max_pool is deprecated. Please use tf.nn.max_pool2d instead.\n",
            "\n"
          ],
          "name": "stdout"
        },
        {
          "output_type": "stream",
          "text": [
            "WARNING:tensorflow:From /usr/local/lib/python3.6/dist-packages/keras/backend/tensorflow_backend.py:4267: The name tf.nn.max_pool is deprecated. Please use tf.nn.max_pool2d instead.\n",
            "\n"
          ],
          "name": "stderr"
        },
        {
          "output_type": "stream",
          "text": [
            "WARNING:tensorflow:From /usr/local/lib/python3.6/dist-packages/keras/backend/tensorflow_backend.py:148: The name tf.placeholder_with_default is deprecated. Please use tf.compat.v1.placeholder_with_default instead.\n",
            "\n"
          ],
          "name": "stdout"
        },
        {
          "output_type": "stream",
          "text": [
            "WARNING:tensorflow:From /usr/local/lib/python3.6/dist-packages/keras/backend/tensorflow_backend.py:148: The name tf.placeholder_with_default is deprecated. Please use tf.compat.v1.placeholder_with_default instead.\n",
            "\n"
          ],
          "name": "stderr"
        },
        {
          "output_type": "stream",
          "text": [
            "WARNING:tensorflow:From /usr/local/lib/python3.6/dist-packages/keras/backend/tensorflow_backend.py:3733: calling dropout (from tensorflow.python.ops.nn_ops) with keep_prob is deprecated and will be removed in a future version.\n",
            "Instructions for updating:\n",
            "Please use `rate` instead of `keep_prob`. Rate should be set to `rate = 1 - keep_prob`.\n"
          ],
          "name": "stdout"
        },
        {
          "output_type": "stream",
          "text": [
            "WARNING:tensorflow:From /usr/local/lib/python3.6/dist-packages/keras/backend/tensorflow_backend.py:3733: calling dropout (from tensorflow.python.ops.nn_ops) with keep_prob is deprecated and will be removed in a future version.\n",
            "Instructions for updating:\n",
            "Please use `rate` instead of `keep_prob`. Rate should be set to `rate = 1 - keep_prob`.\n"
          ],
          "name": "stderr"
        }
      ]
    },
    {
      "cell_type": "code",
      "metadata": {
        "id": "L51D7iHtCUZ1",
        "colab_type": "code",
        "colab": {
          "base_uri": "https://localhost:8080/",
          "height": 433
        },
        "outputId": "40642013-8fce-495a-b895-21b1904a3f81"
      },
      "source": [
        "\n",
        "my_model = model_1\n",
        "my_model.summary()"
      ],
      "execution_count": 4,
      "outputs": [
        {
          "output_type": "stream",
          "text": [
            "Model: \"sequential_1\"\n",
            "_________________________________________________________________\n",
            "Layer (type)                 Output Shape              Param #   \n",
            "=================================================================\n",
            "conv2d_1 (Conv2D)            (None, 30, 30, 32)        896       \n",
            "_________________________________________________________________\n",
            "max_pooling2d_1 (MaxPooling2 (None, 15, 15, 32)        0         \n",
            "_________________________________________________________________\n",
            "conv2d_2 (Conv2D)            (None, 13, 13, 32)        9248      \n",
            "_________________________________________________________________\n",
            "max_pooling2d_2 (MaxPooling2 (None, 6, 6, 32)          0         \n",
            "_________________________________________________________________\n",
            "conv2d_3 (Conv2D)            (None, 4, 4, 64)          18496     \n",
            "_________________________________________________________________\n",
            "max_pooling2d_3 (MaxPooling2 (None, 2, 2, 64)          0         \n",
            "_________________________________________________________________\n",
            "global_average_pooling2d_1 ( (None, 64)                0         \n",
            "_________________________________________________________________\n",
            "dense_1 (Dense)              (None, 10)                650       \n",
            "=================================================================\n",
            "Total params: 29,290\n",
            "Trainable params: 29,290\n",
            "Non-trainable params: 0\n",
            "_________________________________________________________________\n"
          ],
          "name": "stdout"
        }
      ]
    },
    {
      "cell_type": "code",
      "metadata": {
        "id": "SCYjlN9NCHPO",
        "colab_type": "code",
        "colab": {
          "base_uri": "https://localhost:8080/",
          "height": 1000
        },
        "outputId": "e5272741-e1e3-47e1-cfa7-b92be887c938"
      },
      "source": [
        "\n",
        "# Run this cell if you don't have the weights saved\n",
        "import tensorflow.compat.v1 as tf\n",
        "tf.disable_v2_behavior()\n",
        "\n",
        "my_model.compile(loss='categorical_crossentropy',optimizer='adam',metrics=['accuracy'])\n",
        "my_model.fit(x_train, y_train, batch_size=32, epochs=10, verbose=1, validation_split=0.2, shuffle=True)\n",
        "my_model.save('drive/My Drive/Colab Notebooks/model1_before_pruning.h5')"
      ],
      "execution_count": 5,
      "outputs": [
        {
          "output_type": "stream",
          "text": [
            "WARNING:tensorflow:From /usr/local/lib/python3.6/dist-packages/keras/optimizers.py:793: The name tf.train.Optimizer is deprecated. Please use tf.compat.v1.train.Optimizer instead.\n",
            "\n"
          ],
          "name": "stdout"
        },
        {
          "output_type": "stream",
          "text": [
            "WARNING:tensorflow:From /usr/local/lib/python3.6/dist-packages/keras/optimizers.py:793: The name tf.train.Optimizer is deprecated. Please use tf.compat.v1.train.Optimizer instead.\n",
            "\n"
          ],
          "name": "stderr"
        },
        {
          "output_type": "stream",
          "text": [
            "WARNING:tensorflow:From /usr/local/lib/python3.6/dist-packages/keras/backend/tensorflow_backend.py:3576: The name tf.log is deprecated. Please use tf.math.log instead.\n",
            "\n"
          ],
          "name": "stdout"
        },
        {
          "output_type": "stream",
          "text": [
            "WARNING:tensorflow:From /usr/local/lib/python3.6/dist-packages/keras/backend/tensorflow_backend.py:3576: The name tf.log is deprecated. Please use tf.math.log instead.\n",
            "\n"
          ],
          "name": "stderr"
        },
        {
          "output_type": "stream",
          "text": [
            "WARNING:tensorflow:From /usr/local/lib/python3.6/dist-packages/tensorflow_core/python/ops/math_grad.py:1424: where (from tensorflow.python.ops.array_ops) is deprecated and will be removed in a future version.\n",
            "Instructions for updating:\n",
            "Use tf.where in 2.0, which has the same broadcast rule as np.where\n"
          ],
          "name": "stdout"
        },
        {
          "output_type": "stream",
          "text": [
            "WARNING:tensorflow:From /usr/local/lib/python3.6/dist-packages/tensorflow_core/python/ops/math_grad.py:1424: where (from tensorflow.python.ops.array_ops) is deprecated and will be removed in a future version.\n",
            "Instructions for updating:\n",
            "Use tf.where in 2.0, which has the same broadcast rule as np.where\n"
          ],
          "name": "stderr"
        },
        {
          "output_type": "stream",
          "text": [
            "WARNING:tensorflow:From /usr/local/lib/python3.6/dist-packages/keras/backend/tensorflow_backend.py:1033: The name tf.assign_add is deprecated. Please use tf.compat.v1.assign_add instead.\n",
            "\n"
          ],
          "name": "stdout"
        },
        {
          "output_type": "stream",
          "text": [
            "WARNING:tensorflow:From /usr/local/lib/python3.6/dist-packages/keras/backend/tensorflow_backend.py:1033: The name tf.assign_add is deprecated. Please use tf.compat.v1.assign_add instead.\n",
            "\n"
          ],
          "name": "stderr"
        },
        {
          "output_type": "stream",
          "text": [
            "WARNING:tensorflow:From /usr/local/lib/python3.6/dist-packages/keras/backend/tensorflow_backend.py:1020: The name tf.assign is deprecated. Please use tf.compat.v1.assign instead.\n",
            "\n"
          ],
          "name": "stdout"
        },
        {
          "output_type": "stream",
          "text": [
            "WARNING:tensorflow:From /usr/local/lib/python3.6/dist-packages/keras/backend/tensorflow_backend.py:1020: The name tf.assign is deprecated. Please use tf.compat.v1.assign instead.\n",
            "\n"
          ],
          "name": "stderr"
        },
        {
          "output_type": "stream",
          "text": [
            "WARNING:tensorflow:From /usr/local/lib/python3.6/dist-packages/keras/backend/tensorflow_backend.py:3005: The name tf.Session is deprecated. Please use tf.compat.v1.Session instead.\n",
            "\n"
          ],
          "name": "stdout"
        },
        {
          "output_type": "stream",
          "text": [
            "WARNING:tensorflow:From /usr/local/lib/python3.6/dist-packages/keras/backend/tensorflow_backend.py:3005: The name tf.Session is deprecated. Please use tf.compat.v1.Session instead.\n",
            "\n"
          ],
          "name": "stderr"
        },
        {
          "output_type": "stream",
          "text": [
            "Train on 40000 samples, validate on 10000 samples\n",
            "Epoch 1/10\n",
            "WARNING:tensorflow:From /usr/local/lib/python3.6/dist-packages/keras/backend/tensorflow_backend.py:190: The name tf.get_default_session is deprecated. Please use tf.compat.v1.get_default_session instead.\n",
            "\n"
          ],
          "name": "stdout"
        },
        {
          "output_type": "stream",
          "text": [
            "WARNING:tensorflow:From /usr/local/lib/python3.6/dist-packages/keras/backend/tensorflow_backend.py:190: The name tf.get_default_session is deprecated. Please use tf.compat.v1.get_default_session instead.\n",
            "\n"
          ],
          "name": "stderr"
        },
        {
          "output_type": "stream",
          "text": [
            "WARNING:tensorflow:From /usr/local/lib/python3.6/dist-packages/keras/backend/tensorflow_backend.py:197: The name tf.ConfigProto is deprecated. Please use tf.compat.v1.ConfigProto instead.\n",
            "\n"
          ],
          "name": "stdout"
        },
        {
          "output_type": "stream",
          "text": [
            "WARNING:tensorflow:From /usr/local/lib/python3.6/dist-packages/keras/backend/tensorflow_backend.py:197: The name tf.ConfigProto is deprecated. Please use tf.compat.v1.ConfigProto instead.\n",
            "\n"
          ],
          "name": "stderr"
        },
        {
          "output_type": "stream",
          "text": [
            "WARNING:tensorflow:From /usr/local/lib/python3.6/dist-packages/keras/backend/tensorflow_backend.py:207: The name tf.global_variables is deprecated. Please use tf.compat.v1.global_variables instead.\n",
            "\n"
          ],
          "name": "stdout"
        },
        {
          "output_type": "stream",
          "text": [
            "WARNING:tensorflow:From /usr/local/lib/python3.6/dist-packages/keras/backend/tensorflow_backend.py:207: The name tf.global_variables is deprecated. Please use tf.compat.v1.global_variables instead.\n",
            "\n"
          ],
          "name": "stderr"
        },
        {
          "output_type": "stream",
          "text": [
            "WARNING:tensorflow:From /usr/local/lib/python3.6/dist-packages/keras/backend/tensorflow_backend.py:216: The name tf.is_variable_initialized is deprecated. Please use tf.compat.v1.is_variable_initialized instead.\n",
            "\n"
          ],
          "name": "stdout"
        },
        {
          "output_type": "stream",
          "text": [
            "WARNING:tensorflow:From /usr/local/lib/python3.6/dist-packages/keras/backend/tensorflow_backend.py:216: The name tf.is_variable_initialized is deprecated. Please use tf.compat.v1.is_variable_initialized instead.\n",
            "\n"
          ],
          "name": "stderr"
        },
        {
          "output_type": "stream",
          "text": [
            "WARNING:tensorflow:From /usr/local/lib/python3.6/dist-packages/keras/backend/tensorflow_backend.py:223: The name tf.variables_initializer is deprecated. Please use tf.compat.v1.variables_initializer instead.\n",
            "\n"
          ],
          "name": "stdout"
        },
        {
          "output_type": "stream",
          "text": [
            "WARNING:tensorflow:From /usr/local/lib/python3.6/dist-packages/keras/backend/tensorflow_backend.py:223: The name tf.variables_initializer is deprecated. Please use tf.compat.v1.variables_initializer instead.\n",
            "\n"
          ],
          "name": "stderr"
        },
        {
          "output_type": "stream",
          "text": [
            "40000/40000 [==============================] - 51s 1ms/step - loss: 1.6010 - acc: 0.4147 - val_loss: 1.3439 - val_acc: 0.5153\n",
            "Epoch 2/10\n",
            "40000/40000 [==============================] - 49s 1ms/step - loss: 1.2564 - acc: 0.5540 - val_loss: 1.1771 - val_acc: 0.5834\n",
            "Epoch 3/10\n",
            "40000/40000 [==============================] - 50s 1ms/step - loss: 1.1110 - acc: 0.6096 - val_loss: 1.0339 - val_acc: 0.6383\n",
            "Epoch 4/10\n",
            "40000/40000 [==============================] - 51s 1ms/step - loss: 1.0138 - acc: 0.6494 - val_loss: 1.0545 - val_acc: 0.6266\n",
            "Epoch 5/10\n",
            "40000/40000 [==============================] - 50s 1ms/step - loss: 0.9493 - acc: 0.6719 - val_loss: 0.9930 - val_acc: 0.6509\n",
            "Epoch 6/10\n",
            "40000/40000 [==============================] - 50s 1ms/step - loss: 0.8880 - acc: 0.6925 - val_loss: 0.9849 - val_acc: 0.6548\n",
            "Epoch 7/10\n",
            "40000/40000 [==============================] - 50s 1ms/step - loss: 0.8431 - acc: 0.7062 - val_loss: 0.9127 - val_acc: 0.6774\n",
            "Epoch 8/10\n",
            "40000/40000 [==============================] - 50s 1ms/step - loss: 0.8036 - acc: 0.7223 - val_loss: 0.8851 - val_acc: 0.6896\n",
            "Epoch 9/10\n",
            "40000/40000 [==============================] - 50s 1ms/step - loss: 0.7776 - acc: 0.7316 - val_loss: 0.9078 - val_acc: 0.6878\n",
            "Epoch 10/10\n",
            "40000/40000 [==============================] - 51s 1ms/step - loss: 0.7443 - acc: 0.7436 - val_loss: 0.9305 - val_acc: 0.6841\n"
          ],
          "name": "stdout"
        }
      ]
    },
    {
      "cell_type": "code",
      "metadata": {
        "id": "hK6HXipnCQ-5",
        "colab_type": "code",
        "colab": {
          "base_uri": "https://localhost:8080/",
          "height": 86
        },
        "outputId": "9b4e0c39-e6a9-4fc9-9073-20a9f447f892"
      },
      "source": [
        "my_model = load_model('drive/My Drive/Colab Notebooks/model1_before_pruning.h5')\n",
        "score_train = my_model.evaluate(x_train,y_train) \n",
        "\n",
        "print('Accuracy on the Train Images: ', score_train[1])\n",
        "\n",
        "score_test = my_model.evaluate(x_test, y_test)\n",
        "\n",
        "print('Accuracy on the Test Images: ', score_test[1])"
      ],
      "execution_count": 6,
      "outputs": [
        {
          "output_type": "stream",
          "text": [
            "50000/50000 [==============================] - 22s 445us/step\n",
            "Accuracy on the Train Images:  0.73128\n",
            "10000/10000 [==============================] - 4s 426us/step\n",
            "Accuracy on the Test Images:  0.6894\n"
          ],
          "name": "stdout"
        }
      ]
    },
    {
      "cell_type": "code",
      "metadata": {
        "id": "QF8RQI6bCgYy",
        "colab_type": "code",
        "colab": {
          "base_uri": "https://localhost:8080/",
          "height": 52
        },
        "outputId": "14e7d1d5-becc-4771-9686-2034bd19d863"
      },
      "source": [
        "def my_get_all_conv_layers(model):\n",
        "    all_conv_layers = list()\n",
        "    for i,each_layer in enumerate(model.layers):\n",
        "        if (each_layer.name[0:6] == 'conv2d'):\n",
        "            all_conv_layers.append(i)\n",
        "    return all_conv_layers\n",
        "\n",
        "def my_get_all_dense_layers(model):\n",
        "    all_dense_layers = list()\n",
        "    for i,each_layer in enumerate(model.layers):\n",
        "        if (each_layer.name[0:5] == 'dense'):\n",
        "            all_dense_layers.append(i)\n",
        "    return all_dense_layers\n",
        "\n",
        "\n",
        "all_dense_layers = my_get_all_dense_layers(my_model)\n",
        "\n",
        "all_conv_layers = my_get_all_conv_layers(my_model)\n",
        "\n",
        "print('All convolution layers = ',all_conv_layers,'\\nAll dense layers = ',all_dense_layers)\n"
      ],
      "execution_count": 7,
      "outputs": [
        {
          "output_type": "stream",
          "text": [
            "All convolution layers =  [0, 2, 4] \n",
            "All dense layers =  [7]\n"
          ],
          "name": "stdout"
        }
      ]
    },
    {
      "cell_type": "code",
      "metadata": {
        "id": "y-SjswHRCsZO",
        "colab_type": "code",
        "colab": {}
      },
      "source": [
        "def my_in_conv_layers_get_L1_norms_sorted_indices_and_values(model,graph):\n",
        "    weights = list()\n",
        "    all_conv_layers = my_get_all_conv_layers(model)\n",
        "    for i in all_conv_layers:\n",
        "        weights.append(model.layers[i].get_weights()[0])\n",
        "    layer_wise_filter_sorted_indices = list()\n",
        "    layer_wise_filter_sorted_values = list()\n",
        "    for i in range(len(weights)):\n",
        "        weight = weights[i]\n",
        "        num_filters = len(weight[0,0,0,:])\n",
        "        # print(num_filters)\n",
        "        weights_dict = dict() \n",
        "        for j in range(num_filters):\n",
        "            weights_sum = np.sum(abs(weight[:,:,:,j]))\n",
        "            filtr = 'filter {}'.format(j)\n",
        "            weights_dict[filtr] = weights_sum\n",
        "        \n",
        "        weights_dict_sorted = sorted(weights_dict.items(),key = lambda kv:kv[1]) \n",
        "        # print('L1 norm of conv2D_{} layer'.format(i+1),weights_dict_sorted)\n",
        "\n",
        "        weight_values = list()\n",
        "        filter_indices = list()\n",
        "\n",
        "        for element in weights_dict_sorted:\n",
        "            filter_indices.append(int(element[0][6:]))  # extracting the index of filter from string (tentative try to come up with better code)\n",
        "            weight_values.append(element[1]) \n",
        "    \n",
        "        layer_wise_filter_sorted_indices.append(filter_indices)\n",
        "        layer_wise_filter_sorted_values.append(weight_values)\n",
        "\n",
        "        if graph == True:\n",
        "                x = np.arange(num_filters)\n",
        "                plt.figure(i+1,figsize=(7,5))\n",
        "                plt.plot(x,np.array(weight_values))\n",
        "                plt.axhline(y=np.mean(np.array(weight_values)),c='r')\n",
        "                for j in range(len(layer_wise_filter_sorted_values[i])):\n",
        "                    if(np.mean(np.array(weight_values)) < weight_values[j]):\n",
        "                        plt.axvline(x=j,c='r')\n",
        "                        break\n",
        "\n",
        "                plt.xlabel('filter number')\n",
        "                plt.ylabel('L1 norm')\n",
        "                plt.title('Conv2d_{}'.format(i+1))\n",
        "                plt.grid(True)\n",
        "                plt.style.use(['classic'])\n",
        "    return layer_wise_filter_sorted_indices,layer_wise_filter_sorted_values"
      ],
      "execution_count": 0,
      "outputs": []
    },
    {
      "cell_type": "code",
      "metadata": {
        "id": "jyEmr29ECv2x",
        "colab_type": "code",
        "colab": {
          "base_uri": "https://localhost:8080/",
          "height": 1000
        },
        "outputId": "0a77ed5a-2b67-49cd-aff9-a9e1fe3b9157"
      },
      "source": [
        " my_in_conv_layers_get_L1_norms_sorted_indices_and_values(my_model,True)"
      ],
      "execution_count": 24,
      "outputs": [
        {
          "output_type": "execute_result",
          "data": {
            "text/plain": [
              "([[31,\n",
              "   12,\n",
              "   11,\n",
              "   15,\n",
              "   30,\n",
              "   13,\n",
              "   0,\n",
              "   16,\n",
              "   4,\n",
              "   14,\n",
              "   2,\n",
              "   26,\n",
              "   6,\n",
              "   3,\n",
              "   9,\n",
              "   5,\n",
              "   19,\n",
              "   22,\n",
              "   27,\n",
              "   17,\n",
              "   29,\n",
              "   21,\n",
              "   7,\n",
              "   1,\n",
              "   10,\n",
              "   8,\n",
              "   28,\n",
              "   18,\n",
              "   25,\n",
              "   24,\n",
              "   20,\n",
              "   23],\n",
              "  [17,\n",
              "   8,\n",
              "   31,\n",
              "   24,\n",
              "   29,\n",
              "   22,\n",
              "   23,\n",
              "   26,\n",
              "   2,\n",
              "   16,\n",
              "   14,\n",
              "   21,\n",
              "   10,\n",
              "   15,\n",
              "   0,\n",
              "   6,\n",
              "   19,\n",
              "   27,\n",
              "   5,\n",
              "   13,\n",
              "   12,\n",
              "   3,\n",
              "   25,\n",
              "   20,\n",
              "   28,\n",
              "   4,\n",
              "   11,\n",
              "   1,\n",
              "   30,\n",
              "   7,\n",
              "   9,\n",
              "   18],\n",
              "  [38,\n",
              "   7,\n",
              "   39,\n",
              "   52,\n",
              "   62,\n",
              "   58,\n",
              "   63,\n",
              "   45,\n",
              "   5,\n",
              "   27,\n",
              "   56,\n",
              "   48,\n",
              "   13,\n",
              "   4,\n",
              "   12,\n",
              "   59,\n",
              "   14,\n",
              "   44,\n",
              "   57,\n",
              "   61,\n",
              "   49,\n",
              "   43,\n",
              "   33,\n",
              "   24,\n",
              "   37,\n",
              "   1,\n",
              "   40,\n",
              "   55,\n",
              "   26,\n",
              "   17,\n",
              "   20,\n",
              "   46,\n",
              "   50,\n",
              "   30,\n",
              "   2,\n",
              "   8,\n",
              "   29,\n",
              "   28,\n",
              "   3,\n",
              "   9,\n",
              "   6,\n",
              "   21,\n",
              "   0,\n",
              "   19,\n",
              "   31,\n",
              "   51,\n",
              "   36,\n",
              "   54,\n",
              "   22,\n",
              "   11,\n",
              "   60,\n",
              "   10,\n",
              "   32,\n",
              "   16,\n",
              "   34,\n",
              "   42,\n",
              "   53,\n",
              "   35,\n",
              "   41,\n",
              "   47,\n",
              "   25,\n",
              "   18,\n",
              "   23,\n",
              "   15]],\n",
              " [[2.7541952,\n",
              "   2.8629625,\n",
              "   2.973067,\n",
              "   2.9882488,\n",
              "   3.0292187,\n",
              "   3.0528767,\n",
              "   3.082118,\n",
              "   3.1235046,\n",
              "   3.1675882,\n",
              "   3.4248128,\n",
              "   3.445581,\n",
              "   3.4633818,\n",
              "   3.4790924,\n",
              "   3.481659,\n",
              "   3.484484,\n",
              "   3.4964495,\n",
              "   3.5237544,\n",
              "   3.6442065,\n",
              "   3.7889051,\n",
              "   3.8048155,\n",
              "   3.8212209,\n",
              "   3.8496473,\n",
              "   3.8770027,\n",
              "   3.941349,\n",
              "   3.945002,\n",
              "   3.9666975,\n",
              "   4.072291,\n",
              "   4.259786,\n",
              "   4.3048205,\n",
              "   4.353953,\n",
              "   4.449021,\n",
              "   5.165729],\n",
              "  [14.4839945,\n",
              "   14.602002,\n",
              "   17.244202,\n",
              "   26.701714,\n",
              "   27.524426,\n",
              "   28.36882,\n",
              "   29.515728,\n",
              "   30.006306,\n",
              "   30.184288,\n",
              "   30.194298,\n",
              "   31.105017,\n",
              "   31.996264,\n",
              "   32.677322,\n",
              "   32.68814,\n",
              "   32.901222,\n",
              "   33.582893,\n",
              "   33.9822,\n",
              "   34.036194,\n",
              "   34.061493,\n",
              "   34.17007,\n",
              "   34.5598,\n",
              "   34.96727,\n",
              "   34.96904,\n",
              "   35.395893,\n",
              "   35.432304,\n",
              "   35.52793,\n",
              "   36.22627,\n",
              "   37.096092,\n",
              "   37.718323,\n",
              "   38.14868,\n",
              "   38.446423,\n",
              "   40.49552],\n",
              "  [11.661247,\n",
              "   12.675314,\n",
              "   12.72798,\n",
              "   13.154495,\n",
              "   13.270462,\n",
              "   14.847511,\n",
              "   24.738623,\n",
              "   25.763296,\n",
              "   27.115774,\n",
              "   27.140862,\n",
              "   27.144756,\n",
              "   27.260958,\n",
              "   27.574074,\n",
              "   27.653633,\n",
              "   27.704727,\n",
              "   27.748003,\n",
              "   27.780127,\n",
              "   27.976147,\n",
              "   28.597351,\n",
              "   28.739458,\n",
              "   28.76549,\n",
              "   28.81129,\n",
              "   28.85251,\n",
              "   29.009926,\n",
              "   29.042002,\n",
              "   29.128738,\n",
              "   29.19362,\n",
              "   29.20584,\n",
              "   29.258884,\n",
              "   29.280582,\n",
              "   29.368912,\n",
              "   29.490957,\n",
              "   29.525944,\n",
              "   29.701954,\n",
              "   29.706179,\n",
              "   29.833822,\n",
              "   29.965702,\n",
              "   30.027775,\n",
              "   30.078636,\n",
              "   30.086456,\n",
              "   30.094683,\n",
              "   30.169838,\n",
              "   30.336319,\n",
              "   30.341885,\n",
              "   30.534313,\n",
              "   30.743568,\n",
              "   30.772114,\n",
              "   30.818836,\n",
              "   30.962662,\n",
              "   30.980366,\n",
              "   30.985802,\n",
              "   31.50317,\n",
              "   31.575788,\n",
              "   32.12294,\n",
              "   32.56842,\n",
              "   32.635513,\n",
              "   32.683105,\n",
              "   32.7721,\n",
              "   33.542187,\n",
              "   33.76806,\n",
              "   33.792004,\n",
              "   34.012222,\n",
              "   34.359398,\n",
              "   35.515244]])"
            ]
          },
          "metadata": {
            "tags": []
          },
          "execution_count": 24
        },
        {
          "output_type": "display_data",
          "data": {
            "image/png": "[encoded data removed]",
            "text/plain": [
              "<Figure size 560x400 with 1 Axes>"
            ]
          },
          "metadata": {
            "tags": []
          }
        },
        {
          "output_type": "display_data",
          "data": {
            "image/png": "[encoded data removed]",
            "text/plain": [
              "<Figure size 560x400 with 1 Axes>"
            ]
          },
          "metadata": {
            "tags": []
          }
        },
        {
          "output_type": "display_data",
          "data": {
            "image/png": "[encoded data removed]",
            "text/plain": [
              "<Figure size 560x400 with 1 Axes>"
            ]
          },
          "metadata": {
            "tags": []
          }
        }
      ]
    },
    {
      "cell_type": "code",
      "metadata": {
        "id": "v8XjAN1kC033",
        "colab_type": "code",
        "colab": {
          "base_uri": "https://localhost:8080/",
          "height": 34
        },
        "outputId": "bf4f6a23-8caa-4bcf-dfc4-35b506589d66"
      },
      "source": [
        "def my_get_prune_filter_indices(model):\n",
        "    layer_wise_filter_sorted_indices,layer_wise_filter_sorted_values = my_in_conv_layers_get_L1_norms_sorted_indices_and_values(model,False)\n",
        "    all_conv_layers = my_get_all_conv_layers(model)\n",
        "    thresh_hold_means = list()\n",
        "    for i in range(len(all_conv_layers)):\n",
        "        thresh_hold_means.append(np.mean(np.array(layer_wise_filter_sorted_values[i])))\n",
        "    prune_filter_indices = list()\n",
        "    for i in range(len(all_conv_layers)):\n",
        "        for j in range(len(layer_wise_filter_sorted_values[i])):\n",
        "            if(thresh_hold_means[i] < layer_wise_filter_sorted_values[i][j]):\n",
        "                prune_filter_indices.append(j)\n",
        "                break\n",
        "    return prune_filter_indices\n",
        "prune_filter_indices = my_get_prune_filter_indices(my_model)\n",
        "prune_filter_indices"
      ],
      "execution_count": 10,
      "outputs": [
        {
          "output_type": "execute_result",
          "data": {
            "text/plain": [
              "[17, 11, 18]"
            ]
          },
          "metadata": {
            "tags": []
          },
          "execution_count": 10
        }
      ]
    },
    {
      "cell_type": "code",
      "metadata": {
        "id": "lOAkcpHPC-33",
        "colab_type": "code",
        "colab": {}
      },
      "source": [
        "def my_delete_filters(model):\n",
        "    layer_wise_filter_sorted_indices,layer_wise_filter_sorted_values = my_in_conv_layers_get_L1_norms_sorted_indices_and_values(model,False)\n",
        "    prune_filter_indices = my_get_prune_filter_indices(model)\n",
        "    all_conv_layers = my_get_all_conv_layers(model)\n",
        "    surgeon = Surgeon(my_model)\n",
        "    for index,value in enumerate(all_conv_layers):\n",
        "        surgeon.add_job('delete_channels',model.layers[value],channels = layer_wise_filter_sorted_indices[index][0:prune_filter_indices[index]])\n",
        "    model_new = surgeon.operate()\n",
        "    return model_new\n"
      ],
      "execution_count": 0,
      "outputs": []
    },
    {
      "cell_type": "code",
      "metadata": {
        "id": "qaDUeme5DOAi",
        "colab_type": "code",
        "colab": {
          "base_uri": "https://localhost:8080/",
          "height": 69
        },
        "outputId": "74a99051-c9a3-4472-bdd7-1f8c2386e9f7"
      },
      "source": [
        "# Run this cell if you don't have the weights saved\n",
        "model_new = my_delete_filters(my_model)\n",
        "model_new.compile(loss='categorical_crossentropy',optimizer='adam',metrics=['accuracy'])\n",
        "model_new.save('drive/My Drive/Colab Notebooks/model1_just_after_pruning.h5')"
      ],
      "execution_count": 27,
      "outputs": [
        {
          "output_type": "stream",
          "text": [
            "Deleting 17/32 channels from layer: conv2d_1\n",
            "Deleting 11/32 channels from layer: conv2d_2\n",
            "Deleting 18/64 channels from layer: conv2d_3\n"
          ],
          "name": "stdout"
        }
      ]
    },
    {
      "cell_type": "code",
      "metadata": {
        "id": "fBkAm2oWDB7X",
        "colab_type": "code",
        "colab": {
          "base_uri": "https://localhost:8080/",
          "height": 468
        },
        "outputId": "b23edbfe-e5aa-4f4e-87ee-d68aead030b0"
      },
      "source": [
        "model_new = load_model('drive/My Drive/Colab Notebooks/model1_just_after_pruning.h5')\n",
        "model_new.summary()"
      ],
      "execution_count": 17,
      "outputs": [
        {
          "output_type": "stream",
          "text": [
            "Model: \"model_3\"\n",
            "_________________________________________________________________\n",
            "Layer (type)                 Output Shape              Param #   \n",
            "=================================================================\n",
            "conv2d_1_input (InputLayer)  (None, 32, 32, 3)         0         \n",
            "_________________________________________________________________\n",
            "conv2d_1 (Conv2D)            (None, 30, 30, 15)        420       \n",
            "_________________________________________________________________\n",
            "max_pooling2d_1 (MaxPooling2 (None, 15, 15, 15)        0         \n",
            "_________________________________________________________________\n",
            "conv2d_2 (Conv2D)            (None, 13, 13, 21)        2856      \n",
            "_________________________________________________________________\n",
            "max_pooling2d_2 (MaxPooling2 (None, 6, 6, 21)          0         \n",
            "_________________________________________________________________\n",
            "conv2d_3 (Conv2D)            (None, 4, 4, 46)          8740      \n",
            "_________________________________________________________________\n",
            "max_pooling2d_3 (MaxPooling2 (None, 2, 2, 46)          0         \n",
            "_________________________________________________________________\n",
            "global_average_pooling2d_1 ( (None, 46)                0         \n",
            "_________________________________________________________________\n",
            "dense_1 (Dense)              (None, 10)                470       \n",
            "=================================================================\n",
            "Total params: 12,486\n",
            "Trainable params: 12,486\n",
            "Non-trainable params: 0\n",
            "_________________________________________________________________\n"
          ],
          "name": "stdout"
        }
      ]
    },
    {
      "cell_type": "code",
      "metadata": {
        "id": "hA_0CbdsDP47",
        "colab_type": "code",
        "colab": {
          "base_uri": "https://localhost:8080/",
          "height": 86
        },
        "outputId": "691ed08c-3276-472a-fdcf-fae6ca065d4f"
      },
      "source": [
        "\n",
        "\n",
        "\n",
        "score_train = model_new.evaluate(x_train,y_train) \n",
        "\n",
        "print('Accuracy on the Train Images: ', score_train[1])\n",
        "\n",
        "score_test = model_new.evaluate(x_test, y_test)\n",
        "\n",
        "print('Accuracy on the Test Images: ', score_test[1])\n"
      ],
      "execution_count": 18,
      "outputs": [
        {
          "output_type": "stream",
          "text": [
            "50000/50000 [==============================] - 20s 404us/step\n",
            "Accuracy on the Train Images:  0.22772\n",
            "10000/10000 [==============================] - 4s 399us/step\n",
            "Accuracy on the Test Images:  0.2183\n"
          ],
          "name": "stdout"
        }
      ]
    },
    {
      "cell_type": "code",
      "metadata": {
        "id": "0RDnEM3TDTt2",
        "colab_type": "code",
        "colab": {
          "base_uri": "https://localhost:8080/",
          "height": 381
        },
        "outputId": "0462cc97-407a-416b-aa7e-c0d818ac4252"
      },
      "source": [
        "# Run this cell if you don't have the weights saved\n",
        "model_new.fit(x_train, y_train, batch_size=32, epochs=10, verbose=1, validation_split=0.2, shuffle=True)\n",
        "model_new.save('drive/My Drive/Colab Notebooks/model1_after_training_pruned_model.h5')"
      ],
      "execution_count": 19,
      "outputs": [
        {
          "output_type": "stream",
          "text": [
            "Train on 40000 samples, validate on 10000 samples\n",
            "Epoch 1/10\n",
            "40000/40000 [==============================] - 40s 1ms/step - loss: 1.0075 - acc: 0.6507 - val_loss: 0.9770 - val_acc: 0.6694\n",
            "Epoch 2/10\n",
            "40000/40000 [==============================] - 39s 984us/step - loss: 0.8773 - acc: 0.6942 - val_loss: 0.9771 - val_acc: 0.6639\n",
            "Epoch 3/10\n",
            "40000/40000 [==============================] - 40s 1ms/step - loss: 0.8391 - acc: 0.7085 - val_loss: 0.9133 - val_acc: 0.6860\n",
            "Epoch 4/10\n",
            "40000/40000 [==============================] - 40s 997us/step - loss: 0.8094 - acc: 0.7179 - val_loss: 0.9321 - val_acc: 0.6829\n",
            "Epoch 5/10\n",
            "40000/40000 [==============================] - 40s 995us/step - loss: 0.7902 - acc: 0.7263 - val_loss: 0.9173 - val_acc: 0.6889\n",
            "Epoch 6/10\n",
            "40000/40000 [==============================] - 40s 1ms/step - loss: 0.7736 - acc: 0.7318 - val_loss: 0.9131 - val_acc: 0.6883\n",
            "Epoch 7/10\n",
            "40000/40000 [==============================] - 40s 1ms/step - loss: 0.7596 - acc: 0.7355 - val_loss: 0.8964 - val_acc: 0.6910\n",
            "Epoch 8/10\n",
            "40000/40000 [==============================] - 40s 1ms/step - loss: 0.7432 - acc: 0.7405 - val_loss: 0.8978 - val_acc: 0.6974\n",
            "Epoch 9/10\n",
            "40000/40000 [==============================] - 41s 1ms/step - loss: 0.7275 - acc: 0.7465 - val_loss: 0.9100 - val_acc: 0.6893\n",
            "Epoch 10/10\n",
            "40000/40000 [==============================] - 40s 1ms/step - loss: 0.7184 - acc: 0.7490 - val_loss: 0.9374 - val_acc: 0.6873\n"
          ],
          "name": "stdout"
        }
      ]
    },
    {
      "cell_type": "code",
      "metadata": {
        "id": "U7I8WwKqDcn8",
        "colab_type": "code",
        "colab": {
          "base_uri": "https://localhost:8080/",
          "height": 86
        },
        "outputId": "b3ae6b9b-dce7-40e5-dddf-137a233e144f"
      },
      "source": [
        "model_new = load_model('drive/My Drive/Colab Notebooks/model1_after_training_pruned_model.h5')\n",
        "\n",
        "score_train = model_new.evaluate(x_train,y_train) \n",
        "\n",
        "print('Accuracy on the Train Images: ', score_train[1])\n",
        "\n",
        "score_test = model_new.evaluate(x_test, y_test)\n",
        "\n",
        "print('Accuracy on the Test Images: ', score_test[1])\n",
        "\n"
      ],
      "execution_count": 20,
      "outputs": [
        {
          "output_type": "stream",
          "text": [
            "50000/50000 [==============================] - 21s 419us/step\n",
            "Accuracy on the Train Images:  0.73522\n",
            "10000/10000 [==============================] - 4s 437us/step\n",
            "Accuracy on the Test Images:  0.6834\n"
          ],
          "name": "stdout"
        }
      ]
    },
    {
      "cell_type": "code",
      "metadata": {
        "id": "VpN8DRweDg92",
        "colab_type": "code",
        "colab": {}
      },
      "source": [
        ""
      ],
      "execution_count": 0,
      "outputs": []
    }
  ]
}