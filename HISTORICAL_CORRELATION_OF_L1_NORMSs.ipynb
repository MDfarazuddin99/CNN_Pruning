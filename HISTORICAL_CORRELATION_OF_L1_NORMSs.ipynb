{
  "nbformat": 4,
  "nbformat_minor": 0,
  "metadata": {
    "colab": {
      "name": "HISTORICAL_CORRELATION_OF_L1_NORMSs.ipynb",
      "provenance": [],
      "collapsed_sections": [],
      "include_colab_link": true
    },
    "kernelspec": {
      "name": "python3",
      "display_name": "Python 3"
    },
    "accelerator": "GPU"
  },
  "cells": [
    {
      "cell_type": "markdown",
      "metadata": {
        "id": "view-in-github",
        "colab_type": "text"
      },
      "source": [
        "<a href=\"https://colab.research.google.com/github/MDfarazuddin99/CNN_Pruning/blob/master/HISTORICAL_CORRELATION_OF_L1_NORMSs.ipynb\" target=\"_parent\"><img src=\"https://colab.research.google.com/assets/colab-badge.svg\" alt=\"Open In Colab\"/></a>"
      ]
    },
    {
      "cell_type": "code",
      "metadata": {
        "id": "obetfYGYdj2K",
        "colab_type": "code",
        "outputId": "7dd52a03-ba69-4684-c356-6b94c953c3c8",
        "colab": {
          "base_uri": "https://localhost:8080/",
          "height": 84
        }
      },
      "source": [
        "import numpy as np\n",
        "import tensorflow as tf\n",
        "from keras.datasets import cifar10\n",
        "\n",
        "import matplotlib.pyplot as plt\n",
        "from keras.models import Sequential\n",
        "from keras.layers import Dense, Conv2D, MaxPooling2D, Dropout, Flatten, GlobalAveragePooling2D\n",
        "from keras.models import load_model"
      ],
      "execution_count": 0,
      "outputs": [
        {
          "output_type": "display_data",
          "data": {
            "text/html": [
              "<p style=\"color: red;\">\n",
              "The default version of TensorFlow in Colab will switch to TensorFlow 2.x on the 27th of March, 2020.<br>\n",
              "We recommend you <a href=\"https://www.tensorflow.org/guide/migrate\" target=\"_blank\">upgrade</a> now\n",
              "or ensure your notebook will continue to use TensorFlow 1.x via the <code>%tensorflow_version 1.x</code> magic:\n",
              "<a href=\"https://colab.research.google.com/notebooks/tensorflow_version.ipynb\" target=\"_blank\">more info</a>.</p>\n"
            ],
            "text/plain": [
              "<IPython.core.display.HTML object>"
            ]
          },
          "metadata": {
            "tags": []
          }
        },
        {
          "output_type": "stream",
          "text": [
            "Using TensorFlow backend.\n"
          ],
          "name": "stderr"
        }
      ]
    },
    {
      "cell_type": "code",
      "metadata": {
        "id": "wiQLgAxtpzjO",
        "colab_type": "code",
        "outputId": "51e18777-ed82-49d7-b765-7e775df98c54",
        "colab": {
          "base_uri": "https://localhost:8080/",
          "height": 131
        }
      },
      "source": [
        "\n",
        "from google.colab import drive\n",
        "drive.mount('/content/drive')"
      ],
      "execution_count": 0,
      "outputs": [
        {
          "output_type": "stream",
          "text": [
            "Go to this URL in a browser: https://accounts.google.com/o/oauth2/auth?client_id=947318989803-6bn6qk8qdgf4n4g3pfee6491hc0brc4i.apps.googleusercontent.com&redirect_uri=urn%3aietf%3awg%3aoauth%3a2.0%3aoob&response_type=code&scope=email%20https%3a%2f%2fwww.googleapis.com%2fauth%2fdocs.test%20https%3a%2f%2fwww.googleapis.com%2fauth%2fdrive%20https%3a%2f%2fwww.googleapis.com%2fauth%2fdrive.photos.readonly%20https%3a%2f%2fwww.googleapis.com%2fauth%2fpeopleapi.readonly\n",
            "\n",
            "Enter your authorization code:\n",
            "··········\n",
            "Mounted at /content/drive\n"
          ],
          "name": "stdout"
        }
      ]
    },
    {
      "cell_type": "code",
      "metadata": {
        "id": "pmUONhhxdreM",
        "colab_type": "code",
        "outputId": "dee42a2e-7ee5-4966-deff-12b2726c961e",
        "colab": {
          "base_uri": "https://localhost:8080/",
          "height": 54
        }
      },
      "source": [
        "(x_train,y_train),(x_test,y_test) = cifar10.load_data()\n",
        "\n",
        "def normalize(x_train,x_test):\n",
        "    mean = np.mean(x_train,axis=(0,1,2,3))\n",
        "    std = np.std(x_train, axis=(0, 1, 2, 3))\n",
        "    x_train = (x_train-mean)/(std+1e-7)\n",
        "    x_test = (x_test-mean)/(std+1e-7)\n",
        "    return x_train, x_test\n",
        "from keras.utils import np_utils\n",
        "x_train , x_test = normalize(x_train,x_test)\n",
        "\n",
        "y_train = np_utils.to_categorical(y_train,10)\n",
        "y_test = np_utils.to_categorical(y_test,10)"
      ],
      "execution_count": 0,
      "outputs": [
        {
          "output_type": "stream",
          "text": [
            "Downloading data from https://www.cs.toronto.edu/~kriz/cifar-10-python.tar.gz\n",
            "170500096/170498071 [==============================] - 6s 0us/step\n"
          ],
          "name": "stdout"
        }
      ]
    },
    {
      "cell_type": "code",
      "metadata": {
        "id": "10e7dA64dv4o",
        "colab_type": "code",
        "outputId": "0ba21baa-3717-438b-f6fb-d40ca8e21125",
        "colab": {
          "base_uri": "https://localhost:8080/",
          "height": 243
        }
      },
      "source": [
        "import tensorflow.compat.v1 as tf\n",
        "tf.disable_v2_behavior()\n",
        "\n",
        "\n",
        "\n",
        "model_1 = Sequential()\n",
        "\n",
        "model_1.add(Conv2D(32,(3,3),activation='relu',input_shape=x_train.shape[1:]))\n",
        "\n",
        "model_1.add(MaxPooling2D(pool_size=(2,2)))\n",
        "\n",
        "model_1.add(Conv2D(32,(3,3),activation='relu'))\n",
        "\n",
        "model_1.add(MaxPooling2D(pool_size=(2,2)))\n",
        "\n",
        "model_1.add(Conv2D(64,(3,3),activation='relu'))\n",
        "\n",
        "model_1.add(MaxPooling2D(pool_size=(2,2)))\n",
        "\n",
        "model_1.add(GlobalAveragePooling2D())\n",
        "model_1.add(Dense(10,activation='softmax'))"
      ],
      "execution_count": 0,
      "outputs": [
        {
          "output_type": "stream",
          "text": [
            "WARNING:tensorflow:From /tensorflow-1.15.0/python3.6/tensorflow_core/python/compat/v2_compat.py:68: disable_resource_variables (from tensorflow.python.ops.variable_scope) is deprecated and will be removed in a future version.\n",
            "Instructions for updating:\n",
            "non-resource variables are not supported in the long term\n",
            "WARNING:tensorflow:From /usr/local/lib/python3.6/dist-packages/keras/backend/tensorflow_backend.py:66: The name tf.get_default_graph is deprecated. Please use tf.compat.v1.get_default_graph instead.\n",
            "\n",
            "WARNING:tensorflow:From /usr/local/lib/python3.6/dist-packages/keras/backend/tensorflow_backend.py:541: The name tf.placeholder is deprecated. Please use tf.compat.v1.placeholder instead.\n",
            "\n",
            "WARNING:tensorflow:From /usr/local/lib/python3.6/dist-packages/keras/backend/tensorflow_backend.py:4432: The name tf.random_uniform is deprecated. Please use tf.random.uniform instead.\n",
            "\n",
            "WARNING:tensorflow:From /usr/local/lib/python3.6/dist-packages/keras/backend/tensorflow_backend.py:4267: The name tf.nn.max_pool is deprecated. Please use tf.nn.max_pool2d instead.\n",
            "\n"
          ],
          "name": "stdout"
        }
      ]
    },
    {
      "cell_type": "code",
      "metadata": {
        "id": "g2e7_qdGd6vK",
        "colab_type": "code",
        "outputId": "4db29144-b8e2-449a-d16b-91f89b79c7fb",
        "colab": {
          "base_uri": "https://localhost:8080/",
          "height": 466
        }
      },
      "source": [
        "my_model = model_1\n",
        "model_1.summary()"
      ],
      "execution_count": 0,
      "outputs": [
        {
          "output_type": "stream",
          "text": [
            "Model: \"sequential_1\"\n",
            "_________________________________________________________________\n",
            "Layer (type)                 Output Shape              Param #   \n",
            "=================================================================\n",
            "conv2d_1 (Conv2D)            (None, 30, 30, 32)        896       \n",
            "_________________________________________________________________\n",
            "max_pooling2d_1 (MaxPooling2 (None, 15, 15, 32)        0         \n",
            "_________________________________________________________________\n",
            "conv2d_2 (Conv2D)            (None, 13, 13, 32)        9248      \n",
            "_________________________________________________________________\n",
            "max_pooling2d_2 (MaxPooling2 (None, 6, 6, 32)          0         \n",
            "_________________________________________________________________\n",
            "conv2d_3 (Conv2D)            (None, 4, 4, 64)          18496     \n",
            "_________________________________________________________________\n",
            "max_pooling2d_3 (MaxPooling2 (None, 2, 2, 64)          0         \n",
            "_________________________________________________________________\n",
            "global_average_pooling2d_1 ( (None, 64)                0         \n",
            "_________________________________________________________________\n",
            "dense_1 (Dense)              (None, 10)                650       \n",
            "=================================================================\n",
            "Total params: 29,290\n",
            "Trainable params: 29,290\n",
            "Non-trainable params: 0\n",
            "_________________________________________________________________\n"
          ],
          "name": "stdout"
        }
      ]
    },
    {
      "cell_type": "code",
      "metadata": {
        "id": "xrD24ddXeAJM",
        "colab_type": "code",
        "outputId": "3eadcd53-a36d-4bce-90ca-24b78c49db76",
        "colab": {
          "base_uri": "https://localhost:8080/",
          "height": 542
        }
      },
      "source": [
        "my_model = load_model('drive/My Drive/Colab Notebooks/model1_before_pruning.h5')\n",
        "score_train = my_model.evaluate(x_train,y_train) \n",
        "\n",
        "print('Accuracy on the Train Images: ', score_train[1] * 100)\n",
        "\n",
        "score_test = my_model.evaluate(x_test, y_test)\n",
        "\n",
        "print('Accuracy on the Test Images: ', score_test[1] * 100)"
      ],
      "execution_count": 0,
      "outputs": [
        {
          "output_type": "stream",
          "text": [
            "WARNING:tensorflow:From /usr/local/lib/python3.6/dist-packages/keras/backend/tensorflow_backend.py:190: The name tf.get_default_session is deprecated. Please use tf.compat.v1.get_default_session instead.\n",
            "\n",
            "WARNING:tensorflow:From /usr/local/lib/python3.6/dist-packages/keras/backend/tensorflow_backend.py:197: The name tf.ConfigProto is deprecated. Please use tf.compat.v1.ConfigProto instead.\n",
            "\n",
            "WARNING:tensorflow:From /usr/local/lib/python3.6/dist-packages/keras/backend/tensorflow_backend.py:203: The name tf.Session is deprecated. Please use tf.compat.v1.Session instead.\n",
            "\n",
            "WARNING:tensorflow:From /usr/local/lib/python3.6/dist-packages/keras/backend/tensorflow_backend.py:207: The name tf.global_variables is deprecated. Please use tf.compat.v1.global_variables instead.\n",
            "\n",
            "WARNING:tensorflow:From /usr/local/lib/python3.6/dist-packages/keras/backend/tensorflow_backend.py:216: The name tf.is_variable_initialized is deprecated. Please use tf.compat.v1.is_variable_initialized instead.\n",
            "\n",
            "WARNING:tensorflow:From /usr/local/lib/python3.6/dist-packages/keras/backend/tensorflow_backend.py:223: The name tf.variables_initializer is deprecated. Please use tf.compat.v1.variables_initializer instead.\n",
            "\n",
            "WARNING:tensorflow:From /usr/local/lib/python3.6/dist-packages/keras/optimizers.py:793: The name tf.train.Optimizer is deprecated. Please use tf.compat.v1.train.Optimizer instead.\n",
            "\n",
            "WARNING:tensorflow:From /usr/local/lib/python3.6/dist-packages/keras/backend/tensorflow_backend.py:3576: The name tf.log is deprecated. Please use tf.math.log instead.\n",
            "\n",
            "WARNING:tensorflow:From /tensorflow-1.15.0/python3.6/tensorflow_core/python/ops/math_grad.py:1424: where (from tensorflow.python.ops.array_ops) is deprecated and will be removed in a future version.\n",
            "Instructions for updating:\n",
            "Use tf.where in 2.0, which has the same broadcast rule as np.where\n",
            "WARNING:tensorflow:From /usr/local/lib/python3.6/dist-packages/keras/backend/tensorflow_backend.py:1033: The name tf.assign_add is deprecated. Please use tf.compat.v1.assign_add instead.\n",
            "\n",
            "WARNING:tensorflow:From /usr/local/lib/python3.6/dist-packages/keras/backend/tensorflow_backend.py:1020: The name tf.assign is deprecated. Please use tf.compat.v1.assign instead.\n",
            "\n",
            "50000/50000 [==============================] - 10s 203us/step\n",
            "Accuracy on the Train Images:  89.974\n",
            "10000/10000 [==============================] - 1s 77us/step\n",
            "Accuracy on the Test Images:  67.93\n"
          ],
          "name": "stdout"
        }
      ]
    },
    {
      "cell_type": "code",
      "metadata": {
        "id": "Yh7J-pQbeXQt",
        "colab_type": "code",
        "outputId": "8225ac25-7347-4307-c0d8-deae4d19b6ea",
        "colab": {
          "base_uri": "https://localhost:8080/",
          "height": 54
        }
      },
      "source": [
        "def my_get_all_conv_layers(model , first_time):\n",
        "    all_conv_layers = list()\n",
        "    for i,each_layer in enumerate(model.layers):\n",
        "        if (each_layer.name[0:6] == 'conv2d'):\n",
        "            all_conv_layers.append(i)\n",
        "    return all_conv_layers if (first_time==True) else all_conv_layers[1:]\n",
        "\n",
        "\n",
        "def my_get_all_dense_layers(model):\n",
        "    all_dense_layers = list()\n",
        "    for i,each_layer in enumerate(model.layers):\n",
        "        if (each_layer.name[0:5] == 'dense'):\n",
        "            all_dense_layers.append(i)\n",
        "    return all_dense_layers\n",
        "\n",
        "\n",
        "all_dense_layers = my_get_all_dense_layers(my_model)\n",
        "\n",
        "all_conv_layers = my_get_all_conv_layers(my_model,True)\n",
        "\n",
        "print('All convolution layers = ',all_conv_layers,'\\nAll dense layers = ',all_dense_layers)\n"
      ],
      "execution_count": 0,
      "outputs": [
        {
          "output_type": "stream",
          "text": [
            "All convolution layers =  [0, 2, 4] \n",
            "All dense layers =  [7]\n"
          ],
          "name": "stdout"
        }
      ]
    },
    {
      "cell_type": "code",
      "metadata": {
        "id": "ChHAbCSjfniM",
        "colab_type": "code",
        "colab": {}
      },
      "source": [
        "\n",
        "layer_wise_weights_for_all_epochs = list()\n",
        "\n",
        "def my_get_weights_in_conv_layers(model,first_time):\n",
        " \n",
        "  weights = list()\n",
        "  all_conv_layers = my_get_all_conv_layers(model,first_time)\n",
        "  layer_wise_weights = list() \n",
        "  for i in all_conv_layers:\n",
        "        weights.append(model.layers[i].get_weights()[0])  \n",
        "  return weights\n",
        "\n",
        "\n"
      ],
      "execution_count": 0,
      "outputs": []
    },
    {
      "cell_type": "code",
      "metadata": {
        "id": "qjlKgVspijDc",
        "colab_type": "code",
        "outputId": "80f840e5-0476-48be-d673-660bcc062b0b",
        "colab": {
          "base_uri": "https://localhost:8080/",
          "height": 92
        }
      },
      "source": [
        "x = (my_get_weights_in_conv_layers(my_model,True))\n",
        "print('shapes of weight Tensors in convolutional layers are')\n",
        "for i in x:\n",
        "    print(i.shape)"
      ],
      "execution_count": 0,
      "outputs": [
        {
          "output_type": "stream",
          "text": [
            "shapes of weight Tensors in convolutional layers are\n",
            "(3, 3, 3, 32)\n",
            "(3, 3, 32, 32)\n",
            "(3, 3, 32, 64)\n"
          ],
          "name": "stdout"
        }
      ]
    },
    {
      "cell_type": "code",
      "metadata": {
        "id": "YQkN__-Jzwjx",
        "colab_type": "code",
        "outputId": "c33cdb74-c09d-400f-b71b-a5ce8fadb3c4",
        "colab": {
          "base_uri": "https://localhost:8080/",
          "height": 131
        }
      },
      "source": [
        "my_model.compile(loss='categorical_crossentropy',optimizer='adam',metrics=['accuracy'])\n",
        "my_model.fit(x_train, y_train, batch_size=32, epochs=2, verbose=1, validation_split=0.2, shuffle=True  )"
      ],
      "execution_count": 0,
      "outputs": [
        {
          "output_type": "stream",
          "text": [
            "Train on 40000 samples, validate on 10000 samples\n",
            "Epoch 1/2\n",
            "40000/40000 [==============================] - 10s 252us/step - loss: 0.1510 - acc: 0.9471 - val_loss: 2.6093 - val_acc: 0.6705\n",
            "Epoch 2/2\n",
            "40000/40000 [==============================] - 10s 241us/step - loss: 0.1391 - acc: 0.9504 - val_loss: 2.6004 - val_acc: 0.6809\n"
          ],
          "name": "stdout"
        }
      ]
    },
    {
      "cell_type": "code",
      "metadata": {
        "id": "yLHh-ivq2fRh",
        "colab_type": "code",
        "colab": {}
      },
      "source": [
        "from keras.callbacks import Callback\n",
        "\n",
        "class Get_Weights(Callback):\n",
        "    def __init__(self,first_time):\n",
        "        super(Get_Weights, self).__init__()\n",
        "        self.weight_list = [] #Using a list of list to store weight tensors per epoch\n",
        "        self.first_time = first_time\n",
        "    def on_epoch_end(self,epoch,logs=None):\n",
        "        if epoch == 0:\n",
        "            all_conv_layers = my_get_all_conv_layers(self.model,self.first_time)\n",
        "            for i in range(len(all_conv_layers)):\n",
        "                self.weight_list.append([]) # appending empty lists for later appending weight tensors \n",
        "        \n",
        "        for index,each_weight in enumerate(my_get_weights_in_conv_layers(self.model,self.first_time)):\n",
        "                self.weight_list[index].append(each_weight)  \n",
        "    \n",
        "\n"
      ],
      "execution_count": 0,
      "outputs": []
    },
    {
      "cell_type": "code",
      "metadata": {
        "id": "TZ7geWr7-bQC",
        "colab_type": "code",
        "outputId": "d34eb3ad-c638-4c88-f346-ea5e8e71ffb9",
        "colab": {
          "base_uri": "https://localhost:8080/",
          "height": 261
        }
      },
      "source": [
        "gw = Get_Weights(True)\n",
        "\n",
        "my_model.fit(x_train, y_train, batch_size=32, epochs=5, verbose=1, validation_split=0.2, shuffle=True , callbacks= [gw] )\n"
      ],
      "execution_count": 0,
      "outputs": [
        {
          "output_type": "stream",
          "text": [
            "Train on 40000 samples, validate on 10000 samples\n",
            "Epoch 1/5\n",
            "40000/40000 [==============================] - 10s 242us/step - loss: 0.1324 - acc: 0.9537 - val_loss: 2.7064 - val_acc: 0.6715\n",
            "Epoch 2/5\n",
            "40000/40000 [==============================] - 10s 244us/step - loss: 0.1285 - acc: 0.9546 - val_loss: 2.6750 - val_acc: 0.6778\n",
            "Epoch 3/5\n",
            "40000/40000 [==============================] - 10s 240us/step - loss: 0.1380 - acc: 0.9519 - val_loss: 2.7330 - val_acc: 0.6695\n",
            "Epoch 4/5\n",
            "40000/40000 [==============================] - 10s 239us/step - loss: 0.1320 - acc: 0.9527 - val_loss: 2.7245 - val_acc: 0.6718\n",
            "Epoch 5/5\n",
            "40000/40000 [==============================] - 10s 242us/step - loss: 0.1288 - acc: 0.9531 - val_loss: 2.7039 - val_acc: 0.6769\n"
          ],
          "name": "stdout"
        },
        {
          "output_type": "execute_result",
          "data": {
            "text/plain": [
              "<keras.callbacks.History at 0x7f257c586908>"
            ]
          },
          "metadata": {
            "tags": []
          },
          "execution_count": 31
        }
      ]
    },
    {
      "cell_type": "code",
      "metadata": {
        "id": "0Zao77VwkIUQ",
        "colab_type": "code",
        "outputId": "d4938ba3-81d9-401f-cbd1-1154eb19f103",
        "colab": {
          "base_uri": "https://localhost:8080/",
          "height": 73
        }
      },
      "source": [
        "for we in gw.weight_list:\n",
        "    print(np.array(we).shape)\n",
        "weight_list_per_epoch = gw.weight_list"
      ],
      "execution_count": 0,
      "outputs": [
        {
          "output_type": "stream",
          "text": [
            "(5, 3, 3, 3, 32)\n",
            "(5, 3, 3, 32, 32)\n",
            "(5, 3, 3, 32, 64)\n"
          ],
          "name": "stdout"
        }
      ]
    },
    {
      "cell_type": "code",
      "metadata": {
        "id": "VbKbQATaDATE",
        "colab_type": "code",
        "outputId": "e031d190-4aa0-488d-b688-bbce700f4475",
        "colab": {
          "base_uri": "https://localhost:8080/",
          "height": 1000
        }
      },
      "source": [
        "\n",
        "a = np.array(weight_list_per_epoch[0]).reshape(5,3*3*3,-1)\n",
        "b = np.array(weight_list_per_epoch[1]).reshape(5,3*3*32,-1)\n",
        "c = np.array(weight_list_per_epoch[2]).reshape(5,3*3*32,-1)\n",
        "print(\"shapes of a b c are \",a.shape,b.shape,c.shape)\n",
        "a,b,c = abs(a),abs(b),abs(c)\n",
        "\n",
        "x1 = np.sum(a,axis = 1)\n",
        "\n",
        "x1 = x1.T\n",
        "print(x1.shape)\n",
        "\n",
        "\n",
        "\n",
        "for i in range(x1.shape[0]):\n",
        "    plt.plot(np.arange(5),x1[i])\n",
        "    plt.legend()\n",
        "# plt.plot(np.arange(10),x1[1])\n",
        "# plt.plot(np.arange(10),x1[2])\n",
        "# plt.plot(np.arange(10),x1[3])\n",
        "\n",
        "\n",
        "import pandas as pd\n",
        "import seaborn as sns\n",
        "df = pd.DataFrame(x1.T)\n",
        "corrmat = df.corr(method='pearson')\n",
        "f, ax = plt.subplots(figsize=(10, 10))\n",
        "sns.heatmap(corrmat, ax=ax, cmap=\"YlGnBu\", linewidths=0.1)\n",
        "\n",
        "\n",
        "#  the above variable (weight_list_per_epoch) should be stord in some csv/h5 file."
      ],
      "execution_count": 0,
      "outputs": [
        {
          "output_type": "stream",
          "text": [
            "No handles with labels found to put in legend.\n",
            "No handles with labels found to put in legend.\n",
            "No handles with labels found to put in legend.\n",
            "No handles with labels found to put in legend.\n",
            "No handles with labels found to put in legend.\n",
            "No handles with labels found to put in legend.\n",
            "No handles with labels found to put in legend.\n",
            "No handles with labels found to put in legend.\n",
            "No handles with labels found to put in legend.\n",
            "No handles with labels found to put in legend.\n",
            "No handles with labels found to put in legend.\n",
            "No handles with labels found to put in legend.\n",
            "No handles with labels found to put in legend.\n",
            "No handles with labels found to put in legend.\n",
            "No handles with labels found to put in legend.\n",
            "No handles with labels found to put in legend.\n",
            "No handles with labels found to put in legend.\n",
            "No handles with labels found to put in legend.\n",
            "No handles with labels found to put in legend.\n",
            "No handles with labels found to put in legend.\n",
            "No handles with labels found to put in legend.\n",
            "No handles with labels found to put in legend.\n",
            "No handles with labels found to put in legend.\n",
            "No handles with labels found to put in legend.\n",
            "No handles with labels found to put in legend.\n",
            "No handles with labels found to put in legend.\n",
            "No handles with labels found to put in legend.\n",
            "No handles with labels found to put in legend.\n",
            "No handles with labels found to put in legend.\n",
            "No handles with labels found to put in legend.\n",
            "No handles with labels found to put in legend.\n",
            "No handles with labels found to put in legend.\n"
          ],
          "name": "stderr"
        },
        {
          "output_type": "stream",
          "text": [
            "shapes of a b c are  (5, 27, 32) (5, 288, 32) (5, 288, 64)\n",
            "(32, 5)\n"
          ],
          "name": "stdout"
        },
        {
          "output_type": "execute_result",
          "data": {
            "text/plain": [
              "<matplotlib.axes._subplots.AxesSubplot at 0x7f257b8325c0>"
            ]
          },
          "metadata": {
            "tags": []
          },
          "execution_count": 33
        },
        {
          "output_type": "display_data",
          "data": {
            "image/png": "[encoded data removed]",
            "text/plain": [
              "<Figure size 432x288 with 1 Axes>"
            ]
          },
          "metadata": {
            "tags": []
          }
        },
        {
          "output_type": "display_data",
          "data": {
            "image/png": "[encoded data removed]",
            "text/plain": [
              "<Figure size 720x720 with 2 Axes>"
            ]
          },
          "metadata": {
            "tags": []
          }
        }
      ]
    },
    {
      "cell_type": "code",
      "metadata": {
        "id": "xhaZDMx0iY0W",
        "colab_type": "code",
        "outputId": "559687d5-6a79-4170-e2f0-53c4ab077eb0",
        "colab": {
          "base_uri": "https://localhost:8080/",
          "height": 73
        }
      },
      "source": [
        "print(np.array(weight_list_per_epoch[0]).shape)\n",
        "print(np.array(weight_list_per_epoch[1]).shape)\n",
        "print(np.array(weight_list_per_epoch[2]).shape)\n",
        "\n",
        "def my_get_l1_norms_filters_per_epoch(weight_list_per_epoch):\n",
        "    l1_norms_filters_per_epoch = list()\n",
        "    \n",
        "\n",
        "    for index in range(len(weight_list_per_epoch)):\n",
        "\n",
        "        epochs = np.array(weight_list_per_epoch[index]).shape[0]\n",
        "        h , w , d = np.array(weight_list_per_epoch[index]).shape[1], np.array(weight_list_per_epoch[index]).shape[2] , np.array(weight_list_per_epoch[index]).shape[3]\n",
        "\n",
        "\n",
        "        l1_norms_filters_per_epoch.append(np.sum(np.array(weight_list_per_epoch[index]).reshape(epochs,h*w*d,-1),axis=1))\n",
        "    return l1_norms_filters_per_epoch"
      ],
      "execution_count": 0,
      "outputs": [
        {
          "output_type": "stream",
          "text": [
            "(5, 3, 3, 3, 32)\n",
            "(5, 3, 3, 32, 32)\n",
            "(5, 3, 3, 32, 64)\n"
          ],
          "name": "stdout"
        }
      ]
    },
    {
      "cell_type": "code",
      "metadata": {
        "id": "F31Tm2tal1pn",
        "colab_type": "code",
        "outputId": "e72ce1b3-cd1b-45c4-8b63-a5ad4d7c49e7",
        "colab": {
          "base_uri": "https://localhost:8080/",
          "height": 73
        }
      },
      "source": [
        "A = my_get_l1_norms_filters_per_epoch(weight_list_per_epoch)\n",
        "for i in A:\n",
        "    print(i.shape) "
      ],
      "execution_count": 0,
      "outputs": [
        {
          "output_type": "stream",
          "text": [
            "(5, 32)\n",
            "(5, 32)\n",
            "(5, 64)\n"
          ],
          "name": "stdout"
        }
      ]
    },
    {
      "cell_type": "code",
      "metadata": {
        "id": "Fx3QnfPe4Zft",
        "colab_type": "code",
        "colab": {}
      },
      "source": [
        "# print(corrmat)()\n",
        "layer_wise_correlations = list()\n",
        "layer_wise_correlations.append(corrmat)"
      ],
      "execution_count": 0,
      "outputs": []
    },
    {
      "cell_type": "code",
      "metadata": {
        "id": "8udb4hLf7hjv",
        "colab_type": "code",
        "colab": {}
      },
      "source": [
        "# def get_layer_wise_correlations(weight_list_per_epoch):\n",
        "#   layer_wise_correlations = list()"
      ],
      "execution_count": 0,
      "outputs": []
    },
    {
      "cell_type": "code",
      "metadata": {
        "id": "q04O1Aim4dtv",
        "colab_type": "code",
        "outputId": "1197be6c-9a9f-4568-b832-0cd11817c5f2",
        "colab": {
          "base_uri": "https://localhost:8080/",
          "height": 54
        }
      },
      "source": [
        "layer_wise_correlations = list()\n",
        "layer_wise_correlations.append(corrmat)\n",
        "\n",
        "x2 = np.sum(b,axis = 1)\n",
        "print(x2.shape)\n",
        "df = pd.DataFrame(x2)\n",
        "corrmat = df.corr(method='pearson')\n",
        "\n",
        "# nan_array = np.isnan(corrmat)\n",
        "\n",
        "# not_nan_array = ~ nan_array\n",
        "\n",
        "# corrmat = corrmat[not_nan_array]\n",
        "\n",
        "\n",
        "\n",
        "layer_wise_correlations.append(corrmat)\n",
        "\n",
        "x3 = np.sum(c,axis = 1)\n",
        "print(x3.shape)\n",
        "df = pd.DataFrame(x3)\n",
        "corrmat = df.corr(method='pearson')\n",
        "layer_wise_correlations.append(corrmat)\n",
        "# # print(corrmat)\n",
        "# # corrmat = np.array(corrmat)\n",
        "# # nan_array = np.isnan(corrmat)\n",
        "\n",
        "# # not_nan_array = ~ nan_array\n",
        "\n",
        "# # corrmat = corrmat[not_nan_array]\n",
        "# import math\n",
        "# # corrmat = [x for x in corrmat if  str(x) != 'NaN']\n",
        "# corrmat = np.array(corrmat)\n",
        "# # corrmat = [x for x in corrmat if ~np.isnan(x)]\n",
        "# corrmat = corrmat[~np.isnan(corrmat)]\n",
        "# print(corrmat.shape)\n",
        "# layer_wise_correlations.append(corrmat)\n",
        "\n",
        "# # print(df)"
      ],
      "execution_count": 0,
      "outputs": [
        {
          "output_type": "stream",
          "text": [
            "(5, 32)\n",
            "(5, 64)\n"
          ],
          "name": "stdout"
        }
      ]
    },
    {
      "cell_type": "code",
      "metadata": {
        "id": "nViZoO38KmKL",
        "colab_type": "code",
        "colab": {}
      },
      "source": [
        "\\\n",
        "# x2 = np.sum(a,axis = 1)\n",
        "# df = pd.DataFrame(x2.T)\n",
        "# corrmat__2 = df.corr(method='pearson')"
      ],
      "execution_count": 0,
      "outputs": []
    },
    {
      "cell_type": "code",
      "metadata": {
        "id": "t-_akM1eK144",
        "colab_type": "code",
        "outputId": "fcbae575-0ca2-429a-b2aa-830e1ea9c6c7",
        "colab": {
          "base_uri": "https://localhost:8080/",
          "height": 36
        }
      },
      "source": [
        "np.array(layer_wise_correlations).shape"
      ],
      "execution_count": 0,
      "outputs": [
        {
          "output_type": "execute_result",
          "data": {
            "text/plain": [
              "(3,)"
            ]
          },
          "metadata": {
            "tags": []
          },
          "execution_count": 40
        }
      ]
    },
    {
      "cell_type": "code",
      "metadata": {
        "id": "uEtzxMusJZoa",
        "colab_type": "code",
        "colab": {}
      },
      "source": [
        "# print(np.array(corrmat__2).shape)"
      ],
      "execution_count": 0,
      "outputs": []
    },
    {
      "cell_type": "code",
      "metadata": {
        "id": "napxuOFC6vg1",
        "colab_type": "code",
        "colab": {}
      },
      "source": [
        "# print(np.array(layer_wise_correlations).shape)"
      ],
      "execution_count": 0,
      "outputs": []
    },
    {
      "cell_type": "code",
      "metadata": {
        "id": "GD-88l7i8tzv",
        "colab_type": "code",
        "outputId": "1a23aedc-2ea8-4400-83c9-fab788edd9c2",
        "colab": {
          "base_uri": "https://localhost:8080/",
          "height": 36
        }
      },
      "source": [
        "print(np.array(corrmat).shape)"
      ],
      "execution_count": 0,
      "outputs": [
        {
          "output_type": "stream",
          "text": [
            "(64, 64)\n"
          ],
          "name": "stdout"
        }
      ]
    },
    {
      "cell_type": "code",
      "metadata": {
        "id": "Gauu3HSFINVq",
        "colab_type": "code",
        "outputId": "ae3d1bb0-77e9-43d8-d130-9f1d5a63ae9f",
        "colab": {
          "base_uri": "https://localhost:8080/",
          "height": 503
        }
      },
      "source": [
        "\n",
        "def get_nan_indexes(data_frame):\n",
        "    indexes = []\n",
        "    print(data_frame)\n",
        "    for column in data_frame:\n",
        "        index = data_frame[column].index[data_frame[column].apply(np.isnan)]\n",
        "        if len(index):\n",
        "            indexes.append(index[0])\n",
        "    df_index = data_frame.index.values.tolist()\n",
        "    return [df_index.index(i) for i in set(indexes)]\n",
        "\n",
        "df  = pd.DataFrame(corrmat)\n",
        "# x = get_nan_indexes(df)\n",
        "x = df.notna()\n",
        "print(x)\n",
        "df.idxmax()"
      ],
      "execution_count": 0,
      "outputs": [
        {
          "output_type": "stream",
          "text": [
            "      0     1     2     3     4     5   ...     58    59    60    61    62    63\n",
            "0   True  True  True  True  True  True  ...  False  True  True  True  True  True\n",
            "1   True  True  True  True  True  True  ...  False  True  True  True  True  True\n",
            "2   True  True  True  True  True  True  ...  False  True  True  True  True  True\n",
            "3   True  True  True  True  True  True  ...  False  True  True  True  True  True\n",
            "4   True  True  True  True  True  True  ...  False  True  True  True  True  True\n",
            "..   ...   ...   ...   ...   ...   ...  ...    ...   ...   ...   ...   ...   ...\n",
            "59  True  True  True  True  True  True  ...  False  True  True  True  True  True\n",
            "60  True  True  True  True  True  True  ...  False  True  True  True  True  True\n",
            "61  True  True  True  True  True  True  ...  False  True  True  True  True  True\n",
            "62  True  True  True  True  True  True  ...  False  True  True  True  True  True\n",
            "63  True  True  True  True  True  True  ...  False  True  True  True  True  True\n",
            "\n",
            "[64 rows x 64 columns]\n"
          ],
          "name": "stdout"
        },
        {
          "output_type": "execute_result",
          "data": {
            "text/plain": [
              "0      0.0\n",
              "1      1.0\n",
              "2      2.0\n",
              "3      3.0\n",
              "4      4.0\n",
              "      ... \n",
              "59    59.0\n",
              "60    60.0\n",
              "61    61.0\n",
              "62    62.0\n",
              "63    63.0\n",
              "Length: 64, dtype: float64"
            ]
          },
          "metadata": {
            "tags": []
          },
          "execution_count": 45
        }
      ]
    },
    {
      "cell_type": "code",
      "metadata": {
        "id": "q_I3vPy2mzOA",
        "colab_type": "code",
        "colab": {}
      },
      "source": [
        "\n",
        "# def get_pruning_indices(layer_wise_correlations , epoch_number):\n",
        "def get_pruning_indices(layer_wise_correlations , threshold):\n",
        "    layer_wise_pruning_indices = list()\n",
        "    for i in range(len(layer_wise_correlations)):\n",
        "      this_layer_pruning_indices = list()\n",
        "      corrmat = layer_wise_correlations[i]\n",
        "      corrmat = corrmat[(corrmat != 1.0) & (corrmat > threshold)] # threshold 0.9\n",
        "      # print(corrmat)\n",
        "      df = pd.DataFrame(corrmat)\n",
        "      correlation_pairs =  np.where(np.asanyarray(~np.isnan(df)))\n",
        "\n",
        "      # to remove any of then randomly \n",
        "      layer_wise_pruning_indices.append(list(dict.fromkeys(correlation_pairs[0])))\n",
        "\n",
        "      # to remove based on the highest L1 norm\n",
        "    #   for j in range(len(correlation_pairs[0])):\n",
        "    #     # check this\n",
        "    #     if A[i][epoch_number][correlation_pairs[0][j]] > A[i][epoch_number][correlation_pairs[1][j]]:\n",
        "    #       this_layer_pruning_indices.append(correlation_pairs[0][j])\n",
        "    #     else:\n",
        "    #       this_layer_pruning_indices.append(correlation_pairs[1][j])\n",
        "    #   layer_wise_pruning_indices.append(this_layer_pruning_indices)\n",
        "    return layer_wise_pruning_indices\n",
        "# print(layer_wise_correlations)\n"
      ],
      "execution_count": 0,
      "outputs": []
    },
    {
      "cell_type": "code",
      "metadata": {
        "id": "3__4biTYv34Y",
        "colab_type": "code",
        "colab": {}
      },
      "source": [
        "x = get_pruning_indices(layer_wise_correlations , 0.9)\n",
        "\n",
        "for i in range(3):\n",
        "  print(x[i])\n",
        "  print(np.array(x[i]).shape)"
      ],
      "execution_count": 0,
      "outputs": []
    },
    {
      "cell_type": "code",
      "metadata": {
        "id": "CKGm5Cqv03vO",
        "colab_type": "code",
        "colab": {}
      },
      "source": [
        "x = get_pruning_indices(layer_wise_correlations, 0.95)\n",
        "\n",
        "\n",
        "for i in range(3):\n",
        "  print(x[i])\n",
        "  print(np.array(x[i]).shape)"
      ],
      "execution_count": 0,
      "outputs": []
    },
    {
      "cell_type": "code",
      "metadata": {
        "id": "093uAAY708dX",
        "colab_type": "code",
        "colab": {}
      },
      "source": [
        "x = get_pruning_indices(layer_wise_correlations, 0.96)\n",
        "\n",
        "for i in range(3):\n",
        "  print(x[i])\n",
        "  print(np.array(x[i]).shape)"
      ],
      "execution_count": 0,
      "outputs": []
    },
    {
      "cell_type": "code",
      "metadata": {
        "id": "n1tH902n1XGW",
        "colab_type": "code",
        "colab": {}
      },
      "source": [
        "\n",
        "x = get_pruning_indices(layer_wise_correlations, 0.98)\n",
        "\n",
        "for i in range(3):\n",
        "  print(x[i])\n",
        "  print(np.array(x[i]).shape)"
      ],
      "execution_count": 0,
      "outputs": []
    },
    {
      "cell_type": "code",
      "metadata": {
        "id": "tBVGOPNc6sph",
        "colab_type": "code",
        "colab": {}
      },
      "source": [
        "!pip install kerassurgeon\n",
        "from kerassurgeon import identify \n",
        "from kerassurgeon.operations import delete_channels,delete_layer\n",
        "from kerassurgeon import Surgeon"
      ],
      "execution_count": 0,
      "outputs": []
    },
    {
      "cell_type": "code",
      "metadata": {
        "id": "4zsHWDDj3hEJ",
        "colab_type": "code",
        "colab": {}
      },
      "source": [
        "def my_delete_filters(model):\n",
        "    conv_layer_indices = my_get_all_conv_layers(model)\n",
        "    pruning_indices_of_all_layers = get_pruning_indices(layer_wise_correlations , 0.96)\n",
        "    surgeon = Surgeon(model)\n",
        "    for index , value in enumerate(conv_layer_indices):\n",
        "      print(value , index , pruning_indices_of_all_layers [index] )\n",
        "      surgeon.add_job('delete_channels' , model.layers[value] , channels = pruning_indices_of_all_layers[index] )\n",
        "    \n",
        "    model_new = surgeon.operate()\n",
        "    return model_new"
      ],
      "execution_count": 0,
      "outputs": []
    },
    {
      "cell_type": "code",
      "metadata": {
        "id": "OxYDiccy8OYO",
        "colab_type": "code",
        "colab": {}
      },
      "source": [
        "m = my_delete_filters(my_model)"
      ],
      "execution_count": 0,
      "outputs": []
    },
    {
      "cell_type": "code",
      "metadata": {
        "id": "86bSv-wj88SX",
        "colab_type": "code",
        "colab": {}
      },
      "source": [
        "m.summary()"
      ],
      "execution_count": 0,
      "outputs": []
    },
    {
      "cell_type": "code",
      "metadata": {
        "id": "BenKJtbh9XR1",
        "colab_type": "code",
        "colab": {}
      },
      "source": [
        "model_new = m\n",
        "model_new.compile(loss='categorical_crossentropy',optimizer='adam',metrics=['accuracy'])\n",
        "\n",
        "score_train = model_new.evaluate(x_train,y_train) \n",
        "\n",
        "print('Accuracy on the Train Images: ', score_train[1])\n",
        "\n",
        "score_test = model_new.evaluate(x_test, y_test)\n",
        "\n",
        "print('Accuracy on the Test Images: ', score_test[1])\n"
      ],
      "execution_count": 0,
      "outputs": []
    },
    {
      "cell_type": "code",
      "metadata": {
        "id": "_EZ9Rwmv9ihM",
        "colab_type": "code",
        "colab": {}
      },
      "source": [
        "model_new.fit(x_train, y_train, batch_size=32, epochs=20, verbose=1, validation_split=0.2, shuffle=True)\n"
      ],
      "execution_count": 0,
      "outputs": []
    },
    {
      "cell_type": "code",
      "metadata": {
        "id": "Ey5I1mq9-K80",
        "colab_type": "code",
        "colab": {}
      },
      "source": [
        "\n",
        "score_train = model_new.evaluate(x_train,y_train) \n",
        "\n",
        "print('Accuracy on the Train Images: ', score_train[1])\n",
        "\n",
        "score_test = model_new.evaluate(x_test, y_test)\n",
        "\n",
        "print('Accuracy on the Test Images: ', score_test[1])\n"
      ],
      "execution_count": 0,
      "outputs": []
    },
    {
      "cell_type": "code",
      "metadata": {
        "id": "-5UIus53-PZ4",
        "colab_type": "code",
        "colab": {}
      },
      "source": [
        "model  = model_new \n",
        "\n",
        "\n",
        "validation_accuracy = model.evaluate(x_test,y_test)[1]\n",
        "print(validation_accuracy)\n",
        "max_val_acc = validation_accuracy\n",
        "\n",
        "while abs(max_val_acc - validation_accuracy)<= 0.05 :\n",
        "  \n",
        "    if max_val_acc < validation_accuracy:\n",
        "        max_val_acc = validation_accuracy\n",
        "\n",
        "\n",
        "    conv_layer_indices = my_get_all_conv_layers(model)\n",
        "    pruning_indices_of_all_layers = get_pruning_indices(layer_wise_correlations , 0.96)\n",
        "    surgeon = Surgeon(model)\n",
        "    for index , value in enumerate(conv_layer_indices):\n",
        "      print(value , index , pruning_indices_of_all_layers [index] )\n",
        "      surgeon.add_job('delete_channels' , model.layers[value] , channels = pruning_indices_of_all_layers[index] )\n",
        "    \n",
        "    model_new = surgeon.operate()\n",
        "\n",
        "\n",
        "    model.compile(loss='categorical_crossentropy',optimizer='adam',metrics=['accuracy'])\n",
        "    model.fit(x_train, y_train, batch_size=32, epochs=10, verbose=1, validation_split=0.2, shuffle=True)\n",
        "    validation_accuracy = model.evaluate(x_test,y_test)[1]\n",
        "    print(\"--->\",validation_accuracy)"
      ],
      "execution_count": 0,
      "outputs": []
    },
    {
      "cell_type": "code",
      "metadata": {
        "id": "vuokbkHmAUIY",
        "colab_type": "code",
        "colab": {}
      },
      "source": [
        ""
      ],
      "execution_count": 0,
      "outputs": []
    }
  ]
}