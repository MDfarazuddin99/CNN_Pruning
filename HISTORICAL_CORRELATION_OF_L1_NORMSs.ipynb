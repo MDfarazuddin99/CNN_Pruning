{
  "nbformat": 4,
  "nbformat_minor": 0,
  "metadata": {
    "colab": {
      "name": "HISTORICAL_CORRELATION_OF_L1_NORMSs.ipynb",
      "provenance": [],
      "collapsed_sections": [],
      "include_colab_link": true
    },
    "kernelspec": {
      "name": "python3",
      "display_name": "Python 3"
    },
    "accelerator": "GPU"
  },
  "cells": [
    {
      "cell_type": "markdown",
      "metadata": {
        "id": "view-in-github",
        "colab_type": "text"
      },
      "source": [
        "<a href=\"https://colab.research.google.com/github/MDfarazuddin99/CNN_Pruning/blob/master/HISTORICAL_CORRELATION_OF_L1_NORMSs.ipynb\" target=\"_parent\"><img src=\"https://colab.research.google.com/assets/colab-badge.svg\" alt=\"Open In Colab\"/></a>"
      ]
    },
    {
      "cell_type": "code",
      "metadata": {
        "id": "obetfYGYdj2K",
        "colab_type": "code",
        "colab": {}
      },
      "source": [
        "import numpy as np\n",
        "import tensorflow as tf\n",
        "from keras.datasets import cifar10\n",
        "\n",
        "import matplotlib.pyplot as plt\n",
        "from keras.models import Sequential\n",
        "from keras.layers import Dense, Conv2D, MaxPooling2D, Dropout, Flatten, GlobalAveragePooling2D\n",
        "from keras.models import load_model"
      ],
      "execution_count": 0,
      "outputs": []
    },
    {
      "cell_type": "code",
      "metadata": {
        "id": "wiQLgAxtpzjO",
        "colab_type": "code",
        "outputId": "b910a278-a5b2-485e-e7ac-f755f8aaa7e6",
        "colab": {
          "base_uri": "https://localhost:8080/",
          "height": 35
        }
      },
      "source": [
        "\n",
        "from google.colab import drive\n",
        "drive.mount('/content/drive')"
      ],
      "execution_count": 72,
      "outputs": [
        {
          "output_type": "stream",
          "text": [
            "Drive already mounted at /content/drive; to attempt to forcibly remount, call drive.mount(\"/content/drive\", force_remount=True).\n"
          ],
          "name": "stdout"
        }
      ]
    },
    {
      "cell_type": "code",
      "metadata": {
        "id": "m979BsIjocF7",
        "colab_type": "code",
        "colab": {
          "base_uri": "https://localhost:8080/",
          "height": 35
        },
        "outputId": "c8c7c881-a783-41c7-a461-9d6cb96c5f58"
      },
      "source": [
        "from google.colab import drive\n",
        "drive.mount('/content/drive')"
      ],
      "execution_count": 73,
      "outputs": [
        {
          "output_type": "stream",
          "text": [
            "Drive already mounted at /content/drive; to attempt to forcibly remount, call drive.mount(\"/content/drive\", force_remount=True).\n"
          ],
          "name": "stdout"
        }
      ]
    },
    {
      "cell_type": "code",
      "metadata": {
        "id": "pmUONhhxdreM",
        "colab_type": "code",
        "colab": {}
      },
      "source": [
        "(x_train,y_train),(x_test,y_test) = cifar10.load_data()\n",
        "\n",
        "def normalize(x_train,x_test):\n",
        "    mean = np.mean(x_train,axis=(0,1,2,3))\n",
        "    std = np.std(x_train, axis=(0, 1, 2, 3))\n",
        "    x_train = (x_train-mean)/(std+1e-7)\n",
        "    x_test = (x_test-mean)/(std+1e-7)\n",
        "    return x_train, x_test\n",
        "from keras.utils import np_utils\n",
        "x_train , x_test = normalize(x_train,x_test)\n",
        "\n",
        "y_train = np_utils.to_categorical(y_train,10)\n",
        "y_test = np_utils.to_categorical(y_test,10)"
      ],
      "execution_count": 0,
      "outputs": []
    },
    {
      "cell_type": "code",
      "metadata": {
        "id": "10e7dA64dv4o",
        "colab_type": "code",
        "colab": {}
      },
      "source": [
        "import tensorflow.compat.v1 as tf\n",
        "tf.disable_v2_behavior()\n",
        "\n",
        "\n",
        "\n",
        "model_1 = Sequential()\n",
        "\n",
        "model_1.add(Conv2D(32,(3,3),activation='relu',input_shape=x_train.shape[1:]))\n",
        "\n",
        "model_1.add(MaxPooling2D(pool_size=(2,2)))\n",
        "\n",
        "model_1.add(Conv2D(32,(3,3),activation='relu'))\n",
        "\n",
        "model_1.add(MaxPooling2D(pool_size=(2,2)))\n",
        "\n",
        "model_1.add(Conv2D(64,(3,3),activation='relu'))\n",
        "\n",
        "model_1.add(MaxPooling2D(pool_size=(2,2)))\n",
        "\n",
        "model_1.add(GlobalAveragePooling2D())\n",
        "model_1.add(Dense(10,activation='softmax'))"
      ],
      "execution_count": 0,
      "outputs": []
    },
    {
      "cell_type": "code",
      "metadata": {
        "id": "g2e7_qdGd6vK",
        "colab_type": "code",
        "colab": {
          "base_uri": "https://localhost:8080/",
          "height": 454
        },
        "outputId": "b4485cb2-c754-4590-e963-3806b28176f5"
      },
      "source": [
        "my_model = model_1\n",
        "model_1.summary()"
      ],
      "execution_count": 76,
      "outputs": [
        {
          "output_type": "stream",
          "text": [
            "Model: \"sequential_4\"\n",
            "_________________________________________________________________\n",
            "Layer (type)                 Output Shape              Param #   \n",
            "=================================================================\n",
            "conv2d_10 (Conv2D)           (None, 30, 30, 32)        896       \n",
            "_________________________________________________________________\n",
            "max_pooling2d_10 (MaxPooling (None, 15, 15, 32)        0         \n",
            "_________________________________________________________________\n",
            "conv2d_11 (Conv2D)           (None, 13, 13, 32)        9248      \n",
            "_________________________________________________________________\n",
            "max_pooling2d_11 (MaxPooling (None, 6, 6, 32)          0         \n",
            "_________________________________________________________________\n",
            "conv2d_12 (Conv2D)           (None, 4, 4, 64)          18496     \n",
            "_________________________________________________________________\n",
            "max_pooling2d_12 (MaxPooling (None, 2, 2, 64)          0         \n",
            "_________________________________________________________________\n",
            "global_average_pooling2d_4 ( (None, 64)                0         \n",
            "_________________________________________________________________\n",
            "dense_4 (Dense)              (None, 10)                650       \n",
            "=================================================================\n",
            "Total params: 29,290\n",
            "Trainable params: 29,290\n",
            "Non-trainable params: 0\n",
            "_________________________________________________________________\n"
          ],
          "name": "stdout"
        }
      ]
    },
    {
      "cell_type": "code",
      "metadata": {
        "id": "xrD24ddXeAJM",
        "colab_type": "code",
        "colab": {
          "base_uri": "https://localhost:8080/",
          "height": 90
        },
        "outputId": "79620b84-bfbe-4719-9f49-d91f18829e9f"
      },
      "source": [
        "my_model = load_model('drive/My Drive/Colab Notebooks/model1_before_pruning.h5')\n",
        "score_train = my_model.evaluate(x_train,y_train) \n",
        "\n",
        "print('Accuracy on the Train Images: ', score_train[1] * 100)\n",
        "\n",
        "score_test = my_model.evaluate(x_test, y_test)\n",
        "\n",
        "print('Accuracy on the Test Images: ', score_test[1] * 100)"
      ],
      "execution_count": 77,
      "outputs": [
        {
          "output_type": "stream",
          "text": [
            "50000/50000 [==============================] - 3s 67us/step\n",
            "Accuracy on the Train Images:  88.32600000000001\n",
            "10000/10000 [==============================] - 1s 64us/step\n",
            "Accuracy on the Test Images:  67.56\n"
          ],
          "name": "stdout"
        }
      ]
    },
    {
      "cell_type": "code",
      "metadata": {
        "id": "Yh7J-pQbeXQt",
        "colab_type": "code",
        "colab": {
          "base_uri": "https://localhost:8080/",
          "height": 53
        },
        "outputId": "d511d326-ac0e-443f-d092-c614b64cb242"
      },
      "source": [
        "def my_get_all_conv_layers(model):\n",
        "    all_conv_layers = list()\n",
        "    for i,each_layer in enumerate(model.layers):\n",
        "        if (each_layer.name[0:6] == 'conv2d'):\n",
        "            all_conv_layers.append(i)\n",
        "    return all_conv_layers\n",
        "\n",
        "def my_get_all_dense_layers(model):\n",
        "    all_dense_layers = list()\n",
        "    for i,each_layer in enumerate(model.layers):\n",
        "        if (each_layer.name[0:5] == 'dense'):\n",
        "            all_dense_layers.append(i)\n",
        "    return all_dense_layers\n",
        "\n",
        "\n",
        "all_dense_layers = my_get_all_dense_layers(my_model)\n",
        "\n",
        "all_conv_layers = my_get_all_conv_layers(my_model)\n",
        "\n",
        "print('All convolution layers = ',all_conv_layers,'\\nAll dense layers = ',all_dense_layers)\n"
      ],
      "execution_count": 78,
      "outputs": [
        {
          "output_type": "stream",
          "text": [
            "All convolution layers =  [0, 2, 4] \n",
            "All dense layers =  [7]\n"
          ],
          "name": "stdout"
        }
      ]
    },
    {
      "cell_type": "code",
      "metadata": {
        "id": "ChHAbCSjfniM",
        "colab_type": "code",
        "colab": {}
      },
      "source": [
        "## incomplete  (didn't understood how to access weights )\n",
        "layer_wise_weights_for_all_epochs = list()\n",
        "\n",
        "def my_get_weights_in_conv_layers(model):\n",
        "  # weights_dict = dict()\n",
        "  weights = list()\n",
        "  all_conv_layers = my_get_all_conv_layers(model)\n",
        "  layer_wise_weights = list() \n",
        "  for i in all_conv_layers:\n",
        "        weights.append(model.layers[i].get_weights()[0])  \n",
        "  return weights\n",
        "\n",
        "\n"
      ],
      "execution_count": 0,
      "outputs": []
    },
    {
      "cell_type": "code",
      "metadata": {
        "id": "qjlKgVspijDc",
        "colab_type": "code",
        "colab": {
          "base_uri": "https://localhost:8080/",
          "height": 90
        },
        "outputId": "007b516f-4907-421b-fc16-b57401beb97b"
      },
      "source": [
        "x = (my_get_weights_in_conv_layers(my_model))\n",
        "print('shapes of weight Tensors in convolutional layers are')\n",
        "for i in x:\n",
        "    print(i.shape)"
      ],
      "execution_count": 80,
      "outputs": [
        {
          "output_type": "stream",
          "text": [
            "shapes of weight Tensors in convolutional layers are\n",
            "(3, 3, 3, 32)\n",
            "(3, 3, 32, 32)\n",
            "(3, 3, 32, 64)\n"
          ],
          "name": "stdout"
        }
      ]
    },
    {
      "cell_type": "code",
      "metadata": {
        "id": "YQkN__-Jzwjx",
        "colab_type": "code",
        "colab": {
          "base_uri": "https://localhost:8080/",
          "height": 108
        },
        "outputId": "ce23bb76-3e2d-42ba-fa8b-5d3c1fe649da"
      },
      "source": [
        "my_model.compile(loss='categorical_crossentropy',optimizer='adam',metrics=['accuracy'])\n",
        "my_model.fit(x_train, y_train, batch_size=32, epochs=2, verbose=1, validation_split=0.2, shuffle=True  )\n",
        "my_model.save('drive/My Drive/Colab Notebooks/model1_before_pruning.h5')"
      ],
      "execution_count": 81,
      "outputs": [
        {
          "output_type": "stream",
          "text": [
            "Train on 40000 samples, validate on 10000 samples\n",
            "Epoch 1/2\n",
            "40000/40000 [==============================] - 8s 193us/step - loss: 0.1653 - acc: 0.9400 - val_loss: 2.3790 - val_acc: 0.6793\n",
            "Epoch 2/2\n",
            "40000/40000 [==============================] - 7s 178us/step - loss: 0.1549 - acc: 0.9439 - val_loss: 2.3663 - val_acc: 0.6817\n"
          ],
          "name": "stdout"
        }
      ]
    },
    {
      "cell_type": "code",
      "metadata": {
        "id": "yLHh-ivq2fRh",
        "colab_type": "code",
        "colab": {}
      },
      "source": [
        "from keras.callbacks import Callback\n",
        "class Get_Weights(Callback):\n",
        "    def __init__(self):\n",
        "        super(Get_Weights, self).__init__()\n",
        "        self.weight_list = [] #Using a list of list to store weight tensors per epoch\n",
        "\n",
        "    def on_epoch_end(self,epoch,logs=None):\n",
        "        if epoch ==0:\n",
        "            all_conv_layers = my_get_all_conv_layers(self.model)\n",
        "            for i in range(len(all_conv_layers)):\n",
        "                self.weight_list.append([]) # appending empty lists for later appending weight tensors \n",
        "        \n",
        "        for index,each_weight in enumerate(my_get_weights_in_conv_layers(self.model)):\n",
        "                self.weight_list[index].append(each_weight)  \n",
        "    \n",
        "\n"
      ],
      "execution_count": 0,
      "outputs": []
    },
    {
      "cell_type": "code",
      "metadata": {
        "id": "oKm39eOXCL53",
        "colab_type": "code",
        "colab": {
          "base_uri": "https://localhost:8080/",
          "height": 454
        },
        "outputId": "3880734c-7325-45b2-cb96-3d57328f5517"
      },
      "source": [
        " my_model.summary()"
      ],
      "execution_count": 83,
      "outputs": [
        {
          "output_type": "stream",
          "text": [
            "Model: \"sequential_1\"\n",
            "_________________________________________________________________\n",
            "Layer (type)                 Output Shape              Param #   \n",
            "=================================================================\n",
            "conv2d_1 (Conv2D)            (None, 30, 30, 32)        896       \n",
            "_________________________________________________________________\n",
            "max_pooling2d_1 (MaxPooling2 (None, 15, 15, 32)        0         \n",
            "_________________________________________________________________\n",
            "conv2d_2 (Conv2D)            (None, 13, 13, 32)        9248      \n",
            "_________________________________________________________________\n",
            "max_pooling2d_2 (MaxPooling2 (None, 6, 6, 32)          0         \n",
            "_________________________________________________________________\n",
            "conv2d_3 (Conv2D)            (None, 4, 4, 64)          18496     \n",
            "_________________________________________________________________\n",
            "max_pooling2d_3 (MaxPooling2 (None, 2, 2, 64)          0         \n",
            "_________________________________________________________________\n",
            "global_average_pooling2d_1 ( (None, 64)                0         \n",
            "_________________________________________________________________\n",
            "dense_1 (Dense)              (None, 10)                650       \n",
            "=================================================================\n",
            "Total params: 29,290\n",
            "Trainable params: 29,290\n",
            "Non-trainable params: 0\n",
            "_________________________________________________________________\n"
          ],
          "name": "stdout"
        }
      ]
    },
    {
      "cell_type": "code",
      "metadata": {
        "id": "TZ7geWr7-bQC",
        "colab_type": "code",
        "colab": {
          "base_uri": "https://localhost:8080/",
          "height": 417
        },
        "outputId": "5b782fe8-5a4a-4e0f-f9b0-ebe19afa94c0"
      },
      "source": [
        "gw = Get_Weights()\n",
        "\n",
        "my_model.fit(x_train, y_train, batch_size=32, epochs=10, verbose=1, validation_split=0.2, shuffle=True , callbacks= [gw] )\n"
      ],
      "execution_count": 84,
      "outputs": [
        {
          "output_type": "stream",
          "text": [
            "Train on 40000 samples, validate on 10000 samples\n",
            "Epoch 1/10\n",
            "40000/40000 [==============================] - 7s 176us/step - loss: 0.1567 - acc: 0.9424 - val_loss: 2.4662 - val_acc: 0.6774\n",
            "Epoch 2/10\n",
            "40000/40000 [==============================] - 7s 173us/step - loss: 0.1549 - acc: 0.9443 - val_loss: 2.4676 - val_acc: 0.6771\n",
            "Epoch 3/10\n",
            "40000/40000 [==============================] - 7s 179us/step - loss: 0.1535 - acc: 0.9443 - val_loss: 2.4927 - val_acc: 0.6757\n",
            "Epoch 4/10\n",
            "40000/40000 [==============================] - 7s 181us/step - loss: 0.1432 - acc: 0.9479 - val_loss: 2.4891 - val_acc: 0.6776\n",
            "Epoch 5/10\n",
            "40000/40000 [==============================] - 7s 175us/step - loss: 0.1556 - acc: 0.9432 - val_loss: 2.4350 - val_acc: 0.6765\n",
            "Epoch 6/10\n",
            "40000/40000 [==============================] - 7s 177us/step - loss: 0.1487 - acc: 0.9466 - val_loss: 2.4500 - val_acc: 0.6772\n",
            "Epoch 7/10\n",
            "40000/40000 [==============================] - 7s 176us/step - loss: 0.1494 - acc: 0.9468 - val_loss: 2.5111 - val_acc: 0.6784\n",
            "Epoch 8/10\n",
            "40000/40000 [==============================] - 7s 182us/step - loss: 0.1431 - acc: 0.9488 - val_loss: 2.5217 - val_acc: 0.6751\n",
            "Epoch 9/10\n",
            "40000/40000 [==============================] - 7s 180us/step - loss: 0.1507 - acc: 0.9441 - val_loss: 2.5822 - val_acc: 0.6786\n",
            "Epoch 10/10\n",
            "40000/40000 [==============================] - 7s 178us/step - loss: 0.1467 - acc: 0.9472 - val_loss: 2.5849 - val_acc: 0.6773\n"
          ],
          "name": "stdout"
        },
        {
          "output_type": "execute_result",
          "data": {
            "text/plain": [
              "<keras.callbacks.History at 0x7f9e56ac4e10>"
            ]
          },
          "metadata": {
            "tags": []
          },
          "execution_count": 84
        }
      ]
    },
    {
      "cell_type": "code",
      "metadata": {
        "id": "VbKbQATaDATE",
        "colab_type": "code",
        "colab": {
          "base_uri": "https://localhost:8080/",
          "height": 356
        },
        "outputId": "c9af2ebb-dbfb-4f48-c958-6c90799b3d98"
      },
      "source": [
        "for we in gw.weight_list:\n",
        "    print(np.array(we).shape)\n",
        "weight_list_per_epoch = gw.weight_list\n",
        "a = np.array(weight_list_per_epoch[0]).reshape(10,3*3*3,-1)\n",
        "b = np.array(weight_list_per_epoch[1]).reshape(10,3*3*32,-1)\n",
        "c = np.array(weight_list_per_epoch[2]).reshape(10,3*3*32,-1)\n",
        "print(\"shapes of a b c are \",a.shape,b.shape,c.shape)\n",
        "# print(a[0])\n",
        "x1 = np.sum(b,axis = 1)\n",
        "\n",
        "x1 = x1.T\n",
        "print(x1.shape)\n",
        "\n",
        "\n",
        "for i in range(x1.shape[0]):\n",
        "    plt.plot(np.arange(10),x1[i])\n",
        "# plt.plot(np.arange(10),x1[1])\n",
        "# plt.plot(np.arange(10),x1[2])\n",
        "# plt.plot(np.arange(10),x1[3])\n",
        "\n",
        "#  the above variable (weight_list_per_epoch) should be stord in some csv/h5 file."
      ],
      "execution_count": 103,
      "outputs": [
        {
          "output_type": "stream",
          "text": [
            "(10, 3, 3, 3, 32)\n",
            "(10, 3, 3, 32, 32)\n",
            "(10, 3, 3, 32, 64)\n",
            "shapes of a b c are  (10, 27, 32) (10, 288, 32) (10, 288, 64)\n",
            "(32, 10)\n"
          ],
          "name": "stdout"
        },
        {
          "output_type": "display_data",
          "data": {
            "image/png": "[encoded data removed]",
            "text/plain": [
              "<Figure size 432x288 with 1 Axes>"
            ]
          },
          "metadata": {
            "tags": []
          }
        }
      ]
    },
    {
      "cell_type": "code",
      "metadata": {
        "id": "-UAotW9JFHr0",
        "colab_type": "code",
        "colab": {}
      },
      "source": [
        "def my_in_conv_layer_get_l1_norms_per_epoch(weight_list_per_epoch):\n",
        "    l1_norm_list_per_epoch = list()\n",
        "    for i in range(len(weight_list_per_epoch)):\n",
        "        l1_norm_list_per_epoch.append([]) \n",
        "    for layer_index in range(len(weight_list_per_epoch)):\n",
        "        l1_norm_\n",
        "        \n"
      ],
      "execution_count": 0,
      "outputs": []
    },
    {
      "cell_type": "code",
      "metadata": {
        "id": "fBLd4J0T0LwE",
        "colab_type": "code",
        "colab": {}
      },
      "source": [
        "### correlation\n",
        "from scipy.stats import pearsonr\n",
        "corr, _ = pearsonr(list1, list2)"
      ],
      "execution_count": 0,
      "outputs": []
    }
  ]
}