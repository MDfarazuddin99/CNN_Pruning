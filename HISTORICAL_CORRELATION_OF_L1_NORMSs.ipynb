{
  "nbformat": 4,
  "nbformat_minor": 0,
  "metadata": {
    "colab": {
      "name": "HISTORICAL_CORRELATION_OF_L1_NORMSs.ipynb",
      "provenance": [],
      "collapsed_sections": [],
      "include_colab_link": true
    },
    "kernelspec": {
      "name": "python3",
      "display_name": "Python 3"
    },
    "accelerator": "GPU"
  },
  "cells": [
    {
      "cell_type": "markdown",
      "metadata": {
        "id": "view-in-github",
        "colab_type": "text"
      },
      "source": [
        "<a href=\"https://colab.research.google.com/github/MDfarazuddin99/CNN_Pruning/blob/master/HISTORICAL_CORRELATION_OF_L1_NORMSs.ipynb\" target=\"_parent\"><img src=\"https://colab.research.google.com/assets/colab-badge.svg\" alt=\"Open In Colab\"/></a>"
      ]
    },
    {
      "cell_type": "code",
      "metadata": {
        "id": "obetfYGYdj2K",
        "colab_type": "code",
        "colab": {
          "base_uri": "https://localhost:8080/",
          "height": 83
        },
        "outputId": "1e220044-66d2-4677-feb0-971289a460ac"
      },
      "source": [
        "import numpy as np\n",
        "import tensorflow as tf\n",
        "from keras.datasets import cifar10\n",
        "\n",
        "import matplotlib.pyplot as plt\n",
        "from keras.models import Sequential\n",
        "from keras.layers import Dense, Conv2D, MaxPooling2D, Dropout, Flatten, GlobalAveragePooling2D\n",
        "from keras.models import load_model"
      ],
      "execution_count": 1,
      "outputs": [
        {
          "output_type": "display_data",
          "data": {
            "text/html": [
              "<p style=\"color: red;\">\n",
              "The default version of TensorFlow in Colab will soon switch to TensorFlow 2.x.<br>\n",
              "We recommend you <a href=\"https://www.tensorflow.org/guide/migrate\" target=\"_blank\">upgrade</a> now \n",
              "or ensure your notebook will continue to use TensorFlow 1.x via the <code>%tensorflow_version 1.x</code> magic:\n",
              "<a href=\"https://colab.research.google.com/notebooks/tensorflow_version.ipynb\" target=\"_blank\">more info</a>.</p>\n"
            ],
            "text/plain": [
              "<IPython.core.display.HTML object>"
            ]
          },
          "metadata": {
            "tags": []
          }
        },
        {
          "output_type": "stream",
          "text": [
            "Using TensorFlow backend.\n"
          ],
          "name": "stderr"
        }
      ]
    },
    {
      "cell_type": "code",
      "metadata": {
        "id": "wiQLgAxtpzjO",
        "colab_type": "code",
        "outputId": "e571b176-0101-4237-a583-619d17b1df13",
        "colab": {
          "base_uri": "https://localhost:8080/",
          "height": 128
        }
      },
      "source": [
        "\n",
        "from google.colab import drive\n",
        "drive.mount('/content/drive')"
      ],
      "execution_count": 2,
      "outputs": [
        {
          "output_type": "stream",
          "text": [
            "Go to this URL in a browser: https://accounts.google.com/o/oauth2/auth?client_id=947318989803-6bn6qk8qdgf4n4g3pfee6491hc0brc4i.apps.googleusercontent.com&redirect_uri=urn%3aietf%3awg%3aoauth%3a2.0%3aoob&response_type=code&scope=email%20https%3a%2f%2fwww.googleapis.com%2fauth%2fdocs.test%20https%3a%2f%2fwww.googleapis.com%2fauth%2fdrive%20https%3a%2f%2fwww.googleapis.com%2fauth%2fdrive.photos.readonly%20https%3a%2f%2fwww.googleapis.com%2fauth%2fpeopleapi.readonly\n",
            "\n",
            "Enter your authorization code:\n",
            "··········\n",
            "Mounted at /content/drive\n"
          ],
          "name": "stdout"
        }
      ]
    },
    {
      "cell_type": "code",
      "metadata": {
        "id": "pmUONhhxdreM",
        "colab_type": "code",
        "colab": {
          "base_uri": "https://localhost:8080/",
          "height": 53
        },
        "outputId": "5c445801-04ac-4d1d-b805-1c80f7a9b9b0"
      },
      "source": [
        "(x_train,y_train),(x_test,y_test) = cifar10.load_data()\n",
        "\n",
        "def normalize(x_train,x_test):\n",
        "    mean = np.mean(x_train,axis=(0,1,2,3))\n",
        "    std = np.std(x_train, axis=(0, 1, 2, 3))\n",
        "    x_train = (x_train-mean)/(std+1e-7)\n",
        "    x_test = (x_test-mean)/(std+1e-7)\n",
        "    return x_train, x_test\n",
        "from keras.utils import np_utils\n",
        "x_train , x_test = normalize(x_train,x_test)\n",
        "\n",
        "y_train = np_utils.to_categorical(y_train,10)\n",
        "y_test = np_utils.to_categorical(y_test,10)"
      ],
      "execution_count": 3,
      "outputs": [
        {
          "output_type": "stream",
          "text": [
            "Downloading data from https://www.cs.toronto.edu/~kriz/cifar-10-python.tar.gz\n",
            "170500096/170498071 [==============================] - 4s 0us/step\n"
          ],
          "name": "stdout"
        }
      ]
    },
    {
      "cell_type": "code",
      "metadata": {
        "id": "10e7dA64dv4o",
        "colab_type": "code",
        "colab": {
          "base_uri": "https://localhost:8080/",
          "height": 237
        },
        "outputId": "1f9e9550-e030-4c81-87d7-661a471f8b1d"
      },
      "source": [
        "import tensorflow.compat.v1 as tf\n",
        "tf.disable_v2_behavior()\n",
        "\n",
        "\n",
        "\n",
        "model_1 = Sequential()\n",
        "\n",
        "model_1.add(Conv2D(32,(3,3),activation='relu',input_shape=x_train.shape[1:]))\n",
        "\n",
        "model_1.add(MaxPooling2D(pool_size=(2,2)))\n",
        "\n",
        "model_1.add(Conv2D(32,(3,3),activation='relu'))\n",
        "\n",
        "model_1.add(MaxPooling2D(pool_size=(2,2)))\n",
        "\n",
        "model_1.add(Conv2D(64,(3,3),activation='relu'))\n",
        "\n",
        "model_1.add(MaxPooling2D(pool_size=(2,2)))\n",
        "\n",
        "model_1.add(GlobalAveragePooling2D())\n",
        "model_1.add(Dense(10,activation='softmax'))"
      ],
      "execution_count": 4,
      "outputs": [
        {
          "output_type": "stream",
          "text": [
            "WARNING:tensorflow:From /tensorflow-1.15.0/python3.6/tensorflow_core/python/compat/v2_compat.py:68: disable_resource_variables (from tensorflow.python.ops.variable_scope) is deprecated and will be removed in a future version.\n",
            "Instructions for updating:\n",
            "non-resource variables are not supported in the long term\n",
            "WARNING:tensorflow:From /usr/local/lib/python3.6/dist-packages/keras/backend/tensorflow_backend.py:66: The name tf.get_default_graph is deprecated. Please use tf.compat.v1.get_default_graph instead.\n",
            "\n",
            "WARNING:tensorflow:From /usr/local/lib/python3.6/dist-packages/keras/backend/tensorflow_backend.py:541: The name tf.placeholder is deprecated. Please use tf.compat.v1.placeholder instead.\n",
            "\n",
            "WARNING:tensorflow:From /usr/local/lib/python3.6/dist-packages/keras/backend/tensorflow_backend.py:4432: The name tf.random_uniform is deprecated. Please use tf.random.uniform instead.\n",
            "\n",
            "WARNING:tensorflow:From /usr/local/lib/python3.6/dist-packages/keras/backend/tensorflow_backend.py:4267: The name tf.nn.max_pool is deprecated. Please use tf.nn.max_pool2d instead.\n",
            "\n"
          ],
          "name": "stdout"
        }
      ]
    },
    {
      "cell_type": "code",
      "metadata": {
        "id": "g2e7_qdGd6vK",
        "colab_type": "code",
        "outputId": "c942e272-fa41-4ff4-9831-0aa69e688fe4",
        "colab": {
          "base_uri": "https://localhost:8080/",
          "height": 454
        }
      },
      "source": [
        "my_model = model_1\n",
        "model_1.summary()"
      ],
      "execution_count": 5,
      "outputs": [
        {
          "output_type": "stream",
          "text": [
            "Model: \"sequential_1\"\n",
            "_________________________________________________________________\n",
            "Layer (type)                 Output Shape              Param #   \n",
            "=================================================================\n",
            "conv2d_1 (Conv2D)            (None, 30, 30, 32)        896       \n",
            "_________________________________________________________________\n",
            "max_pooling2d_1 (MaxPooling2 (None, 15, 15, 32)        0         \n",
            "_________________________________________________________________\n",
            "conv2d_2 (Conv2D)            (None, 13, 13, 32)        9248      \n",
            "_________________________________________________________________\n",
            "max_pooling2d_2 (MaxPooling2 (None, 6, 6, 32)          0         \n",
            "_________________________________________________________________\n",
            "conv2d_3 (Conv2D)            (None, 4, 4, 64)          18496     \n",
            "_________________________________________________________________\n",
            "max_pooling2d_3 (MaxPooling2 (None, 2, 2, 64)          0         \n",
            "_________________________________________________________________\n",
            "global_average_pooling2d_1 ( (None, 64)                0         \n",
            "_________________________________________________________________\n",
            "dense_1 (Dense)              (None, 10)                650       \n",
            "=================================================================\n",
            "Total params: 29,290\n",
            "Trainable params: 29,290\n",
            "Non-trainable params: 0\n",
            "_________________________________________________________________\n"
          ],
          "name": "stdout"
        }
      ]
    },
    {
      "cell_type": "code",
      "metadata": {
        "id": "xrD24ddXeAJM",
        "colab_type": "code",
        "outputId": "b9b1c5a1-dbec-464b-c798-d5d00c849a49",
        "colab": {
          "base_uri": "https://localhost:8080/",
          "height": 528
        }
      },
      "source": [
        "my_model = load_model('drive/My Drive/Colab Notebooks/model1_before_pruning.h5')\n",
        "score_train = my_model.evaluate(x_train,y_train) \n",
        "\n",
        "print('Accuracy on the Train Images: ', score_train[1] * 100)\n",
        "\n",
        "score_test = my_model.evaluate(x_test, y_test)\n",
        "\n",
        "print('Accuracy on the Test Images: ', score_test[1] * 100)"
      ],
      "execution_count": 6,
      "outputs": [
        {
          "output_type": "stream",
          "text": [
            "WARNING:tensorflow:From /usr/local/lib/python3.6/dist-packages/keras/backend/tensorflow_backend.py:190: The name tf.get_default_session is deprecated. Please use tf.compat.v1.get_default_session instead.\n",
            "\n",
            "WARNING:tensorflow:From /usr/local/lib/python3.6/dist-packages/keras/backend/tensorflow_backend.py:197: The name tf.ConfigProto is deprecated. Please use tf.compat.v1.ConfigProto instead.\n",
            "\n",
            "WARNING:tensorflow:From /usr/local/lib/python3.6/dist-packages/keras/backend/tensorflow_backend.py:203: The name tf.Session is deprecated. Please use tf.compat.v1.Session instead.\n",
            "\n",
            "WARNING:tensorflow:From /usr/local/lib/python3.6/dist-packages/keras/backend/tensorflow_backend.py:207: The name tf.global_variables is deprecated. Please use tf.compat.v1.global_variables instead.\n",
            "\n",
            "WARNING:tensorflow:From /usr/local/lib/python3.6/dist-packages/keras/backend/tensorflow_backend.py:216: The name tf.is_variable_initialized is deprecated. Please use tf.compat.v1.is_variable_initialized instead.\n",
            "\n",
            "WARNING:tensorflow:From /usr/local/lib/python3.6/dist-packages/keras/backend/tensorflow_backend.py:223: The name tf.variables_initializer is deprecated. Please use tf.compat.v1.variables_initializer instead.\n",
            "\n",
            "WARNING:tensorflow:From /usr/local/lib/python3.6/dist-packages/keras/optimizers.py:793: The name tf.train.Optimizer is deprecated. Please use tf.compat.v1.train.Optimizer instead.\n",
            "\n",
            "WARNING:tensorflow:From /usr/local/lib/python3.6/dist-packages/keras/backend/tensorflow_backend.py:3576: The name tf.log is deprecated. Please use tf.math.log instead.\n",
            "\n",
            "WARNING:tensorflow:From /tensorflow-1.15.0/python3.6/tensorflow_core/python/ops/math_grad.py:1424: where (from tensorflow.python.ops.array_ops) is deprecated and will be removed in a future version.\n",
            "Instructions for updating:\n",
            "Use tf.where in 2.0, which has the same broadcast rule as np.where\n",
            "WARNING:tensorflow:From /usr/local/lib/python3.6/dist-packages/keras/backend/tensorflow_backend.py:1033: The name tf.assign_add is deprecated. Please use tf.compat.v1.assign_add instead.\n",
            "\n",
            "WARNING:tensorflow:From /usr/local/lib/python3.6/dist-packages/keras/backend/tensorflow_backend.py:1020: The name tf.assign is deprecated. Please use tf.compat.v1.assign instead.\n",
            "\n",
            "50000/50000 [==============================] - 9s 186us/step\n",
            "Accuracy on the Train Images:  89.89200000000001\n",
            "10000/10000 [==============================] - 1s 60us/step\n",
            "Accuracy on the Test Images:  68.08\n"
          ],
          "name": "stdout"
        }
      ]
    },
    {
      "cell_type": "code",
      "metadata": {
        "id": "Yh7J-pQbeXQt",
        "colab_type": "code",
        "outputId": "6275179b-a092-4fff-b837-677b2a2c930f",
        "colab": {
          "base_uri": "https://localhost:8080/",
          "height": 53
        }
      },
      "source": [
        "def my_get_all_conv_layers(model):\n",
        "    all_conv_layers = list()\n",
        "    for i,each_layer in enumerate(model.layers):\n",
        "        if (each_layer.name[0:6] == 'conv2d'):\n",
        "            all_conv_layers.append(i)\n",
        "    return all_conv_layers\n",
        "\n",
        "def my_get_all_dense_layers(model):\n",
        "    all_dense_layers = list()\n",
        "    for i,each_layer in enumerate(model.layers):\n",
        "        if (each_layer.name[0:5] == 'dense'):\n",
        "            all_dense_layers.append(i)\n",
        "    return all_dense_layers\n",
        "\n",
        "\n",
        "all_dense_layers = my_get_all_dense_layers(my_model)\n",
        "\n",
        "all_conv_layers = my_get_all_conv_layers(my_model)\n",
        "\n",
        "print('All convolution layers = ',all_conv_layers,'\\nAll dense layers = ',all_dense_layers)\n"
      ],
      "execution_count": 7,
      "outputs": [
        {
          "output_type": "stream",
          "text": [
            "All convolution layers =  [0, 2, 4] \n",
            "All dense layers =  [7]\n"
          ],
          "name": "stdout"
        }
      ]
    },
    {
      "cell_type": "code",
      "metadata": {
        "id": "ChHAbCSjfniM",
        "colab_type": "code",
        "colab": {}
      },
      "source": [
        "## incomplete  (didn't understood how to access weights )\n",
        "layer_wise_weights_for_all_epochs = list()\n",
        "\n",
        "def my_get_weights_in_conv_layers(model):\n",
        "  # weights_dict = dict()\n",
        "  weights = list()\n",
        "  all_conv_layers = my_get_all_conv_layers(model)\n",
        "  layer_wise_weights = list() \n",
        "  for i in all_conv_layers:\n",
        "        weights.append(model.layers[i].get_weights()[0])  \n",
        "  return weights\n",
        "\n",
        "\n"
      ],
      "execution_count": 0,
      "outputs": []
    },
    {
      "cell_type": "code",
      "metadata": {
        "id": "qjlKgVspijDc",
        "colab_type": "code",
        "outputId": "82ac696a-0d40-4673-cbce-71f3a7dc096b",
        "colab": {
          "base_uri": "https://localhost:8080/",
          "height": 90
        }
      },
      "source": [
        "x = (my_get_weights_in_conv_layers(my_model))\n",
        "print('shapes of weight Tensors in convolutional layers are')\n",
        "for i in x:\n",
        "    print(i.shape)"
      ],
      "execution_count": 9,
      "outputs": [
        {
          "output_type": "stream",
          "text": [
            "shapes of weight Tensors in convolutional layers are\n",
            "(3, 3, 3, 32)\n",
            "(3, 3, 32, 32)\n",
            "(3, 3, 32, 64)\n"
          ],
          "name": "stdout"
        }
      ]
    },
    {
      "cell_type": "code",
      "metadata": {
        "id": "YQkN__-Jzwjx",
        "colab_type": "code",
        "outputId": "92f24ec1-7792-4244-f573-2a147d73c373",
        "colab": {
          "base_uri": "https://localhost:8080/",
          "height": 108
        }
      },
      "source": [
        "my_model.compile(loss='categorical_crossentropy',optimizer='adam',metrics=['accuracy'])\n",
        "my_model.fit(x_train, y_train, batch_size=32, epochs=2, verbose=1, validation_split=0.2, shuffle=True  )\n",
        "my_model.save('drive/My Drive/Colab Notebooks/model1_before_pruning.h5')"
      ],
      "execution_count": 10,
      "outputs": [
        {
          "output_type": "stream",
          "text": [
            "Train on 40000 samples, validate on 10000 samples\n",
            "Epoch 1/2\n",
            "40000/40000 [==============================] - 8s 193us/step - loss: 0.1585 - acc: 0.9418 - val_loss: 2.4059 - val_acc: 0.6803\n",
            "Epoch 2/2\n",
            "40000/40000 [==============================] - 7s 184us/step - loss: 0.1474 - acc: 0.9459 - val_loss: 2.4019 - val_acc: 0.6782\n"
          ],
          "name": "stdout"
        }
      ]
    },
    {
      "cell_type": "code",
      "metadata": {
        "id": "yLHh-ivq2fRh",
        "colab_type": "code",
        "colab": {}
      },
      "source": [
        "from keras.callbacks import Callback\n",
        "class Get_Weights(Callback):\n",
        "    def __init__(self):\n",
        "        super(Get_Weights, self).__init__()\n",
        "        self.weight_list = [] #Using a list of list to store weight tensors per epoch\n",
        "\n",
        "    def on_epoch_end(self,epoch,logs=None):\n",
        "        if epoch ==0:\n",
        "            all_conv_layers = my_get_all_conv_layers(self.model)\n",
        "            for i in range(len(all_conv_layers)):\n",
        "                self.weight_list.append([]) # appending empty lists for later appending weight tensors \n",
        "        \n",
        "        for index,each_weight in enumerate(my_get_weights_in_conv_layers(self.model)):\n",
        "                self.weight_list[index].append(each_weight)  \n",
        "    \n",
        "\n"
      ],
      "execution_count": 0,
      "outputs": []
    },
    {
      "cell_type": "code",
      "metadata": {
        "id": "oKm39eOXCL53",
        "colab_type": "code",
        "outputId": "48ab7af9-7df0-4e0e-bf10-974513215170",
        "colab": {
          "base_uri": "https://localhost:8080/",
          "height": 454
        }
      },
      "source": [
        " my_model.summary()"
      ],
      "execution_count": 12,
      "outputs": [
        {
          "output_type": "stream",
          "text": [
            "Model: \"sequential_1\"\n",
            "_________________________________________________________________\n",
            "Layer (type)                 Output Shape              Param #   \n",
            "=================================================================\n",
            "conv2d_1 (Conv2D)            (None, 30, 30, 32)        896       \n",
            "_________________________________________________________________\n",
            "max_pooling2d_1 (MaxPooling2 (None, 15, 15, 32)        0         \n",
            "_________________________________________________________________\n",
            "conv2d_2 (Conv2D)            (None, 13, 13, 32)        9248      \n",
            "_________________________________________________________________\n",
            "max_pooling2d_2 (MaxPooling2 (None, 6, 6, 32)          0         \n",
            "_________________________________________________________________\n",
            "conv2d_3 (Conv2D)            (None, 4, 4, 64)          18496     \n",
            "_________________________________________________________________\n",
            "max_pooling2d_3 (MaxPooling2 (None, 2, 2, 64)          0         \n",
            "_________________________________________________________________\n",
            "global_average_pooling2d_1 ( (None, 64)                0         \n",
            "_________________________________________________________________\n",
            "dense_1 (Dense)              (None, 10)                650       \n",
            "=================================================================\n",
            "Total params: 29,290\n",
            "Trainable params: 29,290\n",
            "Non-trainable params: 0\n",
            "_________________________________________________________________\n"
          ],
          "name": "stdout"
        }
      ]
    },
    {
      "cell_type": "code",
      "metadata": {
        "id": "TZ7geWr7-bQC",
        "colab_type": "code",
        "outputId": "a1965ab5-aa1a-4eb6-8cd5-3186c5b92f0e",
        "colab": {
          "base_uri": "https://localhost:8080/",
          "height": 417
        }
      },
      "source": [
        "gw = Get_Weights()\n",
        "\n",
        "my_model.fit(x_train, y_train, batch_size=32, epochs=10, verbose=1, validation_split=0.2, shuffle=True , callbacks= [gw] )\n"
      ],
      "execution_count": 13,
      "outputs": [
        {
          "output_type": "stream",
          "text": [
            "Train on 40000 samples, validate on 10000 samples\n",
            "Epoch 1/10\n",
            "40000/40000 [==============================] - 7s 181us/step - loss: 0.1536 - acc: 0.9436 - val_loss: 2.4167 - val_acc: 0.6751\n",
            "Epoch 2/10\n",
            "40000/40000 [==============================] - 7s 178us/step - loss: 0.1451 - acc: 0.9478 - val_loss: 2.5035 - val_acc: 0.6782\n",
            "Epoch 3/10\n",
            "40000/40000 [==============================] - 7s 177us/step - loss: 0.1473 - acc: 0.9461 - val_loss: 2.5230 - val_acc: 0.6731\n",
            "Epoch 4/10\n",
            "40000/40000 [==============================] - 7s 180us/step - loss: 0.1472 - acc: 0.9462 - val_loss: 2.4876 - val_acc: 0.6734\n",
            "Epoch 5/10\n",
            "40000/40000 [==============================] - 7s 177us/step - loss: 0.1445 - acc: 0.9471 - val_loss: 2.5214 - val_acc: 0.6756\n",
            "Epoch 6/10\n",
            "40000/40000 [==============================] - 7s 177us/step - loss: 0.1459 - acc: 0.9471 - val_loss: 2.5106 - val_acc: 0.6729\n",
            "Epoch 7/10\n",
            "40000/40000 [==============================] - 7s 178us/step - loss: 0.1411 - acc: 0.9494 - val_loss: 2.5140 - val_acc: 0.6746\n",
            "Epoch 8/10\n",
            "40000/40000 [==============================] - 7s 182us/step - loss: 0.1489 - acc: 0.9461 - val_loss: 2.4936 - val_acc: 0.6815\n",
            "Epoch 9/10\n",
            "40000/40000 [==============================] - 7s 183us/step - loss: 0.1412 - acc: 0.9490 - val_loss: 2.5392 - val_acc: 0.6774\n",
            "Epoch 10/10\n",
            "40000/40000 [==============================] - 7s 177us/step - loss: 0.1546 - acc: 0.9444 - val_loss: 2.5095 - val_acc: 0.6813\n"
          ],
          "name": "stdout"
        },
        {
          "output_type": "execute_result",
          "data": {
            "text/plain": [
              "<keras.callbacks.History at 0x7ff68017d4e0>"
            ]
          },
          "metadata": {
            "tags": []
          },
          "execution_count": 13
        }
      ]
    },
    {
      "cell_type": "code",
      "metadata": {
        "id": "VbKbQATaDATE",
        "colab_type": "code",
        "outputId": "1ec65b2d-e77f-4570-e525-bf6c085227e0",
        "colab": {
          "base_uri": "https://localhost:8080/",
          "height": 1000
        }
      },
      "source": [
        "for we in gw.weight_list:\n",
        "    print(np.array(we).shape)\n",
        "weight_list_per_epoch = gw.weight_list\n",
        "a = np.array(weight_list_per_epoch[0]).reshape(10,3*3*3,-1)\n",
        "b = np.array(weight_list_per_epoch[1]).reshape(10,3*3*32,-1)\n",
        "c = np.array(weight_list_per_epoch[2]).reshape(10,3*3*32,-1)\n",
        "print(\"shapes of a b c are \",a.shape,b.shape,c.shape)\n",
        "print(a)\n",
        "a,b,c = abs(a),abs(b),abs(c)\n",
        "\n",
        "x1 = np.sum(a,axis = 1)\n",
        "\n",
        "x1 = x1.T\n",
        "print(x1.shape)\n",
        "\n",
        "\n",
        "for i in range(x1.shape[0]):\n",
        "    plt.plot(np.arange(10),x1[i])\n",
        "# plt.plot(np.arange(10),x1[1])\n",
        "# plt.plot(np.arange(10),x1[2])\n",
        "# plt.plot(np.arange(10),x1[3])\n",
        "\n",
        "\n",
        "import pandas as pd\n",
        "import seaborn as sns\n",
        "df = pd.DataFrame(x1.T)\n",
        "corrmat = df.corr(method='pearson')\n",
        "f, ax = plt.subplots(figsize=(10, 10))\n",
        "sns.heatmap(corrmat, ax=ax, cmap=\"YlGnBu\", linewidths=0.1)\n",
        "\n",
        "\n",
        "#  the above variable (weight_list_per_epoch) should be stord in some csv/h5 file."
      ],
      "execution_count": 27,
      "outputs": [
        {
          "output_type": "stream",
          "text": [
            "(10, 3, 3, 3, 32)\n",
            "(10, 3, 3, 32, 32)\n",
            "(10, 3, 3, 32, 64)\n",
            "shapes of a b c are  (10, 27, 32) (10, 288, 32) (10, 288, 64)\n",
            "[[[-0.04422896  0.06132822  0.5131574  ... -0.11682028  0.26288274\n",
            "    0.04723144]\n",
            "  [-0.12537502 -0.08944707  0.60456115 ... -0.04775839 -0.7625108\n",
            "   -0.14611146]\n",
            "  [ 0.0845119  -0.5554079   0.45430088 ... -0.41074577  0.16286643\n",
            "   -0.17016992]\n",
            "  ...\n",
            "  [ 0.07133882 -0.60534734  0.3629166  ... -0.38846394  0.28315878\n",
            "    0.42572778]\n",
            "  [ 0.04710077 -0.04198433  0.01433843 ... -0.28749785  0.046971\n",
            "    0.32557902]\n",
            "  [ 0.0593443  -0.06513171  0.09430214 ... -0.1715089  -0.1834734\n",
            "    0.4396435 ]]\n",
            "\n",
            " [[-0.03823582  0.06432307  0.51017964 ... -0.11175265  0.25692442\n",
            "    0.04690075]\n",
            "  [-0.12423275 -0.08087721  0.6140256  ... -0.04273536 -0.7640651\n",
            "   -0.14932479]\n",
            "  [ 0.08529148 -0.53860384  0.46103722 ... -0.40856457  0.1653943\n",
            "   -0.17417493]\n",
            "  ...\n",
            "  [ 0.08600762 -0.6118344   0.36220726 ... -0.39238214  0.28271806\n",
            "    0.4331397 ]\n",
            "  [ 0.04757226 -0.04451305  0.01026332 ... -0.2825979   0.05838139\n",
            "    0.33337048]\n",
            "  [ 0.05780452 -0.06650387  0.0881268  ... -0.15689331 -0.17469196\n",
            "    0.44188797]]\n",
            "\n",
            " [[-0.04218059  0.07219123  0.5119436  ... -0.10287248  0.27026927\n",
            "    0.04807317]\n",
            "  [-0.12805748 -0.07770588  0.61482704 ... -0.04069158 -0.7612577\n",
            "   -0.15104184]\n",
            "  [ 0.08330472 -0.53130007  0.4682156  ... -0.4073225   0.16407757\n",
            "   -0.16510367]\n",
            "  ...\n",
            "  [ 0.08637639 -0.61527324  0.3608426  ... -0.38913134  0.27952868\n",
            "    0.4233589 ]\n",
            "  [ 0.05632804 -0.04825959  0.00916515 ... -0.28457803  0.04919193\n",
            "    0.32573968]\n",
            "  [ 0.06639164 -0.05724385  0.09067927 ... -0.15829444 -0.18468463\n",
            "    0.4389518 ]]\n",
            "\n",
            " ...\n",
            "\n",
            " [[-0.02673202  0.04778794  0.525353   ... -0.10437257  0.27225396\n",
            "    0.05140993]\n",
            "  [-0.13053116 -0.08997728  0.6232921  ... -0.03779289 -0.7725892\n",
            "   -0.1501759 ]\n",
            "  [ 0.08762332 -0.55160326  0.47397417 ... -0.40905857  0.16380677\n",
            "   -0.16020001]\n",
            "  ...\n",
            "  [ 0.0792341  -0.61914265  0.3640555  ... -0.39992052  0.27785924\n",
            "    0.43377423]\n",
            "  [ 0.04499489 -0.05293722  0.00646157 ... -0.2886894   0.02878993\n",
            "    0.3145486 ]\n",
            "  [ 0.05970115 -0.05406594  0.07780668 ... -0.16587442 -0.19869015\n",
            "    0.44547763]]\n",
            "\n",
            " [[-0.03700587  0.0611051   0.5206774  ... -0.10628579  0.28173628\n",
            "    0.04802116]\n",
            "  [-0.12816367 -0.09045077  0.6270075  ... -0.02729972 -0.77206546\n",
            "   -0.14721833]\n",
            "  [ 0.08871943 -0.5563644   0.4877119  ... -0.40201744  0.17115442\n",
            "   -0.15958846]\n",
            "  ...\n",
            "  [ 0.07734254 -0.6174617   0.37108323 ... -0.38783577  0.29344562\n",
            "    0.43211955]\n",
            "  [ 0.04933485 -0.06146994  0.01108996 ... -0.28371465  0.03606814\n",
            "    0.31530848]\n",
            "  [ 0.05932447 -0.06752267  0.08658819 ... -0.16920163 -0.19595769\n",
            "    0.4521992 ]]\n",
            "\n",
            " [[-0.03201864  0.07532243  0.51239413 ... -0.10509814  0.2814215\n",
            "    0.0345522 ]\n",
            "  [-0.12571557 -0.08376776  0.6167017  ... -0.02868032 -0.7734975\n",
            "   -0.15184942]\n",
            "  [ 0.08937342 -0.55403686  0.47891507 ... -0.40978327  0.17494433\n",
            "   -0.16348618]\n",
            "  ...\n",
            "  [ 0.07871323 -0.62264264  0.3726822  ... -0.39888045  0.28967705\n",
            "    0.4267754 ]\n",
            "  [ 0.05114403 -0.06493645  0.00738121 ... -0.2864474   0.03175443\n",
            "    0.31378308]\n",
            "  [ 0.06353782 -0.06807922  0.08672573 ... -0.16950819 -0.20381705\n",
            "    0.4421482 ]]]\n",
            "(32, 10)\n"
          ],
          "name": "stdout"
        },
        {
          "output_type": "execute_result",
          "data": {
            "text/plain": [
              "<matplotlib.axes._subplots.AxesSubplot at 0x7ff60b53a2b0>"
            ]
          },
          "metadata": {
            "tags": []
          },
          "execution_count": 27
        },
        {
          "output_type": "display_data",
          "data": {
            "image/png": "[encoded data removed]",
            "text/plain": [
              "<Figure size 432x288 with 1 Axes>"
            ]
          },
          "metadata": {
            "tags": []
          }
        },
        {
          "output_type": "display_data",
          "data": {
            "image/png": "[encoded data removed]",
            "text/plain": [
              "<Figure size 720x720 with 2 Axes>"
            ]
          },
          "metadata": {
            "tags": []
          }
        }
      ]
    },
    {
      "cell_type": "code",
      "metadata": {
        "id": "-UAotW9JFHr0",
        "colab_type": "code",
        "colab": {}
      },
      "source": [
        "def my_in_conv_layer_get_l1_norms_per_epoch(weight_list_per_epoch):\n",
        "    l1_norm_list_per_epoch = list()\n",
        "    for i in range(len(weight_list_per_epoch)):\n",
        "        l1_norm_list_per_epoch.append([]) \n",
        "    for layer_index in range(len(weight_list_per_epoch)):\n",
        "        l1_norm_\n",
        "        \n"
      ],
      "execution_count": 0,
      "outputs": []
    },
    {
      "cell_type": "code",
      "metadata": {
        "id": "fBLd4J0T0LwE",
        "colab_type": "code",
        "colab": {}
      },
      "source": [
        "### correlation\n",
        "from scipy.stats import pearsonr\n",
        "corr, _ = pearsonr(list1, list2)"
      ],
      "execution_count": 0,
      "outputs": []
    }
  ]
}