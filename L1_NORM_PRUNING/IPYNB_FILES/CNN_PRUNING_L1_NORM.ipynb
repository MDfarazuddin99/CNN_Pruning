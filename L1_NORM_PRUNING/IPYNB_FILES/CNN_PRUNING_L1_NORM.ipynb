{
  "nbformat": 4,
  "nbformat_minor": 0,
  "metadata": {
    "colab": {
      "name": "CNN_PRUNING_L1_NORM.ipynb",
      "provenance": [],
      "collapsed_sections": []
    },
    "kernelspec": {
      "name": "python3",
      "display_name": "Python 3"
    }
  },
  "cells": [
    {
      "cell_type": "code",
      "metadata": {
        "id": "J_j55rqQeNaB",
        "colab_type": "code",
        "outputId": "d6c637ca-325f-4363-a163-7c6ed2e9cf63",
        "colab": {
          "base_uri": "https://localhost:8080/",
          "height": 163
        }
      },
      "source": [
        "!pip install kerassurgeon"
      ],
      "execution_count": 0,
      "outputs": [
        {
          "output_type": "stream",
          "text": [
            "Requirement already satisfied: kerassurgeon in /usr/local/lib/python3.6/dist-packages (0.1.3)\n",
            "Requirement already satisfied: keras>=2.0.7 in /usr/local/lib/python3.6/dist-packages (from kerassurgeon) (2.2.5)\n",
            "Requirement already satisfied: keras-preprocessing>=1.1.0 in /usr/local/lib/python3.6/dist-packages (from keras>=2.0.7->kerassurgeon) (1.1.0)\n",
            "Requirement already satisfied: scipy>=0.14 in /usr/local/lib/python3.6/dist-packages (from keras>=2.0.7->kerassurgeon) (1.4.1)\n",
            "Requirement already satisfied: six>=1.9.0 in /usr/local/lib/python3.6/dist-packages (from keras>=2.0.7->kerassurgeon) (1.12.0)\n",
            "Requirement already satisfied: numpy>=1.9.1 in /usr/local/lib/python3.6/dist-packages (from keras>=2.0.7->kerassurgeon) (1.17.5)\n",
            "Requirement already satisfied: h5py in /usr/local/lib/python3.6/dist-packages (from keras>=2.0.7->kerassurgeon) (2.8.0)\n",
            "Requirement already satisfied: pyyaml in /usr/local/lib/python3.6/dist-packages (from keras>=2.0.7->kerassurgeon) (3.13)\n",
            "Requirement already satisfied: keras-applications>=1.0.8 in /usr/local/lib/python3.6/dist-packages (from keras>=2.0.7->kerassurgeon) (1.0.8)\n"
          ],
          "name": "stdout"
        }
      ]
    },
    {
      "cell_type": "code",
      "metadata": {
        "id": "4F-LuadrmCHY",
        "colab_type": "code",
        "outputId": "fc17d097-7be9-419a-9fc0-9cbf65422dfd",
        "colab": {
          "base_uri": "https://localhost:8080/",
          "height": 77
        }
      },
      "source": [
        "import numpy as np\n",
        "import tensorflow as tf\n",
        "from keras.datasets import cifar10\n",
        "from keras.utils import np_utils\n",
        "import matplotlib.pyplot as plt\n",
        "from keras.models import Sequential\n",
        "from keras.layers import Dense, Conv2D, MaxPooling2D, Dropout, Flatten, GlobalAveragePooling2D\n",
        "\n",
        "from kerassurgeon import identify \n",
        "from kerassurgeon.operations import delete_channels,delete_layer\n"
      ],
      "execution_count": 0,
      "outputs": [
        {
          "output_type": "display_data",
          "data": {
            "text/html": [
              "<p style=\"color: red;\">\n",
              "The default version of TensorFlow in Colab will soon switch to TensorFlow 2.x.<br>\n",
              "We recommend you <a href=\"https://www.tensorflow.org/guide/migrate\" target=\"_blank\">upgrade</a> now \n",
              "or ensure your notebook will continue to use TensorFlow 1.x via the <code>%tensorflow_version 1.x</code> magic:\n",
              "<a href=\"https://colab.research.google.com/notebooks/tensorflow_version.ipynb\" target=\"_blank\">more info</a>.</p>\n"
            ],
            "text/plain": [
              "<IPython.core.display.HTML object>"
            ]
          },
          "metadata": {
            "tags": []
          }
        },
        {
          "output_type": "stream",
          "text": [
            "Using TensorFlow backend.\n"
          ],
          "name": "stderr"
        }
      ]
    },
    {
      "cell_type": "code",
      "metadata": {
        "id": "YZ51fOh8ePB1",
        "colab_type": "code",
        "colab": {}
      },
      "source": [
        "(x_train,y_train),(x_test,y_test) = cifar10.load_data()"
      ],
      "execution_count": 0,
      "outputs": []
    },
    {
      "cell_type": "code",
      "metadata": {
        "id": "S5fiYqxoeRaF",
        "colab_type": "code",
        "outputId": "fec808ac-2b95-4d86-d972-b57681f40cfd",
        "colab": {
          "base_uri": "https://localhost:8080/",
          "height": 66
        }
      },
      "source": [
        "print('Number of images in Test Set = {}\\nNumber of images in Training Set = {}'.format(x_test.shape[0],x_train.shape[0]))\n",
        "print('Number of classes in Data Set = {}'.format(np.unique(y_train).shape[0]))"
      ],
      "execution_count": 0,
      "outputs": [
        {
          "output_type": "stream",
          "text": [
            "Number of images in Test Set = 10000\n",
            "Number of images in Training Set = 50000\n",
            "Number of classes in Data Set = 10\n"
          ],
          "name": "stdout"
        }
      ]
    },
    {
      "cell_type": "code",
      "metadata": {
        "id": "9o4jfOmUeVt_",
        "colab_type": "code",
        "outputId": "54fb3947-48a9-451e-a04e-2de5b64c68b1",
        "colab": {
          "base_uri": "https://localhost:8080/",
          "height": 50
        }
      },
      "source": [
        "print(y_train[2])\n",
        "y_train = np_utils.to_categorical(y_train,10)\n",
        "y_test = np_utils.to_categorical(y_test,10)\n",
        "print(y_train[2])"
      ],
      "execution_count": 0,
      "outputs": [
        {
          "output_type": "stream",
          "text": [
            "[9]\n",
            "[0. 0. 0. 0. 0. 0. 0. 0. 0. 1.]\n"
          ],
          "name": "stdout"
        }
      ]
    },
    {
      "cell_type": "code",
      "metadata": {
        "id": "BTkT9dVdeXZB",
        "colab_type": "code",
        "colab": {}
      },
      "source": [
        ""
      ],
      "execution_count": 0,
      "outputs": []
    },
    {
      "cell_type": "code",
      "metadata": {
        "id": "tue5dX_Bee39",
        "colab_type": "code",
        "outputId": "ae4b6800-1914-4ce3-a217-fe1ed5ccf822",
        "colab": {
          "base_uri": "https://localhost:8080/",
          "height": 440
        }
      },
      "source": [
        "import tensorflow.compat.v1 as tf\n",
        "tf.disable_v2_behavior()\n",
        "\n",
        "\n",
        "\n",
        "# my_model = Sequential()\n",
        "\n",
        "# my_model.add(Conv2D(32,(3,3),activation='relu',input_shape=x_train.shape[1:]))\n",
        "\n",
        "# my_model.add(MaxPooling2D(pool_size=(2,2)))\n",
        "\n",
        "# my_model.add(Conv2D(32,(3,3),activation='relu'))\n",
        "\n",
        "# my_model.add(MaxPooling2D(pool_size=(2,2)))\n",
        "\n",
        "# my_model.add(Conv2D(64,(3,3),activation='relu'))\n",
        "\n",
        "# my_model.add(MaxPooling2D(pool_size=(2,2)))\n",
        "\n",
        "# my_model.add(GlobalAveragePooling2D())\n",
        "# my_model.add(Dense(10,activation='softmax'))\n",
        "\n",
        "my_model = Sequential()\n",
        "my_model.add(Conv2D(32, (3, 3), padding='same',activation='relu',\n",
        "                 input_shape=x_train.shape[1:]))\n",
        "\n",
        "my_model.add(Conv2D(32, (3, 3),activation='relu'))\n",
        "\n",
        "my_model.add(MaxPooling2D(pool_size=(2, 2)))\n",
        "my_model.add(Dropout(0.25))\n",
        "\n",
        "my_model.add(Conv2D(64, (3, 3), padding='same',activation='relu'))\n",
        "\n",
        "my_model.add(Conv2D(64, (3, 3),activation='relu',))\n",
        "\n",
        "my_model.add(MaxPooling2D(pool_size=(2, 2)))\n",
        "my_model.add(Dropout(0.25))\n",
        "\n",
        "my_model.add(Flatten())\n",
        "my_model.add(Dense(512,activation='relu',))\n",
        "\n",
        "my_model.add(Dropout(0.5))\n",
        "my_model.add(Dense(10,activation='softmax',))\n",
        "\n",
        "# my_model.summary()\n"
      ],
      "execution_count": 0,
      "outputs": [
        {
          "output_type": "stream",
          "text": [
            "WARNING:tensorflow:From /usr/local/lib/python3.6/dist-packages/keras/backend/tensorflow_backend.py:66: The name tf.get_default_graph is deprecated. Please use tf.compat.v1.get_default_graph instead.\n",
            "\n"
          ],
          "name": "stdout"
        },
        {
          "output_type": "stream",
          "text": [
            "WARNING:tensorflow:From /usr/local/lib/python3.6/dist-packages/keras/backend/tensorflow_backend.py:66: The name tf.get_default_graph is deprecated. Please use tf.compat.v1.get_default_graph instead.\n",
            "\n"
          ],
          "name": "stderr"
        },
        {
          "output_type": "stream",
          "text": [
            "WARNING:tensorflow:From /usr/local/lib/python3.6/dist-packages/keras/backend/tensorflow_backend.py:541: The name tf.placeholder is deprecated. Please use tf.compat.v1.placeholder instead.\n",
            "\n"
          ],
          "name": "stdout"
        },
        {
          "output_type": "stream",
          "text": [
            "WARNING:tensorflow:From /usr/local/lib/python3.6/dist-packages/keras/backend/tensorflow_backend.py:541: The name tf.placeholder is deprecated. Please use tf.compat.v1.placeholder instead.\n",
            "\n"
          ],
          "name": "stderr"
        },
        {
          "output_type": "stream",
          "text": [
            "WARNING:tensorflow:From /usr/local/lib/python3.6/dist-packages/keras/backend/tensorflow_backend.py:4432: The name tf.random_uniform is deprecated. Please use tf.random.uniform instead.\n",
            "\n"
          ],
          "name": "stdout"
        },
        {
          "output_type": "stream",
          "text": [
            "WARNING:tensorflow:From /usr/local/lib/python3.6/dist-packages/keras/backend/tensorflow_backend.py:4432: The name tf.random_uniform is deprecated. Please use tf.random.uniform instead.\n",
            "\n"
          ],
          "name": "stderr"
        },
        {
          "output_type": "stream",
          "text": [
            "WARNING:tensorflow:From /usr/local/lib/python3.6/dist-packages/keras/backend/tensorflow_backend.py:4267: The name tf.nn.max_pool is deprecated. Please use tf.nn.max_pool2d instead.\n",
            "\n"
          ],
          "name": "stdout"
        },
        {
          "output_type": "stream",
          "text": [
            "WARNING:tensorflow:From /usr/local/lib/python3.6/dist-packages/keras/backend/tensorflow_backend.py:4267: The name tf.nn.max_pool is deprecated. Please use tf.nn.max_pool2d instead.\n",
            "\n"
          ],
          "name": "stderr"
        },
        {
          "output_type": "stream",
          "text": [
            "WARNING:tensorflow:From /usr/local/lib/python3.6/dist-packages/keras/backend/tensorflow_backend.py:148: The name tf.placeholder_with_default is deprecated. Please use tf.compat.v1.placeholder_with_default instead.\n",
            "\n"
          ],
          "name": "stdout"
        },
        {
          "output_type": "stream",
          "text": [
            "WARNING:tensorflow:From /usr/local/lib/python3.6/dist-packages/keras/backend/tensorflow_backend.py:148: The name tf.placeholder_with_default is deprecated. Please use tf.compat.v1.placeholder_with_default instead.\n",
            "\n"
          ],
          "name": "stderr"
        },
        {
          "output_type": "stream",
          "text": [
            "WARNING:tensorflow:From /usr/local/lib/python3.6/dist-packages/keras/backend/tensorflow_backend.py:3733: calling dropout (from tensorflow.python.ops.nn_ops) with keep_prob is deprecated and will be removed in a future version.\n",
            "Instructions for updating:\n",
            "Please use `rate` instead of `keep_prob`. Rate should be set to `rate = 1 - keep_prob`.\n"
          ],
          "name": "stdout"
        },
        {
          "output_type": "stream",
          "text": [
            "WARNING:tensorflow:From /usr/local/lib/python3.6/dist-packages/keras/backend/tensorflow_backend.py:3733: calling dropout (from tensorflow.python.ops.nn_ops) with keep_prob is deprecated and will be removed in a future version.\n",
            "Instructions for updating:\n",
            "Please use `rate` instead of `keep_prob`. Rate should be set to `rate = 1 - keep_prob`.\n"
          ],
          "name": "stderr"
        }
      ]
    },
    {
      "cell_type": "code",
      "metadata": {
        "id": "Nos0UtbsehPm",
        "colab_type": "code",
        "outputId": "63f7e995-b904-4892-cad0-da6b304a45af",
        "colab": {
          "base_uri": "https://localhost:8080/",
          "height": 667
        }
      },
      "source": [
        "import tensorflow.compat.v1 as tf\n",
        "tf.disable_v2_behavior()\n",
        "\n",
        "my_model.compile(loss='categorical_crossentropy',optimizer='adam',metrics=['accuracy'])\n",
        "my_model.summary()"
      ],
      "execution_count": 0,
      "outputs": [
        {
          "output_type": "stream",
          "text": [
            "WARNING:tensorflow:From /usr/local/lib/python3.6/dist-packages/keras/optimizers.py:793: The name tf.train.Optimizer is deprecated. Please use tf.compat.v1.train.Optimizer instead.\n",
            "\n"
          ],
          "name": "stdout"
        },
        {
          "output_type": "stream",
          "text": [
            "WARNING:tensorflow:From /usr/local/lib/python3.6/dist-packages/keras/optimizers.py:793: The name tf.train.Optimizer is deprecated. Please use tf.compat.v1.train.Optimizer instead.\n",
            "\n"
          ],
          "name": "stderr"
        },
        {
          "output_type": "stream",
          "text": [
            "WARNING:tensorflow:From /usr/local/lib/python3.6/dist-packages/keras/backend/tensorflow_backend.py:3576: The name tf.log is deprecated. Please use tf.math.log instead.\n",
            "\n"
          ],
          "name": "stdout"
        },
        {
          "output_type": "stream",
          "text": [
            "WARNING:tensorflow:From /usr/local/lib/python3.6/dist-packages/keras/backend/tensorflow_backend.py:3576: The name tf.log is deprecated. Please use tf.math.log instead.\n",
            "\n"
          ],
          "name": "stderr"
        },
        {
          "output_type": "stream",
          "text": [
            "Model: \"sequential_1\"\n",
            "_________________________________________________________________\n",
            "Layer (type)                 Output Shape              Param #   \n",
            "=================================================================\n",
            "conv2d_1 (Conv2D)            (None, 32, 32, 32)        896       \n",
            "_________________________________________________________________\n",
            "conv2d_2 (Conv2D)            (None, 30, 30, 32)        9248      \n",
            "_________________________________________________________________\n",
            "max_pooling2d_1 (MaxPooling2 (None, 15, 15, 32)        0         \n",
            "_________________________________________________________________\n",
            "dropout_1 (Dropout)          (None, 15, 15, 32)        0         \n",
            "_________________________________________________________________\n",
            "conv2d_3 (Conv2D)            (None, 15, 15, 64)        18496     \n",
            "_________________________________________________________________\n",
            "conv2d_4 (Conv2D)            (None, 13, 13, 64)        36928     \n",
            "_________________________________________________________________\n",
            "max_pooling2d_2 (MaxPooling2 (None, 6, 6, 64)          0         \n",
            "_________________________________________________________________\n",
            "dropout_2 (Dropout)          (None, 6, 6, 64)          0         \n",
            "_________________________________________________________________\n",
            "flatten_1 (Flatten)          (None, 2304)              0         \n",
            "_________________________________________________________________\n",
            "dense_1 (Dense)              (None, 512)               1180160   \n",
            "_________________________________________________________________\n",
            "dropout_3 (Dropout)          (None, 512)               0         \n",
            "_________________________________________________________________\n",
            "dense_2 (Dense)              (None, 10)                5130      \n",
            "=================================================================\n",
            "Total params: 1,250,858\n",
            "Trainable params: 1,250,858\n",
            "Non-trainable params: 0\n",
            "_________________________________________________________________\n"
          ],
          "name": "stdout"
        }
      ]
    },
    {
      "cell_type": "code",
      "metadata": {
        "id": "qxZO1WSme9rN",
        "colab_type": "code",
        "colab": {}
      },
      "source": [
        "x_train = x_train/255.\n",
        "x_test = x_test/255."
      ],
      "execution_count": 0,
      "outputs": []
    },
    {
      "cell_type": "code",
      "metadata": {
        "id": "NfbZ1pFmfAo5",
        "colab_type": "code",
        "outputId": "a1790bbc-d527-4eb1-e1ce-5ba8aa380e89",
        "colab": {
          "base_uri": "https://localhost:8080/",
          "height": 700
        }
      },
      "source": [
        "\n",
        "import tensorflow.compat.v1 as tf\n",
        "tf.disable_v2_behavior()\n",
        "my_model.fit(x_train, y_train, batch_size=32, epochs=1, verbose=1, validation_split=0.2, shuffle=True)"
      ],
      "execution_count": 0,
      "outputs": [
        {
          "output_type": "stream",
          "text": [
            "WARNING:tensorflow:From /usr/local/lib/python3.6/dist-packages/tensorflow_core/python/ops/math_grad.py:1424: where (from tensorflow.python.ops.array_ops) is deprecated and will be removed in a future version.\n",
            "Instructions for updating:\n",
            "Use tf.where in 2.0, which has the same broadcast rule as np.where\n"
          ],
          "name": "stdout"
        },
        {
          "output_type": "stream",
          "text": [
            "WARNING:tensorflow:From /usr/local/lib/python3.6/dist-packages/tensorflow_core/python/ops/math_grad.py:1424: where (from tensorflow.python.ops.array_ops) is deprecated and will be removed in a future version.\n",
            "Instructions for updating:\n",
            "Use tf.where in 2.0, which has the same broadcast rule as np.where\n"
          ],
          "name": "stderr"
        },
        {
          "output_type": "stream",
          "text": [
            "WARNING:tensorflow:From /usr/local/lib/python3.6/dist-packages/keras/backend/tensorflow_backend.py:1033: The name tf.assign_add is deprecated. Please use tf.compat.v1.assign_add instead.\n",
            "\n"
          ],
          "name": "stdout"
        },
        {
          "output_type": "stream",
          "text": [
            "WARNING:tensorflow:From /usr/local/lib/python3.6/dist-packages/keras/backend/tensorflow_backend.py:1033: The name tf.assign_add is deprecated. Please use tf.compat.v1.assign_add instead.\n",
            "\n"
          ],
          "name": "stderr"
        },
        {
          "output_type": "stream",
          "text": [
            "WARNING:tensorflow:From /usr/local/lib/python3.6/dist-packages/keras/backend/tensorflow_backend.py:1020: The name tf.assign is deprecated. Please use tf.compat.v1.assign instead.\n",
            "\n"
          ],
          "name": "stdout"
        },
        {
          "output_type": "stream",
          "text": [
            "WARNING:tensorflow:From /usr/local/lib/python3.6/dist-packages/keras/backend/tensorflow_backend.py:1020: The name tf.assign is deprecated. Please use tf.compat.v1.assign instead.\n",
            "\n"
          ],
          "name": "stderr"
        },
        {
          "output_type": "stream",
          "text": [
            "WARNING:tensorflow:From /usr/local/lib/python3.6/dist-packages/keras/backend/tensorflow_backend.py:3005: The name tf.Session is deprecated. Please use tf.compat.v1.Session instead.\n",
            "\n"
          ],
          "name": "stdout"
        },
        {
          "output_type": "stream",
          "text": [
            "WARNING:tensorflow:From /usr/local/lib/python3.6/dist-packages/keras/backend/tensorflow_backend.py:3005: The name tf.Session is deprecated. Please use tf.compat.v1.Session instead.\n",
            "\n"
          ],
          "name": "stderr"
        },
        {
          "output_type": "stream",
          "text": [
            "Train on 40000 samples, validate on 10000 samples\n",
            "Epoch 1/1\n",
            "WARNING:tensorflow:From /usr/local/lib/python3.6/dist-packages/keras/backend/tensorflow_backend.py:190: The name tf.get_default_session is deprecated. Please use tf.compat.v1.get_default_session instead.\n",
            "\n"
          ],
          "name": "stdout"
        },
        {
          "output_type": "stream",
          "text": [
            "WARNING:tensorflow:From /usr/local/lib/python3.6/dist-packages/keras/backend/tensorflow_backend.py:190: The name tf.get_default_session is deprecated. Please use tf.compat.v1.get_default_session instead.\n",
            "\n"
          ],
          "name": "stderr"
        },
        {
          "output_type": "stream",
          "text": [
            "WARNING:tensorflow:From /usr/local/lib/python3.6/dist-packages/keras/backend/tensorflow_backend.py:197: The name tf.ConfigProto is deprecated. Please use tf.compat.v1.ConfigProto instead.\n",
            "\n"
          ],
          "name": "stdout"
        },
        {
          "output_type": "stream",
          "text": [
            "WARNING:tensorflow:From /usr/local/lib/python3.6/dist-packages/keras/backend/tensorflow_backend.py:197: The name tf.ConfigProto is deprecated. Please use tf.compat.v1.ConfigProto instead.\n",
            "\n"
          ],
          "name": "stderr"
        },
        {
          "output_type": "stream",
          "text": [
            "WARNING:tensorflow:From /usr/local/lib/python3.6/dist-packages/keras/backend/tensorflow_backend.py:207: The name tf.global_variables is deprecated. Please use tf.compat.v1.global_variables instead.\n",
            "\n"
          ],
          "name": "stdout"
        },
        {
          "output_type": "stream",
          "text": [
            "WARNING:tensorflow:From /usr/local/lib/python3.6/dist-packages/keras/backend/tensorflow_backend.py:207: The name tf.global_variables is deprecated. Please use tf.compat.v1.global_variables instead.\n",
            "\n"
          ],
          "name": "stderr"
        },
        {
          "output_type": "stream",
          "text": [
            "WARNING:tensorflow:From /usr/local/lib/python3.6/dist-packages/keras/backend/tensorflow_backend.py:216: The name tf.is_variable_initialized is deprecated. Please use tf.compat.v1.is_variable_initialized instead.\n",
            "\n"
          ],
          "name": "stdout"
        },
        {
          "output_type": "stream",
          "text": [
            "WARNING:tensorflow:From /usr/local/lib/python3.6/dist-packages/keras/backend/tensorflow_backend.py:216: The name tf.is_variable_initialized is deprecated. Please use tf.compat.v1.is_variable_initialized instead.\n",
            "\n"
          ],
          "name": "stderr"
        },
        {
          "output_type": "stream",
          "text": [
            "WARNING:tensorflow:From /usr/local/lib/python3.6/dist-packages/keras/backend/tensorflow_backend.py:223: The name tf.variables_initializer is deprecated. Please use tf.compat.v1.variables_initializer instead.\n",
            "\n"
          ],
          "name": "stdout"
        },
        {
          "output_type": "stream",
          "text": [
            "WARNING:tensorflow:From /usr/local/lib/python3.6/dist-packages/keras/backend/tensorflow_backend.py:223: The name tf.variables_initializer is deprecated. Please use tf.compat.v1.variables_initializer instead.\n",
            "\n"
          ],
          "name": "stderr"
        },
        {
          "output_type": "stream",
          "text": [
            "40000/40000 [==============================] - 217s 5ms/step - loss: 1.5525 - acc: 0.4311 - val_loss: 1.2143 - val_acc: 0.5677\n"
          ],
          "name": "stdout"
        },
        {
          "output_type": "execute_result",
          "data": {
            "text/plain": [
              "<keras.callbacks.History at 0x7f58dcd45b70>"
            ]
          },
          "metadata": {
            "tags": []
          },
          "execution_count": 13
        }
      ]
    },
    {
      "cell_type": "code",
      "metadata": {
        "id": "J3RwU77afC0u",
        "colab_type": "code",
        "outputId": "3f6b6d31-4362-44a1-a245-b0fe23fc9d4b",
        "colab": {
          "base_uri": "https://localhost:8080/",
          "height": 82
        }
      },
      "source": [
        "score_train = my_model.evaluate(x_train,y_train) \n",
        "\n",
        "print('Accuracy on the Train Images: ', score_train[1])\n",
        "\n",
        "score_test = my_model.evaluate(x_test, y_test)\n",
        "\n",
        "print('Accuracy on the Test Images: ', score_test[1])"
      ],
      "execution_count": 0,
      "outputs": [
        {
          "output_type": "stream",
          "text": [
            "50000/50000 [==============================] - 61s 1ms/step\n",
            "Accuracy on the Train Images:  0.58158\n",
            "10000/10000 [==============================] - 12s 1ms/step\n",
            "Accuracy on the Test Images:  0.5705\n"
          ],
          "name": "stdout"
        }
      ]
    },
    {
      "cell_type": "code",
      "metadata": {
        "id": "41bo6iJwB-Le",
        "colab_type": "code",
        "outputId": "2be1ccb1-5ded-4fca-847c-44e76b8ce1b8",
        "colab": {
          "base_uri": "https://localhost:8080/",
          "height": 33
        }
      },
      "source": [
        "all_conv_layers = list()\n",
        "count = 0\n",
        "for each_layer in (my_model.layers):\n",
        "  # print(each_layer.name)\n",
        "  if(each_layer.name[0:6] == 'conv2d'):\n",
        "    all_conv_layers.append(count)\n",
        "  count += 1\n",
        "print(all_conv_layers)\n"
      ],
      "execution_count": 0,
      "outputs": [
        {
          "output_type": "stream",
          "text": [
            "[0, 1, 4, 5]\n"
          ],
          "name": "stdout"
        }
      ]
    },
    {
      "cell_type": "code",
      "metadata": {
        "id": "wg5_8rqhfNiA",
        "colab_type": "code",
        "outputId": "93d4636b-554f-4f17-d5bd-a9bc09ac1c4a",
        "colab": {
          "base_uri": "https://localhost:8080/",
          "height": 1000
        }
      },
      "source": [
        "weights = list()\n",
        "\n",
        "for i in all_conv_layers:\n",
        "  weights.append(my_model.layers[i].get_weights()[0])\n",
        "\n",
        "layer_wise_filter_sorted = list()\n",
        "layer_wise_filter_sorted_values = list()\n",
        "for i in range(len(weights)):\n",
        "  weight =  weights[i]\n",
        "  num_filters = len(weight[0,0,0,:])\n",
        "  print(num_filters)\n",
        "  weights_dict = dict()\n",
        "  for j in range(num_filters):\n",
        "    w_s = np.sum(abs(weight[:,:,:,j]))\n",
        "    filt = 'filt{}'.format(j)\n",
        "    weights_dict[filt] = w_s\n",
        "\n",
        "  weights_dict_sort = sorted(weights_dict.items(),key = lambda kv:kv[1])\n",
        "  print('L1 norm of conv2D_{} layer'.format(i+1),weights_dict_sort)\n",
        "\n",
        "  weight_values = list()\n",
        "  filter_indices = list()\n",
        "\n",
        "  for element in weights_dict_sort:\n",
        "    filter_indices.append(int(element[0][4:]))\n",
        "    weight_values.append(element[1])\n",
        "  layer_wise_filter_sorted.append(filter_indices)\n",
        "  layer_wise_filter_sorted_values.append(weight_values)\n",
        "  x = np.arange(num_filters)\n",
        "  plt.figure(i+1,figsize=(7,5))\n",
        "  plt.plot(x,np.array(weight_values))\n",
        "  plt.axhline(y=np.mean(np.array(weight_values)),c='r')\n",
        "  for j in range(len(layer_wise_filter_sorted_values[i])):\n",
        "    if(np.mean(np.array(weight_values)) < weight_values[j]):\n",
        "        plt.axvline(x=j,c='r')\n",
        "        break\n",
        "\n",
        "  plt.xlabel('filter number')\n",
        "  plt.ylabel('L1 norm')\n",
        "  plt.title('Conv2d_{}'.format(i+1))\n",
        "  plt.grid(True)\n",
        "  plt.style.use(['classic'])\n",
        "# print(np.array(weight_values),'\\n',x) [22,24,2,29,23,13,0,14,26,21]\n",
        "print(layer_wise_filter_sorted)\n",
        "print(layer_wise_filter_sorted_values)"
      ],
      "execution_count": 0,
      "outputs": [
        {
          "output_type": "stream",
          "text": [
            "32\n",
            "L1 norm of conv2D_1 layer [('filt25', 1.604068), ('filt19', 1.629856), ('filt1', 1.6967067), ('filt26', 1.7560904), ('filt17', 1.8304945), ('filt5', 1.8432654), ('filt15', 1.870438), ('filt6', 1.8927829), ('filt16', 1.9032553), ('filt24', 1.910784), ('filt0', 1.9250474), ('filt20', 1.9535578), ('filt29', 1.9550542), ('filt23', 1.9873433), ('filt8', 2.0134292), ('filt28', 2.0713162), ('filt12', 2.0788107), ('filt3', 2.0833595), ('filt30', 2.0958974), ('filt31', 2.1074965), ('filt9', 2.131464), ('filt13', 2.140316), ('filt14', 2.1537013), ('filt11', 2.1572273), ('filt18', 2.1732242), ('filt22', 2.2438009), ('filt4', 2.3314164), ('filt2', 2.3328774), ('filt21', 2.3380635), ('filt7', 2.385539), ('filt27', 2.4066787), ('filt10', 2.4692094)]\n",
            "32\n",
            "L1 norm of conv2D_2 layer [('filt10', 15.412056), ('filt12', 15.600311), ('filt19', 16.4622), ('filt23', 16.570984), ('filt22', 16.599606), ('filt20', 16.704231), ('filt31', 16.759628), ('filt15', 16.933258), ('filt14', 16.978899), ('filt26', 17.059845), ('filt1', 17.111258), ('filt17', 17.126537), ('filt30', 17.157663), ('filt18', 17.177113), ('filt9', 17.181635), ('filt21', 17.222557), ('filt4', 17.405045), ('filt24', 17.487673), ('filt2', 17.67527), ('filt5', 17.82462), ('filt0', 17.970955), ('filt3', 18.190353), ('filt11', 18.417116), ('filt13', 18.449276), ('filt29', 18.559177), ('filt25', 18.645685), ('filt6', 18.722155), ('filt16', 18.723928), ('filt28', 18.890427), ('filt7', 18.903337), ('filt8', 19.01002), ('filt27', 19.740658)]\n",
            "64\n",
            "L1 norm of conv2D_3 layer [('filt9', 12.873576), ('filt4', 13.11558), ('filt28', 13.297634), ('filt44', 13.463717), ('filt48', 13.985633), ('filt15', 14.030853), ('filt19', 14.055535), ('filt31', 14.203398), ('filt11', 14.240885), ('filt40', 14.278058), ('filt7', 14.288682), ('filt51', 14.3175), ('filt63', 14.346731), ('filt33', 14.354888), ('filt17', 14.366524), ('filt13', 14.369083), ('filt3', 14.417061), ('filt12', 14.640287), ('filt2', 14.748626), ('filt20', 14.8214855), ('filt29', 14.849911), ('filt18', 14.893892), ('filt1', 14.9317665), ('filt32', 14.944367), ('filt16', 14.945181), ('filt43', 14.946127), ('filt41', 14.961288), ('filt30', 15.047806), ('filt26', 15.088585), ('filt36', 15.110081), ('filt53', 15.120131), ('filt8', 15.508708), ('filt22', 15.5198555), ('filt24', 15.560328), ('filt35', 15.58666), ('filt5', 15.709493), ('filt23', 15.818373), ('filt52', 15.828453), ('filt57', 15.831206), ('filt6', 16.092144), ('filt58', 16.257812), ('filt50', 16.268772), ('filt56', 16.297394), ('filt59', 16.491756), ('filt46', 16.495838), ('filt62', 16.568193), ('filt61', 16.59062), ('filt38', 16.607811), ('filt45', 16.834782), ('filt54', 16.984896), ('filt21', 17.066147), ('filt47', 17.099625), ('filt60', 17.291862), ('filt42', 17.37981), ('filt49', 17.42875), ('filt37', 17.860575), ('filt39', 17.877123), ('filt0', 18.25399), ('filt25', 18.40134), ('filt14', 18.411388), ('filt27', 18.69706), ('filt55', 19.13808), ('filt10', 19.139172), ('filt34', 20.842999)]\n",
            "64\n",
            "L1 norm of conv2D_4 layer [('filt61', 20.855484), ('filt58', 21.288324), ('filt17', 21.706036), ('filt25', 21.706688), ('filt49', 21.828926), ('filt10', 22.020588), ('filt3', 22.577883), ('filt50', 22.602608), ('filt51', 22.629192), ('filt31', 22.851646), ('filt15', 22.920366), ('filt55', 22.947958), ('filt19', 23.585526), ('filt5', 24.838182), ('filt13', 25.199226), ('filt38', 25.210442), ('filt60', 25.306019), ('filt42', 25.43998), ('filt32', 25.56912), ('filt0', 26.246044), ('filt47', 26.35912), ('filt48', 26.368347), ('filt26', 26.423496), ('filt45', 26.453472), ('filt54', 26.461643), ('filt6', 26.680874), ('filt39', 26.683254), ('filt1', 26.741924), ('filt52', 26.938055), ('filt7', 27.20203), ('filt30', 27.433622), ('filt20', 27.499096), ('filt21', 27.97194), ('filt53', 28.180801), ('filt23', 28.230871), ('filt41', 28.403948), ('filt36', 28.514175), ('filt57', 28.596699), ('filt37', 28.807293), ('filt8', 29.065083), ('filt35', 29.1399), ('filt59', 29.570665), ('filt11', 29.57194), ('filt16', 29.593327), ('filt24', 29.67944), ('filt40', 29.795532), ('filt33', 30.201908), ('filt46', 30.206121), ('filt63', 30.229141), ('filt56', 30.37586), ('filt27', 30.550428), ('filt18', 30.581299), ('filt43', 30.607256), ('filt14', 30.623642), ('filt22', 30.876675), ('filt44', 31.273415), ('filt12', 31.636429), ('filt62', 31.88659), ('filt4', 31.961664), ('filt29', 32.18559), ('filt9', 32.56558), ('filt2', 34.012783), ('filt28', 34.159546), ('filt34', 36.56165)]\n",
            "[[25, 19, 1, 26, 17, 5, 15, 6, 16, 24, 0, 20, 29, 23, 8, 28, 12, 3, 30, 31, 9, 13, 14, 11, 18, 22, 4, 2, 21, 7, 27, 10], [10, 12, 19, 23, 22, 20, 31, 15, 14, 26, 1, 17, 30, 18, 9, 21, 4, 24, 2, 5, 0, 3, 11, 13, 29, 25, 6, 16, 28, 7, 8, 27], [9, 4, 28, 44, 48, 15, 19, 31, 11, 40, 7, 51, 63, 33, 17, 13, 3, 12, 2, 20, 29, 18, 1, 32, 16, 43, 41, 30, 26, 36, 53, 8, 22, 24, 35, 5, 23, 52, 57, 6, 58, 50, 56, 59, 46, 62, 61, 38, 45, 54, 21, 47, 60, 42, 49, 37, 39, 0, 25, 14, 27, 55, 10, 34], [61, 58, 17, 25, 49, 10, 3, 50, 51, 31, 15, 55, 19, 5, 13, 38, 60, 42, 32, 0, 47, 48, 26, 45, 54, 6, 39, 1, 52, 7, 30, 20, 21, 53, 23, 41, 36, 57, 37, 8, 35, 59, 11, 16, 24, 40, 33, 46, 63, 56, 27, 18, 43, 14, 22, 44, 12, 62, 4, 29, 9, 2, 28, 34]]\n",
            "[[1.604068, 1.629856, 1.6967067, 1.7560904, 1.8304945, 1.8432654, 1.870438, 1.8927829, 1.9032553, 1.910784, 1.9250474, 1.9535578, 1.9550542, 1.9873433, 2.0134292, 2.0713162, 2.0788107, 2.0833595, 2.0958974, 2.1074965, 2.131464, 2.140316, 2.1537013, 2.1572273, 2.1732242, 2.2438009, 2.3314164, 2.3328774, 2.3380635, 2.385539, 2.4066787, 2.4692094], [15.412056, 15.600311, 16.4622, 16.570984, 16.599606, 16.704231, 16.759628, 16.933258, 16.978899, 17.059845, 17.111258, 17.126537, 17.157663, 17.177113, 17.181635, 17.222557, 17.405045, 17.487673, 17.67527, 17.82462, 17.970955, 18.190353, 18.417116, 18.449276, 18.559177, 18.645685, 18.722155, 18.723928, 18.890427, 18.903337, 19.01002, 19.740658], [12.873576, 13.11558, 13.297634, 13.463717, 13.985633, 14.030853, 14.055535, 14.203398, 14.240885, 14.278058, 14.288682, 14.3175, 14.346731, 14.354888, 14.366524, 14.369083, 14.417061, 14.640287, 14.748626, 14.8214855, 14.849911, 14.893892, 14.9317665, 14.944367, 14.945181, 14.946127, 14.961288, 15.047806, 15.088585, 15.110081, 15.120131, 15.508708, 15.5198555, 15.560328, 15.58666, 15.709493, 15.818373, 15.828453, 15.831206, 16.092144, 16.257812, 16.268772, 16.297394, 16.491756, 16.495838, 16.568193, 16.59062, 16.607811, 16.834782, 16.984896, 17.066147, 17.099625, 17.291862, 17.37981, 17.42875, 17.860575, 17.877123, 18.25399, 18.40134, 18.411388, 18.69706, 19.13808, 19.139172, 20.842999], [20.855484, 21.288324, 21.706036, 21.706688, 21.828926, 22.020588, 22.577883, 22.602608, 22.629192, 22.851646, 22.920366, 22.947958, 23.585526, 24.838182, 25.199226, 25.210442, 25.306019, 25.43998, 25.56912, 26.246044, 26.35912, 26.368347, 26.423496, 26.453472, 26.461643, 26.680874, 26.683254, 26.741924, 26.938055, 27.20203, 27.433622, 27.499096, 27.97194, 28.180801, 28.230871, 28.403948, 28.514175, 28.596699, 28.807293, 29.065083, 29.1399, 29.570665, 29.57194, 29.593327, 29.67944, 29.795532, 30.201908, 30.206121, 30.229141, 30.37586, 30.550428, 30.581299, 30.607256, 30.623642, 30.876675, 31.273415, 31.636429, 31.88659, 31.961664, 32.18559, 32.56558, 34.012783, 34.159546, 36.56165]]\n"
          ],
          "name": "stdout"
        },
        {
          "output_type": "display_data",
          "data": {
            "image/png": "[encoded data removed]",
            "text/plain": [
              "<Figure size 504x360 with 1 Axes>"
            ]
          },
          "metadata": {
            "tags": []
          }
        },
        {
          "output_type": "display_data",
          "data": {
            "image/png": "[encoded data removed]",
            "text/plain": [
              "<Figure size 560x400 with 1 Axes>"
            ]
          },
          "metadata": {
            "tags": []
          }
        },
        {
          "output_type": "display_data",
          "data": {
            "image/png": "[encoded data removed]",
            "text/plain": [
              "<Figure size 560x400 with 1 Axes>"
            ]
          },
          "metadata": {
            "tags": []
          }
        },
        {
          "output_type": "display_data",
          "data": {
            "image/png": "[encoded data removed]",
            "text/plain": [
              "<Figure size 560x400 with 1 Axes>"
            ]
          },
          "metadata": {
            "tags": []
          }
        }
      ]
    },
    {
      "cell_type": "code",
      "metadata": {
        "id": "0CFHwASpEX2u",
        "colab_type": "code",
        "colab": {}
      },
      "source": [
        "thresh_holds = list()\n",
        "for i in range(len(all_conv_layers)):\n",
        "  # print(np.mean(np.array(layer_wise_filter_sorted_values[i])))\n",
        "  thresh_holds.append(np.mean(np.array(layer_wise_filter_sorted_values[i])))\n",
        "prune_filter_indices = list()\n",
        "for i in range(len(all_conv_layers)):\n",
        "  for j in range(len(layer_wise_filter_sorted_values[i])):\n",
        "    if(thresh_holds[i] < layer_wise_filter_sorted_values[i][j]):\n",
        "      prune_filter_indices.append(j)\n",
        "      break"
      ],
      "execution_count": 0,
      "outputs": []
    },
    {
      "cell_type": "code",
      "metadata": {
        "id": "pJq0YFLafUej",
        "colab_type": "code",
        "outputId": "1d4586b9-6217-4aff-c242-9788b50164c7",
        "colab": {
          "base_uri": "https://localhost:8080/",
          "height": 33
        }
      },
      "source": [
        "prune_filter_indices"
      ],
      "execution_count": 0,
      "outputs": [
        {
          "output_type": "execute_result",
          "data": {
            "text/plain": [
              "[15, 18, 36, 32]"
            ]
          },
          "metadata": {
            "tags": []
          },
          "execution_count": 18
        }
      ]
    },
    {
      "cell_type": "code",
      "metadata": {
        "id": "awCzDB1NfaFF",
        "colab_type": "code",
        "outputId": "ad307d07-2445-4636-e7c0-4ddae7c6ff36",
        "colab": {
          "base_uri": "https://localhost:8080/",
          "height": 115
        }
      },
      "source": [
        "\n",
        "layer_indexes = []\n",
        "pruning_layers = list()\n",
        "layer_indexes.append(all_conv_layers[0])\n",
        "\n",
        "for i in range(1,len(all_conv_layers)):\n",
        "    layer_indexes.append(all_conv_layers[i])\n",
        "print(layer_indexes)\n",
        "\n",
        "for i in layer_indexes:\n",
        "    pruning_layers.append(my_model.layers[i])\n",
        "\n",
        "from kerassurgeon import Surgeon\n",
        "surgeon = Surgeon(my_model)\n",
        "# [0, 1, 4, 5]\n",
        "for j,i in enumerate(all_conv_layers):\n",
        "    surgeon.add_job('delete_channels',my_model.layers[i],channels=layer_wise_filter_sorted[j][0:prune_filter_indices[j]])\n",
        "\n",
        "model_new = surgeon.operate()"
      ],
      "execution_count": 0,
      "outputs": [
        {
          "output_type": "stream",
          "text": [
            "[0, 1, 4, 5]\n",
            "Deleting 15/32 channels from layer: conv2d_1\n",
            "Deleting 18/32 channels from layer: conv2d_2\n",
            "Deleting 36/64 channels from layer: conv2d_3\n",
            "Deleting 32/64 channels from layer: conv2d_4\n",
            "Deleting 12/512 channels from layer: dense_1\n"
          ],
          "name": "stdout"
        }
      ]
    },
    {
      "cell_type": "code",
      "metadata": {
        "id": "yO-DqfcrtbjA",
        "colab_type": "code",
        "outputId": "880e111a-74bd-484a-cb09-87aad9536639",
        "colab": {
          "base_uri": "https://localhost:8080/",
          "height": 570
        }
      },
      "source": [
        "model_new.summary()"
      ],
      "execution_count": 0,
      "outputs": [
        {
          "output_type": "stream",
          "text": [
            "Model: \"model_3\"\n",
            "_________________________________________________________________\n",
            "Layer (type)                 Output Shape              Param #   \n",
            "=================================================================\n",
            "conv2d_1_input (InputLayer)  (None, 32, 32, 3)         0         \n",
            "_________________________________________________________________\n",
            "conv2d_1 (Conv2D)            (None, 32, 32, 17)        476       \n",
            "_________________________________________________________________\n",
            "conv2d_2 (Conv2D)            (None, 30, 30, 14)        2156      \n",
            "_________________________________________________________________\n",
            "max_pooling2d_1 (MaxPooling2 multiple                  0         \n",
            "_________________________________________________________________\n",
            "dropout_1 (Dropout)          multiple                  0         \n",
            "_________________________________________________________________\n",
            "conv2d_3 (Conv2D)            (None, 15, 15, 28)        3556      \n",
            "_________________________________________________________________\n",
            "conv2d_4 (Conv2D)            (None, 13, 13, 32)        8096      \n",
            "_________________________________________________________________\n",
            "max_pooling2d_2 (MaxPooling2 multiple                  0         \n",
            "_________________________________________________________________\n",
            "dropout_2 (Dropout)          multiple                  0         \n",
            "_________________________________________________________________\n",
            "flatten_1 (Flatten)          multiple                  0         \n",
            "_________________________________________________________________\n",
            "dense_1 (Dense)              (None, 500)               576500    \n",
            "_________________________________________________________________\n",
            "dropout_3 (Dropout)          multiple                  0         \n",
            "_________________________________________________________________\n",
            "dense_2 (Dense)              (None, 10)                5010      \n",
            "=================================================================\n",
            "Total params: 595,794\n",
            "Trainable params: 595,794\n",
            "Non-trainable params: 0\n",
            "_________________________________________________________________\n"
          ],
          "name": "stdout"
        }
      ]
    },
    {
      "cell_type": "code",
      "metadata": {
        "id": "WVQW11uffeZw",
        "colab_type": "code",
        "outputId": "6fc66791-28ac-402c-fea3-78dabe7b5c9f",
        "colab": {
          "base_uri": "https://localhost:8080/",
          "height": 82
        }
      },
      "source": [
        "model_new.compile(loss='categorical_crossentropy',optimizer='adam',metrics=['accuracy'])\n",
        "score_train = model_new.evaluate(x_train,y_train) \n",
        "\n",
        "print('Accuracy on the Train Images: ', score_train[1])\n",
        "\n",
        "score_test = model_new.evaluate(x_test, y_test)\n",
        "\n",
        "print('Accuracy on the Test Images: ', score_test[1])"
      ],
      "execution_count": 0,
      "outputs": [
        {
          "output_type": "stream",
          "text": [
            "50000/50000 [==============================] - 37s 736us/step\n",
            "Accuracy on the Train Images:  0.18554\n",
            "10000/10000 [==============================] - 7s 736us/step\n",
            "Accuracy on the Test Images:  0.1813\n"
          ],
          "name": "stdout"
        }
      ]
    },
    {
      "cell_type": "code",
      "metadata": {
        "id": "di0OUGbzfhjx",
        "colab_type": "code",
        "outputId": "cf3efa8f-17b9-45ff-d81f-e69bfdb0d8ef",
        "colab": {
          "base_uri": "https://localhost:8080/",
          "height": 82
        }
      },
      "source": [
        "model_new.fit(x_train, y_train, batch_size=32, epochs=1, verbose=1, validation_split=0.2, shuffle=True)"
      ],
      "execution_count": 0,
      "outputs": [
        {
          "output_type": "stream",
          "text": [
            "Train on 40000 samples, validate on 10000 samples\n",
            "Epoch 1/1\n",
            "40000/40000 [==============================] - 115s 3ms/step - loss: 1.2632 - acc: 0.5499 - val_loss: 1.0665 - val_acc: 0.6170\n"
          ],
          "name": "stdout"
        },
        {
          "output_type": "execute_result",
          "data": {
            "text/plain": [
              "<keras.callbacks.History at 0x7f58d4445390>"
            ]
          },
          "metadata": {
            "tags": []
          },
          "execution_count": 26
        }
      ]
    },
    {
      "cell_type": "code",
      "metadata": {
        "id": "YL0RRN_bflaz",
        "colab_type": "code",
        "outputId": "0a557a1d-4bb8-49e3-c2d4-a9d935942557",
        "colab": {
          "base_uri": "https://localhost:8080/",
          "height": 82
        }
      },
      "source": [
        "score_train = model_new.evaluate(x_train,y_train) \n",
        "\n",
        "print('Accuracy on the Train Images: ', score_train[1])\n",
        "\n",
        "score_test = model_new.evaluate(x_test, y_test)\n",
        "\n",
        "print('Accuracy on the Test Images: ', score_test[1])"
      ],
      "execution_count": 0,
      "outputs": [
        {
          "output_type": "stream",
          "text": [
            "50000/50000 [==============================] - 38s 760us/step\n",
            "Accuracy on the Train Images:  0.62888\n",
            "10000/10000 [==============================] - 8s 753us/step\n",
            "Accuracy on the Test Images:  0.6216\n"
          ],
          "name": "stdout"
        }
      ]
    },
    {
      "cell_type": "code",
      "metadata": {
        "id": "ONlfo5_-tMx5",
        "colab_type": "code",
        "colab": {}
      },
      "source": [
        ""
      ],
      "execution_count": 0,
      "outputs": []
    }
  ]
}