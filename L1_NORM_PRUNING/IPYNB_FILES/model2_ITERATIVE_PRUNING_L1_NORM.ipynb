{
  "nbformat": 4,
  "nbformat_minor": 0,
  "metadata": {
    "colab": {
      "name": "model2_ITERATIVE_PRUNING_L1_NORM.ipynb",
      "provenance": [],
      "collapsed_sections": []
    },
    "kernelspec": {
      "name": "python3",
      "display_name": "Python 3"
    }
  },
  "cells": [
    {
      "cell_type": "code",
      "metadata": {
        "id": "27zwbJ1Dlj7l",
        "colab_type": "code",
        "outputId": "95466ab3-a17f-465b-f3a4-d0076e959e69",
        "colab": {
          "base_uri": "https://localhost:8080/",
          "height": 176
        }
      },
      "source": [
        "!pip install kerassurgeon\n",
        "import numpy as np\n",
        "import tensorflow as tf\n",
        "from keras.datasets import cifar10\n",
        "from keras.utils import np_utils\n",
        "import matplotlib.pyplot as plt\n",
        "from keras.models import Sequential\n",
        "from keras.layers import Dense, Conv2D, MaxPooling2D, Dropout, Flatten, GlobalAveragePooling2D\n",
        "from keras.models import load_model\n",
        "from kerassurgeon import identify \n",
        "from kerassurgeon.operations import delete_channels,delete_layer\n",
        "from kerassurgeon import Surgeon"
      ],
      "execution_count": 26,
      "outputs": [
        {
          "output_type": "stream",
          "text": [
            "Requirement already satisfied: kerassurgeon in /usr/local/lib/python3.6/dist-packages (0.1.3)\n",
            "Requirement already satisfied: keras>=2.0.7 in /usr/local/lib/python3.6/dist-packages (from kerassurgeon) (2.2.5)\n",
            "Requirement already satisfied: keras-applications>=1.0.8 in /usr/local/lib/python3.6/dist-packages (from keras>=2.0.7->kerassurgeon) (1.0.8)\n",
            "Requirement already satisfied: numpy>=1.9.1 in /usr/local/lib/python3.6/dist-packages (from keras>=2.0.7->kerassurgeon) (1.17.5)\n",
            "Requirement already satisfied: six>=1.9.0 in /usr/local/lib/python3.6/dist-packages (from keras>=2.0.7->kerassurgeon) (1.12.0)\n",
            "Requirement already satisfied: keras-preprocessing>=1.1.0 in /usr/local/lib/python3.6/dist-packages (from keras>=2.0.7->kerassurgeon) (1.1.0)\n",
            "Requirement already satisfied: pyyaml in /usr/local/lib/python3.6/dist-packages (from keras>=2.0.7->kerassurgeon) (3.13)\n",
            "Requirement already satisfied: scipy>=0.14 in /usr/local/lib/python3.6/dist-packages (from keras>=2.0.7->kerassurgeon) (1.4.1)\n",
            "Requirement already satisfied: h5py in /usr/local/lib/python3.6/dist-packages (from keras>=2.0.7->kerassurgeon) (2.8.0)\n"
          ],
          "name": "stdout"
        }
      ]
    },
    {
      "cell_type": "code",
      "metadata": {
        "id": "14XOgbaCltZb",
        "colab_type": "code",
        "colab": {}
      },
      "source": [
        "(x_train,y_train),(x_test,y_test) = cifar10.load_data()\n",
        "\n",
        "def normalize(x_train,x_test):\n",
        "    mean = np.mean(x_train,axis=(0,1,2,3))\n",
        "    std = np.std(x_train, axis=(0, 1, 2, 3))\n",
        "    x_train = (x_train-mean)/(std+1e-7)\n",
        "    x_test = (x_test-mean)/(std+1e-7)\n",
        "    return x_train, x_test\n",
        "\n",
        "\n",
        "x_train , x_test = normalize(x_train,x_test)\n",
        "\n",
        "y_train = np_utils.to_categorical(y_train,10)\n",
        "y_test = np_utils.to_categorical(y_test,10)\n"
      ],
      "execution_count": 0,
      "outputs": []
    },
    {
      "cell_type": "code",
      "metadata": {
        "id": "YCUUM5Uqlu30",
        "colab_type": "code",
        "colab": {}
      },
      "source": [
        "import tensorflow.compat.v1 as tf\n",
        "tf.disable_v2_behavior()\n",
        "\n",
        "\n",
        "\n",
        "model_1 = Sequential()\n",
        "\n",
        "model_1.add(Conv2D(32,(3,3),activation='relu',input_shape=x_train.shape[1:]))\n",
        "\n",
        "model_1.add(MaxPooling2D(pool_size=(2,2)))\n",
        "\n",
        "model_1.add(Conv2D(32,(3,3),activation='relu'))\n",
        "\n",
        "model_1.add(MaxPooling2D(pool_size=(2,2)))\n",
        "\n",
        "model_1.add(Conv2D(64,(3,3),activation='relu'))\n",
        "\n",
        "model_1.add(MaxPooling2D(pool_size=(2,2)))\n",
        "\n",
        "model_1.add(GlobalAveragePooling2D())\n",
        "model_1.add(Dense(10,activation='softmax'))\n",
        "\n",
        "model_2 = Sequential()\n",
        "model_2.add(Conv2D(32, (3, 3), padding='same',activation='relu',\n",
        "                 input_shape=x_train.shape[1:]))\n",
        "\n",
        "model_2.add(Conv2D(32, (3, 3),activation='relu'))\n",
        "\n",
        "model_2.add(MaxPooling2D(pool_size=(2, 2)))\n",
        "model_2.add(Dropout(0.25))\n",
        "\n",
        "model_2.add(Conv2D(64, (3, 3), padding='same',activation='relu'))\n",
        "\n",
        "model_2.add(Conv2D(64, (3, 3),activation='relu',))\n",
        "\n",
        "model_2.add(MaxPooling2D(pool_size=(2, 2)))\n",
        "model_2.add(Dropout(0.25))\n",
        "\n",
        "model_2.add(Flatten())\n",
        "model_2.add(Dense(512,activation='relu',))\n",
        "\n",
        "model_2.add(Dropout(0.5))\n",
        "model_2.add(Dense(10,activation='softmax',))\n"
      ],
      "execution_count": 0,
      "outputs": []
    },
    {
      "cell_type": "code",
      "metadata": {
        "id": "Kl9kL5PplzaQ",
        "colab_type": "code",
        "outputId": "bcfa1cdc-ac11-44e0-c3c8-cf1e76860494",
        "colab": {
          "base_uri": "https://localhost:8080/",
          "height": 585
        }
      },
      "source": [
        "my_model = model_2\n",
        "my_model.summary()"
      ],
      "execution_count": 29,
      "outputs": [
        {
          "output_type": "stream",
          "text": [
            "Model: \"sequential_4\"\n",
            "_________________________________________________________________\n",
            "Layer (type)                 Output Shape              Param #   \n",
            "=================================================================\n",
            "conv2d_11 (Conv2D)           (None, 32, 32, 32)        896       \n",
            "_________________________________________________________________\n",
            "conv2d_12 (Conv2D)           (None, 30, 30, 32)        9248      \n",
            "_________________________________________________________________\n",
            "max_pooling2d_9 (MaxPooling2 (None, 15, 15, 32)        0         \n",
            "_________________________________________________________________\n",
            "dropout_4 (Dropout)          (None, 15, 15, 32)        0         \n",
            "_________________________________________________________________\n",
            "conv2d_13 (Conv2D)           (None, 15, 15, 64)        18496     \n",
            "_________________________________________________________________\n",
            "conv2d_14 (Conv2D)           (None, 13, 13, 64)        36928     \n",
            "_________________________________________________________________\n",
            "max_pooling2d_10 (MaxPooling (None, 6, 6, 64)          0         \n",
            "_________________________________________________________________\n",
            "dropout_5 (Dropout)          (None, 6, 6, 64)          0         \n",
            "_________________________________________________________________\n",
            "flatten_2 (Flatten)          (None, 2304)              0         \n",
            "_________________________________________________________________\n",
            "dense_5 (Dense)              (None, 512)               1180160   \n",
            "_________________________________________________________________\n",
            "dropout_6 (Dropout)          (None, 512)               0         \n",
            "_________________________________________________________________\n",
            "dense_6 (Dense)              (None, 10)                5130      \n",
            "=================================================================\n",
            "Total params: 1,250,858\n",
            "Trainable params: 1,250,858\n",
            "Non-trainable params: 0\n",
            "_________________________________________________________________\n"
          ],
          "name": "stdout"
        }
      ]
    },
    {
      "cell_type": "code",
      "metadata": {
        "id": "NI7ZgcaHl-Bs",
        "colab_type": "code",
        "outputId": "fb838552-9f6c-4b4f-8271-b0f37cbb0169",
        "colab": {
          "base_uri": "https://localhost:8080/",
          "height": 87
        }
      },
      "source": [
        "my_model = load_model('drive/My Drive/Colab Notebooks/model2_before_pruning.h5')\n",
        "score_train = my_model.evaluate(x_train,y_train) \n",
        "\n",
        "print('Accuracy on the Train Images: ', score_train[1])\n",
        "\n",
        "score_test = my_model.evaluate(x_test, y_test)\n",
        "\n",
        "print('Accuracy on the Test Images: ', score_test[1])"
      ],
      "execution_count": 30,
      "outputs": [
        {
          "output_type": "stream",
          "text": [
            "50000/50000 [==============================] - 60s 1ms/step\n",
            "Accuracy on the Train Images:  0.85504\n",
            "10000/10000 [==============================] - 12s 1ms/step\n",
            "Accuracy on the Test Images:  0.7661\n"
          ],
          "name": "stdout"
        }
      ]
    },
    {
      "cell_type": "code",
      "metadata": {
        "id": "8VZOzOiBmAAr",
        "colab_type": "code",
        "outputId": "3a494618-5b67-4062-b2df-0031cb3bbcd7",
        "colab": {
          "base_uri": "https://localhost:8080/",
          "height": 52
        }
      },
      "source": [
        "def my_get_all_conv_layers(model,first_time):\n",
        "    all_conv_layers = list()\n",
        "    for i,each_layer in enumerate(model.layers):\n",
        "        if (each_layer.name[0:6] == 'conv2d'):\n",
        "            all_conv_layers.append(i)\n",
        "\n",
        "    return all_conv_layers if (first_time==True) else all_conv_layers[1:]\n",
        "\n",
        "def my_get_all_dense_layers(model):\n",
        "    all_dense_layers = list()\n",
        "    for i,each_layer in enumerate(model.layers):\n",
        "        if (each_layer.name[0:5] == 'dense'):\n",
        "            all_dense_layers.append(i)\n",
        "    return all_dense_layers\n",
        "\n",
        "\n",
        "all_dense_layers = my_get_all_dense_layers(my_model)\n",
        "\n",
        "all_conv_layers = my_get_all_conv_layers(my_model,True)\n",
        "\n",
        "print('All convolution layers = ',all_conv_layers,'\\nAll dense layers = ',all_dense_layers)\n"
      ],
      "execution_count": 31,
      "outputs": [
        {
          "output_type": "stream",
          "text": [
            "All convolution layers =  [0, 1, 4, 5] \n",
            "All dense layers =  [9, 11]\n"
          ],
          "name": "stdout"
        }
      ]
    },
    {
      "cell_type": "code",
      "metadata": {
        "id": "g0MUimBAmJm8",
        "colab_type": "code",
        "colab": {}
      },
      "source": [
        "def my_in_conv_layers_get_L1_norms_sorted_indices_and_values(model,graph,first_time):\n",
        "    weights = list()\n",
        "    all_conv_layers = my_get_all_conv_layers(model,first_time)\n",
        "    for i in all_conv_layers:\n",
        "        print('{}th layer'.format(i),all_conv_layers)\n",
        "        weights.append(model.layers[i].get_weights()[0])\n",
        "    layer_wise_filter_sorted_indices = list()\n",
        "    layer_wise_filter_sorted_values = list()\n",
        "    for i in range(len(weights)):\n",
        "        weight = weights[i]\n",
        "        num_filters = len(weight[0,0,0,:])\n",
        "        # print(num_filters)\n",
        "        weights_dict = dict() \n",
        "        for j in range(num_filters):\n",
        "            weights_sum = np.sum(abs(weight[:,:,:,j]))\n",
        "            filtr = 'filter {}'.format(j)\n",
        "            weights_dict[filtr] = weights_sum\n",
        "        \n",
        "        weights_dict_sorted = sorted(weights_dict.items(),key = lambda kv:kv[1]) \n",
        "        # print('L1 norm of conv2D_{} layer'.format(i+1),weights_dict_sorted)\n",
        "\n",
        "        weight_values = list()\n",
        "        filter_indices = list()\n",
        "\n",
        "        for element in weights_dict_sorted:\n",
        "            filter_indices.append(int(element[0][6:]))  # extracting the index of filter from string (tentative try to come up with better code)\n",
        "            weight_values.append(element[1]) \n",
        "    \n",
        "        layer_wise_filter_sorted_indices.append(filter_indices)\n",
        "        layer_wise_filter_sorted_values.append(weight_values)\n",
        "\n",
        "        if graph == True:\n",
        "                x = np.arange(num_filters)\n",
        "                plt.figure(i+1,figsize=(7,5))\n",
        "                plt.plot(x,np.array(weight_values))\n",
        "                plt.axhline(y=np.mean(np.array(weight_values)),c='r')\n",
        "                for j in range(len(layer_wise_filter_sorted_values[i])):\n",
        "                    if(np.mean(np.array(weight_values)) < weight_values[j]):\n",
        "                        plt.axvline(x=j,c='r')\n",
        "                        break\n",
        "\n",
        "                plt.xlabel('filter number')\n",
        "                plt.ylabel('L1 norm')\n",
        "                plt.title('Conv2d_{}'.format(i+1))\n",
        "                plt.grid(True)\n",
        "                plt.style.use(['classic'])\n",
        "    return layer_wise_filter_sorted_indices,layer_wise_filter_sorted_values"
      ],
      "execution_count": 0,
      "outputs": []
    },
    {
      "cell_type": "code",
      "metadata": {
        "id": "sEnSFs-cmLoc",
        "colab_type": "code",
        "outputId": "c8b785c1-d94f-4e06-8258-3e7ec0003560",
        "colab": {
          "base_uri": "https://localhost:8080/",
          "height": 105
        }
      },
      "source": [
        "def my_get_prune_filter_indices(model,first_time ):\n",
        "    layer_wise_filter_sorted_indices,layer_wise_filter_sorted_values = my_in_conv_layers_get_L1_norms_sorted_indices_and_values(model, False,first_time)\n",
        "    all_conv_layers = my_get_all_conv_layers(model,first_time)\n",
        "    thresh_hold_means = list()\n",
        "    for i in range(len(all_conv_layers)):\n",
        "        # print(i,'/',len(all_conv_layers))\n",
        "        thresh_hold_means.append(np.mean(np.array(layer_wise_filter_sorted_values[i])))\n",
        "    prune_filter_indices = list()\n",
        "    for i in range(len(all_conv_layers)):\n",
        "        for j in range(len(layer_wise_filter_sorted_values[i])):\n",
        "            if(thresh_hold_means[i] < layer_wise_filter_sorted_values[i][j]):\n",
        "                prune_filter_indices.append(j)\n",
        "                break\n",
        "    return prune_filter_indices\n",
        "prune_filter_indices = my_get_prune_filter_indices(my_model,True)\n",
        "prune_filter_indices"
      ],
      "execution_count": 33,
      "outputs": [
        {
          "output_type": "stream",
          "text": [
            "0th layer [0, 1, 4, 5]\n",
            "1th layer [0, 1, 4, 5]\n",
            "4th layer [0, 1, 4, 5]\n",
            "5th layer [0, 1, 4, 5]\n"
          ],
          "name": "stdout"
        },
        {
          "output_type": "execute_result",
          "data": {
            "text/plain": [
              "[15, 12, 27, 20]"
            ]
          },
          "metadata": {
            "tags": []
          },
          "execution_count": 33
        }
      ]
    },
    {
      "cell_type": "code",
      "metadata": {
        "id": "eKdYotR0mOS-",
        "colab_type": "code",
        "colab": {}
      },
      "source": [
        "def my_delete_filters(model,first_time):\n",
        "    layer_wise_filter_sorted_indices,layer_wise_filter_sorted_values = my_in_conv_layers_get_L1_norms_sorted_indices_and_values(model,False,first_time)\n",
        "    prune_filter_indices = my_get_prune_filter_indices(model,first_time)\n",
        "    all_conv_layers = my_get_all_conv_layers(model,first_time)\n",
        "    print(all_conv_layers)\n",
        "    surgeon = Surgeon(my_model)\n",
        "    for index,value in enumerate(all_conv_layers):\n",
        "        print(value,index,prune_filter_indices[index])\n",
        "        surgeon.add_job('delete_channels',model.layers[value],channels = layer_wise_filter_sorted_indices[index][0:prune_filter_indices[index]])\n",
        "    model_new = surgeon.operate()\n",
        "    return model_new\n"
      ],
      "execution_count": 0,
      "outputs": []
    },
    {
      "cell_type": "code",
      "metadata": {
        "id": "Ghd8TqrLmQRT",
        "colab_type": "code",
        "outputId": "8331f803-0954-44ff-dc71-52ddfa3ee450",
        "colab": {
          "base_uri": "https://localhost:8080/",
          "height": 34
        }
      },
      "source": [
        "model_new = load_model('drive/My Drive/Colab Notebooks/model2_just_after_pruning.h5')\n",
        "print(my_get_all_conv_layers(model_new,True))"
      ],
      "execution_count": 35,
      "outputs": [
        {
          "output_type": "stream",
          "text": [
            "[0, 1, 2, 5, 6]\n"
          ],
          "name": "stdout"
        }
      ]
    },
    {
      "cell_type": "code",
      "metadata": {
        "id": "LBbwpcyimTNB",
        "colab_type": "code",
        "outputId": "dd686fdf-e923-43cd-e219-0dbcb5df8f57",
        "colab": {
          "base_uri": "https://localhost:8080/",
          "height": 621
        }
      },
      "source": [
        "model_new.summary()"
      ],
      "execution_count": 36,
      "outputs": [
        {
          "output_type": "stream",
          "text": [
            "Model: \"model_3\"\n",
            "_________________________________________________________________\n",
            "Layer (type)                 Output Shape              Param #   \n",
            "=================================================================\n",
            "conv2d_4_input (InputLayer)  (None, 32, 32, 3)         0         \n",
            "_________________________________________________________________\n",
            "conv2d_4 (Conv2D)            (None, 32, 32, 17)        476       \n",
            "_________________________________________________________________\n",
            "conv2d_5 (Conv2D)            (None, 30, 30, 20)        3080      \n",
            "_________________________________________________________________\n",
            "max_pooling2d_4 (MaxPooling2 (None, 15, 15, 20)        0         \n",
            "_________________________________________________________________\n",
            "dropout_1 (Dropout)          (None, 15, 15, 20)        0         \n",
            "_________________________________________________________________\n",
            "conv2d_6 (Conv2D)            (None, 15, 15, 37)        6697      \n",
            "_________________________________________________________________\n",
            "conv2d_7 (Conv2D)            (None, 13, 13, 44)        14696     \n",
            "_________________________________________________________________\n",
            "max_pooling2d_5 (MaxPooling2 (None, 6, 6, 44)          0         \n",
            "_________________________________________________________________\n",
            "dropout_2 (Dropout)          (None, 6, 6, 44)          0         \n",
            "_________________________________________________________________\n",
            "flatten_1 (Flatten)          (None, 1584)              0         \n",
            "_________________________________________________________________\n",
            "dense_2 (Dense)              (None, 512)               811520    \n",
            "_________________________________________________________________\n",
            "dropout_3 (Dropout)          (None, 512)               0         \n",
            "_________________________________________________________________\n",
            "dense_3 (Dense)              (None, 10)                5130      \n",
            "=================================================================\n",
            "Total params: 841,599\n",
            "Trainable params: 841,599\n",
            "Non-trainable params: 0\n",
            "_________________________________________________________________\n"
          ],
          "name": "stdout"
        }
      ]
    },
    {
      "cell_type": "code",
      "metadata": {
        "id": "yGTIjCZMmW8A",
        "colab_type": "code",
        "outputId": "d31ff168-ae90-45cf-965e-ef6a798c7e1f",
        "colab": {
          "base_uri": "https://localhost:8080/",
          "height": 87
        }
      },
      "source": [
        "\n",
        "\n",
        "\n",
        "score_train = model_new.evaluate(x_train,y_train) \n",
        "\n",
        "print('Accuracy on the Train Images: ', score_train[1])\n",
        "\n",
        "score_test = model_new.evaluate(x_test, y_test)\n",
        "\n",
        "print('Accuracy on the Test Images: ', score_test[1])\n"
      ],
      "execution_count": 37,
      "outputs": [
        {
          "output_type": "stream",
          "text": [
            "50000/50000 [==============================] - 45s 898us/step\n",
            "Accuracy on the Train Images:  0.28318\n",
            "10000/10000 [==============================] - 9s 888us/step\n",
            "Accuracy on the Test Images:  0.2702\n"
          ],
          "name": "stdout"
        }
      ]
    },
    {
      "cell_type": "code",
      "metadata": {
        "id": "3bBjHNZKm0g1",
        "colab_type": "code",
        "outputId": "bc000cff-22c6-4d32-8c01-603b5c0683b8",
        "colab": {
          "base_uri": "https://localhost:8080/",
          "height": 87
        }
      },
      "source": [
        "model_new = load_model('drive/My Drive/Colab Notebooks/model2_after_training_pruned_model.h5')\n",
        "\n",
        "score_train = model_new.evaluate(x_train,y_train) \n",
        "\n",
        "print('Accuracy on the Train Images: ', score_train[1])\n",
        "\n",
        "score_test = model_new.evaluate(x_test, y_test)\n",
        "\n",
        "print('Accuracy on the Test Images: ', score_test[1])\n",
        "\n"
      ],
      "execution_count": 38,
      "outputs": [
        {
          "output_type": "stream",
          "text": [
            "50000/50000 [==============================] - 43s 864us/step\n",
            "Accuracy on the Train Images:  0.88048\n",
            "10000/10000 [==============================] - 9s 853us/step\n",
            "Accuracy on the Test Images:  0.7636\n"
          ],
          "name": "stdout"
        }
      ]
    },
    {
      "cell_type": "code",
      "metadata": {
        "id": "9u7xyZ_Mm5W1",
        "colab_type": "code",
        "outputId": "3e17e40e-553e-418c-f20d-536aa5f78021",
        "colab": {
          "base_uri": "https://localhost:8080/",
          "height": 1000
        }
      },
      "source": [
        "my_in_conv_layers_get_L1_norms_sorted_indices_and_values(my_model,graph=True,first_time = False)"
      ],
      "execution_count": 39,
      "outputs": [
        {
          "output_type": "stream",
          "text": [
            "1th layer [1, 4, 5]\n",
            "4th layer [1, 4, 5]\n",
            "5th layer [1, 4, 5]\n"
          ],
          "name": "stdout"
        },
        {
          "output_type": "execute_result",
          "data": {
            "text/plain": [
              "([[14,\n",
              "   8,\n",
              "   3,\n",
              "   16,\n",
              "   17,\n",
              "   13,\n",
              "   1,\n",
              "   5,\n",
              "   18,\n",
              "   2,\n",
              "   9,\n",
              "   19,\n",
              "   28,\n",
              "   23,\n",
              "   15,\n",
              "   0,\n",
              "   6,\n",
              "   12,\n",
              "   30,\n",
              "   11,\n",
              "   25,\n",
              "   26,\n",
              "   20,\n",
              "   22,\n",
              "   31,\n",
              "   24,\n",
              "   10,\n",
              "   27,\n",
              "   21,\n",
              "   4,\n",
              "   29,\n",
              "   7],\n",
              "  [60,\n",
              "   40,\n",
              "   42,\n",
              "   13,\n",
              "   0,\n",
              "   16,\n",
              "   58,\n",
              "   56,\n",
              "   10,\n",
              "   35,\n",
              "   12,\n",
              "   27,\n",
              "   8,\n",
              "   19,\n",
              "   29,\n",
              "   21,\n",
              "   23,\n",
              "   62,\n",
              "   45,\n",
              "   52,\n",
              "   48,\n",
              "   63,\n",
              "   39,\n",
              "   44,\n",
              "   32,\n",
              "   11,\n",
              "   57,\n",
              "   43,\n",
              "   61,\n",
              "   5,\n",
              "   55,\n",
              "   46,\n",
              "   24,\n",
              "   50,\n",
              "   47,\n",
              "   7,\n",
              "   38,\n",
              "   17,\n",
              "   49,\n",
              "   34,\n",
              "   36,\n",
              "   18,\n",
              "   20,\n",
              "   28,\n",
              "   30,\n",
              "   51,\n",
              "   25,\n",
              "   9,\n",
              "   26,\n",
              "   2,\n",
              "   31,\n",
              "   22,\n",
              "   33,\n",
              "   59,\n",
              "   6,\n",
              "   53,\n",
              "   3,\n",
              "   15,\n",
              "   41,\n",
              "   1,\n",
              "   54,\n",
              "   37,\n",
              "   14,\n",
              "   4],\n",
              "  [49,\n",
              "   12,\n",
              "   11,\n",
              "   23,\n",
              "   20,\n",
              "   34,\n",
              "   19,\n",
              "   22,\n",
              "   52,\n",
              "   14,\n",
              "   56,\n",
              "   50,\n",
              "   1,\n",
              "   17,\n",
              "   40,\n",
              "   59,\n",
              "   47,\n",
              "   7,\n",
              "   16,\n",
              "   42,\n",
              "   58,\n",
              "   53,\n",
              "   41,\n",
              "   30,\n",
              "   37,\n",
              "   18,\n",
              "   62,\n",
              "   55,\n",
              "   4,\n",
              "   9,\n",
              "   61,\n",
              "   25,\n",
              "   28,\n",
              "   35,\n",
              "   44,\n",
              "   43,\n",
              "   54,\n",
              "   33,\n",
              "   29,\n",
              "   36,\n",
              "   0,\n",
              "   8,\n",
              "   38,\n",
              "   26,\n",
              "   24,\n",
              "   51,\n",
              "   31,\n",
              "   60,\n",
              "   6,\n",
              "   45,\n",
              "   39,\n",
              "   3,\n",
              "   2,\n",
              "   15,\n",
              "   32,\n",
              "   13,\n",
              "   48,\n",
              "   21,\n",
              "   10,\n",
              "   57,\n",
              "   46,\n",
              "   63,\n",
              "   27,\n",
              "   5]],\n",
              " [[15.990658,\n",
              "   18.364824,\n",
              "   18.970242,\n",
              "   22.601746,\n",
              "   22.988522,\n",
              "   23.275219,\n",
              "   23.302267,\n",
              "   23.629078,\n",
              "   23.696243,\n",
              "   24.729897,\n",
              "   24.94725,\n",
              "   25.162863,\n",
              "   25.455692,\n",
              "   25.743305,\n",
              "   25.789206,\n",
              "   25.932716,\n",
              "   25.961067,\n",
              "   26.228523,\n",
              "   26.322683,\n",
              "   26.352913,\n",
              "   26.611374,\n",
              "   26.613035,\n",
              "   26.656353,\n",
              "   26.720213,\n",
              "   27.034433,\n",
              "   27.200905,\n",
              "   27.406647,\n",
              "   27.902039,\n",
              "   28.325857,\n",
              "   28.840826,\n",
              "   30.095129,\n",
              "   30.16416],\n",
              "  [21.19259,\n",
              "   21.284153,\n",
              "   22.052525,\n",
              "   22.371437,\n",
              "   22.618017,\n",
              "   23.599964,\n",
              "   23.68296,\n",
              "   24.183277,\n",
              "   24.440132,\n",
              "   24.520565,\n",
              "   24.884638,\n",
              "   25.08577,\n",
              "   25.198593,\n",
              "   25.445732,\n",
              "   25.909172,\n",
              "   25.985466,\n",
              "   26.181654,\n",
              "   26.38695,\n",
              "   26.423088,\n",
              "   26.561373,\n",
              "   26.669184,\n",
              "   26.679031,\n",
              "   26.882261,\n",
              "   26.956287,\n",
              "   26.959229,\n",
              "   27.027466,\n",
              "   27.181213,\n",
              "   27.348093,\n",
              "   27.47183,\n",
              "   27.497581,\n",
              "   27.54629,\n",
              "   27.615759,\n",
              "   27.702978,\n",
              "   27.78949,\n",
              "   27.824926,\n",
              "   27.891106,\n",
              "   27.911736,\n",
              "   27.945236,\n",
              "   27.984701,\n",
              "   27.987692,\n",
              "   28.027428,\n",
              "   28.184141,\n",
              "   28.327911,\n",
              "   28.332987,\n",
              "   28.420097,\n",
              "   28.497618,\n",
              "   28.68212,\n",
              "   28.712029,\n",
              "   28.776138,\n",
              "   29.065964,\n",
              "   29.087975,\n",
              "   29.1868,\n",
              "   29.304905,\n",
              "   29.35482,\n",
              "   29.392076,\n",
              "   29.850368,\n",
              "   30.106705,\n",
              "   30.203203,\n",
              "   30.698822,\n",
              "   30.754139,\n",
              "   31.22441,\n",
              "   31.254805,\n",
              "   31.758966,\n",
              "   32.21003],\n",
              "  [24.805996,\n",
              "   25.22464,\n",
              "   26.943748,\n",
              "   27.555264,\n",
              "   29.22896,\n",
              "   30.247345,\n",
              "   34.487953,\n",
              "   40.928978,\n",
              "   46.15907,\n",
              "   46.287106,\n",
              "   48.34547,\n",
              "   49.20813,\n",
              "   49.74917,\n",
              "   50.05932,\n",
              "   50.348473,\n",
              "   50.644722,\n",
              "   51.065666,\n",
              "   51.327374,\n",
              "   51.74637,\n",
              "   51.803467,\n",
              "   52.268276,\n",
              "   52.41694,\n",
              "   52.43377,\n",
              "   52.863583,\n",
              "   53.011242,\n",
              "   53.237747,\n",
              "   53.26921,\n",
              "   53.59285,\n",
              "   54.07851,\n",
              "   54.153168,\n",
              "   54.165703,\n",
              "   54.26789,\n",
              "   54.468517,\n",
              "   54.530594,\n",
              "   54.62142,\n",
              "   54.907795,\n",
              "   54.958923,\n",
              "   55.068253,\n",
              "   55.167023,\n",
              "   55.205784,\n",
              "   55.22513,\n",
              "   55.52424,\n",
              "   55.663525,\n",
              "   56.00618,\n",
              "   56.062325,\n",
              "   56.191376,\n",
              "   56.577732,\n",
              "   56.747757,\n",
              "   57.276802,\n",
              "   57.590332,\n",
              "   57.659065,\n",
              "   57.91193,\n",
              "   57.953915,\n",
              "   58.097816,\n",
              "   58.246273,\n",
              "   58.28632,\n",
              "   58.416924,\n",
              "   59.641182,\n",
              "   59.993553,\n",
              "   60.64702,\n",
              "   61.626778,\n",
              "   61.947365,\n",
              "   64.58819,\n",
              "   67.87606]])"
            ]
          },
          "metadata": {
            "tags": []
          },
          "execution_count": 39
        },
        {
          "output_type": "display_data",
          "data": {
            "image/png": "[encoded data removed]",
            "text/plain": [
              "<Figure size 560x400 with 1 Axes>"
            ]
          },
          "metadata": {
            "tags": []
          }
        },
        {
          "output_type": "display_data",
          "data": {
            "image/png": "[encoded data removed]",
            "text/plain": [
              "<Figure size 560x400 with 1 Axes>"
            ]
          },
          "metadata": {
            "tags": []
          }
        },
        {
          "output_type": "display_data",
          "data": {
            "image/png": "[encoded data removed]",
            "text/plain": [
              "<Figure size 560x400 with 1 Axes>"
            ]
          },
          "metadata": {
            "tags": []
          }
        }
      ]
    },
    {
      "cell_type": "code",
      "metadata": {
        "id": "_c_mWr49nA7M",
        "colab_type": "code",
        "outputId": "427bed94-1089-4d54-c653-7c8ba7ff546a",
        "colab": {
          "base_uri": "https://localhost:8080/",
          "height": 1000
        }
      },
      "source": [
        "model= load_model('drive/My Drive/Colab Notebooks/model2_before_pruning.h5')\n",
        "\n",
        "\n",
        "validation_accuracy = model.evaluate(x_test,y_test)[1]\n",
        "print(validation_accuracy)\n",
        "max_val_acc = validation_accuracy\n",
        "count = 0\n",
        "while abs(max_val_acc - validation_accuracy )<=  0.05:\n",
        "    print(count)\n",
        "    if max_val_acc < validation_accuracy:\n",
        "        max_val_acc = validation_accuracy\n",
        "\n",
        "    if count < 1:\n",
        "        model = my_delete_filters(my_model,True)\n",
        "        \n",
        "    else:\n",
        "        conv_layers = my_get_all_conv_layers(model,False)\n",
        "        a,b = my_in_conv_layers_get_L1_norms_sorted_indices_and_values(model,False,False)\n",
        "        thresholds = my_get_prune_filter_indices(model,False)\n",
        "        \n",
        "        surgeon = Surgeon(model)\n",
        "        for index,value in enumerate(conv_layers):\n",
        "            # print(value,index,prune_filter_indices[index])\n",
        "            surgeon.add_job('delete_channels',model.layers[value],channels = a[index][0:thresholds[index]])\n",
        "        model = surgeon.operate()\n",
        "\n",
        "    model.compile(loss='categorical_crossentropy',optimizer='adam',metrics=['accuracy'])\n",
        "    model.fit(x_train, y_train, batch_size=32, epochs=10, verbose=1, validation_split=0.2, shuffle=True)\n",
        "    validation_accuracy = model.evaluate(x_test,y_test)[1]\n",
        "    print(\"--->\",validation_accuracy)\n",
        "    count+=1"
      ],
      "execution_count": 57,
      "outputs": [
        {
          "output_type": "stream",
          "text": [
            "10000/10000 [==============================] - 13s 1ms/step\n",
            "0.7661\n",
            "0\n",
            "0th layer [0, 1, 4, 5]\n",
            "1th layer [0, 1, 4, 5]\n",
            "4th layer [0, 1, 4, 5]\n",
            "5th layer [0, 1, 4, 5]\n",
            "0th layer [0, 1, 4, 5]\n",
            "1th layer [0, 1, 4, 5]\n",
            "4th layer [0, 1, 4, 5]\n",
            "5th layer [0, 1, 4, 5]\n",
            "[0, 1, 4, 5]\n",
            "0 0 15\n",
            "1 1 12\n",
            "4 2 27\n",
            "5 3 20\n",
            "Deleting 15/32 channels from layer: conv2d_4\n",
            "Deleting 12/32 channels from layer: conv2d_5\n",
            "Deleting 27/64 channels from layer: conv2d_6\n",
            "Deleting 20/64 channels from layer: conv2d_7\n",
            "Train on 40000 samples, validate on 10000 samples\n",
            "Epoch 1/10\n",
            "40000/40000 [==============================] - 140s 3ms/step - loss: 0.9674 - acc: 0.6644 - val_loss: 0.8839 - val_acc: 0.6933\n",
            "Epoch 2/10\n",
            "40000/40000 [==============================] - 134s 3ms/step - loss: 0.7859 - acc: 0.7248 - val_loss: 0.7323 - val_acc: 0.7454\n",
            "Epoch 3/10\n",
            "40000/40000 [==============================] - 133s 3ms/step - loss: 0.7416 - acc: 0.7427 - val_loss: 0.7399 - val_acc: 0.7413\n",
            "Epoch 4/10\n",
            "40000/40000 [==============================] - 133s 3ms/step - loss: 0.7062 - acc: 0.7522 - val_loss: 0.7005 - val_acc: 0.7597\n",
            "Epoch 5/10\n",
            "40000/40000 [==============================] - 133s 3ms/step - loss: 0.6740 - acc: 0.7640 - val_loss: 0.7068 - val_acc: 0.7548\n",
            "Epoch 6/10\n",
            "40000/40000 [==============================] - 133s 3ms/step - loss: 0.6717 - acc: 0.7651 - val_loss: 0.7013 - val_acc: 0.7638\n",
            "Epoch 7/10\n",
            "40000/40000 [==============================] - 133s 3ms/step - loss: 0.6373 - acc: 0.7755 - val_loss: 0.6800 - val_acc: 0.7656\n",
            "Epoch 8/10\n",
            "40000/40000 [==============================] - 133s 3ms/step - loss: 0.6094 - acc: 0.7859 - val_loss: 0.6892 - val_acc: 0.7665\n",
            "Epoch 9/10\n",
            "40000/40000 [==============================] - 133s 3ms/step - loss: 0.5987 - acc: 0.7881 - val_loss: 0.6876 - val_acc: 0.7643\n",
            "Epoch 10/10\n",
            "40000/40000 [==============================] - 133s 3ms/step - loss: 0.5922 - acc: 0.7937 - val_loss: 0.7169 - val_acc: 0.7627\n",
            "10000/10000 [==============================] - 9s 860us/step\n",
            "---> 0.7576\n",
            "1\n",
            "1th layer [1, 2, 5, 6]\n",
            "2th layer [1, 2, 5, 6]\n",
            "5th layer [1, 2, 5, 6]\n",
            "6th layer [1, 2, 5, 6]\n",
            "1th layer [1, 2, 5, 6]\n",
            "2th layer [1, 2, 5, 6]\n",
            "5th layer [1, 2, 5, 6]\n",
            "6th layer [1, 2, 5, 6]\n",
            "Deleting 10/17 channels from layer: conv2d_4\n",
            "Deleting 10/20 channels from layer: conv2d_5\n",
            "Deleting 21/37 channels from layer: conv2d_6\n",
            "Deleting 24/44 channels from layer: conv2d_7\n",
            "Train on 40000 samples, validate on 10000 samples\n",
            "Epoch 1/10\n",
            "40000/40000 [==============================] - 82s 2ms/step - loss: 1.3858 - acc: 0.5128 - val_loss: 1.0537 - val_acc: 0.6320\n",
            "Epoch 2/10\n",
            "40000/40000 [==============================] - 77s 2ms/step - loss: 1.1310 - acc: 0.6019 - val_loss: 0.9746 - val_acc: 0.6593\n",
            "Epoch 3/10\n",
            "40000/40000 [==============================] - 76s 2ms/step - loss: 1.0434 - acc: 0.6302 - val_loss: 0.9097 - val_acc: 0.6766\n",
            "Epoch 4/10\n",
            "40000/40000 [==============================] - 76s 2ms/step - loss: 0.9966 - acc: 0.6469 - val_loss: 0.8741 - val_acc: 0.6944\n",
            "Epoch 5/10\n",
            "40000/40000 [==============================] - 76s 2ms/step - loss: 0.9556 - acc: 0.6613 - val_loss: 0.8849 - val_acc: 0.6907\n",
            "Epoch 6/10\n",
            "40000/40000 [==============================] - 76s 2ms/step - loss: 0.9386 - acc: 0.6699 - val_loss: 0.8593 - val_acc: 0.6967\n",
            "Epoch 7/10\n",
            "40000/40000 [==============================] - 77s 2ms/step - loss: 0.9101 - acc: 0.6802 - val_loss: 0.8583 - val_acc: 0.7008\n",
            "Epoch 8/10\n",
            "40000/40000 [==============================] - 77s 2ms/step - loss: 0.8946 - acc: 0.6866 - val_loss: 0.8296 - val_acc: 0.7106\n",
            "Epoch 9/10\n",
            "40000/40000 [==============================] - 77s 2ms/step - loss: 0.8703 - acc: 0.6958 - val_loss: 0.8111 - val_acc: 0.7175\n",
            "Epoch 10/10\n",
            "40000/40000 [==============================] - 77s 2ms/step - loss: 0.8616 - acc: 0.6952 - val_loss: 0.8156 - val_acc: 0.7181\n",
            "10000/10000 [==============================] - 6s 643us/step\n",
            "---> 0.7151\n"
          ],
          "name": "stdout"
        }
      ]
    },
    {
      "cell_type": "code",
      "metadata": {
        "id": "_U6UrkqwnXYs",
        "colab_type": "code",
        "colab": {
          "base_uri": "https://localhost:8080/",
          "height": 621
        },
        "outputId": "e1b4e8ea-2eb0-41fe-ae33-efe58c60e347"
      },
      "source": [
        "model.summary()"
      ],
      "execution_count": 49,
      "outputs": [
        {
          "output_type": "stream",
          "text": [
            "Model: \"model_3\"\n",
            "_________________________________________________________________\n",
            "Layer (type)                 Output Shape              Param #   \n",
            "=================================================================\n",
            "conv2d_4_input (InputLayer)  (None, 32, 32, 3)         0         \n",
            "_________________________________________________________________\n",
            "conv2d_4 (Conv2D)            (None, 32, 32, 17)        476       \n",
            "_________________________________________________________________\n",
            "conv2d_5 (Conv2D)            (None, 30, 30, 20)        3080      \n",
            "_________________________________________________________________\n",
            "max_pooling2d_4 (MaxPooling2 multiple                  0         \n",
            "_________________________________________________________________\n",
            "dropout_1 (Dropout)          multiple                  0         \n",
            "_________________________________________________________________\n",
            "conv2d_6 (Conv2D)            (None, 15, 15, 37)        6697      \n",
            "_________________________________________________________________\n",
            "conv2d_7 (Conv2D)            (None, 13, 13, 44)        14696     \n",
            "_________________________________________________________________\n",
            "max_pooling2d_5 (MaxPooling2 multiple                  0         \n",
            "_________________________________________________________________\n",
            "dropout_2 (Dropout)          multiple                  0         \n",
            "_________________________________________________________________\n",
            "flatten_1 (Flatten)          multiple                  0         \n",
            "_________________________________________________________________\n",
            "dense_2 (Dense)              (None, 512)               811520    \n",
            "_________________________________________________________________\n",
            "dropout_3 (Dropout)          (None, 512)               0         \n",
            "_________________________________________________________________\n",
            "dense_3 (Dense)              (None, 10)                5130      \n",
            "=================================================================\n",
            "Total params: 841,599\n",
            "Trainable params: 841,599\n",
            "Non-trainable params: 0\n",
            "_________________________________________________________________\n"
          ],
          "name": "stdout"
        }
      ]
    },
    {
      "cell_type": "code",
      "metadata": {
        "id": "51x0MxY-IYRV",
        "colab_type": "code",
        "colab": {
          "base_uri": "https://localhost:8080/",
          "height": 34
        },
        "outputId": "469822b1-5e38-4966-fd1b-8ddc32051d5a"
      },
      "source": [
        "my_get_all_conv_layers(my_model,True)\n",
        "# a,b = my_in_conv_layers_get_L1_norms_sorted_indices_and_values(model1,False,False)\n",
        "# thresholds = my_get_prune_filter_indices(model1,False)\n",
        "\n",
        "# surgeon = Surgeon(model)\n",
        "# for index,value in enumerate(conv_layers):\n",
        "#     # print(value,index,prune_filter_indices[index])\n",
        "#     surgeon.add_job('delete_channels',model.layers[value],channels = a[index][0:thresholds[index]])\n",
        "# model = surgeon.operate()"
      ],
      "execution_count": 54,
      "outputs": [
        {
          "output_type": "execute_result",
          "data": {
            "text/plain": [
              "[0, 1, 4, 5]"
            ]
          },
          "metadata": {
            "tags": []
          },
          "execution_count": 54
        }
      ]
    },
    {
      "cell_type": "code",
      "metadata": {
        "id": "CyKXh2udIeNv",
        "colab_type": "code",
        "colab": {}
      },
      "source": [
        ""
      ],
      "execution_count": 0,
      "outputs": []
    }
  ]
}