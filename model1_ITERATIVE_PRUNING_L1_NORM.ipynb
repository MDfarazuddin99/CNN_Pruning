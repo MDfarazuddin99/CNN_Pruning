{
  "nbformat": 4,
  "nbformat_minor": 0,
  "metadata": {
    "colab": {
      "name": "model1_ITERATIVE_PRUNING_L1_NORM.ipynb",
      "provenance": [],
      "collapsed_sections": [],
      "toc_visible": true
    },
    "kernelspec": {
      "name": "python3",
      "display_name": "Python 3"
    }
  },
  "cells": [
    {
      "cell_type": "code",
      "metadata": {
        "id": "28-i7Gn_7BK2",
        "colab_type": "code",
        "outputId": "ee13cf2a-e842-4eb9-d620-8e137e3c5543",
        "colab": {
          "base_uri": "https://localhost:8080/",
          "height": 176
        }
      },
      "source": [
        "!pip install kerassurgeon\n",
        "import numpy as np\n",
        "import tensorflow as tf\n",
        "from keras.datasets import cifar10\n",
        "from keras.utils import np_utils\n",
        "import matplotlib.pyplot as plt\n",
        "from keras.models import Sequential\n",
        "from keras.layers import Dense, Conv2D, MaxPooling2D, Dropout, Flatten, GlobalAveragePooling2D\n",
        "from keras.models import load_model\n",
        "from kerassurgeon import identify \n",
        "from kerassurgeon.operations import delete_channels,delete_layer\n",
        "from kerassurgeon import Surgeon"
      ],
      "execution_count": 6,
      "outputs": [
        {
          "output_type": "stream",
          "text": [
            "Requirement already satisfied: kerassurgeon in /usr/local/lib/python3.6/dist-packages (0.1.3)\n",
            "Requirement already satisfied: keras>=2.0.7 in /usr/local/lib/python3.6/dist-packages (from kerassurgeon) (2.2.5)\n",
            "Requirement already satisfied: six>=1.9.0 in /usr/local/lib/python3.6/dist-packages (from keras>=2.0.7->kerassurgeon) (1.12.0)\n",
            "Requirement already satisfied: keras-preprocessing>=1.1.0 in /usr/local/lib/python3.6/dist-packages (from keras>=2.0.7->kerassurgeon) (1.1.0)\n",
            "Requirement already satisfied: scipy>=0.14 in /usr/local/lib/python3.6/dist-packages (from keras>=2.0.7->kerassurgeon) (1.4.1)\n",
            "Requirement already satisfied: numpy>=1.9.1 in /usr/local/lib/python3.6/dist-packages (from keras>=2.0.7->kerassurgeon) (1.17.5)\n",
            "Requirement already satisfied: pyyaml in /usr/local/lib/python3.6/dist-packages (from keras>=2.0.7->kerassurgeon) (3.13)\n",
            "Requirement already satisfied: h5py in /usr/local/lib/python3.6/dist-packages (from keras>=2.0.7->kerassurgeon) (2.8.0)\n",
            "Requirement already satisfied: keras-applications>=1.0.8 in /usr/local/lib/python3.6/dist-packages (from keras>=2.0.7->kerassurgeon) (1.0.8)\n"
          ],
          "name": "stdout"
        }
      ]
    },
    {
      "cell_type": "code",
      "metadata": {
        "id": "2pDzqntt7bh-",
        "colab_type": "code",
        "colab": {}
      },
      "source": [
        "(x_train,y_train),(x_test,y_test) = cifar10.load_data()\n",
        "\n",
        "def normalize(x_train,x_test):\n",
        "    mean = np.mean(x_train,axis=(0,1,2,3))\n",
        "    std = np.std(x_train, axis=(0, 1, 2, 3))\n",
        "    x_train = (x_train-mean)/(std+1e-7)\n",
        "    x_test = (x_test-mean)/(std+1e-7)\n",
        "    return x_train, x_test\n",
        "\n",
        "\n",
        "x_train , x_test = normalize(x_train,x_test)\n",
        "\n",
        "y_train = np_utils.to_categorical(y_train,10)\n",
        "y_test = np_utils.to_categorical(y_test,10)\n"
      ],
      "execution_count": 0,
      "outputs": []
    },
    {
      "cell_type": "code",
      "metadata": {
        "id": "faLOoxIR7dnW",
        "colab_type": "code",
        "outputId": "8bd8f2e6-5326-424c-e68d-352060f3dc01",
        "colab": {
          "base_uri": "https://localhost:8080/",
          "height": 605
        }
      },
      "source": [
        "import tensorflow.compat.v1 as tf\n",
        "tf.disable_v2_behavior()\n",
        "\n",
        "\n",
        "\n",
        "model_1 = Sequential()\n",
        "\n",
        "model_1.add(Conv2D(32,(3,3),activation='relu',input_shape=x_train.shape[1:]))\n",
        "\n",
        "model_1.add(MaxPooling2D(pool_size=(2,2)))\n",
        "\n",
        "model_1.add(Conv2D(32,(3,3),activation='relu'))\n",
        "\n",
        "model_1.add(MaxPooling2D(pool_size=(2,2)))\n",
        "\n",
        "model_1.add(Conv2D(64,(3,3),activation='relu'))\n",
        "\n",
        "model_1.add(MaxPooling2D(pool_size=(2,2)))\n",
        "\n",
        "model_1.add(GlobalAveragePooling2D())\n",
        "model_1.add(Dense(10,activation='softmax'))\n",
        "\n",
        "model_2 = Sequential()\n",
        "model_2.add(Conv2D(32, (3, 3), padding='same',activation='relu',\n",
        "                 input_shape=x_train.shape[1:]))\n",
        "\n",
        "model_2.add(Conv2D(32, (3, 3),activation='relu'))\n",
        "\n",
        "model_2.add(MaxPooling2D(pool_size=(2, 2)))\n",
        "model_2.add(Dropout(0.25))\n",
        "\n",
        "model_2.add(Conv2D(64, (3, 3), padding='same',activation='relu'))\n",
        "\n",
        "model_2.add(Conv2D(64, (3, 3),activation='relu',))\n",
        "\n",
        "model_2.add(MaxPooling2D(pool_size=(2, 2)))\n",
        "model_2.add(Dropout(0.25))\n",
        "\n",
        "model_2.add(Flatten())\n",
        "model_2.add(Dense(512,activation='relu',))\n",
        "\n",
        "model_2.add(Dropout(0.5))\n",
        "model_2.add(Dense(10,activation='softmax',))\n"
      ],
      "execution_count": 8,
      "outputs": [
        {
          "output_type": "stream",
          "text": [
            "WARNING:tensorflow:From /usr/local/lib/python3.6/dist-packages/tensorflow_core/python/compat/v2_compat.py:68: disable_resource_variables (from tensorflow.python.ops.variable_scope) is deprecated and will be removed in a future version.\n",
            "Instructions for updating:\n",
            "non-resource variables are not supported in the long term\n"
          ],
          "name": "stdout"
        },
        {
          "output_type": "stream",
          "text": [
            "WARNING:tensorflow:From /usr/local/lib/python3.6/dist-packages/tensorflow_core/python/compat/v2_compat.py:68: disable_resource_variables (from tensorflow.python.ops.variable_scope) is deprecated and will be removed in a future version.\n",
            "Instructions for updating:\n",
            "non-resource variables are not supported in the long term\n"
          ],
          "name": "stderr"
        },
        {
          "output_type": "stream",
          "text": [
            "WARNING:tensorflow:From /usr/local/lib/python3.6/dist-packages/keras/backend/tensorflow_backend.py:66: The name tf.get_default_graph is deprecated. Please use tf.compat.v1.get_default_graph instead.\n",
            "\n"
          ],
          "name": "stdout"
        },
        {
          "output_type": "stream",
          "text": [
            "WARNING:tensorflow:From /usr/local/lib/python3.6/dist-packages/keras/backend/tensorflow_backend.py:66: The name tf.get_default_graph is deprecated. Please use tf.compat.v1.get_default_graph instead.\n",
            "\n"
          ],
          "name": "stderr"
        },
        {
          "output_type": "stream",
          "text": [
            "WARNING:tensorflow:From /usr/local/lib/python3.6/dist-packages/keras/backend/tensorflow_backend.py:541: The name tf.placeholder is deprecated. Please use tf.compat.v1.placeholder instead.\n",
            "\n"
          ],
          "name": "stdout"
        },
        {
          "output_type": "stream",
          "text": [
            "WARNING:tensorflow:From /usr/local/lib/python3.6/dist-packages/keras/backend/tensorflow_backend.py:541: The name tf.placeholder is deprecated. Please use tf.compat.v1.placeholder instead.\n",
            "\n"
          ],
          "name": "stderr"
        },
        {
          "output_type": "stream",
          "text": [
            "WARNING:tensorflow:From /usr/local/lib/python3.6/dist-packages/keras/backend/tensorflow_backend.py:4432: The name tf.random_uniform is deprecated. Please use tf.random.uniform instead.\n",
            "\n"
          ],
          "name": "stdout"
        },
        {
          "output_type": "stream",
          "text": [
            "WARNING:tensorflow:From /usr/local/lib/python3.6/dist-packages/keras/backend/tensorflow_backend.py:4432: The name tf.random_uniform is deprecated. Please use tf.random.uniform instead.\n",
            "\n"
          ],
          "name": "stderr"
        },
        {
          "output_type": "stream",
          "text": [
            "WARNING:tensorflow:From /usr/local/lib/python3.6/dist-packages/keras/backend/tensorflow_backend.py:4267: The name tf.nn.max_pool is deprecated. Please use tf.nn.max_pool2d instead.\n",
            "\n"
          ],
          "name": "stdout"
        },
        {
          "output_type": "stream",
          "text": [
            "WARNING:tensorflow:From /usr/local/lib/python3.6/dist-packages/keras/backend/tensorflow_backend.py:4267: The name tf.nn.max_pool is deprecated. Please use tf.nn.max_pool2d instead.\n",
            "\n"
          ],
          "name": "stderr"
        },
        {
          "output_type": "stream",
          "text": [
            "WARNING:tensorflow:From /usr/local/lib/python3.6/dist-packages/keras/backend/tensorflow_backend.py:148: The name tf.placeholder_with_default is deprecated. Please use tf.compat.v1.placeholder_with_default instead.\n",
            "\n"
          ],
          "name": "stdout"
        },
        {
          "output_type": "stream",
          "text": [
            "WARNING:tensorflow:From /usr/local/lib/python3.6/dist-packages/keras/backend/tensorflow_backend.py:148: The name tf.placeholder_with_default is deprecated. Please use tf.compat.v1.placeholder_with_default instead.\n",
            "\n"
          ],
          "name": "stderr"
        },
        {
          "output_type": "stream",
          "text": [
            "WARNING:tensorflow:From /usr/local/lib/python3.6/dist-packages/keras/backend/tensorflow_backend.py:3733: calling dropout (from tensorflow.python.ops.nn_ops) with keep_prob is deprecated and will be removed in a future version.\n",
            "Instructions for updating:\n",
            "Please use `rate` instead of `keep_prob`. Rate should be set to `rate = 1 - keep_prob`.\n"
          ],
          "name": "stdout"
        },
        {
          "output_type": "stream",
          "text": [
            "WARNING:tensorflow:From /usr/local/lib/python3.6/dist-packages/keras/backend/tensorflow_backend.py:3733: calling dropout (from tensorflow.python.ops.nn_ops) with keep_prob is deprecated and will be removed in a future version.\n",
            "Instructions for updating:\n",
            "Please use `rate` instead of `keep_prob`. Rate should be set to `rate = 1 - keep_prob`.\n"
          ],
          "name": "stderr"
        }
      ]
    },
    {
      "cell_type": "code",
      "metadata": {
        "id": "yRMM2dAx7owO",
        "colab_type": "code",
        "outputId": "f25415ac-8a55-43c5-d579-1f178a4bf5b5",
        "colab": {
          "base_uri": "https://localhost:8080/",
          "height": 443
        }
      },
      "source": [
        "my_model = model_1\n",
        "my_model.summary()"
      ],
      "execution_count": 9,
      "outputs": [
        {
          "output_type": "stream",
          "text": [
            "Model: \"sequential_1\"\n",
            "_________________________________________________________________\n",
            "Layer (type)                 Output Shape              Param #   \n",
            "=================================================================\n",
            "conv2d_1 (Conv2D)            (None, 30, 30, 32)        896       \n",
            "_________________________________________________________________\n",
            "max_pooling2d_1 (MaxPooling2 (None, 15, 15, 32)        0         \n",
            "_________________________________________________________________\n",
            "conv2d_2 (Conv2D)            (None, 13, 13, 32)        9248      \n",
            "_________________________________________________________________\n",
            "max_pooling2d_2 (MaxPooling2 (None, 6, 6, 32)          0         \n",
            "_________________________________________________________________\n",
            "conv2d_3 (Conv2D)            (None, 4, 4, 64)          18496     \n",
            "_________________________________________________________________\n",
            "max_pooling2d_3 (MaxPooling2 (None, 2, 2, 64)          0         \n",
            "_________________________________________________________________\n",
            "global_average_pooling2d_1 ( (None, 64)                0         \n",
            "_________________________________________________________________\n",
            "dense_1 (Dense)              (None, 10)                650       \n",
            "=================================================================\n",
            "Total params: 29,290\n",
            "Trainable params: 29,290\n",
            "Non-trainable params: 0\n",
            "_________________________________________________________________\n"
          ],
          "name": "stdout"
        }
      ]
    },
    {
      "cell_type": "code",
      "metadata": {
        "id": "1QdZXwjy7rQ2",
        "colab_type": "code",
        "outputId": "d2f8dd86-4948-43ee-8830-4e5812d36a0f",
        "colab": {
          "base_uri": "https://localhost:8080/",
          "height": 925
        }
      },
      "source": [
        "my_model = load_model('drive/My Drive/Colab Notebooks/model1_before_pruning.h5')\n",
        "score_train = my_model.evaluate(x_train,y_train) \n",
        "\n",
        "print('Accuracy on the Train Images: ', score_train[1])\n",
        "\n",
        "score_test = my_model.evaluate(x_test, y_test)\n",
        "\n",
        "print('Accuracy on the Test Images: ', score_test[1])"
      ],
      "execution_count": 10,
      "outputs": [
        {
          "output_type": "stream",
          "text": [
            "WARNING:tensorflow:From /usr/local/lib/python3.6/dist-packages/keras/backend/tensorflow_backend.py:190: The name tf.get_default_session is deprecated. Please use tf.compat.v1.get_default_session instead.\n",
            "\n"
          ],
          "name": "stdout"
        },
        {
          "output_type": "stream",
          "text": [
            "WARNING:tensorflow:From /usr/local/lib/python3.6/dist-packages/keras/backend/tensorflow_backend.py:190: The name tf.get_default_session is deprecated. Please use tf.compat.v1.get_default_session instead.\n",
            "\n"
          ],
          "name": "stderr"
        },
        {
          "output_type": "stream",
          "text": [
            "WARNING:tensorflow:From /usr/local/lib/python3.6/dist-packages/keras/backend/tensorflow_backend.py:197: The name tf.ConfigProto is deprecated. Please use tf.compat.v1.ConfigProto instead.\n",
            "\n"
          ],
          "name": "stdout"
        },
        {
          "output_type": "stream",
          "text": [
            "WARNING:tensorflow:From /usr/local/lib/python3.6/dist-packages/keras/backend/tensorflow_backend.py:197: The name tf.ConfigProto is deprecated. Please use tf.compat.v1.ConfigProto instead.\n",
            "\n"
          ],
          "name": "stderr"
        },
        {
          "output_type": "stream",
          "text": [
            "WARNING:tensorflow:From /usr/local/lib/python3.6/dist-packages/keras/backend/tensorflow_backend.py:203: The name tf.Session is deprecated. Please use tf.compat.v1.Session instead.\n",
            "\n"
          ],
          "name": "stdout"
        },
        {
          "output_type": "stream",
          "text": [
            "WARNING:tensorflow:From /usr/local/lib/python3.6/dist-packages/keras/backend/tensorflow_backend.py:203: The name tf.Session is deprecated. Please use tf.compat.v1.Session instead.\n",
            "\n"
          ],
          "name": "stderr"
        },
        {
          "output_type": "stream",
          "text": [
            "WARNING:tensorflow:From /usr/local/lib/python3.6/dist-packages/keras/backend/tensorflow_backend.py:207: The name tf.global_variables is deprecated. Please use tf.compat.v1.global_variables instead.\n",
            "\n"
          ],
          "name": "stdout"
        },
        {
          "output_type": "stream",
          "text": [
            "WARNING:tensorflow:From /usr/local/lib/python3.6/dist-packages/keras/backend/tensorflow_backend.py:207: The name tf.global_variables is deprecated. Please use tf.compat.v1.global_variables instead.\n",
            "\n"
          ],
          "name": "stderr"
        },
        {
          "output_type": "stream",
          "text": [
            "WARNING:tensorflow:From /usr/local/lib/python3.6/dist-packages/keras/backend/tensorflow_backend.py:216: The name tf.is_variable_initialized is deprecated. Please use tf.compat.v1.is_variable_initialized instead.\n",
            "\n"
          ],
          "name": "stdout"
        },
        {
          "output_type": "stream",
          "text": [
            "WARNING:tensorflow:From /usr/local/lib/python3.6/dist-packages/keras/backend/tensorflow_backend.py:216: The name tf.is_variable_initialized is deprecated. Please use tf.compat.v1.is_variable_initialized instead.\n",
            "\n"
          ],
          "name": "stderr"
        },
        {
          "output_type": "stream",
          "text": [
            "WARNING:tensorflow:From /usr/local/lib/python3.6/dist-packages/keras/backend/tensorflow_backend.py:223: The name tf.variables_initializer is deprecated. Please use tf.compat.v1.variables_initializer instead.\n",
            "\n"
          ],
          "name": "stdout"
        },
        {
          "output_type": "stream",
          "text": [
            "WARNING:tensorflow:From /usr/local/lib/python3.6/dist-packages/keras/backend/tensorflow_backend.py:223: The name tf.variables_initializer is deprecated. Please use tf.compat.v1.variables_initializer instead.\n",
            "\n"
          ],
          "name": "stderr"
        },
        {
          "output_type": "stream",
          "text": [
            "WARNING:tensorflow:From /usr/local/lib/python3.6/dist-packages/keras/optimizers.py:793: The name tf.train.Optimizer is deprecated. Please use tf.compat.v1.train.Optimizer instead.\n",
            "\n"
          ],
          "name": "stdout"
        },
        {
          "output_type": "stream",
          "text": [
            "WARNING:tensorflow:From /usr/local/lib/python3.6/dist-packages/keras/optimizers.py:793: The name tf.train.Optimizer is deprecated. Please use tf.compat.v1.train.Optimizer instead.\n",
            "\n"
          ],
          "name": "stderr"
        },
        {
          "output_type": "stream",
          "text": [
            "WARNING:tensorflow:From /usr/local/lib/python3.6/dist-packages/keras/backend/tensorflow_backend.py:3576: The name tf.log is deprecated. Please use tf.math.log instead.\n",
            "\n"
          ],
          "name": "stdout"
        },
        {
          "output_type": "stream",
          "text": [
            "WARNING:tensorflow:From /usr/local/lib/python3.6/dist-packages/keras/backend/tensorflow_backend.py:3576: The name tf.log is deprecated. Please use tf.math.log instead.\n",
            "\n"
          ],
          "name": "stderr"
        },
        {
          "output_type": "stream",
          "text": [
            "WARNING:tensorflow:From /usr/local/lib/python3.6/dist-packages/tensorflow_core/python/ops/math_grad.py:1424: where (from tensorflow.python.ops.array_ops) is deprecated and will be removed in a future version.\n",
            "Instructions for updating:\n",
            "Use tf.where in 2.0, which has the same broadcast rule as np.where\n"
          ],
          "name": "stdout"
        },
        {
          "output_type": "stream",
          "text": [
            "WARNING:tensorflow:From /usr/local/lib/python3.6/dist-packages/tensorflow_core/python/ops/math_grad.py:1424: where (from tensorflow.python.ops.array_ops) is deprecated and will be removed in a future version.\n",
            "Instructions for updating:\n",
            "Use tf.where in 2.0, which has the same broadcast rule as np.where\n"
          ],
          "name": "stderr"
        },
        {
          "output_type": "stream",
          "text": [
            "WARNING:tensorflow:From /usr/local/lib/python3.6/dist-packages/keras/backend/tensorflow_backend.py:1033: The name tf.assign_add is deprecated. Please use tf.compat.v1.assign_add instead.\n",
            "\n"
          ],
          "name": "stdout"
        },
        {
          "output_type": "stream",
          "text": [
            "WARNING:tensorflow:From /usr/local/lib/python3.6/dist-packages/keras/backend/tensorflow_backend.py:1033: The name tf.assign_add is deprecated. Please use tf.compat.v1.assign_add instead.\n",
            "\n"
          ],
          "name": "stderr"
        },
        {
          "output_type": "stream",
          "text": [
            "WARNING:tensorflow:From /usr/local/lib/python3.6/dist-packages/keras/backend/tensorflow_backend.py:1020: The name tf.assign is deprecated. Please use tf.compat.v1.assign instead.\n",
            "\n"
          ],
          "name": "stdout"
        },
        {
          "output_type": "stream",
          "text": [
            "WARNING:tensorflow:From /usr/local/lib/python3.6/dist-packages/keras/backend/tensorflow_backend.py:1020: The name tf.assign is deprecated. Please use tf.compat.v1.assign instead.\n",
            "\n"
          ],
          "name": "stderr"
        },
        {
          "output_type": "stream",
          "text": [
            "50000/50000 [==============================] - 23s 450us/step\n",
            "Accuracy on the Train Images:  0.73128\n",
            "10000/10000 [==============================] - 4s 434us/step\n",
            "Accuracy on the Test Images:  0.6894\n"
          ],
          "name": "stdout"
        }
      ]
    },
    {
      "cell_type": "code",
      "metadata": {
        "id": "2DIyLX-i7wDp",
        "colab_type": "code",
        "outputId": "4f6d0e1c-f172-4758-cb85-d9422dbac6d2",
        "colab": {
          "base_uri": "https://localhost:8080/",
          "height": 238
        }
      },
      "source": [
        "def my_get_all_conv_layers(model,first_time):\n",
        "    all_conv_layers = list()\n",
        "    for i,each_layer in enumerate(model.layers):\n",
        "        if (each_layer.name[0:6] == 'conv2d'):\n",
        "            all_conv_layers.append(i)\n",
        "\n",
        "    return all_conv_layers if (first_time==True) else all_conv_layers[1:]\n",
        "\n",
        "def my_get_all_dense_layers(model):\n",
        "    all_dense_layers = list()\n",
        "    for i,each_layer in enumerate(model.layers):\n",
        "        if (each_layer.name[0:5] == 'dense'):\n",
        "            all_dense_layers.append(i)\n",
        "    return all_dense_layers\n",
        "\n",
        "\n",
        "all_dense_layers = my_get_all_dense_layers(my_model)\n",
        "\n",
        "all_conv_layers = my_get_all_conv_layers(my_model)\n",
        "\n",
        "print('All convolution layers = ',all_conv_layers,'\\nAll dense layers = ',all_dense_layers)\n"
      ],
      "execution_count": 84,
      "outputs": [
        {
          "output_type": "error",
          "ename": "TypeError",
          "evalue": "ignored",
          "traceback": [
            "\u001b[0;31m---------------------------------------------------------------------------\u001b[0m",
            "\u001b[0;31mTypeError\u001b[0m                                 Traceback (most recent call last)",
            "\u001b[0;32m<ipython-input-84-758f5334429d>\u001b[0m in \u001b[0;36m<module>\u001b[0;34m()\u001b[0m\n\u001b[1;32m     17\u001b[0m \u001b[0mall_dense_layers\u001b[0m \u001b[0;34m=\u001b[0m \u001b[0mmy_get_all_dense_layers\u001b[0m\u001b[0;34m(\u001b[0m\u001b[0mmy_model\u001b[0m\u001b[0;34m)\u001b[0m\u001b[0;34m\u001b[0m\u001b[0;34m\u001b[0m\u001b[0m\n\u001b[1;32m     18\u001b[0m \u001b[0;34m\u001b[0m\u001b[0m\n\u001b[0;32m---> 19\u001b[0;31m \u001b[0mall_conv_layers\u001b[0m \u001b[0;34m=\u001b[0m \u001b[0mmy_get_all_conv_layers\u001b[0m\u001b[0;34m(\u001b[0m\u001b[0mmy_model\u001b[0m\u001b[0;34m)\u001b[0m\u001b[0;34m\u001b[0m\u001b[0;34m\u001b[0m\u001b[0m\n\u001b[0m\u001b[1;32m     20\u001b[0m \u001b[0;34m\u001b[0m\u001b[0m\n\u001b[1;32m     21\u001b[0m \u001b[0mprint\u001b[0m\u001b[0;34m(\u001b[0m\u001b[0;34m'All convolution layers = '\u001b[0m\u001b[0;34m,\u001b[0m\u001b[0mall_conv_layers\u001b[0m\u001b[0;34m,\u001b[0m\u001b[0;34m'\\nAll dense layers = '\u001b[0m\u001b[0;34m,\u001b[0m\u001b[0mall_dense_layers\u001b[0m\u001b[0;34m)\u001b[0m\u001b[0;34m\u001b[0m\u001b[0;34m\u001b[0m\u001b[0m\n",
            "\u001b[0;31mTypeError\u001b[0m: my_get_all_conv_layers() missing 1 required positional argument: 'first_time'"
          ]
        }
      ]
    },
    {
      "cell_type": "code",
      "metadata": {
        "id": "nbqBLwPg8HYU",
        "colab_type": "code",
        "colab": {}
      },
      "source": [
        "def my_in_conv_layers_get_L1_norms_sorted_indices_and_values(model,graph,first_time):\n",
        "    weights = list()\n",
        "    all_conv_layers = my_get_all_conv_layers(model,first_time)\n",
        "    for i in all_conv_layers:\n",
        "        print('{}th layer'.format(i),all_conv_layers)\n",
        "        weights.append(model.layers[i].get_weights()[0])\n",
        "    layer_wise_filter_sorted_indices = list()\n",
        "    layer_wise_filter_sorted_values = list()\n",
        "    for i in range(len(weights)):\n",
        "        weight = weights[i]\n",
        "        num_filters = len(weight[0,0,0,:])\n",
        "        # print(num_filters)\n",
        "        weights_dict = dict() \n",
        "        for j in range(num_filters):\n",
        "            weights_sum = np.sum(abs(weight[:,:,:,j]))\n",
        "            filtr = 'filter {}'.format(j)\n",
        "            weights_dict[filtr] = weights_sum\n",
        "        \n",
        "        weights_dict_sorted = sorted(weights_dict.items(),key = lambda kv:kv[1]) \n",
        "        # print('L1 norm of conv2D_{} layer'.format(i+1),weights_dict_sorted)\n",
        "\n",
        "        weight_values = list()\n",
        "        filter_indices = list()\n",
        "\n",
        "        for element in weights_dict_sorted:\n",
        "            filter_indices.append(int(element[0][6:]))  # extracting the index of filter from string (tentative try to come up with better code)\n",
        "            weight_values.append(element[1]) \n",
        "    \n",
        "        layer_wise_filter_sorted_indices.append(filter_indices)\n",
        "        layer_wise_filter_sorted_values.append(weight_values)\n",
        "\n",
        "        if graph == True:\n",
        "                x = np.arange(num_filters)\n",
        "                plt.figure(i+1,figsize=(7,5))\n",
        "                plt.plot(x,np.array(weight_values))\n",
        "                plt.axhline(y=np.mean(np.array(weight_values)),c='r')\n",
        "                for j in range(len(layer_wise_filter_sorted_values[i])):\n",
        "                    if(np.mean(np.array(weight_values)) < weight_values[j]):\n",
        "                        plt.axvline(x=j,c='r')\n",
        "                        break\n",
        "\n",
        "                plt.xlabel('filter number')\n",
        "                plt.ylabel('L1 norm')\n",
        "                plt.title('Conv2d_{}'.format(i+1))\n",
        "                plt.grid(True)\n",
        "                plt.style.use(['classic'])\n",
        "    return layer_wise_filter_sorted_indices,layer_wise_filter_sorted_values"
      ],
      "execution_count": 0,
      "outputs": []
    },
    {
      "cell_type": "code",
      "metadata": {
        "id": "-Ky7PA4f8Jwc",
        "colab_type": "code",
        "outputId": "51fca7b5-2d4c-455c-bb4c-ae95bc3c7d65",
        "colab": {
          "base_uri": "https://localhost:8080/",
          "height": 87
        }
      },
      "source": [
        "def my_get_prune_filter_indices(model,first_time ):\n",
        "    layer_wise_filter_sorted_indices,layer_wise_filter_sorted_values = my_in_conv_layers_get_L1_norms_sorted_indices_and_values(model, False,first_time)\n",
        "    all_conv_layers = my_get_all_conv_layers(model,first_time)\n",
        "    thresh_hold_means = list()\n",
        "    for i in range(len(all_conv_layers)):\n",
        "        # print(i,'/',len(all_conv_layers))\n",
        "        thresh_hold_means.append(np.mean(np.array(layer_wise_filter_sorted_values[i])))\n",
        "    prune_filter_indices = list()\n",
        "    for i in range(len(all_conv_layers)):\n",
        "        for j in range(len(layer_wise_filter_sorted_values[i])):\n",
        "            if(thresh_hold_means[i] < layer_wise_filter_sorted_values[i][j]):\n",
        "                prune_filter_indices.append(j)\n",
        "                break\n",
        "    return prune_filter_indices\n",
        "prune_filter_indices = my_get_prune_filter_indices(my_model,True)\n",
        "prune_filter_indices"
      ],
      "execution_count": 92,
      "outputs": [
        {
          "output_type": "stream",
          "text": [
            "0th layer [0, 2, 4]\n",
            "2th layer [0, 2, 4]\n",
            "4th layer [0, 2, 4]\n"
          ],
          "name": "stdout"
        },
        {
          "output_type": "execute_result",
          "data": {
            "text/plain": [
              "[17, 11, 18]"
            ]
          },
          "metadata": {
            "tags": []
          },
          "execution_count": 92
        }
      ]
    },
    {
      "cell_type": "code",
      "metadata": {
        "id": "Mfo9vugI8NsR",
        "colab_type": "code",
        "colab": {}
      },
      "source": [
        "def my_delete_filters(model,first_time):\n",
        "    layer_wise_filter_sorted_indices,layer_wise_filter_sorted_values = my_in_conv_layers_get_L1_norms_sorted_indices_and_values(model,False,first_time)\n",
        "    prune_filter_indices = my_get_prune_filter_indices(model,first_time)\n",
        "    all_conv_layers = my_get_all_conv_layers(model,first_time)\n",
        "    print(all_conv_layers)\n",
        "    surgeon = Surgeon(my_model)\n",
        "    for index,value in enumerate(all_conv_layers):\n",
        "        print(value,index,prune_filter_indices[index])\n",
        "        surgeon.add_job('delete_channels',model.layers[value],channels = layer_wise_filter_sorted_indices[index][0:prune_filter_indices[index]])\n",
        "    model_new = surgeon.operate()\n",
        "    return model_new\n"
      ],
      "execution_count": 0,
      "outputs": []
    },
    {
      "cell_type": "code",
      "metadata": {
        "id": "-T7VThPJVz3B",
        "colab_type": "code",
        "outputId": "7391f8e7-b5a8-4f94-ff00-08299798f3f6",
        "colab": {
          "base_uri": "https://localhost:8080/",
          "height": 247
        }
      },
      "source": [
        "m = my_delete_filters(my_model,first_time = True)"
      ],
      "execution_count": 142,
      "outputs": [
        {
          "output_type": "stream",
          "text": [
            "0th layer [0, 2, 4]\n",
            "2th layer [0, 2, 4]\n",
            "4th layer [0, 2, 4]\n",
            "0th layer [0, 2, 4]\n",
            "2th layer [0, 2, 4]\n",
            "4th layer [0, 2, 4]\n",
            "[0, 2, 4]\n",
            "0 0 17\n",
            "2 1 11\n",
            "4 2 18\n",
            "Deleting 17/32 channels from layer: conv2d_1\n",
            "Deleting 11/32 channels from layer: conv2d_2\n",
            "Deleting 18/64 channels from layer: conv2d_3\n"
          ],
          "name": "stdout"
        }
      ]
    },
    {
      "cell_type": "code",
      "metadata": {
        "id": "B6vu7YV38QIe",
        "colab_type": "code",
        "outputId": "9f2d380b-f729-4e07-8fda-a9f7856a1a6d",
        "colab": {
          "base_uri": "https://localhost:8080/",
          "height": 496
        }
      },
      "source": [
        "model_new = load_model('drive/My Drive/Colab Notebooks/model1_just_after_pruning.h5')\n",
        "model_new.summary()\n",
        "print(my_get_all_conv_layers(model_new))"
      ],
      "execution_count": 17,
      "outputs": [
        {
          "output_type": "stream",
          "text": [
            "Model: \"model_3\"\n",
            "_________________________________________________________________\n",
            "Layer (type)                 Output Shape              Param #   \n",
            "=================================================================\n",
            "conv2d_1_input (InputLayer)  (None, 32, 32, 3)         0         \n",
            "_________________________________________________________________\n",
            "conv2d_1 (Conv2D)            (None, 30, 30, 15)        420       \n",
            "_________________________________________________________________\n",
            "max_pooling2d_1 (MaxPooling2 (None, 15, 15, 15)        0         \n",
            "_________________________________________________________________\n",
            "conv2d_2 (Conv2D)            (None, 13, 13, 21)        2856      \n",
            "_________________________________________________________________\n",
            "max_pooling2d_2 (MaxPooling2 (None, 6, 6, 21)          0         \n",
            "_________________________________________________________________\n",
            "conv2d_3 (Conv2D)            (None, 4, 4, 46)          8740      \n",
            "_________________________________________________________________\n",
            "max_pooling2d_3 (MaxPooling2 (None, 2, 2, 46)          0         \n",
            "_________________________________________________________________\n",
            "global_average_pooling2d_1 ( (None, 46)                0         \n",
            "_________________________________________________________________\n",
            "dense_1 (Dense)              (None, 10)                470       \n",
            "=================================================================\n",
            "Total params: 12,486\n",
            "Trainable params: 12,486\n",
            "Non-trainable params: 0\n",
            "_________________________________________________________________\n",
            "[0, 1, 3, 5]\n"
          ],
          "name": "stdout"
        }
      ]
    },
    {
      "cell_type": "code",
      "metadata": {
        "id": "iL6FfMNZJSE6",
        "colab_type": "code",
        "colab": {}
      },
      "source": [
        "# surgeon = Surgeon(model_new)\n",
        "# surgeon.add_job('delete_channels',model_new.layers[1],channels = np.arange(5))\n",
        "# surgeon.add_job('delete_channels',model_new.layers[3],channels = np.arange(5))\n",
        "# model_new = surgeon.operate()\n",
        "# print(my_get_all_conv_layers(model_new,False))"
      ],
      "execution_count": 0,
      "outputs": []
    },
    {
      "cell_type": "code",
      "metadata": {
        "id": "6OJ1KPasMAAj",
        "colab_type": "code",
        "outputId": "6cca0eef-ccd2-41e8-f0ad-a764c5fdec75",
        "colab": {
          "base_uri": "https://localhost:8080/",
          "height": 478
        }
      },
      "source": [
        "model_new.summary()"
      ],
      "execution_count": 19,
      "outputs": [
        {
          "output_type": "stream",
          "text": [
            "Model: \"model_3\"\n",
            "_________________________________________________________________\n",
            "Layer (type)                 Output Shape              Param #   \n",
            "=================================================================\n",
            "conv2d_1_input (InputLayer)  (None, 32, 32, 3)         0         \n",
            "_________________________________________________________________\n",
            "conv2d_1 (Conv2D)            (None, 30, 30, 15)        420       \n",
            "_________________________________________________________________\n",
            "max_pooling2d_1 (MaxPooling2 (None, 15, 15, 15)        0         \n",
            "_________________________________________________________________\n",
            "conv2d_2 (Conv2D)            (None, 13, 13, 21)        2856      \n",
            "_________________________________________________________________\n",
            "max_pooling2d_2 (MaxPooling2 (None, 6, 6, 21)          0         \n",
            "_________________________________________________________________\n",
            "conv2d_3 (Conv2D)            (None, 4, 4, 46)          8740      \n",
            "_________________________________________________________________\n",
            "max_pooling2d_3 (MaxPooling2 (None, 2, 2, 46)          0         \n",
            "_________________________________________________________________\n",
            "global_average_pooling2d_1 ( (None, 46)                0         \n",
            "_________________________________________________________________\n",
            "dense_1 (Dense)              (None, 10)                470       \n",
            "=================================================================\n",
            "Total params: 12,486\n",
            "Trainable params: 12,486\n",
            "Non-trainable params: 0\n",
            "_________________________________________________________________\n"
          ],
          "name": "stdout"
        }
      ]
    },
    {
      "cell_type": "code",
      "metadata": {
        "id": "-xNt-tdb8Uua",
        "colab_type": "code",
        "outputId": "4b0d4c4f-d01d-4cf1-eb7b-2871ca30e49f",
        "colab": {
          "base_uri": "https://localhost:8080/",
          "height": 87
        }
      },
      "source": [
        "\n",
        "\n",
        "\n",
        "score_train = model_new.evaluate(x_train,y_train) \n",
        "\n",
        "print('Accuracy on the Train Images: ', score_train[1])\n",
        "\n",
        "score_test = model_new.evaluate(x_test, y_test)\n",
        "\n",
        "print('Accuracy on the Test Images: ', score_test[1])\n"
      ],
      "execution_count": 20,
      "outputs": [
        {
          "output_type": "stream",
          "text": [
            "50000/50000 [==============================] - 22s 442us/step\n",
            "Accuracy on the Train Images:  0.22772\n",
            "10000/10000 [==============================] - 4s 439us/step\n",
            "Accuracy on the Test Images:  0.2183\n"
          ],
          "name": "stdout"
        }
      ]
    },
    {
      "cell_type": "code",
      "metadata": {
        "id": "a9c1uocZ8Y6b",
        "colab_type": "code",
        "outputId": "2d29effb-98d8-4c27-908c-a9a00eb44c98",
        "colab": {
          "base_uri": "https://localhost:8080/",
          "height": 87
        }
      },
      "source": [
        "model_new = load_model('drive/My Drive/Colab Notebooks/model1_after_training_pruned_model.h5')\n",
        "\n",
        "score_train = model_new.evaluate(x_train,y_train) \n",
        "\n",
        "print('Accuracy on the Train Images: ', score_train[1])\n",
        "\n",
        "score_test = model_new.evaluate(x_test, y_test)\n",
        "\n",
        "print('Accuracy on the Test Images: ', score_test[1])\n",
        "\n"
      ],
      "execution_count": 136,
      "outputs": [
        {
          "output_type": "stream",
          "text": [
            "50000/50000 [==============================] - 23s 456us/step\n",
            "Accuracy on the Train Images:  0.73522\n",
            "10000/10000 [==============================] - 4s 435us/step\n",
            "Accuracy on the Test Images:  0.6834\n"
          ],
          "name": "stdout"
        }
      ]
    },
    {
      "cell_type": "code",
      "metadata": {
        "id": "R6JQ75918c0w",
        "colab_type": "code",
        "colab": {
          "base_uri": "https://localhost:8080/",
          "height": 247
        },
        "outputId": "d1f7ddb9-fa40-452c-c075-e8cf6cbd4fc3"
      },
      "source": [
        "model1 = my_delete_filters(my_model,True)"
      ],
      "execution_count": 143,
      "outputs": [
        {
          "output_type": "stream",
          "text": [
            "0th layer [0, 2, 4]\n",
            "2th layer [0, 2, 4]\n",
            "4th layer [0, 2, 4]\n",
            "0th layer [0, 2, 4]\n",
            "2th layer [0, 2, 4]\n",
            "4th layer [0, 2, 4]\n",
            "[0, 2, 4]\n",
            "0 0 17\n",
            "2 1 11\n",
            "4 2 18\n",
            "Deleting 17/32 channels from layer: conv2d_1\n",
            "Deleting 11/32 channels from layer: conv2d_2\n",
            "Deleting 18/64 channels from layer: conv2d_3\n"
          ],
          "name": "stdout"
        }
      ]
    },
    {
      "cell_type": "code",
      "metadata": {
        "id": "JwVWXsIOBMCs",
        "colab_type": "code",
        "colab": {
          "base_uri": "https://localhost:8080/",
          "height": 34
        },
        "outputId": "9a4419da-211e-4673-e3de-d0c01c60a962"
      },
      "source": [
        "my_get_all_conv_layers(model1,False)\n",
        "\n",
        "# model2 = my_delete_filters(model1,False) \n",
        "\n",
        "# my_get_all_conv_layers(model_new,False)\n",
        "# model_new.summary()\n",
        "# a,b = my_in_conv_layers_get_L1_norms_sorted_indices_and_values(model_new,graph = False,first_time = False)\n",
        "# for i in a:\n",
        "#     print(i)\n",
        "# "
      ],
      "execution_count": 147,
      "outputs": [
        {
          "output_type": "execute_result",
          "data": {
            "text/plain": [
              "[1, 3, 5]"
            ]
          },
          "metadata": {
            "tags": []
          },
          "execution_count": 147
        }
      ]
    },
    {
      "cell_type": "code",
      "metadata": {
        "id": "vfqdGS8fMfHA",
        "colab_type": "code",
        "colab": {
          "base_uri": "https://localhost:8080/",
          "height": 1000
        },
        "outputId": "9acad66c-ef8e-499d-886d-14ac6cf37a82"
      },
      "source": [
        "my_in_conv_layers_get_L1_norms_sorted_indices_and_values(model1,graph=True,first_time = False)"
      ],
      "execution_count": 149,
      "outputs": [
        {
          "output_type": "stream",
          "text": [
            "1th layer [1, 3, 5]\n",
            "3th layer [1, 3, 5]\n",
            "5th layer [1, 3, 5]\n"
          ],
          "name": "stdout"
        },
        {
          "output_type": "execute_result",
          "data": {
            "text/plain": [
              "([[8, 12, 4, 14, 7, 1, 0, 3, 2, 13, 5, 11, 10, 6, 9],\n",
              "  [17, 5, 12, 8, 0, 11, 9, 16, 4, 18, 10, 3, 13, 14, 19, 2, 20, 15, 1, 7, 6],\n",
              "  [30,\n",
              "   23,\n",
              "   11,\n",
              "   43,\n",
              "   25,\n",
              "   26,\n",
              "   18,\n",
              "   4,\n",
              "   42,\n",
              "   3,\n",
              "   14,\n",
              "   2,\n",
              "   15,\n",
              "   34,\n",
              "   13,\n",
              "   22,\n",
              "   37,\n",
              "   0,\n",
              "   6,\n",
              "   35,\n",
              "   45,\n",
              "   20,\n",
              "   21,\n",
              "   7,\n",
              "   1,\n",
              "   44,\n",
              "   8,\n",
              "   27,\n",
              "   39,\n",
              "   5,\n",
              "   38,\n",
              "   32,\n",
              "   31,\n",
              "   40,\n",
              "   16,\n",
              "   29,\n",
              "   28,\n",
              "   24,\n",
              "   33,\n",
              "   41,\n",
              "   10,\n",
              "   17,\n",
              "   36,\n",
              "   19,\n",
              "   9,\n",
              "   12]],\n",
              " [[3.6442065,\n",
              "   3.7889051,\n",
              "   3.8048155,\n",
              "   3.8212209,\n",
              "   3.8496473,\n",
              "   3.8770027,\n",
              "   3.941349,\n",
              "   3.945002,\n",
              "   3.9666975,\n",
              "   4.072291,\n",
              "   4.259786,\n",
              "   4.3048205,\n",
              "   4.353953,\n",
              "   4.449021,\n",
              "   5.165729],\n",
              "  [16.105381,\n",
              "   16.457289,\n",
              "   16.887762,\n",
              "   16.898977,\n",
              "   17.147526,\n",
              "   17.164097,\n",
              "   17.21782,\n",
              "   17.76977,\n",
              "   17.943779,\n",
              "   18.13654,\n",
              "   18.478115,\n",
              "   18.656748,\n",
              "   18.845135,\n",
              "   18.893162,\n",
              "   18.930674,\n",
              "   19.38805,\n",
              "   20.365082,\n",
              "   20.483078,\n",
              "   20.578724,\n",
              "   20.594906,\n",
              "   20.622889],\n",
              "  [19.592834,\n",
              "   19.708635,\n",
              "   19.742218,\n",
              "   19.857868,\n",
              "   20.576385,\n",
              "   20.757843,\n",
              "   20.835915,\n",
              "   20.868069,\n",
              "   21.024603,\n",
              "   21.085348,\n",
              "   21.09393,\n",
              "   21.262367,\n",
              "   21.42902,\n",
              "   21.464607,\n",
              "   21.509415,\n",
              "   21.513636,\n",
              "   21.545025,\n",
              "   21.548977,\n",
              "   21.57463,\n",
              "   21.626574,\n",
              "   21.724367,\n",
              "   21.84673,\n",
              "   21.853966,\n",
              "   21.880285,\n",
              "   21.955925,\n",
              "   22.11961,\n",
              "   22.154713,\n",
              "   22.234793,\n",
              "   22.282358,\n",
              "   22.417645,\n",
              "   22.438166,\n",
              "   22.522755,\n",
              "   22.656837,\n",
              "   22.660786,\n",
              "   22.898237,\n",
              "   23.113274,\n",
              "   23.312063,\n",
              "   23.320438,\n",
              "   23.528301,\n",
              "   23.902454,\n",
              "   24.063705,\n",
              "   24.451107,\n",
              "   24.69547,\n",
              "   24.702755,\n",
              "   24.715397,\n",
              "   25.257204]])"
            ]
          },
          "metadata": {
            "tags": []
          },
          "execution_count": 149
        },
        {
          "output_type": "display_data",
          "data": {
            "image/png": "[encoded data removed]",
            "text/plain": [
              "<Figure size 560x400 with 1 Axes>"
            ]
          },
          "metadata": {
            "tags": []
          }
        },
        {
          "output_type": "display_data",
          "data": {
            "image/png": "[encoded data removed]",
            "text/plain": [
              "<Figure size 560x400 with 1 Axes>"
            ]
          },
          "metadata": {
            "tags": []
          }
        },
        {
          "output_type": "display_data",
          "data": {
            "image/png": "[encoded data removed]",
            "text/plain": [
              "<Figure size 560x400 with 1 Axes>"
            ]
          },
          "metadata": {
            "tags": []
          }
        }
      ]
    },
    {
      "cell_type": "code",
      "metadata": {
        "id": "l8gzJBN9MppZ",
        "colab_type": "code",
        "colab": {
          "base_uri": "https://localhost:8080/",
          "height": 87
        },
        "outputId": "10561189-75ab-46e2-fc11-c2ea2c23557d"
      },
      "source": [
        "my_get_prune_filter_indices(model1,False)"
      ],
      "execution_count": 150,
      "outputs": [
        {
          "output_type": "stream",
          "text": [
            "1th layer [1, 3, 5]\n",
            "3th layer [1, 3, 5]\n",
            "5th layer [1, 3, 5]\n"
          ],
          "name": "stdout"
        },
        {
          "output_type": "execute_result",
          "data": {
            "text/plain": [
              "[10, 10, 25]"
            ]
          },
          "metadata": {
            "tags": []
          },
          "execution_count": 150
        }
      ]
    },
    {
      "cell_type": "code",
      "metadata": {
        "id": "jOelpgZKH_t3",
        "colab_type": "code",
        "colab": {
          "base_uri": "https://localhost:8080/",
          "height": 514
        },
        "outputId": "7c7d1793-7c5a-4fef-87c3-97dc32785f4d"
      },
      "source": [
        "\n",
        "surgeon = Surgeon(model1)\n",
        "surgeon.add_job('delete_channels',model1.layers[1],channels = np.arange(5))\n",
        "model2 = surgeon.operate()\n",
        "model2.summary()\n",
        "print(model1.layers[1].name,model1.layers[3].name,model1.layers[5].name)"
      ],
      "execution_count": 161,
      "outputs": [
        {
          "output_type": "stream",
          "text": [
            "Deleting 5/15 channels from layer: conv2d_1\n",
            "Model: \"model_18\"\n",
            "_________________________________________________________________\n",
            "Layer (type)                 Output Shape              Param #   \n",
            "=================================================================\n",
            "conv2d_1_input (InputLayer)  (None, 32, 32, 3)         0         \n",
            "_________________________________________________________________\n",
            "conv2d_1 (Conv2D)            (None, 30, 30, 10)        280       \n",
            "_________________________________________________________________\n",
            "max_pooling2d_1 (MaxPooling2 multiple                  0         \n",
            "_________________________________________________________________\n",
            "conv2d_2 (Conv2D)            (None, 13, 13, 21)        1911      \n",
            "_________________________________________________________________\n",
            "max_pooling2d_2 (MaxPooling2 multiple                  0         \n",
            "_________________________________________________________________\n",
            "conv2d_3 (Conv2D)            (None, 4, 4, 46)          8740      \n",
            "_________________________________________________________________\n",
            "max_pooling2d_3 (MaxPooling2 multiple                  0         \n",
            "_________________________________________________________________\n",
            "global_average_pooling2d_1 ( multiple                  0         \n",
            "_________________________________________________________________\n",
            "dense_1 (Dense)              (None, 10)                470       \n",
            "=================================================================\n",
            "Total params: 11,401\n",
            "Trainable params: 11,401\n",
            "Non-trainable params: 0\n",
            "_________________________________________________________________\n",
            "conv2d_1 conv2d_2 conv2d_3\n"
          ],
          "name": "stdout"
        }
      ]
    },
    {
      "cell_type": "code",
      "metadata": {
        "id": "LcanX_7XOB_P",
        "colab_type": "code",
        "colab": {
          "base_uri": "https://localhost:8080/",
          "height": 194
        },
        "outputId": "696ef4bd-cd12-4702-8dca-a4bb2febbc91"
      },
      "source": [
        "my_delete_filters(model1,False)"
      ],
      "execution_count": 164,
      "outputs": [
        {
          "output_type": "stream",
          "text": [
            "1th layer [1, 3, 5]\n",
            "3th layer [1, 3, 5]\n",
            "5th layer [1, 3, 5]\n",
            "1th layer [1, 3, 5]\n",
            "3th layer [1, 3, 5]\n",
            "5th layer [1, 3, 5]\n",
            "[1, 3, 5]\n",
            "1 0 10\n",
            "3 1 10\n",
            "5 2 25\n"
          ],
          "name": "stdout"
        }
      ]
    },
    {
      "cell_type": "code",
      "metadata": {
        "id": "0Md7qC2pa6Du",
        "colab_type": "code",
        "colab": {
          "base_uri": "https://localhost:8080/",
          "height": 123
        },
        "outputId": "fc3ba1a2-bb57-4697-aab4-1e8c8a0dfe22"
      },
      "source": [
        ""
      ],
      "execution_count": 166,
      "outputs": [
        {
          "output_type": "stream",
          "text": [
            "1th layer [1, 3, 5]\n",
            "3th layer [1, 3, 5]\n",
            "5th layer [1, 3, 5]\n",
            "1th layer [1, 3, 5]\n",
            "3th layer [1, 3, 5]\n",
            "5th layer [1, 3, 5]\n"
          ],
          "name": "stdout"
        }
      ]
    },
    {
      "cell_type": "code",
      "metadata": {
        "id": "O7M-jOu7bKKH",
        "colab_type": "code",
        "colab": {
          "base_uri": "https://localhost:8080/",
          "height": 70
        },
        "outputId": "89c396db-ec37-4198-d672-4d59b2231471"
      },
      "source": [
        ""
      ],
      "execution_count": 167,
      "outputs": [
        {
          "output_type": "stream",
          "text": [
            "Deleting 10/15 channels from layer: conv2d_1\n",
            "Deleting 10/21 channels from layer: conv2d_2\n",
            "Deleting 25/46 channels from layer: conv2d_3\n"
          ],
          "name": "stdout"
        }
      ]
    },
    {
      "cell_type": "code",
      "metadata": {
        "id": "tIE2mrZl-gen",
        "colab_type": "code",
        "outputId": "d50d0279-49f9-4dc0-a962-d32ac7a33473",
        "colab": {
          "base_uri": "https://localhost:8080/",
          "height": 1000
        }
      },
      "source": [
        "\n",
        "model= load_model('drive/My Drive/Colab Notebooks/model1_before_pruning.h5')\n",
        "\n",
        "\n",
        "validation_accuracy = model.evaluate(x_test,y_test)[1]\n",
        "print(validation_accuracy)\n",
        "max_val_acc = validation_accuracy\n",
        "count = 0\n",
        "while max_val_acc <= validation_accuracy:\n",
        "    print(count)\n",
        "    if max_val_acc < validation_accuracy:\n",
        "        max_val_acc = validation_accuracy\n",
        "\n",
        "    if count < 1:\n",
        "        model = my_delete_filters(my_model,True)\n",
        "        \n",
        "    else:\n",
        "        conv_layers = my_get_all_conv_layers(model1,False)\n",
        "        a,b = my_in_conv_layers_get_L1_norms_sorted_indices_and_values(model1,False,False)\n",
        "        thresholds = my_get_prune_filter_indices(model1,False)\n",
        "        \n",
        "        surgeon = Surgeon(model)\n",
        "        for index,value in enumerate(conv_layers):\n",
        "            # print(value,index,prune_filter_indices[index])\n",
        "            surgeon.add_job('delete_channels',model.layers[value],channels = a[index][0:thresholds[index]])\n",
        "        model = surgeon.operate()\n",
        "\n",
        "    model.compile(loss='categorical_crossentropy',optimizer='adam',metrics=['accuracy'])\n",
        "    model.fit(x_train, y_train, batch_size=32, epochs=10, verbose=1, validation_split=0.2, shuffle=True)\n",
        "    validation_accuracy = model.evaluate(x_test,y_test)[1]\n",
        "    print(\"--->\",validation_accuracy)\n",
        "    count+=1"
      ],
      "execution_count": 180,
      "outputs": [
        {
          "output_type": "stream",
          "text": [
            "10000/10000 [==============================] - 6s 569us/step\n",
            "0.6894\n",
            "0\n",
            "0th layer [0, 2, 4]\n",
            "2th layer [0, 2, 4]\n",
            "4th layer [0, 2, 4]\n",
            "0th layer [0, 2, 4]\n",
            "2th layer [0, 2, 4]\n",
            "4th layer [0, 2, 4]\n",
            "[0, 2, 4]\n",
            "0 0 17\n",
            "2 1 11\n",
            "4 2 18\n",
            "Deleting 17/32 channels from layer: conv2d_1\n",
            "Deleting 11/32 channels from layer: conv2d_2\n",
            "Deleting 18/64 channels from layer: conv2d_3\n",
            "Train on 40000 samples, validate on 10000 samples\n",
            "Epoch 1/10\n",
            "40000/40000 [==============================] - 45s 1ms/step - loss: 1.0077 - acc: 0.6486 - val_loss: 0.9532 - val_acc: 0.6735\n",
            "Epoch 2/10\n",
            "40000/40000 [==============================] - 41s 1ms/step - loss: 0.8793 - acc: 0.6952 - val_loss: 0.9358 - val_acc: 0.6731\n",
            "Epoch 3/10\n",
            "40000/40000 [==============================] - 40s 1ms/step - loss: 0.8377 - acc: 0.7087 - val_loss: 0.9458 - val_acc: 0.6749\n",
            "Epoch 4/10\n",
            "40000/40000 [==============================] - 41s 1ms/step - loss: 0.8137 - acc: 0.7175 - val_loss: 0.9297 - val_acc: 0.6748\n",
            "Epoch 5/10\n",
            "40000/40000 [==============================] - 40s 1ms/step - loss: 0.7901 - acc: 0.7243 - val_loss: 0.9254 - val_acc: 0.6815\n",
            "Epoch 6/10\n",
            "40000/40000 [==============================] - 40s 1ms/step - loss: 0.7688 - acc: 0.7295 - val_loss: 0.9213 - val_acc: 0.6899\n",
            "Epoch 7/10\n",
            "40000/40000 [==============================] - 40s 1ms/step - loss: 0.7574 - acc: 0.7363 - val_loss: 0.8990 - val_acc: 0.6941\n",
            "Epoch 8/10\n",
            "40000/40000 [==============================] - 41s 1ms/step - loss: 0.7394 - acc: 0.7415 - val_loss: 0.8918 - val_acc: 0.7002\n",
            "Epoch 9/10\n",
            "40000/40000 [==============================] - 40s 1ms/step - loss: 0.7308 - acc: 0.7451 - val_loss: 0.8866 - val_acc: 0.7010\n",
            "Epoch 10/10\n",
            "40000/40000 [==============================] - 41s 1ms/step - loss: 0.7225 - acc: 0.7464 - val_loss: 0.8910 - val_acc: 0.6931\n",
            "10000/10000 [==============================] - 4s 416us/step\n",
            "---> 0.6985\n",
            "1\n",
            "1th layer [1, 3, 5]\n",
            "3th layer [1, 3, 5]\n",
            "5th layer [1, 3, 5]\n",
            "1th layer [1, 3, 5]\n",
            "3th layer [1, 3, 5]\n",
            "5th layer [1, 3, 5]\n",
            "Deleting 10/15 channels from layer: conv2d_1\n",
            "Deleting 10/21 channels from layer: conv2d_2\n",
            "Deleting 25/46 channels from layer: conv2d_3\n",
            "Train on 40000 samples, validate on 10000 samples\n",
            "Epoch 1/10\n",
            "40000/40000 [==============================] - 36s 893us/step - loss: 1.5588 - acc: 0.4550 - val_loss: 1.3924 - val_acc: 0.5164\n",
            "Epoch 2/10\n",
            "40000/40000 [==============================] - 31s 771us/step - loss: 1.3241 - acc: 0.5364 - val_loss: 1.3014 - val_acc: 0.5505\n",
            "Epoch 3/10\n",
            "40000/40000 [==============================] - 31s 766us/step - loss: 1.2606 - acc: 0.5620 - val_loss: 1.2543 - val_acc: 0.5608\n",
            "Epoch 4/10\n",
            "40000/40000 [==============================] - 31s 768us/step - loss: 1.2220 - acc: 0.5737 - val_loss: 1.2591 - val_acc: 0.5613\n",
            "Epoch 5/10\n",
            "40000/40000 [==============================] - 31s 764us/step - loss: 1.1994 - acc: 0.5829 - val_loss: 1.2456 - val_acc: 0.5650\n",
            "Epoch 6/10\n",
            "40000/40000 [==============================] - 31s 769us/step - loss: 1.1817 - acc: 0.5864 - val_loss: 1.2054 - val_acc: 0.5812\n",
            "Epoch 7/10\n",
            "40000/40000 [==============================] - 31s 770us/step - loss: 1.1641 - acc: 0.5948 - val_loss: 1.2164 - val_acc: 0.5754\n",
            "Epoch 8/10\n",
            "40000/40000 [==============================] - 32s 788us/step - loss: 1.1503 - acc: 0.6008 - val_loss: 1.1892 - val_acc: 0.5838\n",
            "Epoch 9/10\n",
            "40000/40000 [==============================] - 31s 770us/step - loss: 1.1462 - acc: 0.5992 - val_loss: 1.1699 - val_acc: 0.5902\n",
            "Epoch 10/10\n",
            "40000/40000 [==============================] - 31s 773us/step - loss: 1.1343 - acc: 0.6047 - val_loss: 1.1644 - val_acc: 0.5948\n",
            "10000/10000 [==============================] - 4s 360us/step\n",
            "---> 0.5857\n"
          ],
          "name": "stdout"
        }
      ]
    },
    {
      "cell_type": "code",
      "metadata": {
        "id": "8HGXqHboBuvg",
        "colab_type": "code",
        "colab": {
          "base_uri": "https://localhost:8080/",
          "height": 478
        },
        "outputId": "1ad5ab6e-614e-454a-d91d-12277829af7b"
      },
      "source": [
        "model.summary()"
      ],
      "execution_count": 181,
      "outputs": [
        {
          "output_type": "stream",
          "text": [
            "Model: \"model_30\"\n",
            "_________________________________________________________________\n",
            "Layer (type)                 Output Shape              Param #   \n",
            "=================================================================\n",
            "conv2d_1_input (InputLayer)  (None, 32, 32, 3)         0         \n",
            "_________________________________________________________________\n",
            "conv2d_1 (Conv2D)            (None, 30, 30, 5)         140       \n",
            "_________________________________________________________________\n",
            "max_pooling2d_1 (MaxPooling2 multiple                  0         \n",
            "_________________________________________________________________\n",
            "conv2d_2 (Conv2D)            (None, 13, 13, 11)        506       \n",
            "_________________________________________________________________\n",
            "max_pooling2d_2 (MaxPooling2 multiple                  0         \n",
            "_________________________________________________________________\n",
            "conv2d_3 (Conv2D)            (None, 4, 4, 21)          2100      \n",
            "_________________________________________________________________\n",
            "max_pooling2d_3 (MaxPooling2 multiple                  0         \n",
            "_________________________________________________________________\n",
            "global_average_pooling2d_1 ( multiple                  0         \n",
            "_________________________________________________________________\n",
            "dense_1 (Dense)              (None, 10)                220       \n",
            "=================================================================\n",
            "Total params: 2,966\n",
            "Trainable params: 2,966\n",
            "Non-trainable params: 0\n",
            "_________________________________________________________________\n"
          ],
          "name": "stdout"
        }
      ]
    },
    {
      "cell_type": "code",
      "metadata": {
        "id": "fRn9juI_eStS",
        "colab_type": "code",
        "colab": {
          "base_uri": "https://localhost:8080/",
          "height": 52
        },
        "outputId": "130eaa5e-fa70-4df6-ceec-09a032971c23"
      },
      "source": [
        "model.evaluate(x_test,y_test)"
      ],
      "execution_count": 175,
      "outputs": [
        {
          "output_type": "stream",
          "text": [
            "10000/10000 [==============================] - 4s 354us/step\n"
          ],
          "name": "stdout"
        },
        {
          "output_type": "execute_result",
          "data": {
            "text/plain": [
              "[1.3905065649032593, 0.5111]"
            ]
          },
          "metadata": {
            "tags": []
          },
          "execution_count": 175
        }
      ]
    },
    {
      "cell_type": "code",
      "metadata": {
        "id": "wNBvm1R4eZWI",
        "colab_type": "code",
        "colab": {}
      },
      "source": [
        ""
      ],
      "execution_count": 0,
      "outputs": []
    }
  ]
}